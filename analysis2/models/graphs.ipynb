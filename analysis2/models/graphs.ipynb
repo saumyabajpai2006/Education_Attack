{
 "cells": [
  {
   "cell_type": "code",
   "execution_count": 1,
   "id": "91dc59bd",
   "metadata": {},
   "outputs": [
    {
     "data": {
      "application/vnd.plotly.v1+json": {
       "config": {
        "plotlyServerURL": "https://plot.ly"
       },
       "data": [
        {
         "hovertemplate": "Year=%{x}<br>Attack_Count=%{y}<extra></extra>",
         "legendgroup": "",
         "line": {
          "color": "#636efa",
          "dash": "solid"
         },
         "marker": {
          "symbol": "circle"
         },
         "mode": "lines+markers",
         "name": "",
         "orientation": "v",
         "showlegend": false,
         "type": "scatter",
         "x": {
          "bdata": "5AcAAOUHAADmBwAA5wcAAOgHAADpBwAA",
          "dtype": "i4"
         },
         "xaxis": "x",
         "y": {
          "bdata": "tAG4AhMD9QM0BVcB",
          "dtype": "i2"
         },
         "yaxis": "y"
        }
       ],
       "layout": {
        "legend": {
         "tracegroupgap": 0
        },
        "template": {
         "data": {
          "bar": [
           {
            "error_x": {
             "color": "#2a3f5f"
            },
            "error_y": {
             "color": "#2a3f5f"
            },
            "marker": {
             "line": {
              "color": "#E5ECF6",
              "width": 0.5
             },
             "pattern": {
              "fillmode": "overlay",
              "size": 10,
              "solidity": 0.2
             }
            },
            "type": "bar"
           }
          ],
          "barpolar": [
           {
            "marker": {
             "line": {
              "color": "#E5ECF6",
              "width": 0.5
             },
             "pattern": {
              "fillmode": "overlay",
              "size": 10,
              "solidity": 0.2
             }
            },
            "type": "barpolar"
           }
          ],
          "carpet": [
           {
            "aaxis": {
             "endlinecolor": "#2a3f5f",
             "gridcolor": "white",
             "linecolor": "white",
             "minorgridcolor": "white",
             "startlinecolor": "#2a3f5f"
            },
            "baxis": {
             "endlinecolor": "#2a3f5f",
             "gridcolor": "white",
             "linecolor": "white",
             "minorgridcolor": "white",
             "startlinecolor": "#2a3f5f"
            },
            "type": "carpet"
           }
          ],
          "choropleth": [
           {
            "colorbar": {
             "outlinewidth": 0,
             "ticks": ""
            },
            "type": "choropleth"
           }
          ],
          "contour": [
           {
            "colorbar": {
             "outlinewidth": 0,
             "ticks": ""
            },
            "colorscale": [
             [
              0,
              "#0d0887"
             ],
             [
              0.1111111111111111,
              "#46039f"
             ],
             [
              0.2222222222222222,
              "#7201a8"
             ],
             [
              0.3333333333333333,
              "#9c179e"
             ],
             [
              0.4444444444444444,
              "#bd3786"
             ],
             [
              0.5555555555555556,
              "#d8576b"
             ],
             [
              0.6666666666666666,
              "#ed7953"
             ],
             [
              0.7777777777777778,
              "#fb9f3a"
             ],
             [
              0.8888888888888888,
              "#fdca26"
             ],
             [
              1,
              "#f0f921"
             ]
            ],
            "type": "contour"
           }
          ],
          "contourcarpet": [
           {
            "colorbar": {
             "outlinewidth": 0,
             "ticks": ""
            },
            "type": "contourcarpet"
           }
          ],
          "heatmap": [
           {
            "colorbar": {
             "outlinewidth": 0,
             "ticks": ""
            },
            "colorscale": [
             [
              0,
              "#0d0887"
             ],
             [
              0.1111111111111111,
              "#46039f"
             ],
             [
              0.2222222222222222,
              "#7201a8"
             ],
             [
              0.3333333333333333,
              "#9c179e"
             ],
             [
              0.4444444444444444,
              "#bd3786"
             ],
             [
              0.5555555555555556,
              "#d8576b"
             ],
             [
              0.6666666666666666,
              "#ed7953"
             ],
             [
              0.7777777777777778,
              "#fb9f3a"
             ],
             [
              0.8888888888888888,
              "#fdca26"
             ],
             [
              1,
              "#f0f921"
             ]
            ],
            "type": "heatmap"
           }
          ],
          "histogram": [
           {
            "marker": {
             "pattern": {
              "fillmode": "overlay",
              "size": 10,
              "solidity": 0.2
             }
            },
            "type": "histogram"
           }
          ],
          "histogram2d": [
           {
            "colorbar": {
             "outlinewidth": 0,
             "ticks": ""
            },
            "colorscale": [
             [
              0,
              "#0d0887"
             ],
             [
              0.1111111111111111,
              "#46039f"
             ],
             [
              0.2222222222222222,
              "#7201a8"
             ],
             [
              0.3333333333333333,
              "#9c179e"
             ],
             [
              0.4444444444444444,
              "#bd3786"
             ],
             [
              0.5555555555555556,
              "#d8576b"
             ],
             [
              0.6666666666666666,
              "#ed7953"
             ],
             [
              0.7777777777777778,
              "#fb9f3a"
             ],
             [
              0.8888888888888888,
              "#fdca26"
             ],
             [
              1,
              "#f0f921"
             ]
            ],
            "type": "histogram2d"
           }
          ],
          "histogram2dcontour": [
           {
            "colorbar": {
             "outlinewidth": 0,
             "ticks": ""
            },
            "colorscale": [
             [
              0,
              "#0d0887"
             ],
             [
              0.1111111111111111,
              "#46039f"
             ],
             [
              0.2222222222222222,
              "#7201a8"
             ],
             [
              0.3333333333333333,
              "#9c179e"
             ],
             [
              0.4444444444444444,
              "#bd3786"
             ],
             [
              0.5555555555555556,
              "#d8576b"
             ],
             [
              0.6666666666666666,
              "#ed7953"
             ],
             [
              0.7777777777777778,
              "#fb9f3a"
             ],
             [
              0.8888888888888888,
              "#fdca26"
             ],
             [
              1,
              "#f0f921"
             ]
            ],
            "type": "histogram2dcontour"
           }
          ],
          "mesh3d": [
           {
            "colorbar": {
             "outlinewidth": 0,
             "ticks": ""
            },
            "type": "mesh3d"
           }
          ],
          "parcoords": [
           {
            "line": {
             "colorbar": {
              "outlinewidth": 0,
              "ticks": ""
             }
            },
            "type": "parcoords"
           }
          ],
          "pie": [
           {
            "automargin": true,
            "type": "pie"
           }
          ],
          "scatter": [
           {
            "fillpattern": {
             "fillmode": "overlay",
             "size": 10,
             "solidity": 0.2
            },
            "type": "scatter"
           }
          ],
          "scatter3d": [
           {
            "line": {
             "colorbar": {
              "outlinewidth": 0,
              "ticks": ""
             }
            },
            "marker": {
             "colorbar": {
              "outlinewidth": 0,
              "ticks": ""
             }
            },
            "type": "scatter3d"
           }
          ],
          "scattercarpet": [
           {
            "marker": {
             "colorbar": {
              "outlinewidth": 0,
              "ticks": ""
             }
            },
            "type": "scattercarpet"
           }
          ],
          "scattergeo": [
           {
            "marker": {
             "colorbar": {
              "outlinewidth": 0,
              "ticks": ""
             }
            },
            "type": "scattergeo"
           }
          ],
          "scattergl": [
           {
            "marker": {
             "colorbar": {
              "outlinewidth": 0,
              "ticks": ""
             }
            },
            "type": "scattergl"
           }
          ],
          "scattermap": [
           {
            "marker": {
             "colorbar": {
              "outlinewidth": 0,
              "ticks": ""
             }
            },
            "type": "scattermap"
           }
          ],
          "scattermapbox": [
           {
            "marker": {
             "colorbar": {
              "outlinewidth": 0,
              "ticks": ""
             }
            },
            "type": "scattermapbox"
           }
          ],
          "scatterpolar": [
           {
            "marker": {
             "colorbar": {
              "outlinewidth": 0,
              "ticks": ""
             }
            },
            "type": "scatterpolar"
           }
          ],
          "scatterpolargl": [
           {
            "marker": {
             "colorbar": {
              "outlinewidth": 0,
              "ticks": ""
             }
            },
            "type": "scatterpolargl"
           }
          ],
          "scatterternary": [
           {
            "marker": {
             "colorbar": {
              "outlinewidth": 0,
              "ticks": ""
             }
            },
            "type": "scatterternary"
           }
          ],
          "surface": [
           {
            "colorbar": {
             "outlinewidth": 0,
             "ticks": ""
            },
            "colorscale": [
             [
              0,
              "#0d0887"
             ],
             [
              0.1111111111111111,
              "#46039f"
             ],
             [
              0.2222222222222222,
              "#7201a8"
             ],
             [
              0.3333333333333333,
              "#9c179e"
             ],
             [
              0.4444444444444444,
              "#bd3786"
             ],
             [
              0.5555555555555556,
              "#d8576b"
             ],
             [
              0.6666666666666666,
              "#ed7953"
             ],
             [
              0.7777777777777778,
              "#fb9f3a"
             ],
             [
              0.8888888888888888,
              "#fdca26"
             ],
             [
              1,
              "#f0f921"
             ]
            ],
            "type": "surface"
           }
          ],
          "table": [
           {
            "cells": {
             "fill": {
              "color": "#EBF0F8"
             },
             "line": {
              "color": "white"
             }
            },
            "header": {
             "fill": {
              "color": "#C8D4E3"
             },
             "line": {
              "color": "white"
             }
            },
            "type": "table"
           }
          ]
         },
         "layout": {
          "annotationdefaults": {
           "arrowcolor": "#2a3f5f",
           "arrowhead": 0,
           "arrowwidth": 1
          },
          "autotypenumbers": "strict",
          "coloraxis": {
           "colorbar": {
            "outlinewidth": 0,
            "ticks": ""
           }
          },
          "colorscale": {
           "diverging": [
            [
             0,
             "#8e0152"
            ],
            [
             0.1,
             "#c51b7d"
            ],
            [
             0.2,
             "#de77ae"
            ],
            [
             0.3,
             "#f1b6da"
            ],
            [
             0.4,
             "#fde0ef"
            ],
            [
             0.5,
             "#f7f7f7"
            ],
            [
             0.6,
             "#e6f5d0"
            ],
            [
             0.7,
             "#b8e186"
            ],
            [
             0.8,
             "#7fbc41"
            ],
            [
             0.9,
             "#4d9221"
            ],
            [
             1,
             "#276419"
            ]
           ],
           "sequential": [
            [
             0,
             "#0d0887"
            ],
            [
             0.1111111111111111,
             "#46039f"
            ],
            [
             0.2222222222222222,
             "#7201a8"
            ],
            [
             0.3333333333333333,
             "#9c179e"
            ],
            [
             0.4444444444444444,
             "#bd3786"
            ],
            [
             0.5555555555555556,
             "#d8576b"
            ],
            [
             0.6666666666666666,
             "#ed7953"
            ],
            [
             0.7777777777777778,
             "#fb9f3a"
            ],
            [
             0.8888888888888888,
             "#fdca26"
            ],
            [
             1,
             "#f0f921"
            ]
           ],
           "sequentialminus": [
            [
             0,
             "#0d0887"
            ],
            [
             0.1111111111111111,
             "#46039f"
            ],
            [
             0.2222222222222222,
             "#7201a8"
            ],
            [
             0.3333333333333333,
             "#9c179e"
            ],
            [
             0.4444444444444444,
             "#bd3786"
            ],
            [
             0.5555555555555556,
             "#d8576b"
            ],
            [
             0.6666666666666666,
             "#ed7953"
            ],
            [
             0.7777777777777778,
             "#fb9f3a"
            ],
            [
             0.8888888888888888,
             "#fdca26"
            ],
            [
             1,
             "#f0f921"
            ]
           ]
          },
          "colorway": [
           "#636efa",
           "#EF553B",
           "#00cc96",
           "#ab63fa",
           "#FFA15A",
           "#19d3f3",
           "#FF6692",
           "#B6E880",
           "#FF97FF",
           "#FECB52"
          ],
          "font": {
           "color": "#2a3f5f"
          },
          "geo": {
           "bgcolor": "white",
           "lakecolor": "white",
           "landcolor": "#E5ECF6",
           "showlakes": true,
           "showland": true,
           "subunitcolor": "white"
          },
          "hoverlabel": {
           "align": "left"
          },
          "hovermode": "closest",
          "mapbox": {
           "style": "light"
          },
          "paper_bgcolor": "white",
          "plot_bgcolor": "#E5ECF6",
          "polar": {
           "angularaxis": {
            "gridcolor": "white",
            "linecolor": "white",
            "ticks": ""
           },
           "bgcolor": "#E5ECF6",
           "radialaxis": {
            "gridcolor": "white",
            "linecolor": "white",
            "ticks": ""
           }
          },
          "scene": {
           "xaxis": {
            "backgroundcolor": "#E5ECF6",
            "gridcolor": "white",
            "gridwidth": 2,
            "linecolor": "white",
            "showbackground": true,
            "ticks": "",
            "zerolinecolor": "white"
           },
           "yaxis": {
            "backgroundcolor": "#E5ECF6",
            "gridcolor": "white",
            "gridwidth": 2,
            "linecolor": "white",
            "showbackground": true,
            "ticks": "",
            "zerolinecolor": "white"
           },
           "zaxis": {
            "backgroundcolor": "#E5ECF6",
            "gridcolor": "white",
            "gridwidth": 2,
            "linecolor": "white",
            "showbackground": true,
            "ticks": "",
            "zerolinecolor": "white"
           }
          },
          "shapedefaults": {
           "line": {
            "color": "#2a3f5f"
           }
          },
          "ternary": {
           "aaxis": {
            "gridcolor": "white",
            "linecolor": "white",
            "ticks": ""
           },
           "baxis": {
            "gridcolor": "white",
            "linecolor": "white",
            "ticks": ""
           },
           "bgcolor": "#E5ECF6",
           "caxis": {
            "gridcolor": "white",
            "linecolor": "white",
            "ticks": ""
           }
          },
          "title": {
           "x": 0.05
          },
          "xaxis": {
           "automargin": true,
           "gridcolor": "white",
           "linecolor": "white",
           "ticks": "",
           "title": {
            "standoff": 15
           },
           "zerolinecolor": "white",
           "zerolinewidth": 2
          },
          "yaxis": {
           "automargin": true,
           "gridcolor": "white",
           "linecolor": "white",
           "ticks": "",
           "title": {
            "standoff": 15
           },
           "zerolinecolor": "white",
           "zerolinewidth": 2
          }
         }
        },
        "title": {
         "text": "📈 Year-wise Attack Trend"
        },
        "xaxis": {
         "anchor": "y",
         "domain": [
          0,
          1
         ],
         "title": {
          "text": "Year"
         }
        },
        "yaxis": {
         "anchor": "x",
         "domain": [
          0,
          1
         ],
         "title": {
          "text": "Attack_Count"
         }
        }
       }
      }
     },
     "metadata": {},
     "output_type": "display_data"
    },
    {
     "data": {
      "application/vnd.plotly.v1+json": {
       "config": {
        "plotlyServerURL": "https://plot.ly"
       },
       "data": [
        {
         "hovertemplate": "Country=%{x}<br>Attack_Count=%{marker.color}<extra></extra>",
         "legendgroup": "",
         "marker": {
          "color": {
           "bdata": "1wO1Al0CzQDJAJUAiACGAIQAcgA=",
           "dtype": "i2"
          },
          "coloraxis": "coloraxis",
          "pattern": {
           "shape": ""
          }
         },
         "name": "",
         "orientation": "v",
         "showlegend": false,
         "textposition": "auto",
         "type": "bar",
         "x": [
          "Myanmar",
          "Ukraine",
          "OPT",
          "Syria",
          "Nigeria",
          "Ethiopia",
          "Yemen",
          "Burkina Faso",
          "Sudan",
          "Afghanistan"
         ],
         "xaxis": "x",
         "y": {
          "bdata": "1wO1Al0CzQDJAJUAiACGAIQAcgA=",
          "dtype": "i2"
         },
         "yaxis": "y"
        }
       ],
       "layout": {
        "barmode": "relative",
        "coloraxis": {
         "colorbar": {
          "title": {
           "text": "Attack_Count"
          }
         },
         "colorscale": [
          [
           0,
           "#0d0887"
          ],
          [
           0.1111111111111111,
           "#46039f"
          ],
          [
           0.2222222222222222,
           "#7201a8"
          ],
          [
           0.3333333333333333,
           "#9c179e"
          ],
          [
           0.4444444444444444,
           "#bd3786"
          ],
          [
           0.5555555555555556,
           "#d8576b"
          ],
          [
           0.6666666666666666,
           "#ed7953"
          ],
          [
           0.7777777777777778,
           "#fb9f3a"
          ],
          [
           0.8888888888888888,
           "#fdca26"
          ],
          [
           1,
           "#f0f921"
          ]
         ]
        },
        "legend": {
         "tracegroupgap": 0
        },
        "template": {
         "data": {
          "bar": [
           {
            "error_x": {
             "color": "#2a3f5f"
            },
            "error_y": {
             "color": "#2a3f5f"
            },
            "marker": {
             "line": {
              "color": "#E5ECF6",
              "width": 0.5
             },
             "pattern": {
              "fillmode": "overlay",
              "size": 10,
              "solidity": 0.2
             }
            },
            "type": "bar"
           }
          ],
          "barpolar": [
           {
            "marker": {
             "line": {
              "color": "#E5ECF6",
              "width": 0.5
             },
             "pattern": {
              "fillmode": "overlay",
              "size": 10,
              "solidity": 0.2
             }
            },
            "type": "barpolar"
           }
          ],
          "carpet": [
           {
            "aaxis": {
             "endlinecolor": "#2a3f5f",
             "gridcolor": "white",
             "linecolor": "white",
             "minorgridcolor": "white",
             "startlinecolor": "#2a3f5f"
            },
            "baxis": {
             "endlinecolor": "#2a3f5f",
             "gridcolor": "white",
             "linecolor": "white",
             "minorgridcolor": "white",
             "startlinecolor": "#2a3f5f"
            },
            "type": "carpet"
           }
          ],
          "choropleth": [
           {
            "colorbar": {
             "outlinewidth": 0,
             "ticks": ""
            },
            "type": "choropleth"
           }
          ],
          "contour": [
           {
            "colorbar": {
             "outlinewidth": 0,
             "ticks": ""
            },
            "colorscale": [
             [
              0,
              "#0d0887"
             ],
             [
              0.1111111111111111,
              "#46039f"
             ],
             [
              0.2222222222222222,
              "#7201a8"
             ],
             [
              0.3333333333333333,
              "#9c179e"
             ],
             [
              0.4444444444444444,
              "#bd3786"
             ],
             [
              0.5555555555555556,
              "#d8576b"
             ],
             [
              0.6666666666666666,
              "#ed7953"
             ],
             [
              0.7777777777777778,
              "#fb9f3a"
             ],
             [
              0.8888888888888888,
              "#fdca26"
             ],
             [
              1,
              "#f0f921"
             ]
            ],
            "type": "contour"
           }
          ],
          "contourcarpet": [
           {
            "colorbar": {
             "outlinewidth": 0,
             "ticks": ""
            },
            "type": "contourcarpet"
           }
          ],
          "heatmap": [
           {
            "colorbar": {
             "outlinewidth": 0,
             "ticks": ""
            },
            "colorscale": [
             [
              0,
              "#0d0887"
             ],
             [
              0.1111111111111111,
              "#46039f"
             ],
             [
              0.2222222222222222,
              "#7201a8"
             ],
             [
              0.3333333333333333,
              "#9c179e"
             ],
             [
              0.4444444444444444,
              "#bd3786"
             ],
             [
              0.5555555555555556,
              "#d8576b"
             ],
             [
              0.6666666666666666,
              "#ed7953"
             ],
             [
              0.7777777777777778,
              "#fb9f3a"
             ],
             [
              0.8888888888888888,
              "#fdca26"
             ],
             [
              1,
              "#f0f921"
             ]
            ],
            "type": "heatmap"
           }
          ],
          "histogram": [
           {
            "marker": {
             "pattern": {
              "fillmode": "overlay",
              "size": 10,
              "solidity": 0.2
             }
            },
            "type": "histogram"
           }
          ],
          "histogram2d": [
           {
            "colorbar": {
             "outlinewidth": 0,
             "ticks": ""
            },
            "colorscale": [
             [
              0,
              "#0d0887"
             ],
             [
              0.1111111111111111,
              "#46039f"
             ],
             [
              0.2222222222222222,
              "#7201a8"
             ],
             [
              0.3333333333333333,
              "#9c179e"
             ],
             [
              0.4444444444444444,
              "#bd3786"
             ],
             [
              0.5555555555555556,
              "#d8576b"
             ],
             [
              0.6666666666666666,
              "#ed7953"
             ],
             [
              0.7777777777777778,
              "#fb9f3a"
             ],
             [
              0.8888888888888888,
              "#fdca26"
             ],
             [
              1,
              "#f0f921"
             ]
            ],
            "type": "histogram2d"
           }
          ],
          "histogram2dcontour": [
           {
            "colorbar": {
             "outlinewidth": 0,
             "ticks": ""
            },
            "colorscale": [
             [
              0,
              "#0d0887"
             ],
             [
              0.1111111111111111,
              "#46039f"
             ],
             [
              0.2222222222222222,
              "#7201a8"
             ],
             [
              0.3333333333333333,
              "#9c179e"
             ],
             [
              0.4444444444444444,
              "#bd3786"
             ],
             [
              0.5555555555555556,
              "#d8576b"
             ],
             [
              0.6666666666666666,
              "#ed7953"
             ],
             [
              0.7777777777777778,
              "#fb9f3a"
             ],
             [
              0.8888888888888888,
              "#fdca26"
             ],
             [
              1,
              "#f0f921"
             ]
            ],
            "type": "histogram2dcontour"
           }
          ],
          "mesh3d": [
           {
            "colorbar": {
             "outlinewidth": 0,
             "ticks": ""
            },
            "type": "mesh3d"
           }
          ],
          "parcoords": [
           {
            "line": {
             "colorbar": {
              "outlinewidth": 0,
              "ticks": ""
             }
            },
            "type": "parcoords"
           }
          ],
          "pie": [
           {
            "automargin": true,
            "type": "pie"
           }
          ],
          "scatter": [
           {
            "fillpattern": {
             "fillmode": "overlay",
             "size": 10,
             "solidity": 0.2
            },
            "type": "scatter"
           }
          ],
          "scatter3d": [
           {
            "line": {
             "colorbar": {
              "outlinewidth": 0,
              "ticks": ""
             }
            },
            "marker": {
             "colorbar": {
              "outlinewidth": 0,
              "ticks": ""
             }
            },
            "type": "scatter3d"
           }
          ],
          "scattercarpet": [
           {
            "marker": {
             "colorbar": {
              "outlinewidth": 0,
              "ticks": ""
             }
            },
            "type": "scattercarpet"
           }
          ],
          "scattergeo": [
           {
            "marker": {
             "colorbar": {
              "outlinewidth": 0,
              "ticks": ""
             }
            },
            "type": "scattergeo"
           }
          ],
          "scattergl": [
           {
            "marker": {
             "colorbar": {
              "outlinewidth": 0,
              "ticks": ""
             }
            },
            "type": "scattergl"
           }
          ],
          "scattermap": [
           {
            "marker": {
             "colorbar": {
              "outlinewidth": 0,
              "ticks": ""
             }
            },
            "type": "scattermap"
           }
          ],
          "scattermapbox": [
           {
            "marker": {
             "colorbar": {
              "outlinewidth": 0,
              "ticks": ""
             }
            },
            "type": "scattermapbox"
           }
          ],
          "scatterpolar": [
           {
            "marker": {
             "colorbar": {
              "outlinewidth": 0,
              "ticks": ""
             }
            },
            "type": "scatterpolar"
           }
          ],
          "scatterpolargl": [
           {
            "marker": {
             "colorbar": {
              "outlinewidth": 0,
              "ticks": ""
             }
            },
            "type": "scatterpolargl"
           }
          ],
          "scatterternary": [
           {
            "marker": {
             "colorbar": {
              "outlinewidth": 0,
              "ticks": ""
             }
            },
            "type": "scatterternary"
           }
          ],
          "surface": [
           {
            "colorbar": {
             "outlinewidth": 0,
             "ticks": ""
            },
            "colorscale": [
             [
              0,
              "#0d0887"
             ],
             [
              0.1111111111111111,
              "#46039f"
             ],
             [
              0.2222222222222222,
              "#7201a8"
             ],
             [
              0.3333333333333333,
              "#9c179e"
             ],
             [
              0.4444444444444444,
              "#bd3786"
             ],
             [
              0.5555555555555556,
              "#d8576b"
             ],
             [
              0.6666666666666666,
              "#ed7953"
             ],
             [
              0.7777777777777778,
              "#fb9f3a"
             ],
             [
              0.8888888888888888,
              "#fdca26"
             ],
             [
              1,
              "#f0f921"
             ]
            ],
            "type": "surface"
           }
          ],
          "table": [
           {
            "cells": {
             "fill": {
              "color": "#EBF0F8"
             },
             "line": {
              "color": "white"
             }
            },
            "header": {
             "fill": {
              "color": "#C8D4E3"
             },
             "line": {
              "color": "white"
             }
            },
            "type": "table"
           }
          ]
         },
         "layout": {
          "annotationdefaults": {
           "arrowcolor": "#2a3f5f",
           "arrowhead": 0,
           "arrowwidth": 1
          },
          "autotypenumbers": "strict",
          "coloraxis": {
           "colorbar": {
            "outlinewidth": 0,
            "ticks": ""
           }
          },
          "colorscale": {
           "diverging": [
            [
             0,
             "#8e0152"
            ],
            [
             0.1,
             "#c51b7d"
            ],
            [
             0.2,
             "#de77ae"
            ],
            [
             0.3,
             "#f1b6da"
            ],
            [
             0.4,
             "#fde0ef"
            ],
            [
             0.5,
             "#f7f7f7"
            ],
            [
             0.6,
             "#e6f5d0"
            ],
            [
             0.7,
             "#b8e186"
            ],
            [
             0.8,
             "#7fbc41"
            ],
            [
             0.9,
             "#4d9221"
            ],
            [
             1,
             "#276419"
            ]
           ],
           "sequential": [
            [
             0,
             "#0d0887"
            ],
            [
             0.1111111111111111,
             "#46039f"
            ],
            [
             0.2222222222222222,
             "#7201a8"
            ],
            [
             0.3333333333333333,
             "#9c179e"
            ],
            [
             0.4444444444444444,
             "#bd3786"
            ],
            [
             0.5555555555555556,
             "#d8576b"
            ],
            [
             0.6666666666666666,
             "#ed7953"
            ],
            [
             0.7777777777777778,
             "#fb9f3a"
            ],
            [
             0.8888888888888888,
             "#fdca26"
            ],
            [
             1,
             "#f0f921"
            ]
           ],
           "sequentialminus": [
            [
             0,
             "#0d0887"
            ],
            [
             0.1111111111111111,
             "#46039f"
            ],
            [
             0.2222222222222222,
             "#7201a8"
            ],
            [
             0.3333333333333333,
             "#9c179e"
            ],
            [
             0.4444444444444444,
             "#bd3786"
            ],
            [
             0.5555555555555556,
             "#d8576b"
            ],
            [
             0.6666666666666666,
             "#ed7953"
            ],
            [
             0.7777777777777778,
             "#fb9f3a"
            ],
            [
             0.8888888888888888,
             "#fdca26"
            ],
            [
             1,
             "#f0f921"
            ]
           ]
          },
          "colorway": [
           "#636efa",
           "#EF553B",
           "#00cc96",
           "#ab63fa",
           "#FFA15A",
           "#19d3f3",
           "#FF6692",
           "#B6E880",
           "#FF97FF",
           "#FECB52"
          ],
          "font": {
           "color": "#2a3f5f"
          },
          "geo": {
           "bgcolor": "white",
           "lakecolor": "white",
           "landcolor": "#E5ECF6",
           "showlakes": true,
           "showland": true,
           "subunitcolor": "white"
          },
          "hoverlabel": {
           "align": "left"
          },
          "hovermode": "closest",
          "mapbox": {
           "style": "light"
          },
          "paper_bgcolor": "white",
          "plot_bgcolor": "#E5ECF6",
          "polar": {
           "angularaxis": {
            "gridcolor": "white",
            "linecolor": "white",
            "ticks": ""
           },
           "bgcolor": "#E5ECF6",
           "radialaxis": {
            "gridcolor": "white",
            "linecolor": "white",
            "ticks": ""
           }
          },
          "scene": {
           "xaxis": {
            "backgroundcolor": "#E5ECF6",
            "gridcolor": "white",
            "gridwidth": 2,
            "linecolor": "white",
            "showbackground": true,
            "ticks": "",
            "zerolinecolor": "white"
           },
           "yaxis": {
            "backgroundcolor": "#E5ECF6",
            "gridcolor": "white",
            "gridwidth": 2,
            "linecolor": "white",
            "showbackground": true,
            "ticks": "",
            "zerolinecolor": "white"
           },
           "zaxis": {
            "backgroundcolor": "#E5ECF6",
            "gridcolor": "white",
            "gridwidth": 2,
            "linecolor": "white",
            "showbackground": true,
            "ticks": "",
            "zerolinecolor": "white"
           }
          },
          "shapedefaults": {
           "line": {
            "color": "#2a3f5f"
           }
          },
          "ternary": {
           "aaxis": {
            "gridcolor": "white",
            "linecolor": "white",
            "ticks": ""
           },
           "baxis": {
            "gridcolor": "white",
            "linecolor": "white",
            "ticks": ""
           },
           "bgcolor": "#E5ECF6",
           "caxis": {
            "gridcolor": "white",
            "linecolor": "white",
            "ticks": ""
           }
          },
          "title": {
           "x": 0.05
          },
          "xaxis": {
           "automargin": true,
           "gridcolor": "white",
           "linecolor": "white",
           "ticks": "",
           "title": {
            "standoff": 15
           },
           "zerolinecolor": "white",
           "zerolinewidth": 2
          },
          "yaxis": {
           "automargin": true,
           "gridcolor": "white",
           "linecolor": "white",
           "ticks": "",
           "title": {
            "standoff": 15
           },
           "zerolinecolor": "white",
           "zerolinewidth": 2
          }
         }
        },
        "title": {
         "text": "🌍 Top 10 Countries with Most Attacks"
        },
        "xaxis": {
         "anchor": "y",
         "domain": [
          0,
          1
         ],
         "title": {
          "text": "Country"
         }
        },
        "yaxis": {
         "anchor": "x",
         "domain": [
          0,
          1
         ],
         "title": {
          "text": "Attack_Count"
         }
        }
       }
      }
     },
     "metadata": {},
     "output_type": "display_data"
    },
    {
     "data": {
      "application/vnd.plotly.v1+json": {
       "config": {
        "plotlyServerURL": "https://plot.ly"
       },
       "data": [
        {
         "domain": {
          "x": [
           0,
           1
          ],
          "y": [
           0,
           1
          ]
         },
         "hovertemplate": "Reported Perpetrator=%{label}<extra></extra>",
         "labels": [
          "Foreign Forces - Military",
          "Foreign Forces - Military",
          "Foreign Forces - Military",
          "Other",
          "Foreign Forces - Military",
          "Foreign Forces - Military",
          "NSA",
          "NSA",
          "Other",
          "Host Government: Military",
          "Foreign Forces - Military",
          "Foreign Forces - Military",
          "Other",
          "Foreign Forces - Military",
          "Criminal",
          "Foreign Forces - Military",
          "Foreign Forces - Military",
          "Foreign Forces - Military",
          "Foreign Forces - Military",
          "Foreign Forces - Military",
          "Foreign Forces - Military",
          "Foreign Forces - Military",
          "Civilian",
          "Foreign Forces - Military",
          "Foreign Forces - Military",
          "Host Government: Military",
          "Foreign Forces - Military",
          "Other",
          "Host Government: Military",
          "Foreign Forces - Military",
          "Foreign Forces - Military",
          "NSA",
          "Foreign Forces - Military",
          "No Information",
          "Foreign Forces - Military",
          "NSA",
          "Other",
          "Host Government: Military",
          "NSA",
          "Foreign Forces - Military",
          "Host Government: Military",
          "Foreign Forces - Military",
          "Police",
          "Foreign Forces - Military",
          "Other",
          "Host Government: Military",
          "Foreign Forces - Military",
          "Other",
          "Foreign Forces - Military",
          "Foreign Forces - Military",
          "Foreign Forces - Military",
          "NSA",
          "Host Government: Military",
          "Other",
          "Other",
          "Host Government: Military",
          "Other",
          "Foreign Forces - Military",
          "Host Government: Military",
          "Host Government: Military",
          "Foreign Forces - Military",
          "Foreign Forces - Military",
          "Other",
          "Foreign Forces - Military",
          "Foreign Forces - Military",
          "Other",
          "NSA",
          "Foreign Forces - Military",
          "Host Government: Military",
          "Host Government: Military",
          "Host Government: Military",
          "Foreign Forces - Military",
          "Foreign Forces - Military",
          "Host Government: Military",
          "Other",
          "Host Government: Military",
          "Foreign Forces - Military",
          "Host Government: Military",
          "Other",
          "Police",
          "Foreign Forces - Military",
          "Other",
          "Foreign Forces - Military",
          "NSA",
          "Host Government: Military",
          "Host Government: Military",
          "Host Government: Military",
          "Civilian",
          "NSA",
          "Host Government: Military",
          "Other",
          "Other",
          "NSA",
          "Other",
          "Other",
          "Criminal",
          "Foreign Forces - Military",
          "Foreign Forces - Military",
          "Host Government: Military",
          "Host Government: Military",
          "NSA",
          "Host Government: Military",
          "Foreign Forces - Military",
          "Other",
          "Foreign Forces - Military",
          "Foreign Forces - Military",
          "Host Government: Military",
          "Other",
          "Other",
          "Foreign Forces - Military",
          "Foreign Forces - Military",
          "Host Government: Military",
          "NSA",
          "Host Government: Military",
          "Host Government: Military",
          "NSA",
          "Foreign Forces - Military",
          "Other",
          "NSA",
          "Other",
          "Other",
          "NSA",
          "Other",
          "NSA",
          "NSA",
          "NSA",
          "Police",
          "Host Government: Military",
          "Other",
          "Other",
          "NSA",
          "Other",
          "NSA",
          "NSA",
          "Criminal",
          "Vigilante",
          "No Information",
          "Political Party",
          "No Information",
          "Criminal",
          "Other",
          "Vigilante",
          "No Information",
          "No Information",
          "No Information",
          "No Information",
          "Civilian",
          "Other",
          "Police",
          "Foreign Forces - Military",
          "Criminal",
          "Foreign Forces - Military",
          "Foreign Forces - Military",
          "Host Government: Military",
          "Host Government: Military",
          "Foreign Forces - Military",
          "Civilian",
          "NSA",
          "Other",
          "Other",
          "NSA",
          "NSA",
          "NSA",
          "NSA",
          "Host Government: Military",
          "Host Government: Military",
          "Other",
          "Foreign Forces - Military",
          "Foreign Forces - Military",
          "Police",
          "Foreign Forces - Military",
          "Other",
          "Host Government: Military",
          "Other",
          "Foreign Forces - Military",
          "Other",
          "Foreign Forces - Military",
          "Other",
          "Host Government: Military",
          "No Information",
          "NSA",
          "Other",
          "Foreign Forces - Military",
          "NSA",
          "Other",
          "Other",
          "Other",
          "Other",
          "Other",
          "NSA",
          "Foreign Forces - Military",
          "Other",
          "NSA",
          "NSA",
          "Foreign Forces - Military",
          "No Information",
          "No Information",
          "Foreign Forces - Military",
          "Foreign Forces - Military",
          "Foreign Forces - Military",
          "NSA",
          "Foreign Forces - Military",
          "Foreign Forces - Military",
          "Foreign Forces - Military",
          "Host Government: Military",
          "Foreign Forces - Military",
          "Multiple",
          "No Information",
          "Vigilante",
          "Host Government: Military",
          "Police",
          "Other",
          "No Information",
          "Other",
          "Other",
          "Host Government: Military",
          "Other",
          "Employee",
          "NSA",
          "Other",
          "Multiple",
          "NSA",
          "Other",
          "Other",
          "Other",
          "Foreign Forces - Military",
          "Foreign Forces - Military",
          "No Information",
          "Other",
          "NSA",
          "NSA",
          "Other",
          "Other",
          "Foreign Forces - Military",
          "NSA",
          "Other",
          "Other",
          "Other",
          "Other",
          "No Information",
          "Protestors",
          "Foreign Forces - Military",
          "Foreign Forces - Military",
          "NSA",
          "No Information",
          "Other",
          "Employee",
          "Other",
          "Other",
          "NSA",
          "NSA",
          "Other",
          "Vigilante",
          "Other",
          "Civilian",
          "NSA",
          "Other",
          "Host Government: Military",
          "Foreign Forces - Military",
          "Other",
          "Other",
          "Vigilante",
          "Other",
          "Other",
          "NSA",
          "Vigilante",
          "Other",
          "Foreign Forces - Military",
          "Host Government: Military",
          "Foreign Forces - Military",
          "Vigilante",
          "Other",
          "Other",
          "Host Government: Military",
          "Other",
          "Host Government: Military",
          "Other",
          "Host Government: Military",
          "Host Government: Military",
          "NSA",
          "Host Government: Military",
          "Other",
          "Other",
          "Host Government: Military",
          "Other",
          "Other",
          "Multiple",
          "Other",
          "Host Government: Military",
          "Other",
          "Host Government: Military",
          "Other",
          "Other",
          "Other",
          "NSA",
          "Foreign Forces - Military",
          "Other",
          "Other",
          "Other",
          "Foreign Forces - Military",
          "Other",
          "Host Government: Military",
          "Foreign Forces - Military",
          "Host Government: Military",
          "Host Government: Military",
          "Foreign Forces - Military",
          "Host Government: Military",
          "Other",
          "Foreign Forces - Military",
          "Other",
          "Host Government: Military",
          "Other",
          "Host Government: Military",
          "Host Government: Military",
          "Host Government: Military",
          "Host Government: Military",
          "NSA",
          "NSA",
          "Other",
          "Host Government: Military",
          "NSA",
          "NSA",
          "NSA",
          "Host Government: Military",
          "No Information",
          "Host Government: Military",
          "Multiple",
          "Host Government: Military",
          "Host Government: Military",
          "Other",
          "Host Government: Military",
          "Host Government: Military",
          "Host Government: Military",
          "Other",
          "Other",
          "Other",
          "Host Government: Military",
          "Host Government: Military",
          "Host Government: Military",
          "NSA",
          "NSA",
          "Host Government: Military",
          "Foreign Forces - Military",
          "Foreign Forces - Military",
          "Vigilante",
          "Foreign Forces - Military",
          "Other",
          "Other",
          "Host Government: Military",
          "Vigilante",
          "Police",
          "Foreign Forces - Military",
          "Other",
          "Other",
          "Other",
          "Foreign Forces - Military",
          "Foreign Forces - Military",
          "Foreign Forces - Military",
          "Foreign Forces - Military",
          "Other",
          "Host Government: Military",
          "Foreign Forces - Military",
          "Foreign Forces - Military",
          "Foreign Forces - Military",
          "Foreign Forces - Military",
          "Foreign Forces - Military",
          "NSA",
          "Other",
          "Foreign Forces - Military",
          "Foreign Forces - Military",
          "Foreign Forces - Military",
          "Foreign Forces - Military",
          "Foreign Forces - Military",
          "Other",
          "Other",
          "Host Government: Military",
          "Other",
          "Other",
          "Other",
          "Other",
          "Other",
          "Host Government: Military",
          "Other",
          "NSA",
          "Host Government: Military",
          "NSA",
          "Foreign Forces - Military",
          "Other",
          "Foreign Forces - Military",
          "Other",
          "Host Government: Military",
          "Host Government: Military",
          "Host Government: Military",
          "Host Government: Military",
          "Other",
          "Host Government: Military",
          "Multiple",
          "Foreign Forces - Military",
          "Other",
          "Host Government: Military",
          "Host Government: Military",
          "Host Government: Military",
          "Host Government: Military",
          "Host Government: Military",
          "NSA",
          "Host Government: Military",
          "Host Government: Military",
          "Host Government: Military",
          "Host Government: Military",
          "NSA",
          "NSA",
          "Foreign Forces - Military",
          "Other",
          "NSA",
          "Multiple",
          "Other",
          "Other",
          "Host Government: Military",
          "Other",
          "NSA",
          "Other",
          "Host Government: Military",
          "Foreign Forces - Military",
          "NSA",
          "NSA",
          "Multiple",
          "Civilian",
          "NSA",
          "Other",
          "Foreign Forces - Military",
          "Other",
          "Host Government: Military",
          "Multiple",
          "NSA",
          "Host Government: Military",
          "Host Government: Military",
          "Host Government: Military",
          "Other",
          "Other",
          "Host Government: Military",
          "Host Government: Military",
          "Host Government: Military",
          "NSA",
          "Host Government: Military",
          "Host Government: Military",
          "Other",
          "Multiple",
          "Other",
          "Other",
          "Host Government: Military",
          "Host Government: Military",
          "Host Government: Military",
          "Other",
          "Host Government: Military",
          "Host Government: Military",
          "Other",
          "NSA",
          "Foreign Forces - Military",
          "Host Government: Military",
          "Foreign Forces - Military",
          "Host Government: Military",
          "Host Government/Self-Declared Host Government",
          "Other",
          "Other",
          "Host Government: Military",
          "Vigilante",
          "Host Government: Military",
          "Other",
          "Vigilante",
          "Host Government: Military",
          "Other",
          "Other",
          "NSA",
          "Civilian",
          "Multiple",
          "Other",
          "Other",
          "Other",
          "Other",
          "Other",
          "Other",
          "NSA",
          "Foreign Forces - Military",
          "NSA",
          "Host Government: Military",
          "Other",
          "Host Government: Military",
          "Host Government: Military",
          "No Information",
          "Host Government: Military",
          "Foreign Forces - Military",
          "Host Government: Military",
          "No Information",
          "Host Government: Military",
          "Other",
          "Other",
          "Foreign Forces - Military",
          "Foreign Forces - Military",
          "Other",
          "Foreign Forces - Military",
          "Other",
          "Other",
          "Host Government: Military",
          "Other",
          "Other",
          "NSA",
          "Host Government: Military",
          "Host Government: Military",
          "Foreign Forces - Military",
          "Foreign Forces - Military",
          "Host Government: Military",
          "Host Government: Military",
          "Host Government: Military",
          "Host Government: Military",
          "Host Government: Military",
          "Other",
          "Other",
          "Foreign Forces - Military",
          "Foreign Forces - Military",
          "Other",
          "Other",
          "Other",
          "Other",
          "Other",
          "Foreign Forces - Military",
          "Host Government: Military",
          "Other",
          "Foreign Forces - Military",
          "Foreign Forces - Military",
          "Foreign Forces - Military",
          "NSA",
          "Other",
          "No Information",
          "Host Government: Military",
          "Foreign Forces - Military",
          "Civilian",
          "Host Government: Military",
          "Other",
          "Host Government: Military",
          "Host Government: Military",
          "Host Government: Military",
          "Other",
          "Other",
          "Host Government: Military",
          "Other",
          "Foreign Forces - Military",
          "Other",
          "Foreign Forces - Military",
          "Foreign Forces - Military",
          "Host Government: Military",
          "Foreign Forces - Military",
          "Foreign Forces - Military",
          "Foreign Forces - Military",
          "Foreign Forces - Military",
          "Foreign Forces - Military",
          "Host Government: Military",
          "Other",
          "Other",
          "Other",
          "Other",
          "Host Government: Military",
          "Host Government: Military",
          "Host Government: Military",
          "Host Government: Military",
          "NSA",
          "Other",
          "Other",
          "Host Government: Military",
          "Other",
          "Other",
          "Foreign Forces - Military",
          "Other",
          "Foreign Forces - Military",
          "Foreign Forces - Military",
          "Other",
          "Host Government: Military",
          "Other",
          "Other",
          "Other",
          "Other",
          "Host Government: Military",
          "Other",
          "Foreign Forces - Military",
          "Host Government: Military",
          "No Information",
          "Host Government: Military",
          "Other",
          "Foreign Forces - Military",
          "Host Government: Military",
          "No Information",
          "Host Government: Military",
          "Foreign Forces - Military",
          "NSA",
          "NSA",
          "Other",
          "Other",
          "Other",
          "NSA",
          "NSA",
          "Other",
          "Other",
          "Foreign Forces - Military",
          "Foreign Forces - Military",
          "Other",
          "Other",
          "Host Government: Military",
          "Other",
          "Other",
          "Other",
          "Foreign Forces - Military",
          "Foreign Forces - Military",
          "Foreign Forces - Military",
          "Other",
          "NSA",
          "NSA",
          "NSA",
          "Host Government: Military",
          "Other",
          "Host Government: Military",
          "Foreign Forces - Military",
          "Host Government: Military",
          "NSA",
          "NSA",
          "Host Government: Military",
          "Host Government: Military",
          "No Information",
          "Other",
          "Foreign Forces - Military",
          "Multiple",
          "NSA",
          "No Information",
          "Other",
          "Other",
          "Host Government: Military",
          "Civilian",
          "Foreign Forces - Military",
          "NSA",
          "Host Government: Military",
          "Police",
          "Host Government: Military",
          "Host Government: Military",
          "Host Government: Military",
          "NSA",
          "No Information",
          "Host Government: Military",
          "NSA",
          "Host Government: Military",
          "Host Government: Military",
          "Host Government: Military",
          "Host Government: Military",
          "Other",
          "Host Government: Military",
          "Host Government: Military",
          "Host Government: Military",
          "NSA",
          "NSA",
          "Other",
          "Other",
          "Other",
          "Other",
          "Other",
          "Other",
          "Host Government: Military",
          "Other",
          "NSA",
          "NSA",
          "NSA",
          "Criminal",
          "NSA",
          "Host Government: Military",
          "Foreign Forces - Military",
          "Host Government: Military",
          "Host Government: Military",
          "Foreign Forces - Military",
          "Host Government: Military",
          "No Information",
          "Host Government: Military",
          "Police",
          "Foreign Forces - Military",
          "Host Government: Military",
          "Other",
          "No Information",
          "Foreign Forces - Military",
          "Foreign Forces - Military",
          "Foreign Forces - Military",
          "Foreign Forces - Military",
          "Host Government: Military",
          "Host Government: Military",
          "Host Government: Military",
          "Host Government: Military",
          "Foreign Forces - Military",
          "Other",
          "Host Government: Military",
          "Host Government: Military",
          "NSA",
          "Host Government: Military",
          "Host Government: Military",
          "NSA",
          "Host Government: Military",
          "Foreign Forces - Military",
          "NSA",
          "No Information",
          "Host Government: Military",
          "Foreign Forces - Military",
          "Foreign Forces - Military",
          "Foreign Forces - Military",
          "Foreign Forces - Military",
          "Foreign Forces - Military",
          "Foreign Forces - Military",
          "Foreign Forces - Military",
          "Foreign Forces - Military",
          "Other",
          "Host Government: Military",
          "Host Government: Military",
          "Host Government: Military",
          "Host Government: Military",
          "Host Government: Military",
          "Host Government: Military",
          "Host Government: Military",
          "Host Government: Military",
          "Police",
          "Host Government: Military",
          "Foreign Forces - Military",
          "Other",
          "Host Government: Military",
          "Host Government: Military",
          "Host Government: Military",
          "Host Government: Military",
          "Other",
          "NSA",
          "Other",
          "Host Government: Military",
          "NSA",
          "Foreign Forces - Military",
          "Foreign Forces - Military",
          "Foreign Forces - Military",
          "Other",
          "Civilian",
          "Police",
          "Other",
          "Other",
          "Foreign Forces - Military",
          "Police",
          "Host Government: Military",
          "Foreign Forces - Military",
          "Other",
          "Foreign Forces - Military",
          "Foreign Forces - Military",
          "NSA",
          "Foreign Forces - Military",
          "Host Government: Military",
          "Other",
          "NSA",
          "Other",
          "Host Government: Military",
          "NSA",
          "Host Government: Military",
          "NSA",
          "NSA",
          "Other",
          "Criminal",
          "Foreign Forces - Military",
          "NSA",
          "Host Government: Military",
          "Host Government: Military",
          "NSA",
          "NSA",
          "Other",
          "NSA",
          "Host Government: Military",
          "NSA",
          "Host Government: Military",
          "Host Government: Military",
          "Host Government: Military",
          "NSA",
          "Host Government: Military",
          "Other",
          "Host Government: Military",
          "Host Government: Military",
          "Host Government: Military",
          "Host Government: Military",
          "Other",
          "Host Government: Military",
          "NSA",
          "NSA",
          "Host Government: Military",
          "NSA",
          "Other",
          "Vigilante",
          "Other",
          "Foreign Forces - Military",
          "Other",
          "Foreign Forces - Military",
          "Foreign Forces - Military",
          "NSA",
          "NSA",
          "Host Government: Military",
          "NSA",
          "NSA",
          "NSA",
          "NSA",
          "Multiple",
          "Host Government: Military",
          "Host Government: Military",
          "Host Government: Military",
          "NSA",
          "Host Government: Military",
          "NSA",
          "NSA",
          "No Information",
          "Vigilante",
          "Foreign Forces - Military",
          "Foreign Forces - Military",
          "NSA",
          "Foreign Forces - Military",
          "Host Government: Military",
          "NSA",
          "Host Government: Military",
          "Host Government: Military",
          "NSA",
          "Multiple",
          "Multiple",
          "Other",
          "NSA",
          "Host Government: Military",
          "Host Government: Military",
          "Foreign Forces - Military",
          "Host Government: Military",
          "Foreign Forces - Military",
          "NSA",
          "NSA",
          "Host Government: Military",
          "NSA",
          "Vigilante",
          "Foreign Forces - Military",
          "Foreign Forces - Military",
          "Police",
          "No Information",
          "NSA",
          "Civilian",
          "NSA",
          "NSA",
          "Foreign Forces - Military",
          "NSA",
          "Other",
          "Host Government: Military",
          "Host Government: Military",
          "Vigilante",
          "Foreign Forces - Military",
          "Foreign Forces - Military",
          "Criminal",
          "Foreign Forces - Military",
          "Foreign Forces - Military",
          "Foreign Forces - Military",
          "Other",
          "Host Government: Military",
          "Vigilante",
          "NSA",
          "Foreign Forces - Military",
          "NSA",
          "Host Government: Military",
          "Other",
          "Host Government: Military",
          "Host Government: Military",
          "Host Government: Military",
          "Host Government: Military",
          "Other",
          "Multiple",
          "Foreign Forces - Military",
          "Foreign Forces - Military",
          "No Information",
          "Host Government: Military",
          "Other",
          "Other",
          "Other",
          "Vigilante",
          "Vigilante",
          "NSA",
          "Other",
          "Foreign Forces - Military",
          "No Information",
          "Other",
          "Vigilante",
          "NSA",
          "NSA",
          "Vigilante",
          "Vigilante",
          "No Information",
          "Other",
          "Police",
          "NSA",
          "NSA",
          "Vigilante",
          "Other",
          "Other",
          "Other",
          "Other",
          "Host Government: Military",
          "Other",
          "NSA",
          "Multiple",
          "Other",
          "NSA",
          "NSA",
          "Other",
          "Other",
          "No Information",
          "NSA",
          "NSA",
          "Vigilante",
          "Criminal",
          "No Information",
          "No Information",
          "NSA",
          "Other",
          "NSA",
          "Political Party",
          "No Information",
          "Host Government: Military",
          "Host Government: Military",
          "Host Government: Military",
          "NSA",
          "Vigilante",
          "Foreign Forces - Military",
          "Foreign Forces - Military",
          "Other",
          "Host Government: Military",
          "Host Government: Military",
          "Host Government: Military",
          "Foreign Forces - Military",
          "No Information",
          "Other",
          "Host Government: Military",
          "Host Government: Military",
          "Host Government: Military",
          "Host Government: Military",
          "Foreign Forces - Military",
          "Host Government: Military",
          "Host Government: Military",
          "NSA",
          "Other",
          "NSA",
          "Multiple",
          "Other",
          "Host Government: Military",
          "No Information",
          "NSA",
          "No Information",
          "No Information",
          "Criminal",
          "Host Government: Military",
          "Host Government: Military",
          "Foreign Forces - Military",
          "Host Government: Military",
          "Host Government: Military",
          "Foreign Forces - Military",
          "Other",
          "NSA",
          "Multiple",
          "No Information",
          "No Information",
          "Host Government: Military",
          "Host Government: Military",
          "Host Government: Military",
          "Foreign Forces - Military",
          "NSA",
          "Host Government: Military",
          "Host Government: Military",
          "Host Government: Military",
          "Vigilante",
          "NSA",
          "No Information",
          "Vigilante",
          "Foreign Forces - Military",
          "NSA",
          "NSA",
          "NSA",
          "No Information",
          "Police",
          "Foreign Forces - Military",
          "Foreign Forces - Military",
          "Foreign Forces - Military",
          "Host Government: Military",
          "Foreign Forces - Military",
          "No Information",
          "Police",
          "Host Government: Military",
          "Foreign Forces - Military",
          "Police",
          "Police",
          "Host Government: Military",
          "Host Government: Military",
          "Host Government: Military",
          "Other",
          "NSA",
          "Foreign Forces - Military",
          "Host Government: Military",
          "Foreign Forces - Military",
          "NSA",
          "Foreign Forces - Military",
          "Police",
          "NSA",
          "No Information",
          "Other",
          "Other",
          "NSA",
          "Host Government: Military",
          "Vigilante",
          "Other",
          "Other",
          "NSA",
          "Other",
          "Host Government: Military",
          "Host Government: Military",
          "Host Government: Military",
          "Foreign Forces - Military",
          "Foreign Forces - Military",
          "Foreign Forces - Military",
          "Other",
          "Foreign Forces - Military",
          "Vigilante",
          "Foreign Forces - Military",
          "No Information",
          "Host Government: Military",
          "Other",
          "Foreign Forces - Military",
          "Multiple",
          "Other",
          "Other",
          "Foreign Forces - Military",
          "Host Government: Military",
          "Foreign Forces - Military",
          "Foreign Forces - Military",
          "Foreign Forces - Military",
          "NSA",
          "Foreign Forces - Military",
          "Foreign Forces - Military",
          "Foreign Forces - Military",
          "Foreign Forces - Military",
          "Other",
          "NSA",
          "Foreign Forces - Military",
          "No Information",
          "NSA",
          "Foreign Forces - Military",
          "Foreign Forces - Military",
          "Other",
          "Vigilante",
          "Foreign Forces - Military",
          "Host Government: Military",
          "No Information",
          "Foreign Forces - Military",
          "Foreign Forces - Military",
          "Other",
          "NSA",
          "Foreign Forces - Military",
          "Foreign Forces - Military",
          "Foreign Forces - Military",
          "Other",
          "Other",
          "Other",
          "Other",
          "NSA",
          "Foreign Forces - Military",
          "Other",
          "Vigilante",
          "Host Government: Military",
          "NSA",
          "Foreign Forces - Military",
          "Host Government: Military",
          "Other",
          "Other",
          "Host Government: Military",
          "Foreign Forces - Military",
          "Foreign Forces - Military",
          "NSA",
          "NSA",
          "Foreign Forces - Military",
          "Host Government: Military",
          "Host Government: Military",
          "Foreign Forces - Military",
          "NSA",
          "Foreign Forces - Military",
          "No Information",
          "Foreign Forces - Military",
          "Foreign Forces - Military",
          "Other",
          "Foreign Forces - Military",
          "Other",
          "No Information",
          "Other",
          "Other",
          "Other",
          "Other",
          "Multiple",
          "No Information",
          "Other",
          "Other",
          "Other",
          "Multiple",
          "No Information",
          "NSA",
          "NSA",
          "Other",
          "Other",
          "Host Government: Military",
          "NSA",
          "NSA",
          "Other",
          "No Information",
          "NSA",
          "No Information",
          "Foreign Forces - Military",
          "Police",
          "No Information",
          "Other",
          "Other",
          "Multiple",
          "Foreign Forces - Military",
          "Foreign Forces - Military",
          "Other",
          "Other",
          "Other",
          "NSA",
          "NSA",
          "Other",
          "Host Government: Military",
          "NSA",
          "Host Government: Military",
          "Other",
          "NSA",
          "Host Government: Military",
          "NSA",
          "Protestors",
          "Host Government: Military",
          "No Information",
          "Other",
          "Multiple",
          "NSA",
          "NSA",
          "Other",
          "NSA",
          "Other",
          "Foreign Forces - Military",
          "Host Government: Military",
          "No Information",
          "Host Government: Military",
          "No Information",
          "Host Government: Military",
          "NSA",
          "No Information",
          "Other",
          "Other",
          "Other",
          "Employee",
          "No Information",
          "Other",
          "NSA",
          "Host Government: Military",
          "Host Government: Military",
          "Criminal",
          "Host Government: Military",
          "Other",
          "Other",
          "Other",
          "Foreign Forces - Military",
          "Other",
          "Foreign Forces - Military",
          "Host Government: Military",
          "Foreign Forces - Military",
          "Host Government: Military",
          "Host Government: Military",
          "Foreign Forces - Military",
          "Host Government: Military",
          "NSA",
          "Host Government: Military",
          "NSA",
          "Host Government: Military",
          "Host Government: Military",
          "Host Government: Military",
          "NSA",
          "No Information",
          "Foreign Forces - Military",
          "NSA",
          "NSA",
          "NSA",
          "Foreign Forces - Military",
          "Host Government: Military",
          "Other",
          "Multiple",
          "Other",
          "Other",
          "Foreign Forces - Military",
          "Host Government: Military",
          "Other",
          "Other",
          "Host Government: Military",
          "Host Government: Military",
          "NSA",
          "Host Government: Military",
          "NSA",
          "Foreign Forces - Military",
          "Host Government: Military",
          "Host Government: Military",
          "Host Government: Military",
          "Host Government: Military",
          "Host Government: Military",
          "NSA",
          "Other",
          "Other",
          "Foreign Forces - Military",
          "Host Government: Military",
          "Host Government: Military",
          "Other",
          "Vigilante",
          "Host Government: Military",
          "Multiple",
          "NSA",
          "Other",
          "Other",
          "Other",
          "Foreign Forces - Military",
          "NSA",
          "Host Government: Military",
          "Host Government: Military",
          "Foreign Forces - Military",
          "Other",
          "Vigilante",
          "Other",
          "Other",
          "Vigilante",
          "Criminal",
          "Host Government: Military",
          "Other",
          "Foreign Forces - Military",
          "Host Government: Military",
          "Other",
          "Other",
          "Foreign Forces - Military",
          "NSA",
          "Foreign Forces - Military",
          "Foreign Forces - Military",
          "NSA",
          "Other",
          "Host Government: Military",
          "Police",
          "Other",
          "Other",
          "NSA",
          "No Information",
          "Host Government: Military",
          "Other",
          "NSA",
          "Other",
          "Police",
          "Other",
          "No Information",
          "Multiple",
          "Vigilante",
          "Host Government: Military",
          "Foreign Forces - Military",
          "NSA",
          "Host Government: Military",
          "Host Government: Military",
          "Foreign Forces - Military",
          "Employee",
          "Other",
          "Other",
          "Other",
          "Other",
          "Other",
          "Other",
          "Other",
          "No Information",
          "No Information",
          "Host Government: Military",
          "Other",
          "Other",
          "Other",
          "Host Government: Military",
          "Multiple",
          "No Information",
          "Multiple",
          "Other",
          "Host Government: Military",
          "Host Government: Military",
          "NSA",
          "Police",
          "Host Government: Military",
          "Foreign Forces - Military",
          "Foreign Forces - Military",
          "Other",
          "Host Government: Military",
          "Foreign Forces - Military",
          "Other",
          "Other",
          "No Information",
          "Host Government: Military",
          "Other",
          "No Information",
          "Other",
          "Host Government: Military",
          "Host Government: Military",
          "Host Government: Military",
          "Host Government: Military",
          "Host Government: Military",
          "No Information",
          "NSA",
          "NSA",
          "Foreign Forces - Military",
          "Foreign Forces - Military",
          "Foreign Forces - Military",
          "Foreign Forces - Military",
          "NSA",
          "NSA",
          "Foreign Forces - Military",
          "NSA",
          "No Information",
          "Civilian",
          "NSA",
          "Civilian",
          "No Information",
          "No Information",
          "No Information",
          "No Information",
          "Foreign Forces - Military",
          "Foreign Forces - Military",
          "NSA",
          "Foreign Forces - Military",
          "NSA",
          "Host Government: Military",
          "Foreign Forces - Military",
          "Foreign Forces - Military",
          "Foreign Forces - Military",
          "Foreign Forces - Military",
          "Foreign Forces - Military",
          "Foreign Forces - Military",
          "Foreign Forces - Military",
          "Foreign Forces - Military",
          "Foreign Forces - Military",
          "Foreign Forces - Military",
          "Other",
          "Other",
          "Foreign Forces - Military",
          "Foreign Forces - Military",
          "NSA",
          "Foreign Forces - Military",
          "Foreign Forces - Military",
          "Foreign Forces - Military",
          "Host Government: Military",
          "Host Government: Military",
          "Foreign Forces - Military",
          "NSA",
          "No Information",
          "Foreign Forces - Military",
          "Foreign Forces - Military",
          "Foreign Forces - Military",
          "Other",
          "Other",
          "Foreign Forces - Military",
          "Foreign Forces - Military",
          "Foreign Forces - Military",
          "Foreign Forces - Military",
          "Foreign Forces - Military",
          "Foreign Forces - Military",
          "Foreign Forces - Military",
          "Other",
          "Foreign Forces - Military",
          "Foreign Forces - Military",
          "Foreign Forces - Military",
          "NSA",
          "Other",
          "NSA",
          "NSA",
          "Foreign Forces - Military",
          "Other",
          "NSA",
          "NSA",
          "Foreign Forces - Military",
          "Other",
          "Foreign Forces - Military",
          "Foreign Forces - Military",
          "Foreign Forces - Military",
          "Foreign Forces - Military",
          "NSA",
          "Foreign Forces - Military",
          "Foreign Forces - Military",
          "Other",
          "Foreign Forces - Military",
          "Foreign Forces - Military",
          "Foreign Forces - Military",
          "NSA",
          "Other",
          "Foreign Forces - Military",
          "Foreign Forces - Military",
          "Other",
          "Foreign Forces - Military",
          "NSA",
          "NSA",
          "Host Government: Military",
          "Multiple",
          "Other",
          "Host Government: Military",
          "Foreign Forces - Military",
          "NSA",
          "NSA",
          "Other",
          "Foreign Forces - Military",
          "Foreign Forces - Military",
          "NSA",
          "Host Government: Military",
          "No Information",
          "Criminal",
          "Host Government: Military",
          "Other",
          "Other",
          "Criminal",
          "NSA",
          "NSA",
          "NSA",
          "Police",
          "NSA",
          "Foreign Forces - Military",
          "Other",
          "Other",
          "Foreign Forces - Military",
          "Other",
          "Other",
          "Other",
          "No Information",
          "Other",
          "Foreign Forces - Military",
          "Other",
          "NSA",
          "Host Government: Military",
          "Vigilante",
          "NSA",
          "Host Government: Military",
          "Host Government: Military",
          "Other",
          "Host Government: Military",
          "Other",
          "No Information",
          "Foreign Forces - Military",
          "Host Government: Military",
          "Host Government: Military",
          "Host Government: Military",
          "Host Government: Military",
          "Vigilante",
          "Host Government: Military",
          "Multiple",
          "Host Government: Military",
          "Host Government: Military",
          "Multiple",
          "Host Government: Military",
          "No Information",
          "Other",
          "Other",
          "Foreign Forces - Military",
          "NSA",
          "Other",
          "Other",
          "Host Government: Military",
          "Other",
          "Host Government: Military",
          "Host Government: Military",
          "Host Government: Military",
          "Host Government: Military",
          "Other",
          "Host Government: Military",
          "Foreign Forces - Military",
          "Other",
          "Host Government: Military",
          "Host Government: Military",
          "Multiple",
          "Other",
          "Host Government: Military",
          "NSA",
          "Host Government: Military",
          "Host Government: Military",
          "NSA",
          "NSA",
          "No Information",
          "Other",
          "NSA",
          "Other",
          "Multiple",
          "Other",
          "Multiple",
          "Other",
          "Other",
          "Host Government: Military",
          "No Information",
          "Foreign Forces - Military",
          "Foreign Forces - Military",
          "Other",
          "Host Government: Military",
          "Criminal",
          "Other",
          "Host Government: Military",
          "Criminal",
          "Other",
          "Criminal",
          "Other",
          "Foreign Forces - Military",
          "Other",
          "Foreign Forces - Military",
          "Host Government: Military",
          "Other",
          "Civilian",
          "Host Government: Military",
          "Host Government: Military",
          "NSA",
          "Foreign Forces - Military",
          "Host Government: Military",
          "Multiple",
          "Multiple",
          "Host Government: Military",
          "Multiple",
          "Other",
          "NSA",
          "Foreign Forces - Military",
          "Other",
          "Other",
          "Host Government: Military",
          "Foreign Forces - Military",
          "Other",
          "Criminal",
          "Host Government: Military",
          "Other",
          "Foreign Forces - Military",
          "NSA",
          "Foreign Forces - Military",
          "Host Government: Military",
          "Foreign Forces - Military",
          "Host Government: Military",
          "Foreign Forces - Military",
          "Foreign Forces - Military",
          "Civilian",
          "Foreign Forces - Military",
          "NSA",
          "NSA",
          "Host Government: Military",
          "Foreign Forces - Military",
          "Foreign Forces - Military",
          "Host Government: Military",
          "NSA",
          "Other",
          "Host Government: Military",
          "Host Government: Military",
          "Host Government: Military",
          "Foreign Forces - Military",
          "Host Government: Military",
          "Police",
          "Other",
          "Host Government: Military",
          "Other",
          "Other",
          "Other",
          "NSA",
          "Other",
          "Vigilante",
          "No Information",
          "No Information",
          "NSA",
          "NSA",
          "Host Government: Military",
          "Other",
          "Other",
          "Host Government: Military",
          "Other",
          "NSA",
          "Host Government: Military",
          "Other",
          "Civilian",
          "No Information",
          "Host Government: Military",
          "Host Government: Military",
          "Foreign Forces - Military",
          "NSA",
          "Foreign Forces - Military",
          "Host Government: Military",
          "Police",
          "Other",
          "Foreign Forces - Military",
          "Criminal",
          "Host Government: Military",
          "Host Government: Military",
          "Other",
          "Host Government: Military",
          "Other",
          "Host Government: Military",
          "Other",
          "Host Government: Military",
          "Other",
          "Other",
          "No Information",
          "NSA",
          "Other",
          "Other",
          "Other",
          "Other",
          "Other",
          "Multiple",
          "Criminal",
          "Host Government: Military",
          "Other",
          "Police",
          "Other",
          "Foreign Forces - Military",
          "Other",
          "Host Government: Military",
          "Other",
          "Vigilante",
          "Police",
          "Other",
          "Host Government: Military",
          "Host Government: Military",
          "Host Government: Military",
          "Host Government: Military",
          "NSA",
          "Protestors",
          "Host Government: Military",
          "Host Government: Military",
          "Host Government: Military",
          "Host Government: Military",
          "Other",
          "Foreign Forces - Military",
          "Foreign Forces - Military",
          "Foreign Forces - Military",
          "Multiple",
          "Foreign Forces - Military",
          "Other",
          "No Information",
          "Host Government: Military",
          "Host Government: Military",
          "Other",
          "Other",
          "Other",
          "Other",
          "Host Government: Military",
          "Host Government: Military",
          "No Information",
          "NSA",
          "Host Government: Military",
          "No Information",
          "Other",
          "Multiple",
          "No Information",
          "No Information",
          "No Information",
          "Foreign Forces - Military",
          "Vigilante",
          "Foreign Forces - Military",
          "No Information",
          "No Information",
          "Host Government: Military",
          "Other",
          "Other",
          "Other",
          "Host Government: Military",
          "Host Government: Military",
          "NSA",
          "Host Government: Military",
          "Host Government: Military",
          "No Information",
          "Host Government: Military",
          "Host Government: Military",
          "Vigilante",
          "Other",
          "Host Government: Military",
          "Other",
          "No Information",
          "Other",
          "Foreign Forces - Military",
          "Host Government: Military",
          "Other",
          "No Information",
          "Host Government: Military",
          "Foreign Forces - Military",
          "Other",
          "Host Government: Military",
          "NSA",
          "Foreign Forces - Military",
          "Foreign Forces - Military",
          "Foreign Forces - Military",
          "Foreign Forces - Military",
          "No Information",
          "Foreign Forces - Military",
          "Other",
          "Foreign Forces - Military",
          "Foreign Forces - Military",
          "Multiple",
          "No Information",
          "Other",
          "NSA",
          "NSA",
          "No Information",
          "NSA",
          "Civilian",
          "Other",
          "No Information",
          "Foreign Forces - Military",
          "Other",
          "Host Government: Military",
          "Multiple",
          "Foreign Forces - Military",
          "Police",
          "Vigilante",
          "Other",
          "Host Government: Military",
          "Police",
          "Multiple",
          "Other",
          "Foreign Forces - Military",
          "Host Government: Military",
          "Host Government: Military",
          "Host Government: Military",
          "Host Government: Military",
          "No Information",
          "Other",
          "Host Government: Military",
          "Foreign Forces - Military",
          "Other",
          "NSA",
          "Host Government: Military",
          "Police",
          "NSA",
          "Other",
          "Host Government: Military",
          "Other",
          "Civilian",
          "NSA",
          "Host Government: Military",
          "Other",
          "Host Government: Military",
          "Host Government: Military",
          "Multiple",
          "Other",
          "Multiple",
          "Other",
          "NSA",
          "Host Government: Military",
          "Host Government: Military",
          "Host Government: Military",
          "NSA",
          "Other",
          "Other",
          "Host Government: Military",
          "Other",
          "NSA",
          "Police",
          "NSA",
          "Police",
          "Other",
          "Other",
          "Other",
          "Other",
          "Host Government: Military",
          "Other",
          "No Information",
          "Host Government: Military",
          "Host Government: Military",
          "Host Government: Military",
          "NSA",
          "NSA",
          "Foreign Forces - Military",
          "Foreign Forces - Military",
          "Other",
          "Other",
          "Other",
          "Host Government: Military",
          "Host Government: Military",
          "Host Government: Military",
          "Host Government: Military",
          "Foreign Forces - Military",
          "NSA",
          "Foreign Forces - Military",
          "Other",
          "No Information",
          "No Information",
          "Host Government: Military",
          "Host Government: Military",
          "Host Government: Military",
          "No Information",
          "Host Government: Military",
          "Host Government: Military",
          "Other",
          "NSA",
          "NSA",
          "Host Government: Military",
          "Police",
          "Host Government: Military",
          "Host Government: Military",
          "Host Government: Military",
          "Host Government: Military",
          "Host Government: Military",
          "Host Government: Military",
          "NSA",
          "Host Government: Military",
          "Host Government: Military",
          "Host Government: Military",
          "Host Government: Military",
          "Host Government: Military",
          "Host Government: Military",
          "Host Government: Military",
          "Host Government: Military",
          "Host Government: Military",
          "Vigilante",
          "Host Government: Military",
          "Host Government: Military",
          "Host Government: Military",
          "Foreign Forces - Military",
          "NSA",
          "Multiple",
          "Other",
          "Other",
          "No Information",
          "NSA",
          "Civilian",
          "Host Government: Military",
          "No Information",
          "NSA",
          "Other",
          "Host Government: Military",
          "Host Government: Military",
          "NSA",
          "NSA",
          "Foreign Forces - Military",
          "Host Government: Military",
          "Other",
          "Other",
          "NSA",
          "NSA",
          "Host Government: Military",
          "No Information",
          "Vigilante",
          "No Information",
          "Other",
          "Host Government: Military",
          "Host Government: Military",
          "Host Government: Military",
          "Host Government: Military",
          "Other",
          "No Information",
          "Host Government: Military",
          "Other",
          "Police",
          "No Information",
          "Other",
          "No Information",
          "Foreign Forces - Military",
          "Host Government: Military",
          "NSA",
          "NSA",
          "Police",
          "Other",
          "Other",
          "No Information",
          "Vigilante",
          "Host Government: Military",
          "Foreign Forces - Military",
          "Vigilante",
          "Host Government: Military",
          "NSA",
          "Host Government: Military",
          "Host Government: Military",
          "Vigilante",
          "Host Government: Military",
          "Host Government: Military",
          "Host Government: Military",
          "NSA",
          "Host Government: Military",
          "Host Government: Military",
          "Host Government: Military",
          "Host Government: Military",
          "NSA",
          "Police",
          "NSA",
          "Host Government: Military",
          "Host Government: Military",
          "Multiple",
          "Other",
          "Host Government: Military",
          "Foreign Forces - Military",
          "Host Government: Military",
          "Host Government: Military",
          "Host Government: Military",
          "Host Government: Military",
          "Host Government: Military",
          "Host Government: Military",
          "NSA",
          "Host Government: Military",
          "NSA",
          "NSA",
          "NSA",
          "Multiple",
          "NSA",
          "Host Government: Military",
          "Host Government: Military",
          "NSA",
          "Other",
          "Host Government: Military",
          "Multiple",
          "Other",
          "Host Government: Military",
          "Host Government: Military",
          "Other",
          "Other",
          "Host Government: Military",
          "Host Government: Military",
          "Host Government: Military",
          "Host Government: Military",
          "No Information",
          "Host Government: Military",
          "Host Government: Military",
          "Host Government: Military",
          "NSA",
          "No Information",
          "No Information",
          "NSA",
          "No Information",
          "Other",
          "Other",
          "No Information",
          "Other",
          "Other",
          "NSA",
          "No Information",
          "NSA",
          "Police",
          "NSA",
          "Vigilante",
          "Vigilante",
          "NSA",
          "Criminal",
          "NSA",
          "Host Government: Military",
          "NSA",
          "Host Government: Military",
          "Host Government: Military",
          "NSA",
          "NSA",
          "Other",
          "NSA",
          "Host Government: Military",
          "Vigilante",
          "Host Government: Military",
          "No Information",
          "Other",
          "Foreign Forces - Military",
          "Foreign Forces - Military",
          "Civilian",
          "Police",
          "NSA",
          "NSA",
          "NSA",
          "Other",
          "Police",
          "Other",
          "Host Government: Military",
          "NSA",
          "Criminal",
          "Police",
          "NSA",
          "NSA",
          "Other",
          "Multiple",
          "Host Government: Military",
          "NSA",
          "Host Government: Military",
          "Foreign Forces - Military",
          "Other",
          "Host Government: Military",
          "Other",
          "Other",
          "Host Government: Military",
          "Other",
          "No Information",
          "Other",
          "No Information",
          "Host Government: Military",
          "NSA",
          "NSA",
          "Other",
          "NSA",
          "Host Government: Military",
          "Other",
          "Other",
          "NSA",
          "Other",
          "Criminal",
          "No Information",
          "NSA",
          "NSA",
          "Host Government: Military",
          "Civilian",
          "No Information",
          "NSA",
          "NSA",
          "Multiple",
          "Police",
          "No Information",
          "Multiple",
          "Other",
          "No Information",
          "No Information",
          "Police",
          "Other",
          "NSA",
          "Multiple",
          "Criminal",
          "Other",
          "Other",
          "Foreign Forces - Military",
          "Foreign Forces - Military",
          "Host Government: Military",
          "Other",
          "Other",
          "NSA",
          "Host Government: Military",
          "Foreign Forces - Military",
          "Multiple",
          "No Information",
          "Other",
          "NSA",
          "Other",
          "NSA",
          "NSA",
          "Multiple",
          "Other",
          "Other",
          "Multiple",
          "No Information",
          "Multiple",
          "Other",
          "Multiple",
          "NSA",
          "Police",
          "Other",
          "No Information",
          "Other",
          "No Information",
          "No Information",
          "Other",
          "Multiple",
          "NSA",
          "Other",
          "Other",
          "NSA",
          "Multiple",
          "Multiple",
          "Multiple",
          "No Information",
          "Police",
          "Foreign Forces - Military",
          "NSA",
          "Other",
          "Foreign Forces - Military",
          "NSA",
          "Multiple",
          "No Information",
          "Other",
          "Other",
          "No Information",
          "NSA",
          "Other",
          "NSA",
          "NSA",
          "No Information",
          "NSA",
          "Other",
          "Police",
          "NSA",
          "Police",
          "NSA",
          "No Information",
          "No Information",
          "Other",
          "NSA",
          "NSA",
          "NSA",
          "Other",
          "NSA",
          "Police",
          "Other",
          "NSA",
          "Other",
          "No Information",
          "NSA",
          "Other",
          "No Information",
          "Host Government: Military",
          "No Information",
          "Other",
          "Other",
          "Other",
          "Other",
          "No Information",
          "No Information",
          "NSA",
          "Multiple",
          "No Information",
          "Multiple",
          "Host Government: Military",
          "Criminal",
          "No Information",
          "Other",
          "NSA",
          "NSA",
          "NSA",
          "Other",
          "NSA",
          "NSA",
          "Civilian",
          "Multiple",
          "Foreign Forces - Military",
          "Police",
          "Foreign Forces - Military",
          "Civilian",
          "NSA",
          "NSA",
          "No Information",
          "NSA",
          "Other",
          "NSA",
          "Criminal",
          "NSA",
          "No Information",
          "NSA",
          "Other",
          "Other",
          "Police",
          "Multiple",
          "Multiple",
          "Foreign Forces - Military",
          "Other",
          "NSA",
          "NSA",
          "NSA",
          "Other",
          "Foreign Forces - Military",
          "Other",
          "Foreign Forces - Military",
          "Foreign Forces - Military",
          "Police",
          "Criminal",
          "Other",
          "Other",
          "Other",
          "Other",
          "Civilian",
          "Multiple",
          "Other",
          "Other",
          "Police",
          "NSA",
          "Other",
          "Police",
          "No Information",
          "Vigilante",
          "Other",
          "Other",
          "NSA",
          "Police",
          "Other",
          "Foreign Forces - Military",
          "NSA",
          "Other",
          "No Information",
          "NSA",
          "Criminal",
          "No Information",
          "Multiple",
          "No Information",
          "Multiple",
          "No Information",
          "Other",
          "No Information",
          "No Information",
          "Vigilante",
          "Multiple",
          "NSA",
          "Vigilante",
          "NSA",
          "Multiple",
          "Foreign Forces - Military",
          "Multiple",
          "NSA",
          "Other",
          "Other",
          "Other",
          "Host Government: Military",
          "Police",
          "Foreign Forces - Military",
          "No Information",
          "Foreign Forces - Military",
          "NSA",
          "Other",
          "Criminal",
          "Police",
          "Employee",
          "Protestors",
          "Other",
          "Other",
          "Police",
          "Other",
          "NSA",
          "Other",
          "Other",
          "Vigilante",
          "Foreign Forces - Military",
          "Other",
          "NSA",
          "Other",
          "Other",
          "Police",
          "NSA",
          "Other",
          "Multiple",
          "Multiple",
          "Other",
          "NSA",
          "Other",
          "Police",
          "Other",
          "NSA",
          "Other",
          "Other",
          "Other",
          "Other",
          "Other",
          "Other",
          "No Information",
          "Other",
          "NSA",
          "Other",
          "Other",
          "Other",
          "Foreign Forces - Military",
          "NSA",
          "NSA",
          "NSA",
          "NSA",
          "NSA",
          "NSA",
          "No Information",
          "NSA",
          "NSA",
          "Multiple",
          "Vigilante",
          "Police",
          "NSA",
          "NSA",
          "Police",
          "Police",
          "Vigilante",
          "Other",
          "No Information",
          "Police",
          "Foreign Forces - Military",
          "No Information",
          "NSA",
          "Other",
          "NSA",
          "Other",
          "NSA",
          "NSA",
          "Foreign Forces - Military",
          "Foreign Forces - Military",
          "NSA",
          "NSA",
          "NSA",
          "NSA",
          "Other",
          "NSA",
          "Foreign Forces - Military",
          "NSA",
          "Other",
          "Other",
          "Other",
          "No Information",
          "Other",
          "No Information",
          "Other",
          "NSA",
          "Police",
          "No Information",
          "No Information",
          "Other",
          "Foreign Forces - Military",
          "NSA",
          "NSA",
          "Other",
          "Police",
          "No Information",
          "NSA",
          "Foreign Forces - Military",
          "NSA",
          "NSA",
          "Host Government: Military",
          "No Information",
          "Other",
          "Vigilante",
          "Host Government: Military",
          "No Information",
          "No Information",
          "No Information",
          "Criminal",
          "No Information",
          "Other",
          "Other",
          "NSA",
          "Other",
          "Other",
          "No Information",
          "Other",
          "Other",
          "No Information",
          "No Information",
          "Other",
          "NSA",
          "Other",
          "NSA",
          "Other",
          "Other",
          "Other",
          "Other",
          "Other",
          "Foreign Forces - Military",
          "No Information",
          "No Information",
          "Other",
          "NSA",
          "No Information",
          "Police",
          "Other",
          "Other",
          "Foreign Forces - Military",
          "Foreign Forces - Military",
          "No Information",
          "No Information",
          "No Information",
          "Police",
          "Foreign Forces - Military",
          "Other",
          "No Information",
          "No Information",
          "Foreign Forces - Military",
          "Multiple",
          "Police",
          "No Information",
          "No Information",
          "Police",
          "Multiple",
          "NSA",
          "Other",
          "Police",
          "Vigilante",
          "Vigilante",
          "Multiple",
          "Multiple",
          "NSA",
          "Other",
          "Other",
          "Foreign Forces - Military",
          "Foreign Forces - Military",
          "Other",
          "No Information",
          "No Information",
          "No Information",
          "NSA",
          "NSA",
          "Multiple",
          "Police",
          "Police",
          "Police",
          "Police",
          "NSA",
          "NSA",
          "NSA",
          "NSA",
          "No Information",
          "Other",
          "Host Government: Military",
          "Foreign Forces - Military",
          "Foreign Forces - Military",
          "Foreign Forces - Military",
          "Vigilante",
          "Other",
          "Foreign Forces - Military",
          "NSA",
          "Police",
          "Foreign Forces - Military",
          "Foreign Forces - Military",
          "Foreign Forces - Military",
          "Foreign Forces - Military",
          "Foreign Forces - Military",
          "Foreign Forces - Military",
          "Foreign Forces - Military",
          "Foreign Forces - Military",
          "Foreign Forces - Military",
          "Foreign Forces - Military",
          "Foreign Forces - Military",
          "NSA",
          "Police",
          "NSA",
          "NSA",
          "NSA",
          "NSA",
          "NSA",
          "No Information",
          "Foreign Forces - Military",
          "No Information",
          "NSA",
          "No Information",
          "Police",
          "Other",
          "Other",
          "No Information",
          "NSA",
          "Other",
          "Foreign Forces - Military",
          "NSA",
          "NSA",
          "Foreign Forces - Military",
          "Other",
          "Police",
          "NSA",
          "Foreign Forces - Military",
          "Foreign Forces - Military",
          "No Information",
          "NSA",
          "No Information",
          "No Information",
          "NSA",
          "Other",
          "No Information",
          "Other",
          "Foreign Forces - Military",
          "NSA",
          "Other",
          "Police",
          "No Information",
          "NSA",
          "NSA",
          "Other",
          "Foreign Forces - Military",
          "Multiple",
          "Foreign Forces - Military",
          "Other",
          "Multiple",
          "Police",
          "No Information",
          "NSA",
          "Foreign Forces - Military",
          "Police",
          "Foreign Forces - Military",
          "Foreign Forces - Military",
          "No Information",
          "Other",
          "Foreign Forces - Military",
          "NSA",
          "NSA",
          "Foreign Forces - Military",
          "Police",
          "Other",
          "Other",
          "Other",
          "Foreign Forces - Military",
          "Foreign Forces - Military",
          "Police",
          "NSA",
          "Foreign Forces - Military",
          "Foreign Forces - Military",
          "No Information",
          "Police",
          "Foreign Forces - Military",
          "Other",
          "NSA",
          "Foreign Forces - Military",
          "Foreign Forces - Military",
          "NSA",
          "Foreign Forces - Military",
          "No Information",
          "Multiple",
          "NSA",
          "Police",
          "Multiple",
          "Multiple",
          "Multiple",
          "Multiple",
          "Foreign Forces - Military",
          "No Information",
          "Foreign Forces - Military",
          "Foreign Forces - Military",
          "Foreign Forces - Military",
          "Political Party",
          "Other",
          "NSA",
          "Criminal",
          "NSA",
          "NSA",
          "Other",
          "NSA",
          "NSA",
          "NSA",
          "NSA",
          "Foreign Forces - Military",
          "Police",
          "Other",
          "Other",
          "Foreign Forces - Military",
          "No Information",
          "NSA",
          "NSA",
          "No Information",
          "NSA",
          "Police",
          "Other",
          "NSA",
          "No Information",
          "NSA",
          "Host Government: Military",
          "No Information",
          "NSA",
          "Other",
          "Other",
          "Foreign Forces - Military",
          "Police",
          "NSA",
          "Foreign Forces - Military",
          "Foreign Forces - Military",
          "No Information",
          "Foreign Forces - Military",
          "Other",
          "No Information",
          "Multiple",
          "Foreign Forces - Military",
          "Criminal",
          "Other",
          "Foreign Forces - Military",
          "Criminal",
          "No Information",
          "Foreign Forces - Military",
          "No Information",
          "Other",
          "No Information",
          "No Information",
          "Other",
          "NSA",
          "Foreign Forces - Military",
          "Other",
          "Police",
          "Other",
          "Criminal",
          "NSA",
          "NSA",
          "Foreign Forces - Military",
          "Other",
          "Other",
          "Criminal",
          "Host Government: Military",
          "Multiple",
          "Foreign Forces - Military",
          "Foreign Forces - Military",
          "Multiple",
          "Foreign Forces - Military",
          "NSA",
          "Multiple",
          "Foreign Forces - Military",
          "Foreign Forces - Military",
          "Foreign Forces - Military",
          "Police",
          "NSA",
          "Other",
          "Other",
          "Other",
          "Other",
          "Police",
          "Other",
          "Police",
          "NSA",
          "Multiple",
          "Multiple",
          "Other",
          "Foreign Forces - Military",
          "Foreign Forces - Military",
          "NSA",
          "NSA",
          "Foreign Forces - Military",
          "Foreign Forces - Military",
          "Foreign Forces - Military",
          "NSA",
          "No Information",
          "NSA",
          "NSA",
          "NSA",
          "Foreign Forces - Military",
          "NSA",
          "Foreign Forces - Military",
          "Foreign Forces - Military",
          "Foreign Forces - Military",
          "NSA",
          "Foreign Forces - Military",
          "Foreign Forces - Military",
          "Police",
          "Foreign Forces - Military",
          "Other",
          "Foreign Forces - Military",
          "Foreign Forces - Military",
          "Foreign Forces - Military",
          "Foreign Forces - Military",
          "Criminal",
          "Police",
          "Foreign Forces - Military",
          "Other",
          "Foreign Forces - Military",
          "Other",
          "Other",
          "No Information",
          "No Information",
          "Foreign Forces - Military",
          "No Information",
          "Other",
          "Foreign Forces - Military",
          "NSA",
          "Foreign Forces - Military",
          "Foreign Forces - Military",
          "NSA",
          "Foreign Forces - Military",
          "No Information",
          "NSA",
          "No Information",
          "NSA",
          "NSA",
          "No Information",
          "Foreign Forces - Military",
          "NSA",
          "Other",
          "NSA",
          "Criminal",
          "NSA",
          "Criminal",
          "Criminal",
          "Foreign Forces - Military",
          "Foreign Forces - Military",
          "Host Government: Military",
          "Other",
          "Foreign Forces - Military",
          "Foreign Forces - Military",
          "NSA",
          "Foreign Forces - Military",
          "Foreign Forces - Military",
          "NSA",
          "NSA",
          "NSA",
          "NSA",
          "Police",
          "Other",
          "Other",
          "Other",
          "NSA",
          "No Information",
          "Criminal",
          "NSA",
          "No Information",
          "NSA",
          "NSA",
          "NSA",
          "Foreign Forces - Military",
          "NSA",
          "Vigilante",
          "NSA",
          "NSA",
          "No Information",
          "Police",
          "Foreign Forces - Military",
          "Criminal",
          "NSA",
          "Police",
          "NSA",
          "NSA",
          "NSA",
          "No Information",
          "Police",
          "Foreign Forces - Military",
          "Foreign Forces - Military",
          "No Information",
          "NSA",
          "NSA",
          "NSA",
          "NSA",
          "NSA",
          "Foreign Forces - Military",
          "No Information",
          "NSA",
          "Foreign Forces - Military",
          "NSA",
          "Other",
          "Foreign Forces - Military",
          "NSA",
          "Police",
          "NSA",
          "Foreign Forces - Military",
          "Foreign Forces - Military",
          "Foreign Forces - Military",
          "Foreign Forces - Military",
          "Donor Government",
          "Foreign Forces - Military",
          "No Information",
          "Criminal",
          "Foreign Forces - Military",
          "No Information",
          "Foreign Forces - Military",
          "NSA",
          "NSA",
          "NSA",
          "Police",
          "Other",
          "Foreign Forces - Military",
          "No Information",
          "Foreign Forces - Military",
          "NSA",
          "Other",
          "Host Government: Military",
          "Police",
          "Police",
          "NSA",
          "Police",
          "Police",
          "NSA",
          "NSA",
          "Host Government: Military",
          "NSA",
          "No Information",
          "Foreign Forces - Military",
          "NSA",
          "Criminal",
          "No Information",
          "Foreign Forces - Military",
          "NSA",
          "Foreign Forces - Military",
          "Foreign Forces - Military",
          "Other",
          "Host Government: Military",
          "NSA",
          "NSA",
          "Foreign Forces - Military",
          "Host Government: Military",
          "No Information",
          "NSA",
          "NSA",
          "No Information",
          "No Information",
          "Police",
          "Police",
          "Police",
          "NSA",
          "NSA",
          "NSA",
          "Host Government: Military",
          "Police",
          "Other",
          "No Information",
          "NSA",
          "Other",
          "NSA",
          "NSA",
          "Multiple",
          "NSA",
          "NSA",
          "NSA",
          "Foreign Forces - Military",
          "NSA",
          "Police",
          "Foreign Forces - Military",
          "Foreign Forces - Military",
          "Foreign Forces - Military",
          "Other",
          "No Information",
          "Foreign Forces - Military",
          "Other",
          "Police",
          "Foreign Forces - Military",
          "Foreign Forces - Military",
          "Police",
          "Police",
          "NSA",
          "No Information",
          "Police",
          "No Information",
          "Other",
          "Other",
          "NSA",
          "Foreign Forces - Military",
          "Police",
          "Other",
          "Other",
          "NSA",
          "NSA",
          "Other",
          "NSA",
          "NSA",
          "Police",
          "NSA",
          "NSA",
          "Host Government: Military",
          "NSA",
          "Foreign Forces - Military",
          "Police",
          "Other",
          "NSA",
          "Multiple",
          "NSA",
          "NSA",
          "Civilian",
          "Civilian",
          "Police",
          "Foreign Forces - Military",
          "NSA",
          "Police",
          "NSA",
          "NSA",
          "NSA",
          "Other",
          "Foreign Forces - Military",
          "Foreign Forces - Military",
          "NSA",
          "NSA",
          "NSA",
          "Police",
          "NSA",
          "Other",
          "NSA",
          "Multiple",
          "NSA",
          "No Information",
          "NSA",
          "NSA",
          "NSA",
          "NSA",
          "NSA",
          "NSA",
          "NSA",
          "NSA",
          "Foreign Forces - Military",
          "Foreign Forces - Military",
          "Foreign Forces - Military",
          "Criminal",
          "Criminal",
          "Police",
          "Police",
          "Foreign Forces - Military",
          "NSA",
          "NSA",
          "NSA",
          "NSA",
          "Other",
          "Police",
          "Police",
          "NSA",
          "Civilian",
          "NSA",
          "NSA",
          "Foreign Forces - Military",
          "Host Government: Military",
          "Host Government: Military",
          "Police",
          "NSA",
          "NSA",
          "Police",
          "NSA",
          "NSA",
          "NSA",
          "NSA",
          "Foreign Forces - Military",
          "NSA",
          "Foreign Forces - Military",
          "Foreign Forces - Military",
          "NSA",
          "NSA",
          "Police",
          "Police",
          "Police",
          "Foreign Forces - Military",
          "NSA",
          "Other",
          "No Information",
          "NSA",
          "Other",
          "Civilian",
          "Other",
          "NSA",
          "Other",
          "NSA",
          "NSA",
          "Other",
          "NSA",
          "Police",
          "No Information",
          "Foreign Forces - Military",
          "Other",
          "Other",
          "Other",
          "Police",
          "Police",
          "Police",
          "Other",
          "No Information",
          "Police",
          "No Information",
          "NSA",
          "Police",
          "NSA",
          "Foreign Forces - Military",
          "Foreign Forces - Military",
          "Police",
          "Foreign Forces - Military",
          "No Information",
          "Foreign Forces - Military",
          "NSA",
          "Foreign Forces - Military",
          "NSA",
          "NSA",
          "NSA",
          "Foreign Forces - Military",
          "No Information",
          "Foreign Forces - Military",
          "No Information",
          "No Information",
          "Other",
          "Police",
          "Other",
          "No Information",
          "NSA",
          "Foreign Forces - Military",
          "No Information",
          "Other",
          "No Information",
          "Foreign Forces - Military",
          "NSA",
          "NSA",
          "Police",
          "Police",
          "NSA",
          "NSA",
          "Police",
          "Foreign Forces - Military",
          "Police",
          "Other",
          "Foreign Forces - Military",
          "Foreign Forces - Military",
          "Other",
          "No Information",
          "NSA",
          "Police",
          "Other",
          "NSA",
          "Foreign Forces - Military",
          "NSA",
          "Foreign Forces - Military",
          "Police",
          "Foreign Forces - Military",
          "Police",
          "Police",
          "Foreign Forces - Military",
          "Civilian",
          "Foreign Forces - Military",
          "Police",
          "NSA",
          "NSA",
          "No Information",
          "Foreign Forces - Military",
          "Foreign Forces - Military",
          "NSA",
          "No Information",
          "NSA",
          "Foreign Forces - Military",
          "NSA",
          "Police",
          "NSA",
          "NSA",
          "NSA",
          "Foreign Forces - Military",
          "NSA",
          "Civilian",
          "NSA",
          "No Information",
          "Foreign Forces - Military",
          "Police",
          "Foreign Forces - Military",
          "Foreign Forces - Military",
          "Foreign Forces - Military",
          "Foreign Forces - Military",
          "NSA",
          "NSA",
          "Foreign Forces - Military",
          "Employee",
          "Foreign Forces - Military",
          "Police",
          "Foreign Forces - Military",
          "Foreign Forces - Military",
          "Foreign Forces - Military",
          "Foreign Forces - Military",
          "No Information",
          "Foreign Forces - Military",
          "No Information",
          "Police",
          "Host Government: Military",
          "Host Government: Military",
          "NSA",
          "Other",
          "Host Government: Military",
          "Other",
          "Other",
          "Other",
          "No Information",
          "Other",
          "NSA",
          "Civilian",
          "NSA",
          "NSA",
          "No Information",
          "No Information",
          "Host Government: Military",
          "NSA",
          "NSA",
          "Foreign Forces - Military",
          "No Information",
          "NSA",
          "Civilian",
          "NSA",
          "Other",
          "NSA",
          "Foreign Forces - Military",
          "No Information",
          "NSA",
          "Other",
          "NSA",
          "Police",
          "Foreign Forces - Military",
          "Foreign Forces - Military",
          "NSA",
          "Other",
          "Foreign Forces - Military",
          "No Information",
          "Police",
          "Police",
          "Police",
          "Other",
          "No Information",
          "NSA",
          "Host Government: Military",
          "Other",
          "Other",
          "Other",
          "Other",
          "Other",
          "Foreign Forces - Military",
          "No Information",
          "Police",
          "NSA",
          "NSA",
          "Foreign Forces - Military",
          "NSA",
          "No Information",
          "NSA",
          "Police",
          "Police",
          "NSA",
          "NSA",
          "No Information",
          "Police",
          "Other",
          "Foreign Forces - Military",
          "NSA",
          "NSA",
          "Foreign Forces - Military",
          "Foreign Forces - Military",
          "Police",
          "Other",
          "Foreign Forces - Military",
          "Foreign Forces - Military",
          "No Information",
          "No Information",
          "Other",
          "Police",
          "Civilian",
          "Foreign Forces - Military",
          "NSA",
          "Foreign Forces - Military",
          "NSA",
          "Foreign Forces - Military",
          "NSA",
          "Foreign Forces - Military",
          "Foreign Forces - Military",
          "Foreign Forces - Military",
          "Foreign Forces - Military",
          "Other",
          "Foreign Forces - Military",
          "Foreign Forces - Military",
          "Police",
          "Police",
          "NSA",
          "Foreign Forces - Military",
          "Criminal",
          "No Information",
          "NSA",
          "NSA",
          "NSA",
          "Other",
          "NSA",
          "NSA",
          "No Information",
          "NSA",
          "Foreign Forces - Military",
          "Other",
          "Foreign Forces - Military",
          "No Information",
          "NSA",
          "NSA",
          "Other",
          "No Information",
          "No Information",
          "Other",
          "Foreign Forces - Military",
          "NSA",
          "Foreign Forces - Military",
          "No Information",
          "Foreign Forces - Military",
          "Foreign Forces - Military",
          "Foreign Forces - Military",
          "NSA",
          "Police",
          "Police",
          "Foreign Forces - Military",
          "Foreign Forces - Military",
          "NSA",
          "NSA",
          "NSA",
          "Other",
          "No Information",
          "Foreign Forces - Military",
          "No Information",
          "Police",
          "NSA",
          "Police",
          "NSA",
          "Police",
          "No Information",
          "No Information",
          "Other",
          "Other",
          "Other",
          "Other",
          "Foreign Forces - Military",
          "Foreign Forces - Military",
          "Civilian",
          "Foreign Forces - Military",
          "Foreign Forces - Military",
          "Other",
          "Other",
          "Foreign Forces - Military",
          "Foreign Forces - Military",
          "Police",
          "NSA",
          "Police",
          "Foreign Forces - Military",
          "Multiple",
          "Foreign Forces - Military",
          "No Information",
          "Multiple",
          "Other",
          "Foreign Forces - Military",
          "Foreign Forces - Military",
          "Police",
          "NSA",
          "Foreign Forces - Military",
          "Foreign Forces - Military",
          "NSA",
          "Other",
          "No Information",
          "NSA",
          "No Information",
          "NSA",
          "Foreign Forces - Military",
          "No Information",
          "Foreign Forces - Military",
          "NSA",
          "NSA",
          "No Information",
          "Foreign Forces - Military",
          "Other",
          "No Information",
          "Foreign Forces - Military",
          "No Information",
          "NSA",
          "Foreign Forces - Military",
          "No Information",
          "Host Government: Military",
          "Foreign Forces - Military",
          "Other",
          "Foreign Forces - Military",
          "Foreign Forces - Military",
          "No Information",
          "No Information",
          "No Information",
          "NSA",
          "No Information",
          "Other",
          "Foreign Forces - Military",
          "NSA",
          "NSA",
          "Host Government: Military",
          "Police",
          "NSA",
          "Multiple",
          "No Information",
          "No Information",
          "No Information",
          "NSA",
          "NSA",
          "NSA",
          "Other",
          "NSA",
          "NSA",
          "Civilian",
          "NSA",
          "Host Government: Military",
          "Host Government: Military",
          "No Information",
          "Police",
          "Host Government: Military",
          "No Information",
          "Foreign Forces - Military",
          "NSA",
          "NSA",
          "NSA",
          "NSA",
          "Other",
          "No Information",
          "Police",
          "Foreign Forces - Military",
          "Foreign Forces - Military",
          "Foreign Forces - Military",
          "Foreign Forces - Military",
          "Foreign Forces - Military",
          "Foreign Forces - Military",
          "Foreign Forces - Military",
          "Foreign Forces - Military",
          "Foreign Forces - Military",
          "Foreign Forces - Military",
          "Foreign Forces - Military",
          "Foreign Forces - Military",
          "Foreign Forces - Military",
          "Foreign Forces - Military",
          "Foreign Forces - Military",
          "Foreign Forces - Military",
          "Foreign Forces - Military",
          "Foreign Forces - Military",
          "Foreign Forces - Military",
          "Other",
          "Foreign Forces - Military",
          "Foreign Forces - Military",
          "Foreign Forces - Military",
          "Foreign Forces - Military",
          "Foreign Forces - Military",
          "Foreign Forces - Military",
          "Foreign Forces - Military",
          "No Information",
          "Foreign Forces - Military",
          "NSA",
          "Foreign Forces - Military",
          "Host Government: Military",
          "Foreign Forces - Military",
          "Foreign Forces - Military",
          "Foreign Forces - Military",
          "NSA",
          "Donor Government",
          "Other",
          "Foreign Forces - Military",
          "Other",
          "Other",
          "No Information",
          "No Information",
          "Police",
          "Foreign Forces - Military",
          "Other",
          "Foreign Forces - Military",
          "Other",
          "Host Government: Military",
          "Civilian",
          "Other",
          "No Information",
          "NSA",
          "Host Government: Military",
          "NSA",
          "Foreign Forces - Military",
          "NSA",
          "Foreign Forces - Military",
          "Multiple",
          "Multiple",
          "NSA",
          "NSA",
          "No Information",
          "Foreign Forces - Military",
          "NSA",
          "Foreign Forces - Military",
          "Other",
          "Other",
          "Other",
          "Police",
          "No Information",
          "Foreign Forces - Military",
          "Foreign Forces - Military",
          "Foreign Forces - Military",
          "Foreign Forces - Military",
          "Civilian",
          "Foreign Forces - Military",
          "Foreign Forces - Military",
          "Foreign Forces - Military",
          "Foreign Forces - Military",
          "Foreign Forces - Military",
          "Foreign Forces - Military",
          "Foreign Forces - Military",
          "Foreign Forces - Military",
          "Foreign Forces - Military",
          "Foreign Forces - Military",
          "NSA",
          "Foreign Forces - Military",
          "Foreign Forces - Military",
          "Foreign Forces - Military",
          "Criminal",
          "Foreign Forces - Military",
          "Foreign Forces - Military",
          "NSA",
          "Police",
          "Criminal",
          "Criminal",
          "Criminal",
          "Foreign Forces - Military",
          "Foreign Forces - Military",
          "Foreign Forces - Military",
          "No Information",
          "No Information",
          "No Information",
          "Foreign Forces - Military",
          "No Information",
          "Foreign Forces - Military",
          "Foreign Forces - Military",
          "Foreign Forces - Military",
          "Foreign Forces - Military",
          "Police",
          "Foreign Forces - Military",
          "Foreign Forces - Military",
          "Foreign Forces - Military",
          "Foreign Forces - Military",
          "Other",
          "Foreign Forces - Military",
          "Foreign Forces - Military",
          "Foreign Forces - Military",
          "Other",
          "Foreign Forces - Military",
          "Foreign Forces - Military",
          "Foreign Forces - Military",
          "Other",
          "Other",
          "Foreign Forces - Military",
          "NSA",
          "No Information",
          "NSA",
          "No Information",
          "No Information",
          "Foreign Forces - Military",
          "NSA",
          "Host Government: Military",
          "NSA",
          "NSA",
          "Vigilante",
          "NSA",
          "Host Government: Military",
          "NSA",
          "NSA",
          "NSA",
          "Host Government: Military",
          "NSA",
          "Other",
          "Other",
          "NSA",
          "No Information",
          "NSA",
          "Multiple",
          "Police",
          "Police",
          "NSA",
          "Other",
          "NSA",
          "NSA",
          "NSA",
          "Police",
          "Other",
          "NSA",
          "No Information",
          "No Information",
          "No Information",
          "Host Government: Military",
          "No Information",
          "Police",
          "NSA",
          "No Information",
          "Other",
          "NSA",
          "NSA",
          "No Information",
          "No Information",
          "NSA",
          "Other",
          "NSA",
          "NSA",
          "Other",
          "NSA",
          "Other",
          "No Information",
          "NSA",
          "Employee",
          "Other",
          "NSA",
          "Other",
          "NSA",
          "Other",
          "NSA",
          "Other",
          "NSA",
          "NSA",
          "NSA",
          "NSA",
          "NSA",
          "NSA",
          "No Information",
          "No Information",
          "NSA",
          "Host Government: Military",
          "NSA",
          "Other",
          "Other",
          "NSA",
          "NSA",
          "No Information",
          "NSA",
          "Police",
          "Other",
          "NSA",
          "Other",
          "Other",
          "Other",
          "Other",
          "No Information",
          "Other",
          "Political Party",
          "NSA",
          "Other",
          "Host Government: Military",
          "NSA",
          "No Information",
          "Other",
          "Other",
          "Other",
          "Other",
          "Other",
          "Host Government: Military",
          "No Information",
          "NSA",
          "No Information",
          "No Information",
          "NSA",
          "No Information",
          "Other",
          "NSA",
          "NSA",
          "No Information",
          "Other",
          "Host Government: Military",
          "Criminal",
          "Other",
          "NSA",
          "NSA",
          "No Information",
          "No Information",
          "Host Government: Military",
          "Other",
          "NSA",
          "Other",
          "NSA",
          "NSA",
          "NSA",
          "NSA",
          "NSA",
          "Other",
          "Other",
          "Other",
          "NSA",
          "Foreign Forces - Military",
          "NSA",
          "Other",
          "NSA",
          "Other",
          "NSA",
          "Other",
          "NSA",
          "NSA",
          "Other",
          "NSA",
          "Other",
          "Other",
          "Other",
          "Other",
          "Other",
          "Protestors",
          "No Information",
          "NSA",
          "NSA",
          "Other",
          "NSA",
          "NSA",
          "Other",
          "No Information",
          "Other",
          "Criminal",
          "Other",
          "Other",
          "No Information",
          "Other",
          "NSA",
          "Other",
          "NSA",
          "Other",
          "Other",
          "Police",
          "NSA",
          "Other",
          "Host Government: Military",
          "No Information",
          "Other",
          "Other",
          "Other",
          "No Information",
          "NSA",
          "Other",
          "Other",
          "NSA",
          "Other",
          "NSA",
          "Other",
          "NSA",
          "Other",
          "Other",
          "Other",
          "NSA",
          "NSA",
          "NSA",
          "NSA",
          "Other",
          "Other",
          "Other",
          "No Information",
          "Host Government: Military",
          "NSA",
          "Foreign Forces - Military",
          "NSA",
          "No Information",
          "NSA",
          "NSA",
          "NSA",
          "Other",
          "NSA",
          "NSA",
          "NSA",
          "Other",
          "Other",
          "Other",
          "NSA",
          "Other",
          "Criminal",
          "Other",
          "Other",
          "Other",
          "Other",
          "Other",
          "NSA",
          "Protestors",
          "NSA",
          "Other",
          "NSA",
          "Other",
          "NSA",
          "No Information",
          "NSA",
          "NSA",
          "Other",
          "NSA",
          "Other",
          "NSA",
          "Other",
          "Other",
          "Other",
          "NSA",
          "Other",
          "NSA",
          "Police",
          "Other",
          "NSA",
          "Other",
          "NSA",
          "Other",
          "NSA",
          "NSA",
          "Other",
          "Other",
          "No Information",
          "Other",
          "Other",
          "NSA",
          "Other",
          "Other",
          "Police",
          "Host Government: Military",
          "Other",
          "Other",
          "Other",
          "NSA",
          "Other",
          "Other",
          "Other",
          "Other",
          "NSA",
          "NSA",
          "NSA",
          "NSA",
          "NSA",
          "Protestors",
          "Other",
          "Other",
          "Other",
          "NSA",
          "No Information",
          "No Information",
          "No Information",
          "Other",
          "NSA",
          "NSA",
          "Other",
          "Other",
          "NSA",
          "Other",
          "NSA",
          "NSA",
          "Other",
          "Other",
          "NSA",
          "No Information",
          "Other",
          "Other",
          "NSA",
          "NSA",
          "NSA",
          "Other",
          "NSA",
          "Other",
          "Host Government: Military",
          "Host Government: Military",
          "Other",
          "Other",
          "No Information",
          "Civilian",
          "Other",
          "Civilian",
          "NSA",
          "Other",
          "Other",
          "NSA",
          "Other",
          "NSA",
          "NSA",
          "Host Government: Military",
          "Other",
          "NSA",
          "NSA",
          "Other",
          "NSA",
          "Other",
          "No Information",
          "Civilian",
          "Host Government: Military",
          "Other",
          "Police",
          "Foreign Forces - Military",
          "Host Government: Military",
          "NSA",
          "NSA",
          "No Information",
          "NSA",
          "NSA",
          "NSA",
          "No Information",
          "Other",
          "Foreign Forces - Military",
          "Other",
          "Other",
          "Other",
          "Other",
          "No Information",
          "Other",
          "Other",
          "NSA",
          "Vigilante",
          "NSA",
          "NSA",
          "NSA",
          "Other",
          "NSA",
          "NSA",
          "NSA",
          "Other",
          "No Information",
          "NSA",
          "Other",
          "No Information",
          "Other",
          "Other",
          "Other",
          "No Information",
          "Other",
          "No Information",
          "Foreign Forces - Military",
          "No Information",
          "NSA",
          "No Information",
          "No Information",
          "No Information",
          "Protestors",
          "Criminal",
          "NSA",
          "NSA",
          "NSA",
          "No Information",
          "NSA",
          "No Information",
          "Police",
          "No Information",
          "Other",
          "No Information",
          "NSA",
          "NSA",
          "No Information",
          "No Information",
          "NSA",
          "Other",
          "Other",
          "No Information",
          "Protestors",
          "NSA",
          "No Information",
          "NSA",
          "NSA",
          "NSA",
          "NSA",
          "No Information",
          "No Information",
          "No Information",
          "No Information",
          "No Information",
          "No Information",
          "Other",
          "NSA",
          "Other",
          "No Information",
          "NSA",
          "Other",
          "NSA",
          "Other",
          "NSA",
          "No Information",
          "No Information",
          "No Information",
          "NSA",
          "No Information",
          "NSA",
          "NSA",
          "No Information",
          "NSA",
          "NSA",
          "No Information",
          "No Information",
          "Other",
          "Other",
          "Other",
          "NSA",
          "NSA",
          "Foreign Forces - Military",
          "No Information",
          "No Information",
          "No Information",
          "No Information",
          "No Information",
          "NSA",
          "No Information",
          "No Information",
          "Other",
          "No Information",
          "No Information",
          "No Information",
          "No Information",
          "No Information",
          "No Information",
          "Other",
          "No Information",
          "Other",
          "No Information",
          "No Information",
          "NSA",
          "NSA",
          "NSA",
          "NSA",
          "Foreign Forces - Military",
          "NSA",
          "NSA",
          "NSA",
          "NSA",
          "Other",
          "NSA",
          "NSA",
          "Other",
          "No Information",
          "NSA",
          "No Information",
          "Other",
          "No Information",
          "No Information",
          "NSA",
          "Other",
          "No Information",
          "No Information",
          "No Information",
          "No Information",
          "Other",
          "NSA",
          "Foreign Forces - Military",
          "Other",
          "No Information",
          "No Information",
          "Protestors",
          "No Information",
          "No Information",
          "No Information",
          "NSA",
          "NSA",
          "NSA",
          "Other",
          "NSA",
          "NSA",
          "No Information",
          "NSA",
          "No Information",
          "NSA",
          "No Information",
          "No Information",
          "Protestors",
          "NSA",
          "NSA",
          "NSA",
          "No Information",
          "Other",
          "No Information",
          "No Information",
          "No Information",
          "No Information",
          "No Information",
          "NSA",
          "Other",
          "Police",
          "No Information",
          "No Information",
          "No Information",
          "Other",
          "NSA",
          "No Information",
          "NSA",
          "NSA",
          "NSA",
          "No Information",
          "NSA",
          "Other",
          "Civilian",
          "Other",
          "Other",
          "Other",
          "Host Government: Military",
          "Other",
          "NSA",
          "Protestors",
          "Criminal",
          "NSA",
          "Other",
          "Other",
          "NSA",
          "Other",
          "No Information",
          "Criminal",
          "Other",
          "NSA",
          "NSA",
          "Other",
          "Host Government: Military",
          "Other",
          "Other",
          "NSA",
          "Other",
          "Other",
          "Other",
          "No Information",
          "Civilian",
          "NSA",
          "Other",
          "Host Government: Military",
          "NSA",
          "NSA",
          "Criminal",
          "Other",
          "NSA",
          "NSA",
          "NSA",
          "NSA",
          "NSA",
          "NSA",
          "NSA",
          "NSA",
          "NSA",
          "NSA",
          "NSA",
          "NSA",
          "NSA",
          "NSA",
          "NSA",
          "NSA",
          "No Information",
          "No Information",
          "Employee",
          "NSA",
          "Other",
          "Other",
          "No Information",
          "Other",
          "Other",
          "NSA",
          "Other",
          "Other",
          "Other",
          "NSA",
          "NSA",
          "NSA",
          "Other",
          "NSA",
          "NSA",
          "NSA",
          "NSA",
          "Other",
          "NSA",
          "NSA",
          "NSA",
          "Other",
          "Other",
          "NSA",
          "No Information",
          "Other",
          "NSA",
          "NSA",
          "Other",
          "NSA",
          "Civilian",
          "NSA",
          "Other",
          "NSA",
          "Employee",
          "NSA",
          "Other",
          "NSA",
          "Other",
          "NSA",
          "Host Government: Military",
          "Other",
          "NSA",
          "NSA",
          "Other",
          "Other",
          "Police",
          "No Information",
          "Other",
          "Other",
          "NSA",
          "Other",
          "Police",
          "Other",
          "NSA",
          "Other",
          "Other",
          "Employee",
          "Other",
          "No Information",
          "NSA",
          "NSA",
          "Other",
          "Other",
          "Other",
          "NSA",
          "NSA",
          "NSA",
          "NSA",
          "NSA",
          "Other",
          "NSA",
          "NSA",
          "Foreign Forces - Military",
          "NSA",
          "NSA",
          "NSA",
          "NSA",
          "Foreign Forces - Military",
          "Other",
          "NSA",
          "NSA",
          "Other",
          "NSA",
          "NSA",
          "No Information",
          "NSA",
          "NSA",
          "Other",
          "Other",
          "Other",
          "Police",
          "NSA",
          "Other",
          "Other",
          "Other",
          "Other",
          "Other",
          "Other",
          "Other",
          "Other",
          "Other",
          "Other",
          "Other",
          "Other",
          "Other",
          "Other",
          "Other",
          "Other",
          "Police",
          "No Information",
          "Police",
          "Police",
          "Other",
          "Other",
          "Police",
          "Other",
          "NSA",
          "NSA",
          "Police",
          "Other",
          "Police",
          "NSA",
          "NSA",
          "Police",
          "Police",
          "Police",
          "Police",
          "Police",
          "Multiple",
          "Police",
          "Other",
          "NSA",
          "NSA",
          "NSA",
          "Other",
          "NSA",
          "Civilian",
          "NSA",
          "Civilian",
          "Other",
          "NSA",
          "NSA",
          "NSA",
          "Police",
          "Other",
          "Other",
          "NSA",
          "NSA",
          "Police",
          "NSA",
          "NSA",
          "NSA",
          "Police",
          "NSA",
          "Other",
          "Police",
          "NSA",
          "Other",
          "Host Government: Military",
          "NSA",
          "Civilian",
          "Other",
          "NSA",
          "NSA",
          "Other",
          "NSA",
          "Employee",
          "Other",
          "NSA",
          "Police",
          "NSA",
          "NSA",
          "Civilian",
          "Civilian",
          "Other",
          "Civilian",
          "NSA",
          "NSA",
          "NSA",
          "Police",
          "Other",
          "NSA",
          "NSA",
          "NSA",
          "NSA",
          "NSA",
          "NSA",
          "Other",
          "NSA",
          "Police",
          "NSA",
          "NSA",
          "NSA",
          "NSA",
          "Other",
          "NSA",
          "NSA",
          "No Information",
          "NSA",
          "NSA",
          "Other",
          "Police",
          "NSA",
          "NSA",
          "Other",
          "Criminal",
          "Police",
          "NSA",
          "NSA",
          "NSA",
          "NSA",
          "NSA",
          "NSA",
          "Vigilante",
          "NSA",
          "No Information",
          "NSA",
          "NSA",
          "NSA",
          "NSA",
          "NSA",
          "No Information",
          "NSA",
          "NSA",
          "NSA",
          "NSA",
          "NSA",
          "NSA",
          "NSA",
          "Other",
          "NSA",
          "NSA",
          "NSA",
          "NSA",
          "NSA",
          "NSA",
          "NSA",
          "NSA",
          "NSA",
          "Police",
          "Other",
          "NSA",
          "NSA",
          "Other",
          "Protestors",
          "NSA",
          "NSA",
          "No Information",
          "NSA",
          "NSA",
          "Foreign Forces - Military",
          "NSA",
          "NSA",
          "NSA",
          "NSA",
          "Police",
          "Other",
          "NSA",
          "NSA",
          "Police",
          "NSA",
          "NSA",
          "Other",
          "NSA",
          "NSA",
          "Other",
          "NSA",
          "NSA",
          "NSA",
          "NSA",
          "NSA",
          "No Information",
          "Host Government: Military",
          "Civilian",
          "Other",
          "No Information",
          "Other",
          "NSA",
          "Other",
          "Host Government: Military",
          "NSA",
          "NSA",
          "NSA",
          "NSA",
          "NSA",
          "NSA",
          "NSA",
          "Other",
          "Other",
          "NSA",
          "NSA",
          "Police",
          "NSA",
          "NSA",
          "NSA",
          "NSA",
          "NSA",
          "Vigilante",
          "NSA",
          "Other",
          "Other",
          "NSA",
          "Other",
          "No Information",
          "NSA",
          "Police",
          "NSA",
          "Police",
          "NSA",
          "NSA",
          "Foreign Forces - Military",
          "Other",
          "NSA",
          "Foreign Forces - Military",
          "Other",
          "NSA",
          "Foreign Forces - Military",
          "NSA",
          "NSA",
          "NSA",
          "NSA",
          "NSA",
          "NSA",
          "Multiple",
          "Foreign Forces - Military",
          "Foreign Forces - Military",
          "No Information",
          "NSA",
          "Other",
          "No Information",
          "NSA",
          "NSA",
          "NSA",
          "Civilian",
          "Other",
          "NSA",
          "NSA",
          "No Information",
          "NSA",
          "Other",
          "NSA",
          "NSA",
          "Multiple",
          "Other",
          "NSA",
          "NSA",
          "NSA",
          "NSA",
          "Other",
          "Other",
          "Foreign Forces - Military",
          "Foreign Forces - Military",
          "Police",
          "NSA",
          "Employee",
          "NSA",
          "NSA",
          "NSA",
          "NSA",
          "NSA",
          "NSA",
          "NSA",
          "NSA",
          "NSA",
          "NSA",
          "NSA",
          "NSA",
          "NSA",
          "NSA",
          "Criminal",
          "NSA",
          "NSA",
          "NSA",
          "NSA",
          "NSA",
          "NSA",
          "Police",
          "NSA",
          "Police",
          "Employee",
          "NSA",
          "NSA",
          "NSA",
          "NSA",
          "NSA",
          "NSA",
          "NSA",
          "Other",
          "NSA",
          "NSA",
          "NSA",
          "NSA",
          "NSA",
          "Civilian",
          "NSA",
          "Other",
          "Police",
          "NSA",
          "NSA",
          "NSA",
          "NSA",
          "No Information",
          "Other",
          "No Information",
          "Employee",
          "Political Party",
          "Employee",
          "Protestors",
          "Protestors",
          "Police",
          "Employee",
          "Employee",
          "NSA",
          "NSA",
          "NSA",
          "NSA",
          "NSA",
          "NSA",
          "NSA",
          "NSA",
          "NSA",
          "No Information",
          "NSA",
          "NSA",
          "Police",
          "No Information",
          "NSA",
          "NSA",
          "NSA",
          "NSA",
          "Police",
          "NSA",
          "Police",
          "Host Government: Military",
          "NSA",
          "NSA",
          "Host Government: Military",
          "No Information",
          "Employee",
          "NSA",
          "No Information",
          "NSA",
          "NSA",
          "Employee",
          "NSA",
          "Police",
          "No Information",
          "Police",
          "Police",
          "NSA",
          "NSA",
          "Police",
          "No Information",
          "Civilian",
          "Civilian",
          "NSA",
          "NSA",
          "Other",
          "NSA",
          "Protestors",
          "NSA",
          "Police",
          "NSA",
          "Foreign Forces - Military",
          "NSA",
          "Police",
          "Other",
          "Other",
          "NSA",
          "Other",
          "NSA",
          "NSA",
          "Other",
          "NSA",
          "NSA",
          "Other",
          "NSA",
          "Host Government: Military",
          "NSA",
          "Other",
          "Police",
          "No Information",
          "Protestors",
          "NSA",
          "Foreign Forces - Military",
          "Employee",
          "Police",
          "NSA",
          "NSA",
          "NSA",
          "NSA",
          "NSA",
          "Police",
          "NSA",
          "Vigilante",
          "No Information",
          "No Information",
          "No Information",
          "No Information",
          "NSA",
          "Other",
          "NSA",
          "Police",
          "No Information",
          "Police",
          "No Information",
          "NSA",
          "NSA",
          "Host Government: Military",
          "Police",
          "NSA",
          "Civilian",
          "No Information",
          "Civilian",
          "NSA",
          "NSA",
          "Multiple",
          "NSA",
          "No Information",
          "No Information",
          "Civilian",
          "Civilian",
          "Other",
          "NSA",
          "Civilian",
          "Protestors",
          "Protestors",
          "Foreign Forces - Military",
          "No Information",
          "Civilian",
          "Other",
          "Other",
          "Other",
          "Other",
          "NSA",
          "Other",
          "NSA",
          "NSA",
          "No Information",
          "Other",
          "Other",
          "Other",
          "Other",
          "Other",
          "Other",
          "Other",
          "Other",
          "Other",
          "NSA",
          "No Information",
          "Police",
          "NSA",
          "Other",
          "Host Government: Military",
          "NSA",
          "NSA",
          "Employee",
          "No Information",
          "Other",
          "Other",
          "Foreign Forces - Military",
          "NSA",
          "Civilian",
          "Protestors",
          "NSA",
          "NSA",
          "NSA",
          "Multiple",
          "Civilian",
          "NSA",
          "Host Government: Military",
          "NSA",
          "Civilian",
          "NSA",
          "NSA",
          "NSA",
          "NSA",
          "NSA",
          "NSA",
          "NSA",
          "Foreign Forces - Military",
          "Vigilante",
          "NSA",
          "Protestors",
          "Other",
          "Foreign Forces - Military",
          "NSA",
          "NSA",
          "NSA",
          "NSA",
          "NSA",
          "No Information",
          "Other",
          "Civilian",
          "NSA",
          "NSA",
          "NSA",
          "Host Government: Military",
          "Protestors",
          "NSA",
          "Foreign Forces - Military",
          "Foreign Forces - Military",
          "Foreign Forces - Military",
          "NSA",
          "Other",
          "Other",
          "NSA",
          "Civilian",
          "NSA",
          "Other",
          "NSA",
          "NSA",
          "Foreign Forces - Military",
          "Other",
          "NSA",
          "Other",
          "NSA",
          "Civilian",
          "NSA",
          "Civilian",
          "NSA",
          "NSA",
          "Police",
          "Other",
          "NSA",
          "NSA",
          "Host Government: Military",
          "Police",
          "NSA",
          "Foreign Forces - Military",
          "NSA",
          "Other",
          "NSA",
          "NSA",
          "NSA",
          "Multiple",
          "NSA",
          "No Information",
          "No Information",
          "Police",
          "Other",
          "NSA",
          "Police",
          "Civilian",
          "Other",
          "Civilian",
          "Civilian",
          "NSA",
          "Protestors",
          "Civilian",
          "Civilian",
          "NSA",
          "Other",
          "NSA",
          "NSA",
          "NSA",
          "Other"
         ],
         "legendgroup": "",
         "name": "",
         "showlegend": true,
         "type": "pie"
        }
       ],
       "layout": {
        "legend": {
         "tracegroupgap": 0
        },
        "template": {
         "data": {
          "bar": [
           {
            "error_x": {
             "color": "#2a3f5f"
            },
            "error_y": {
             "color": "#2a3f5f"
            },
            "marker": {
             "line": {
              "color": "#E5ECF6",
              "width": 0.5
             },
             "pattern": {
              "fillmode": "overlay",
              "size": 10,
              "solidity": 0.2
             }
            },
            "type": "bar"
           }
          ],
          "barpolar": [
           {
            "marker": {
             "line": {
              "color": "#E5ECF6",
              "width": 0.5
             },
             "pattern": {
              "fillmode": "overlay",
              "size": 10,
              "solidity": 0.2
             }
            },
            "type": "barpolar"
           }
          ],
          "carpet": [
           {
            "aaxis": {
             "endlinecolor": "#2a3f5f",
             "gridcolor": "white",
             "linecolor": "white",
             "minorgridcolor": "white",
             "startlinecolor": "#2a3f5f"
            },
            "baxis": {
             "endlinecolor": "#2a3f5f",
             "gridcolor": "white",
             "linecolor": "white",
             "minorgridcolor": "white",
             "startlinecolor": "#2a3f5f"
            },
            "type": "carpet"
           }
          ],
          "choropleth": [
           {
            "colorbar": {
             "outlinewidth": 0,
             "ticks": ""
            },
            "type": "choropleth"
           }
          ],
          "contour": [
           {
            "colorbar": {
             "outlinewidth": 0,
             "ticks": ""
            },
            "colorscale": [
             [
              0,
              "#0d0887"
             ],
             [
              0.1111111111111111,
              "#46039f"
             ],
             [
              0.2222222222222222,
              "#7201a8"
             ],
             [
              0.3333333333333333,
              "#9c179e"
             ],
             [
              0.4444444444444444,
              "#bd3786"
             ],
             [
              0.5555555555555556,
              "#d8576b"
             ],
             [
              0.6666666666666666,
              "#ed7953"
             ],
             [
              0.7777777777777778,
              "#fb9f3a"
             ],
             [
              0.8888888888888888,
              "#fdca26"
             ],
             [
              1,
              "#f0f921"
             ]
            ],
            "type": "contour"
           }
          ],
          "contourcarpet": [
           {
            "colorbar": {
             "outlinewidth": 0,
             "ticks": ""
            },
            "type": "contourcarpet"
           }
          ],
          "heatmap": [
           {
            "colorbar": {
             "outlinewidth": 0,
             "ticks": ""
            },
            "colorscale": [
             [
              0,
              "#0d0887"
             ],
             [
              0.1111111111111111,
              "#46039f"
             ],
             [
              0.2222222222222222,
              "#7201a8"
             ],
             [
              0.3333333333333333,
              "#9c179e"
             ],
             [
              0.4444444444444444,
              "#bd3786"
             ],
             [
              0.5555555555555556,
              "#d8576b"
             ],
             [
              0.6666666666666666,
              "#ed7953"
             ],
             [
              0.7777777777777778,
              "#fb9f3a"
             ],
             [
              0.8888888888888888,
              "#fdca26"
             ],
             [
              1,
              "#f0f921"
             ]
            ],
            "type": "heatmap"
           }
          ],
          "histogram": [
           {
            "marker": {
             "pattern": {
              "fillmode": "overlay",
              "size": 10,
              "solidity": 0.2
             }
            },
            "type": "histogram"
           }
          ],
          "histogram2d": [
           {
            "colorbar": {
             "outlinewidth": 0,
             "ticks": ""
            },
            "colorscale": [
             [
              0,
              "#0d0887"
             ],
             [
              0.1111111111111111,
              "#46039f"
             ],
             [
              0.2222222222222222,
              "#7201a8"
             ],
             [
              0.3333333333333333,
              "#9c179e"
             ],
             [
              0.4444444444444444,
              "#bd3786"
             ],
             [
              0.5555555555555556,
              "#d8576b"
             ],
             [
              0.6666666666666666,
              "#ed7953"
             ],
             [
              0.7777777777777778,
              "#fb9f3a"
             ],
             [
              0.8888888888888888,
              "#fdca26"
             ],
             [
              1,
              "#f0f921"
             ]
            ],
            "type": "histogram2d"
           }
          ],
          "histogram2dcontour": [
           {
            "colorbar": {
             "outlinewidth": 0,
             "ticks": ""
            },
            "colorscale": [
             [
              0,
              "#0d0887"
             ],
             [
              0.1111111111111111,
              "#46039f"
             ],
             [
              0.2222222222222222,
              "#7201a8"
             ],
             [
              0.3333333333333333,
              "#9c179e"
             ],
             [
              0.4444444444444444,
              "#bd3786"
             ],
             [
              0.5555555555555556,
              "#d8576b"
             ],
             [
              0.6666666666666666,
              "#ed7953"
             ],
             [
              0.7777777777777778,
              "#fb9f3a"
             ],
             [
              0.8888888888888888,
              "#fdca26"
             ],
             [
              1,
              "#f0f921"
             ]
            ],
            "type": "histogram2dcontour"
           }
          ],
          "mesh3d": [
           {
            "colorbar": {
             "outlinewidth": 0,
             "ticks": ""
            },
            "type": "mesh3d"
           }
          ],
          "parcoords": [
           {
            "line": {
             "colorbar": {
              "outlinewidth": 0,
              "ticks": ""
             }
            },
            "type": "parcoords"
           }
          ],
          "pie": [
           {
            "automargin": true,
            "type": "pie"
           }
          ],
          "scatter": [
           {
            "fillpattern": {
             "fillmode": "overlay",
             "size": 10,
             "solidity": 0.2
            },
            "type": "scatter"
           }
          ],
          "scatter3d": [
           {
            "line": {
             "colorbar": {
              "outlinewidth": 0,
              "ticks": ""
             }
            },
            "marker": {
             "colorbar": {
              "outlinewidth": 0,
              "ticks": ""
             }
            },
            "type": "scatter3d"
           }
          ],
          "scattercarpet": [
           {
            "marker": {
             "colorbar": {
              "outlinewidth": 0,
              "ticks": ""
             }
            },
            "type": "scattercarpet"
           }
          ],
          "scattergeo": [
           {
            "marker": {
             "colorbar": {
              "outlinewidth": 0,
              "ticks": ""
             }
            },
            "type": "scattergeo"
           }
          ],
          "scattergl": [
           {
            "marker": {
             "colorbar": {
              "outlinewidth": 0,
              "ticks": ""
             }
            },
            "type": "scattergl"
           }
          ],
          "scattermap": [
           {
            "marker": {
             "colorbar": {
              "outlinewidth": 0,
              "ticks": ""
             }
            },
            "type": "scattermap"
           }
          ],
          "scattermapbox": [
           {
            "marker": {
             "colorbar": {
              "outlinewidth": 0,
              "ticks": ""
             }
            },
            "type": "scattermapbox"
           }
          ],
          "scatterpolar": [
           {
            "marker": {
             "colorbar": {
              "outlinewidth": 0,
              "ticks": ""
             }
            },
            "type": "scatterpolar"
           }
          ],
          "scatterpolargl": [
           {
            "marker": {
             "colorbar": {
              "outlinewidth": 0,
              "ticks": ""
             }
            },
            "type": "scatterpolargl"
           }
          ],
          "scatterternary": [
           {
            "marker": {
             "colorbar": {
              "outlinewidth": 0,
              "ticks": ""
             }
            },
            "type": "scatterternary"
           }
          ],
          "surface": [
           {
            "colorbar": {
             "outlinewidth": 0,
             "ticks": ""
            },
            "colorscale": [
             [
              0,
              "#0d0887"
             ],
             [
              0.1111111111111111,
              "#46039f"
             ],
             [
              0.2222222222222222,
              "#7201a8"
             ],
             [
              0.3333333333333333,
              "#9c179e"
             ],
             [
              0.4444444444444444,
              "#bd3786"
             ],
             [
              0.5555555555555556,
              "#d8576b"
             ],
             [
              0.6666666666666666,
              "#ed7953"
             ],
             [
              0.7777777777777778,
              "#fb9f3a"
             ],
             [
              0.8888888888888888,
              "#fdca26"
             ],
             [
              1,
              "#f0f921"
             ]
            ],
            "type": "surface"
           }
          ],
          "table": [
           {
            "cells": {
             "fill": {
              "color": "#EBF0F8"
             },
             "line": {
              "color": "white"
             }
            },
            "header": {
             "fill": {
              "color": "#C8D4E3"
             },
             "line": {
              "color": "white"
             }
            },
            "type": "table"
           }
          ]
         },
         "layout": {
          "annotationdefaults": {
           "arrowcolor": "#2a3f5f",
           "arrowhead": 0,
           "arrowwidth": 1
          },
          "autotypenumbers": "strict",
          "coloraxis": {
           "colorbar": {
            "outlinewidth": 0,
            "ticks": ""
           }
          },
          "colorscale": {
           "diverging": [
            [
             0,
             "#8e0152"
            ],
            [
             0.1,
             "#c51b7d"
            ],
            [
             0.2,
             "#de77ae"
            ],
            [
             0.3,
             "#f1b6da"
            ],
            [
             0.4,
             "#fde0ef"
            ],
            [
             0.5,
             "#f7f7f7"
            ],
            [
             0.6,
             "#e6f5d0"
            ],
            [
             0.7,
             "#b8e186"
            ],
            [
             0.8,
             "#7fbc41"
            ],
            [
             0.9,
             "#4d9221"
            ],
            [
             1,
             "#276419"
            ]
           ],
           "sequential": [
            [
             0,
             "#0d0887"
            ],
            [
             0.1111111111111111,
             "#46039f"
            ],
            [
             0.2222222222222222,
             "#7201a8"
            ],
            [
             0.3333333333333333,
             "#9c179e"
            ],
            [
             0.4444444444444444,
             "#bd3786"
            ],
            [
             0.5555555555555556,
             "#d8576b"
            ],
            [
             0.6666666666666666,
             "#ed7953"
            ],
            [
             0.7777777777777778,
             "#fb9f3a"
            ],
            [
             0.8888888888888888,
             "#fdca26"
            ],
            [
             1,
             "#f0f921"
            ]
           ],
           "sequentialminus": [
            [
             0,
             "#0d0887"
            ],
            [
             0.1111111111111111,
             "#46039f"
            ],
            [
             0.2222222222222222,
             "#7201a8"
            ],
            [
             0.3333333333333333,
             "#9c179e"
            ],
            [
             0.4444444444444444,
             "#bd3786"
            ],
            [
             0.5555555555555556,
             "#d8576b"
            ],
            [
             0.6666666666666666,
             "#ed7953"
            ],
            [
             0.7777777777777778,
             "#fb9f3a"
            ],
            [
             0.8888888888888888,
             "#fdca26"
            ],
            [
             1,
             "#f0f921"
            ]
           ]
          },
          "colorway": [
           "#636efa",
           "#EF553B",
           "#00cc96",
           "#ab63fa",
           "#FFA15A",
           "#19d3f3",
           "#FF6692",
           "#B6E880",
           "#FF97FF",
           "#FECB52"
          ],
          "font": {
           "color": "#2a3f5f"
          },
          "geo": {
           "bgcolor": "white",
           "lakecolor": "white",
           "landcolor": "#E5ECF6",
           "showlakes": true,
           "showland": true,
           "subunitcolor": "white"
          },
          "hoverlabel": {
           "align": "left"
          },
          "hovermode": "closest",
          "mapbox": {
           "style": "light"
          },
          "paper_bgcolor": "white",
          "plot_bgcolor": "#E5ECF6",
          "polar": {
           "angularaxis": {
            "gridcolor": "white",
            "linecolor": "white",
            "ticks": ""
           },
           "bgcolor": "#E5ECF6",
           "radialaxis": {
            "gridcolor": "white",
            "linecolor": "white",
            "ticks": ""
           }
          },
          "scene": {
           "xaxis": {
            "backgroundcolor": "#E5ECF6",
            "gridcolor": "white",
            "gridwidth": 2,
            "linecolor": "white",
            "showbackground": true,
            "ticks": "",
            "zerolinecolor": "white"
           },
           "yaxis": {
            "backgroundcolor": "#E5ECF6",
            "gridcolor": "white",
            "gridwidth": 2,
            "linecolor": "white",
            "showbackground": true,
            "ticks": "",
            "zerolinecolor": "white"
           },
           "zaxis": {
            "backgroundcolor": "#E5ECF6",
            "gridcolor": "white",
            "gridwidth": 2,
            "linecolor": "white",
            "showbackground": true,
            "ticks": "",
            "zerolinecolor": "white"
           }
          },
          "shapedefaults": {
           "line": {
            "color": "#2a3f5f"
           }
          },
          "ternary": {
           "aaxis": {
            "gridcolor": "white",
            "linecolor": "white",
            "ticks": ""
           },
           "baxis": {
            "gridcolor": "white",
            "linecolor": "white",
            "ticks": ""
           },
           "bgcolor": "#E5ECF6",
           "caxis": {
            "gridcolor": "white",
            "linecolor": "white",
            "ticks": ""
           }
          },
          "title": {
           "x": 0.05
          },
          "xaxis": {
           "automargin": true,
           "gridcolor": "white",
           "linecolor": "white",
           "ticks": "",
           "title": {
            "standoff": 15
           },
           "zerolinecolor": "white",
           "zerolinewidth": 2
          },
          "yaxis": {
           "automargin": true,
           "gridcolor": "white",
           "linecolor": "white",
           "ticks": "",
           "title": {
            "standoff": 15
           },
           "zerolinecolor": "white",
           "zerolinewidth": 2
          }
         }
        },
        "title": {
         "text": "👥 Distribution of Reported Perpetrators"
        }
       }
      }
     },
     "metadata": {},
     "output_type": "display_data"
    },
    {
     "data": {
      "application/vnd.plotly.v1+json": {
       "config": {
        "plotlyServerURL": "https://plot.ly"
       },
       "data": [
        {
         "hovertemplate": "Location=%{x}<br>Count=%{marker.color}<extra></extra>",
         "legendgroup": "",
         "marker": {
          "color": {
           "bdata": "5A0sAq8AZwBVADwAMgASAA==",
           "dtype": "i2"
          },
          "coloraxis": "coloraxis",
          "pattern": {
           "shape": ""
          }
         },
         "name": "",
         "orientation": "v",
         "showlegend": false,
         "textposition": "auto",
         "type": "bar",
         "x": [
          "Education Building ",
          "Unspecified Location",
          "Home",
          "Private Travel",
          "Other",
          "On Way To or From School",
          "Public Building",
          "Remote Threat"
         ],
         "xaxis": "x",
         "y": {
          "bdata": "5A0sAq8AZwBVADwAMgASAA==",
          "dtype": "i2"
         },
         "yaxis": "y"
        }
       ],
       "layout": {
        "barmode": "relative",
        "coloraxis": {
         "colorbar": {
          "title": {
           "text": "Count"
          }
         },
         "colorscale": [
          [
           0,
           "#0d0887"
          ],
          [
           0.1111111111111111,
           "#46039f"
          ],
          [
           0.2222222222222222,
           "#7201a8"
          ],
          [
           0.3333333333333333,
           "#9c179e"
          ],
          [
           0.4444444444444444,
           "#bd3786"
          ],
          [
           0.5555555555555556,
           "#d8576b"
          ],
          [
           0.6666666666666666,
           "#ed7953"
          ],
          [
           0.7777777777777778,
           "#fb9f3a"
          ],
          [
           0.8888888888888888,
           "#fdca26"
          ],
          [
           1,
           "#f0f921"
          ]
         ]
        },
        "legend": {
         "tracegroupgap": 0
        },
        "template": {
         "data": {
          "bar": [
           {
            "error_x": {
             "color": "#2a3f5f"
            },
            "error_y": {
             "color": "#2a3f5f"
            },
            "marker": {
             "line": {
              "color": "#E5ECF6",
              "width": 0.5
             },
             "pattern": {
              "fillmode": "overlay",
              "size": 10,
              "solidity": 0.2
             }
            },
            "type": "bar"
           }
          ],
          "barpolar": [
           {
            "marker": {
             "line": {
              "color": "#E5ECF6",
              "width": 0.5
             },
             "pattern": {
              "fillmode": "overlay",
              "size": 10,
              "solidity": 0.2
             }
            },
            "type": "barpolar"
           }
          ],
          "carpet": [
           {
            "aaxis": {
             "endlinecolor": "#2a3f5f",
             "gridcolor": "white",
             "linecolor": "white",
             "minorgridcolor": "white",
             "startlinecolor": "#2a3f5f"
            },
            "baxis": {
             "endlinecolor": "#2a3f5f",
             "gridcolor": "white",
             "linecolor": "white",
             "minorgridcolor": "white",
             "startlinecolor": "#2a3f5f"
            },
            "type": "carpet"
           }
          ],
          "choropleth": [
           {
            "colorbar": {
             "outlinewidth": 0,
             "ticks": ""
            },
            "type": "choropleth"
           }
          ],
          "contour": [
           {
            "colorbar": {
             "outlinewidth": 0,
             "ticks": ""
            },
            "colorscale": [
             [
              0,
              "#0d0887"
             ],
             [
              0.1111111111111111,
              "#46039f"
             ],
             [
              0.2222222222222222,
              "#7201a8"
             ],
             [
              0.3333333333333333,
              "#9c179e"
             ],
             [
              0.4444444444444444,
              "#bd3786"
             ],
             [
              0.5555555555555556,
              "#d8576b"
             ],
             [
              0.6666666666666666,
              "#ed7953"
             ],
             [
              0.7777777777777778,
              "#fb9f3a"
             ],
             [
              0.8888888888888888,
              "#fdca26"
             ],
             [
              1,
              "#f0f921"
             ]
            ],
            "type": "contour"
           }
          ],
          "contourcarpet": [
           {
            "colorbar": {
             "outlinewidth": 0,
             "ticks": ""
            },
            "type": "contourcarpet"
           }
          ],
          "heatmap": [
           {
            "colorbar": {
             "outlinewidth": 0,
             "ticks": ""
            },
            "colorscale": [
             [
              0,
              "#0d0887"
             ],
             [
              0.1111111111111111,
              "#46039f"
             ],
             [
              0.2222222222222222,
              "#7201a8"
             ],
             [
              0.3333333333333333,
              "#9c179e"
             ],
             [
              0.4444444444444444,
              "#bd3786"
             ],
             [
              0.5555555555555556,
              "#d8576b"
             ],
             [
              0.6666666666666666,
              "#ed7953"
             ],
             [
              0.7777777777777778,
              "#fb9f3a"
             ],
             [
              0.8888888888888888,
              "#fdca26"
             ],
             [
              1,
              "#f0f921"
             ]
            ],
            "type": "heatmap"
           }
          ],
          "histogram": [
           {
            "marker": {
             "pattern": {
              "fillmode": "overlay",
              "size": 10,
              "solidity": 0.2
             }
            },
            "type": "histogram"
           }
          ],
          "histogram2d": [
           {
            "colorbar": {
             "outlinewidth": 0,
             "ticks": ""
            },
            "colorscale": [
             [
              0,
              "#0d0887"
             ],
             [
              0.1111111111111111,
              "#46039f"
             ],
             [
              0.2222222222222222,
              "#7201a8"
             ],
             [
              0.3333333333333333,
              "#9c179e"
             ],
             [
              0.4444444444444444,
              "#bd3786"
             ],
             [
              0.5555555555555556,
              "#d8576b"
             ],
             [
              0.6666666666666666,
              "#ed7953"
             ],
             [
              0.7777777777777778,
              "#fb9f3a"
             ],
             [
              0.8888888888888888,
              "#fdca26"
             ],
             [
              1,
              "#f0f921"
             ]
            ],
            "type": "histogram2d"
           }
          ],
          "histogram2dcontour": [
           {
            "colorbar": {
             "outlinewidth": 0,
             "ticks": ""
            },
            "colorscale": [
             [
              0,
              "#0d0887"
             ],
             [
              0.1111111111111111,
              "#46039f"
             ],
             [
              0.2222222222222222,
              "#7201a8"
             ],
             [
              0.3333333333333333,
              "#9c179e"
             ],
             [
              0.4444444444444444,
              "#bd3786"
             ],
             [
              0.5555555555555556,
              "#d8576b"
             ],
             [
              0.6666666666666666,
              "#ed7953"
             ],
             [
              0.7777777777777778,
              "#fb9f3a"
             ],
             [
              0.8888888888888888,
              "#fdca26"
             ],
             [
              1,
              "#f0f921"
             ]
            ],
            "type": "histogram2dcontour"
           }
          ],
          "mesh3d": [
           {
            "colorbar": {
             "outlinewidth": 0,
             "ticks": ""
            },
            "type": "mesh3d"
           }
          ],
          "parcoords": [
           {
            "line": {
             "colorbar": {
              "outlinewidth": 0,
              "ticks": ""
             }
            },
            "type": "parcoords"
           }
          ],
          "pie": [
           {
            "automargin": true,
            "type": "pie"
           }
          ],
          "scatter": [
           {
            "fillpattern": {
             "fillmode": "overlay",
             "size": 10,
             "solidity": 0.2
            },
            "type": "scatter"
           }
          ],
          "scatter3d": [
           {
            "line": {
             "colorbar": {
              "outlinewidth": 0,
              "ticks": ""
             }
            },
            "marker": {
             "colorbar": {
              "outlinewidth": 0,
              "ticks": ""
             }
            },
            "type": "scatter3d"
           }
          ],
          "scattercarpet": [
           {
            "marker": {
             "colorbar": {
              "outlinewidth": 0,
              "ticks": ""
             }
            },
            "type": "scattercarpet"
           }
          ],
          "scattergeo": [
           {
            "marker": {
             "colorbar": {
              "outlinewidth": 0,
              "ticks": ""
             }
            },
            "type": "scattergeo"
           }
          ],
          "scattergl": [
           {
            "marker": {
             "colorbar": {
              "outlinewidth": 0,
              "ticks": ""
             }
            },
            "type": "scattergl"
           }
          ],
          "scattermap": [
           {
            "marker": {
             "colorbar": {
              "outlinewidth": 0,
              "ticks": ""
             }
            },
            "type": "scattermap"
           }
          ],
          "scattermapbox": [
           {
            "marker": {
             "colorbar": {
              "outlinewidth": 0,
              "ticks": ""
             }
            },
            "type": "scattermapbox"
           }
          ],
          "scatterpolar": [
           {
            "marker": {
             "colorbar": {
              "outlinewidth": 0,
              "ticks": ""
             }
            },
            "type": "scatterpolar"
           }
          ],
          "scatterpolargl": [
           {
            "marker": {
             "colorbar": {
              "outlinewidth": 0,
              "ticks": ""
             }
            },
            "type": "scatterpolargl"
           }
          ],
          "scatterternary": [
           {
            "marker": {
             "colorbar": {
              "outlinewidth": 0,
              "ticks": ""
             }
            },
            "type": "scatterternary"
           }
          ],
          "surface": [
           {
            "colorbar": {
             "outlinewidth": 0,
             "ticks": ""
            },
            "colorscale": [
             [
              0,
              "#0d0887"
             ],
             [
              0.1111111111111111,
              "#46039f"
             ],
             [
              0.2222222222222222,
              "#7201a8"
             ],
             [
              0.3333333333333333,
              "#9c179e"
             ],
             [
              0.4444444444444444,
              "#bd3786"
             ],
             [
              0.5555555555555556,
              "#d8576b"
             ],
             [
              0.6666666666666666,
              "#ed7953"
             ],
             [
              0.7777777777777778,
              "#fb9f3a"
             ],
             [
              0.8888888888888888,
              "#fdca26"
             ],
             [
              1,
              "#f0f921"
             ]
            ],
            "type": "surface"
           }
          ],
          "table": [
           {
            "cells": {
             "fill": {
              "color": "#EBF0F8"
             },
             "line": {
              "color": "white"
             }
            },
            "header": {
             "fill": {
              "color": "#C8D4E3"
             },
             "line": {
              "color": "white"
             }
            },
            "type": "table"
           }
          ]
         },
         "layout": {
          "annotationdefaults": {
           "arrowcolor": "#2a3f5f",
           "arrowhead": 0,
           "arrowwidth": 1
          },
          "autotypenumbers": "strict",
          "coloraxis": {
           "colorbar": {
            "outlinewidth": 0,
            "ticks": ""
           }
          },
          "colorscale": {
           "diverging": [
            [
             0,
             "#8e0152"
            ],
            [
             0.1,
             "#c51b7d"
            ],
            [
             0.2,
             "#de77ae"
            ],
            [
             0.3,
             "#f1b6da"
            ],
            [
             0.4,
             "#fde0ef"
            ],
            [
             0.5,
             "#f7f7f7"
            ],
            [
             0.6,
             "#e6f5d0"
            ],
            [
             0.7,
             "#b8e186"
            ],
            [
             0.8,
             "#7fbc41"
            ],
            [
             0.9,
             "#4d9221"
            ],
            [
             1,
             "#276419"
            ]
           ],
           "sequential": [
            [
             0,
             "#0d0887"
            ],
            [
             0.1111111111111111,
             "#46039f"
            ],
            [
             0.2222222222222222,
             "#7201a8"
            ],
            [
             0.3333333333333333,
             "#9c179e"
            ],
            [
             0.4444444444444444,
             "#bd3786"
            ],
            [
             0.5555555555555556,
             "#d8576b"
            ],
            [
             0.6666666666666666,
             "#ed7953"
            ],
            [
             0.7777777777777778,
             "#fb9f3a"
            ],
            [
             0.8888888888888888,
             "#fdca26"
            ],
            [
             1,
             "#f0f921"
            ]
           ],
           "sequentialminus": [
            [
             0,
             "#0d0887"
            ],
            [
             0.1111111111111111,
             "#46039f"
            ],
            [
             0.2222222222222222,
             "#7201a8"
            ],
            [
             0.3333333333333333,
             "#9c179e"
            ],
            [
             0.4444444444444444,
             "#bd3786"
            ],
            [
             0.5555555555555556,
             "#d8576b"
            ],
            [
             0.6666666666666666,
             "#ed7953"
            ],
            [
             0.7777777777777778,
             "#fb9f3a"
            ],
            [
             0.8888888888888888,
             "#fdca26"
            ],
            [
             1,
             "#f0f921"
            ]
           ]
          },
          "colorway": [
           "#636efa",
           "#EF553B",
           "#00cc96",
           "#ab63fa",
           "#FFA15A",
           "#19d3f3",
           "#FF6692",
           "#B6E880",
           "#FF97FF",
           "#FECB52"
          ],
          "font": {
           "color": "#2a3f5f"
          },
          "geo": {
           "bgcolor": "white",
           "lakecolor": "white",
           "landcolor": "#E5ECF6",
           "showlakes": true,
           "showland": true,
           "subunitcolor": "white"
          },
          "hoverlabel": {
           "align": "left"
          },
          "hovermode": "closest",
          "mapbox": {
           "style": "light"
          },
          "paper_bgcolor": "white",
          "plot_bgcolor": "#E5ECF6",
          "polar": {
           "angularaxis": {
            "gridcolor": "white",
            "linecolor": "white",
            "ticks": ""
           },
           "bgcolor": "#E5ECF6",
           "radialaxis": {
            "gridcolor": "white",
            "linecolor": "white",
            "ticks": ""
           }
          },
          "scene": {
           "xaxis": {
            "backgroundcolor": "#E5ECF6",
            "gridcolor": "white",
            "gridwidth": 2,
            "linecolor": "white",
            "showbackground": true,
            "ticks": "",
            "zerolinecolor": "white"
           },
           "yaxis": {
            "backgroundcolor": "#E5ECF6",
            "gridcolor": "white",
            "gridwidth": 2,
            "linecolor": "white",
            "showbackground": true,
            "ticks": "",
            "zerolinecolor": "white"
           },
           "zaxis": {
            "backgroundcolor": "#E5ECF6",
            "gridcolor": "white",
            "gridwidth": 2,
            "linecolor": "white",
            "showbackground": true,
            "ticks": "",
            "zerolinecolor": "white"
           }
          },
          "shapedefaults": {
           "line": {
            "color": "#2a3f5f"
           }
          },
          "ternary": {
           "aaxis": {
            "gridcolor": "white",
            "linecolor": "white",
            "ticks": ""
           },
           "baxis": {
            "gridcolor": "white",
            "linecolor": "white",
            "ticks": ""
           },
           "bgcolor": "#E5ECF6",
           "caxis": {
            "gridcolor": "white",
            "linecolor": "white",
            "ticks": ""
           }
          },
          "title": {
           "x": 0.05
          },
          "xaxis": {
           "automargin": true,
           "gridcolor": "white",
           "linecolor": "white",
           "ticks": "",
           "title": {
            "standoff": 15
           },
           "zerolinecolor": "white",
           "zerolinewidth": 2
          },
          "yaxis": {
           "automargin": true,
           "gridcolor": "white",
           "linecolor": "white",
           "ticks": "",
           "title": {
            "standoff": 15
           },
           "zerolinecolor": "white",
           "zerolinewidth": 2
          }
         }
        },
        "title": {
         "text": "🏫 Top 10 Education Attack Locations"
        },
        "xaxis": {
         "anchor": "y",
         "domain": [
          0,
          1
         ],
         "title": {
          "text": "Location"
         }
        },
        "yaxis": {
         "anchor": "x",
         "domain": [
          0,
          1
         ],
         "title": {
          "text": "Count"
         }
        }
       }
      }
     },
     "metadata": {},
     "output_type": "display_data"
    },
    {
     "data": {
      "application/vnd.plotly.v1+json": {
       "config": {
        "plotlyServerURL": "https://plot.ly"
       },
       "data": [
        {
         "hovertemplate": "Impact_Type=%{x}<br>Count=%{marker.color}<extra></extra>",
         "legendgroup": "",
         "marker": {
          "color": {
           "bdata": "aQISCuUHPAQ=",
           "dtype": "i2"
          },
          "coloraxis": "coloraxis",
          "pattern": {
           "shape": ""
          }
         },
         "name": "",
         "orientation": "v",
         "showlegend": false,
         "textposition": "auto",
         "type": "bar",
         "x": [
          "Students Killed",
          "Students Injured",
          "Students Kidnapped",
          "Students Arrested"
         ],
         "xaxis": "x",
         "y": {
          "bdata": "aQISCuUHPAQ=",
          "dtype": "i2"
         },
         "yaxis": "y"
        }
       ],
       "layout": {
        "barmode": "relative",
        "coloraxis": {
         "colorbar": {
          "title": {
           "text": "Count"
          }
         },
         "colorscale": [
          [
           0,
           "#0d0887"
          ],
          [
           0.1111111111111111,
           "#46039f"
          ],
          [
           0.2222222222222222,
           "#7201a8"
          ],
          [
           0.3333333333333333,
           "#9c179e"
          ],
          [
           0.4444444444444444,
           "#bd3786"
          ],
          [
           0.5555555555555556,
           "#d8576b"
          ],
          [
           0.6666666666666666,
           "#ed7953"
          ],
          [
           0.7777777777777778,
           "#fb9f3a"
          ],
          [
           0.8888888888888888,
           "#fdca26"
          ],
          [
           1,
           "#f0f921"
          ]
         ]
        },
        "legend": {
         "tracegroupgap": 0
        },
        "template": {
         "data": {
          "bar": [
           {
            "error_x": {
             "color": "#2a3f5f"
            },
            "error_y": {
             "color": "#2a3f5f"
            },
            "marker": {
             "line": {
              "color": "#E5ECF6",
              "width": 0.5
             },
             "pattern": {
              "fillmode": "overlay",
              "size": 10,
              "solidity": 0.2
             }
            },
            "type": "bar"
           }
          ],
          "barpolar": [
           {
            "marker": {
             "line": {
              "color": "#E5ECF6",
              "width": 0.5
             },
             "pattern": {
              "fillmode": "overlay",
              "size": 10,
              "solidity": 0.2
             }
            },
            "type": "barpolar"
           }
          ],
          "carpet": [
           {
            "aaxis": {
             "endlinecolor": "#2a3f5f",
             "gridcolor": "white",
             "linecolor": "white",
             "minorgridcolor": "white",
             "startlinecolor": "#2a3f5f"
            },
            "baxis": {
             "endlinecolor": "#2a3f5f",
             "gridcolor": "white",
             "linecolor": "white",
             "minorgridcolor": "white",
             "startlinecolor": "#2a3f5f"
            },
            "type": "carpet"
           }
          ],
          "choropleth": [
           {
            "colorbar": {
             "outlinewidth": 0,
             "ticks": ""
            },
            "type": "choropleth"
           }
          ],
          "contour": [
           {
            "colorbar": {
             "outlinewidth": 0,
             "ticks": ""
            },
            "colorscale": [
             [
              0,
              "#0d0887"
             ],
             [
              0.1111111111111111,
              "#46039f"
             ],
             [
              0.2222222222222222,
              "#7201a8"
             ],
             [
              0.3333333333333333,
              "#9c179e"
             ],
             [
              0.4444444444444444,
              "#bd3786"
             ],
             [
              0.5555555555555556,
              "#d8576b"
             ],
             [
              0.6666666666666666,
              "#ed7953"
             ],
             [
              0.7777777777777778,
              "#fb9f3a"
             ],
             [
              0.8888888888888888,
              "#fdca26"
             ],
             [
              1,
              "#f0f921"
             ]
            ],
            "type": "contour"
           }
          ],
          "contourcarpet": [
           {
            "colorbar": {
             "outlinewidth": 0,
             "ticks": ""
            },
            "type": "contourcarpet"
           }
          ],
          "heatmap": [
           {
            "colorbar": {
             "outlinewidth": 0,
             "ticks": ""
            },
            "colorscale": [
             [
              0,
              "#0d0887"
             ],
             [
              0.1111111111111111,
              "#46039f"
             ],
             [
              0.2222222222222222,
              "#7201a8"
             ],
             [
              0.3333333333333333,
              "#9c179e"
             ],
             [
              0.4444444444444444,
              "#bd3786"
             ],
             [
              0.5555555555555556,
              "#d8576b"
             ],
             [
              0.6666666666666666,
              "#ed7953"
             ],
             [
              0.7777777777777778,
              "#fb9f3a"
             ],
             [
              0.8888888888888888,
              "#fdca26"
             ],
             [
              1,
              "#f0f921"
             ]
            ],
            "type": "heatmap"
           }
          ],
          "histogram": [
           {
            "marker": {
             "pattern": {
              "fillmode": "overlay",
              "size": 10,
              "solidity": 0.2
             }
            },
            "type": "histogram"
           }
          ],
          "histogram2d": [
           {
            "colorbar": {
             "outlinewidth": 0,
             "ticks": ""
            },
            "colorscale": [
             [
              0,
              "#0d0887"
             ],
             [
              0.1111111111111111,
              "#46039f"
             ],
             [
              0.2222222222222222,
              "#7201a8"
             ],
             [
              0.3333333333333333,
              "#9c179e"
             ],
             [
              0.4444444444444444,
              "#bd3786"
             ],
             [
              0.5555555555555556,
              "#d8576b"
             ],
             [
              0.6666666666666666,
              "#ed7953"
             ],
             [
              0.7777777777777778,
              "#fb9f3a"
             ],
             [
              0.8888888888888888,
              "#fdca26"
             ],
             [
              1,
              "#f0f921"
             ]
            ],
            "type": "histogram2d"
           }
          ],
          "histogram2dcontour": [
           {
            "colorbar": {
             "outlinewidth": 0,
             "ticks": ""
            },
            "colorscale": [
             [
              0,
              "#0d0887"
             ],
             [
              0.1111111111111111,
              "#46039f"
             ],
             [
              0.2222222222222222,
              "#7201a8"
             ],
             [
              0.3333333333333333,
              "#9c179e"
             ],
             [
              0.4444444444444444,
              "#bd3786"
             ],
             [
              0.5555555555555556,
              "#d8576b"
             ],
             [
              0.6666666666666666,
              "#ed7953"
             ],
             [
              0.7777777777777778,
              "#fb9f3a"
             ],
             [
              0.8888888888888888,
              "#fdca26"
             ],
             [
              1,
              "#f0f921"
             ]
            ],
            "type": "histogram2dcontour"
           }
          ],
          "mesh3d": [
           {
            "colorbar": {
             "outlinewidth": 0,
             "ticks": ""
            },
            "type": "mesh3d"
           }
          ],
          "parcoords": [
           {
            "line": {
             "colorbar": {
              "outlinewidth": 0,
              "ticks": ""
             }
            },
            "type": "parcoords"
           }
          ],
          "pie": [
           {
            "automargin": true,
            "type": "pie"
           }
          ],
          "scatter": [
           {
            "fillpattern": {
             "fillmode": "overlay",
             "size": 10,
             "solidity": 0.2
            },
            "type": "scatter"
           }
          ],
          "scatter3d": [
           {
            "line": {
             "colorbar": {
              "outlinewidth": 0,
              "ticks": ""
             }
            },
            "marker": {
             "colorbar": {
              "outlinewidth": 0,
              "ticks": ""
             }
            },
            "type": "scatter3d"
           }
          ],
          "scattercarpet": [
           {
            "marker": {
             "colorbar": {
              "outlinewidth": 0,
              "ticks": ""
             }
            },
            "type": "scattercarpet"
           }
          ],
          "scattergeo": [
           {
            "marker": {
             "colorbar": {
              "outlinewidth": 0,
              "ticks": ""
             }
            },
            "type": "scattergeo"
           }
          ],
          "scattergl": [
           {
            "marker": {
             "colorbar": {
              "outlinewidth": 0,
              "ticks": ""
             }
            },
            "type": "scattergl"
           }
          ],
          "scattermap": [
           {
            "marker": {
             "colorbar": {
              "outlinewidth": 0,
              "ticks": ""
             }
            },
            "type": "scattermap"
           }
          ],
          "scattermapbox": [
           {
            "marker": {
             "colorbar": {
              "outlinewidth": 0,
              "ticks": ""
             }
            },
            "type": "scattermapbox"
           }
          ],
          "scatterpolar": [
           {
            "marker": {
             "colorbar": {
              "outlinewidth": 0,
              "ticks": ""
             }
            },
            "type": "scatterpolar"
           }
          ],
          "scatterpolargl": [
           {
            "marker": {
             "colorbar": {
              "outlinewidth": 0,
              "ticks": ""
             }
            },
            "type": "scatterpolargl"
           }
          ],
          "scatterternary": [
           {
            "marker": {
             "colorbar": {
              "outlinewidth": 0,
              "ticks": ""
             }
            },
            "type": "scatterternary"
           }
          ],
          "surface": [
           {
            "colorbar": {
             "outlinewidth": 0,
             "ticks": ""
            },
            "colorscale": [
             [
              0,
              "#0d0887"
             ],
             [
              0.1111111111111111,
              "#46039f"
             ],
             [
              0.2222222222222222,
              "#7201a8"
             ],
             [
              0.3333333333333333,
              "#9c179e"
             ],
             [
              0.4444444444444444,
              "#bd3786"
             ],
             [
              0.5555555555555556,
              "#d8576b"
             ],
             [
              0.6666666666666666,
              "#ed7953"
             ],
             [
              0.7777777777777778,
              "#fb9f3a"
             ],
             [
              0.8888888888888888,
              "#fdca26"
             ],
             [
              1,
              "#f0f921"
             ]
            ],
            "type": "surface"
           }
          ],
          "table": [
           {
            "cells": {
             "fill": {
              "color": "#EBF0F8"
             },
             "line": {
              "color": "white"
             }
            },
            "header": {
             "fill": {
              "color": "#C8D4E3"
             },
             "line": {
              "color": "white"
             }
            },
            "type": "table"
           }
          ]
         },
         "layout": {
          "annotationdefaults": {
           "arrowcolor": "#2a3f5f",
           "arrowhead": 0,
           "arrowwidth": 1
          },
          "autotypenumbers": "strict",
          "coloraxis": {
           "colorbar": {
            "outlinewidth": 0,
            "ticks": ""
           }
          },
          "colorscale": {
           "diverging": [
            [
             0,
             "#8e0152"
            ],
            [
             0.1,
             "#c51b7d"
            ],
            [
             0.2,
             "#de77ae"
            ],
            [
             0.3,
             "#f1b6da"
            ],
            [
             0.4,
             "#fde0ef"
            ],
            [
             0.5,
             "#f7f7f7"
            ],
            [
             0.6,
             "#e6f5d0"
            ],
            [
             0.7,
             "#b8e186"
            ],
            [
             0.8,
             "#7fbc41"
            ],
            [
             0.9,
             "#4d9221"
            ],
            [
             1,
             "#276419"
            ]
           ],
           "sequential": [
            [
             0,
             "#0d0887"
            ],
            [
             0.1111111111111111,
             "#46039f"
            ],
            [
             0.2222222222222222,
             "#7201a8"
            ],
            [
             0.3333333333333333,
             "#9c179e"
            ],
            [
             0.4444444444444444,
             "#bd3786"
            ],
            [
             0.5555555555555556,
             "#d8576b"
            ],
            [
             0.6666666666666666,
             "#ed7953"
            ],
            [
             0.7777777777777778,
             "#fb9f3a"
            ],
            [
             0.8888888888888888,
             "#fdca26"
            ],
            [
             1,
             "#f0f921"
            ]
           ],
           "sequentialminus": [
            [
             0,
             "#0d0887"
            ],
            [
             0.1111111111111111,
             "#46039f"
            ],
            [
             0.2222222222222222,
             "#7201a8"
            ],
            [
             0.3333333333333333,
             "#9c179e"
            ],
            [
             0.4444444444444444,
             "#bd3786"
            ],
            [
             0.5555555555555556,
             "#d8576b"
            ],
            [
             0.6666666666666666,
             "#ed7953"
            ],
            [
             0.7777777777777778,
             "#fb9f3a"
            ],
            [
             0.8888888888888888,
             "#fdca26"
            ],
            [
             1,
             "#f0f921"
            ]
           ]
          },
          "colorway": [
           "#636efa",
           "#EF553B",
           "#00cc96",
           "#ab63fa",
           "#FFA15A",
           "#19d3f3",
           "#FF6692",
           "#B6E880",
           "#FF97FF",
           "#FECB52"
          ],
          "font": {
           "color": "#2a3f5f"
          },
          "geo": {
           "bgcolor": "white",
           "lakecolor": "white",
           "landcolor": "#E5ECF6",
           "showlakes": true,
           "showland": true,
           "subunitcolor": "white"
          },
          "hoverlabel": {
           "align": "left"
          },
          "hovermode": "closest",
          "mapbox": {
           "style": "light"
          },
          "paper_bgcolor": "white",
          "plot_bgcolor": "#E5ECF6",
          "polar": {
           "angularaxis": {
            "gridcolor": "white",
            "linecolor": "white",
            "ticks": ""
           },
           "bgcolor": "#E5ECF6",
           "radialaxis": {
            "gridcolor": "white",
            "linecolor": "white",
            "ticks": ""
           }
          },
          "scene": {
           "xaxis": {
            "backgroundcolor": "#E5ECF6",
            "gridcolor": "white",
            "gridwidth": 2,
            "linecolor": "white",
            "showbackground": true,
            "ticks": "",
            "zerolinecolor": "white"
           },
           "yaxis": {
            "backgroundcolor": "#E5ECF6",
            "gridcolor": "white",
            "gridwidth": 2,
            "linecolor": "white",
            "showbackground": true,
            "ticks": "",
            "zerolinecolor": "white"
           },
           "zaxis": {
            "backgroundcolor": "#E5ECF6",
            "gridcolor": "white",
            "gridwidth": 2,
            "linecolor": "white",
            "showbackground": true,
            "ticks": "",
            "zerolinecolor": "white"
           }
          },
          "shapedefaults": {
           "line": {
            "color": "#2a3f5f"
           }
          },
          "ternary": {
           "aaxis": {
            "gridcolor": "white",
            "linecolor": "white",
            "ticks": ""
           },
           "baxis": {
            "gridcolor": "white",
            "linecolor": "white",
            "ticks": ""
           },
           "bgcolor": "#E5ECF6",
           "caxis": {
            "gridcolor": "white",
            "linecolor": "white",
            "ticks": ""
           }
          },
          "title": {
           "x": 0.05
          },
          "xaxis": {
           "automargin": true,
           "gridcolor": "white",
           "linecolor": "white",
           "ticks": "",
           "title": {
            "standoff": 15
           },
           "zerolinecolor": "white",
           "zerolinewidth": 2
          },
          "yaxis": {
           "automargin": true,
           "gridcolor": "white",
           "linecolor": "white",
           "ticks": "",
           "title": {
            "standoff": 15
           },
           "zerolinecolor": "white",
           "zerolinewidth": 2
          }
         }
        },
        "title": {
         "text": "👦 Impact on Students"
        },
        "xaxis": {
         "anchor": "y",
         "domain": [
          0,
          1
         ],
         "title": {
          "text": "Impact_Type"
         }
        },
        "yaxis": {
         "anchor": "x",
         "domain": [
          0,
          1
         ],
         "title": {
          "text": "Count"
         }
        }
       }
      }
     },
     "metadata": {},
     "output_type": "display_data"
    },
    {
     "data": {
      "application/vnd.plotly.v1+json": {
       "config": {
        "plotlyServerURL": "https://plot.ly"
       },
       "data": [
        {
         "hovertemplate": "Admin 1=Ad Dali' Governorate<br>Year=%{x}<br>Attack_Count=%{y}<extra></extra>",
         "legendgroup": "Ad Dali' Governorate",
         "line": {
          "color": "#636efa",
          "dash": "solid"
         },
         "marker": {
          "symbol": "circle"
         },
         "mode": "lines",
         "name": "Ad Dali' Governorate",
         "showlegend": true,
         "type": "scattergl",
         "x": {
          "bdata": "5AcAAOUHAADnBwAA",
          "dtype": "i4"
         },
         "xaxis": "x",
         "y": {
          "bdata": "AQIC",
          "dtype": "i1"
         },
         "yaxis": "y"
        },
        {
         "hovertemplate": "Admin 1=Aden Governorate<br>Year=%{x}<br>Attack_Count=%{y}<extra></extra>",
         "legendgroup": "Aden Governorate",
         "line": {
          "color": "#EF553B",
          "dash": "solid"
         },
         "marker": {
          "symbol": "circle"
         },
         "mode": "lines",
         "name": "Aden Governorate",
         "showlegend": true,
         "type": "scattergl",
         "x": {
          "bdata": "5AcAAOUHAADmBwAA6AcAAA==",
          "dtype": "i4"
         },
         "xaxis": "x",
         "y": {
          "bdata": "AQEBAQ==",
          "dtype": "i1"
         },
         "yaxis": "y"
        },
        {
         "hovertemplate": "Admin 1=Agadez Region<br>Year=%{x}<br>Attack_Count=%{y}<extra></extra>",
         "legendgroup": "Agadez Region",
         "line": {
          "color": "#00cc96",
          "dash": "solid"
         },
         "marker": {
          "symbol": "circle"
         },
         "mode": "lines",
         "name": "Agadez Region",
         "showlegend": true,
         "type": "scattergl",
         "x": {
          "bdata": "5AcAAOUHAADnBwAA",
          "dtype": "i4"
         },
         "xaxis": "x",
         "y": {
          "bdata": "AQEB",
          "dtype": "i1"
         },
         "yaxis": "y"
        },
        {
         "hovertemplate": "Admin 1=Al Hudaydah Governorate<br>Year=%{x}<br>Attack_Count=%{y}<extra></extra>",
         "legendgroup": "Al Hudaydah Governorate",
         "line": {
          "color": "#ab63fa",
          "dash": "solid"
         },
         "marker": {
          "symbol": "circle"
         },
         "mode": "lines",
         "name": "Al Hudaydah Governorate",
         "showlegend": true,
         "type": "scattergl",
         "x": {
          "bdata": "5AcAAOUHAADnBwAA6AcAAOkHAAA=",
          "dtype": "i4"
         },
         "xaxis": "x",
         "y": {
          "bdata": "BwECAQE=",
          "dtype": "i1"
         },
         "yaxis": "y"
        },
        {
         "hovertemplate": "Admin 1=Al Jawf Governorate<br>Year=%{x}<br>Attack_Count=%{y}<extra></extra>",
         "legendgroup": "Al Jawf Governorate",
         "line": {
          "color": "#FFA15A",
          "dash": "solid"
         },
         "marker": {
          "symbol": "circle"
         },
         "mode": "lines",
         "name": "Al Jawf Governorate",
         "showlegend": true,
         "type": "scattergl",
         "x": {
          "bdata": "5AcAAA==",
          "dtype": "i4"
         },
         "xaxis": "x",
         "y": {
          "bdata": "AQ==",
          "dtype": "i1"
         },
         "yaxis": "y"
        },
        {
         "hovertemplate": "Admin 1=Al-Hasaka Governorate<br>Year=%{x}<br>Attack_Count=%{y}<extra></extra>",
         "legendgroup": "Al-Hasaka Governorate",
         "line": {
          "color": "#19d3f3",
          "dash": "solid"
         },
         "marker": {
          "symbol": "circle"
         },
         "mode": "lines",
         "name": "Al-Hasaka Governorate",
         "showlegend": true,
         "type": "scattergl",
         "x": {
          "bdata": "5AcAAOUHAADmBwAA6AcAAOkHAAA=",
          "dtype": "i4"
         },
         "xaxis": "x",
         "y": {
          "bdata": "BRADAQE=",
          "dtype": "i1"
         },
         "yaxis": "y"
        },
        {
         "hovertemplate": "Admin 1=Al-Miqdadiyah District<br>Year=%{x}<br>Attack_Count=%{y}<extra></extra>",
         "legendgroup": "Al-Miqdadiyah District",
         "line": {
          "color": "#FF6692",
          "dash": "solid"
         },
         "marker": {
          "symbol": "circle"
         },
         "mode": "lines",
         "name": "Al-Miqdadiyah District",
         "showlegend": true,
         "type": "scattergl",
         "x": {
          "bdata": "5AcAAA==",
          "dtype": "i4"
         },
         "xaxis": "x",
         "y": {
          "bdata": "AQ==",
          "dtype": "i1"
         },
         "yaxis": "y"
        },
        {
         "hovertemplate": "Admin 1=Al-Qunaitra Governorate<br>Year=%{x}<br>Attack_Count=%{y}<extra></extra>",
         "legendgroup": "Al-Qunaitra Governorate",
         "line": {
          "color": "#B6E880",
          "dash": "solid"
         },
         "marker": {
          "symbol": "circle"
         },
         "mode": "lines",
         "name": "Al-Qunaitra Governorate",
         "showlegend": true,
         "type": "scattergl",
         "x": {
          "bdata": "5AcAAA==",
          "dtype": "i4"
         },
         "xaxis": "x",
         "y": {
          "bdata": "AQ==",
          "dtype": "i1"
         },
         "yaxis": "y"
        },
        {
         "hovertemplate": "Admin 1=Aleppo Governorate<br>Year=%{x}<br>Attack_Count=%{y}<extra></extra>",
         "legendgroup": "Aleppo Governorate",
         "line": {
          "color": "#FF97FF",
          "dash": "solid"
         },
         "marker": {
          "symbol": "circle"
         },
         "mode": "lines",
         "name": "Aleppo Governorate",
         "showlegend": true,
         "type": "scattergl",
         "x": {
          "bdata": "5AcAAOUHAADmBwAA5wcAAOgHAADpBwAA",
          "dtype": "i4"
         },
         "xaxis": "x",
         "y": {
          "bdata": "DQUPCgkD",
          "dtype": "i1"
         },
         "yaxis": "y"
        },
        {
         "hovertemplate": "Admin 1=Amanat Al Asimah<br>Year=%{x}<br>Attack_Count=%{y}<extra></extra>",
         "legendgroup": "Amanat Al Asimah",
         "line": {
          "color": "#FECB52",
          "dash": "solid"
         },
         "marker": {
          "symbol": "circle"
         },
         "mode": "lines",
         "name": "Amanat Al Asimah",
         "showlegend": true,
         "type": "scattergl",
         "x": {
          "bdata": "5AcAAOUHAADmBwAA5wcAAOgHAAA=",
          "dtype": "i4"
         },
         "xaxis": "x",
         "y": {
          "bdata": "AgIFBAM=",
          "dtype": "i1"
         },
         "yaxis": "y"
        },
        {
         "hovertemplate": "Admin 1=Amanat al Asimah<br>Year=%{x}<br>Attack_Count=%{y}<extra></extra>",
         "legendgroup": "Amanat al Asimah",
         "line": {
          "color": "#636efa",
          "dash": "solid"
         },
         "marker": {
          "symbol": "circle"
         },
         "mode": "lines",
         "name": "Amanat al Asimah",
         "showlegend": true,
         "type": "scattergl",
         "x": {
          "bdata": "5AcAAOUHAAA=",
          "dtype": "i4"
         },
         "xaxis": "x",
         "y": {
          "bdata": "AQE=",
          "dtype": "i1"
         },
         "yaxis": "y"
        },
        {
         "hovertemplate": "Admin 1=Anambra State<br>Year=%{x}<br>Attack_Count=%{y}<extra></extra>",
         "legendgroup": "Anambra State",
         "line": {
          "color": "#EF553B",
          "dash": "solid"
         },
         "marker": {
          "symbol": "circle"
         },
         "mode": "lines",
         "name": "Anambra State",
         "showlegend": true,
         "type": "scattergl",
         "x": {
          "bdata": "5AcAAOUHAADnBwAA6AcAAA==",
          "dtype": "i4"
         },
         "xaxis": "x",
         "y": {
          "bdata": "AgEBAQ==",
          "dtype": "i1"
         },
         "yaxis": "y"
        },
        {
         "hovertemplate": "Admin 1=Antofagasta Region<br>Year=%{x}<br>Attack_Count=%{y}<extra></extra>",
         "legendgroup": "Antofagasta Region",
         "line": {
          "color": "#00cc96",
          "dash": "solid"
         },
         "marker": {
          "symbol": "circle"
         },
         "mode": "lines",
         "name": "Antofagasta Region",
         "showlegend": true,
         "type": "scattergl",
         "x": {
          "bdata": "5AcAAA==",
          "dtype": "i4"
         },
         "xaxis": "x",
         "y": {
          "bdata": "Aw==",
          "dtype": "i1"
         },
         "yaxis": "y"
        },
        {
         "hovertemplate": "Admin 1=Arauca<br>Year=%{x}<br>Attack_Count=%{y}<extra></extra>",
         "legendgroup": "Arauca",
         "line": {
          "color": "#ab63fa",
          "dash": "solid"
         },
         "marker": {
          "symbol": "circle"
         },
         "mode": "lines",
         "name": "Arauca",
         "showlegend": true,
         "type": "scattergl",
         "x": {
          "bdata": "5AcAAOYHAAA=",
          "dtype": "i4"
         },
         "xaxis": "x",
         "y": {
          "bdata": "AQE=",
          "dtype": "i1"
         },
         "yaxis": "y"
        },
        {
         "hovertemplate": "Admin 1=Araucanía Region<br>Year=%{x}<br>Attack_Count=%{y}<extra></extra>",
         "legendgroup": "Araucanía Region",
         "line": {
          "color": "#FFA15A",
          "dash": "solid"
         },
         "marker": {
          "symbol": "circle"
         },
         "mode": "lines",
         "name": "Araucanía Region",
         "showlegend": true,
         "type": "scattergl",
         "x": {
          "bdata": "5AcAAOcHAAA=",
          "dtype": "i4"
         },
         "xaxis": "x",
         "y": {
          "bdata": "AQM=",
          "dtype": "i1"
         },
         "yaxis": "y"
        },
        {
         "hovertemplate": "Admin 1=Artibonite Department<br>Year=%{x}<br>Attack_Count=%{y}<extra></extra>",
         "legendgroup": "Artibonite Department",
         "line": {
          "color": "#19d3f3",
          "dash": "solid"
         },
         "marker": {
          "symbol": "circle"
         },
         "mode": "lines",
         "name": "Artibonite Department",
         "showlegend": true,
         "type": "scattergl",
         "x": {
          "bdata": "5AcAAOgHAAA=",
          "dtype": "i4"
         },
         "xaxis": "x",
         "y": {
          "bdata": "AQM=",
          "dtype": "i1"
         },
         "yaxis": "y"
        },
        {
         "hovertemplate": "Admin 1=As-Suwayda Governorate<br>Year=%{x}<br>Attack_Count=%{y}<extra></extra>",
         "legendgroup": "As-Suwayda Governorate",
         "line": {
          "color": "#FF6692",
          "dash": "solid"
         },
         "marker": {
          "symbol": "circle"
         },
         "mode": "lines",
         "name": "As-Suwayda Governorate",
         "showlegend": true,
         "type": "scattergl",
         "x": {
          "bdata": "5AcAAA==",
          "dtype": "i4"
         },
         "xaxis": "x",
         "y": {
          "bdata": "AQ==",
          "dtype": "i1"
         },
         "yaxis": "y"
        },
        {
         "hovertemplate": "Admin 1=Askeran Province<br>Year=%{x}<br>Attack_Count=%{y}<extra></extra>",
         "legendgroup": "Askeran Province",
         "line": {
          "color": "#B6E880",
          "dash": "solid"
         },
         "marker": {
          "symbol": "circle"
         },
         "mode": "lines",
         "name": "Askeran Province",
         "showlegend": true,
         "type": "scattergl",
         "x": {
          "bdata": "5AcAAA==",
          "dtype": "i4"
         },
         "xaxis": "x",
         "y": {
          "bdata": "Ag==",
          "dtype": "i1"
         },
         "yaxis": "y"
        },
        {
         "hovertemplate": "Admin 1=Atacama Region<br>Year=%{x}<br>Attack_Count=%{y}<extra></extra>",
         "legendgroup": "Atacama Region",
         "line": {
          "color": "#FF97FF",
          "dash": "solid"
         },
         "marker": {
          "symbol": "circle"
         },
         "mode": "lines",
         "name": "Atacama Region",
         "showlegend": true,
         "type": "scattergl",
         "x": {
          "bdata": "5AcAAA==",
          "dtype": "i4"
         },
         "xaxis": "x",
         "y": {
          "bdata": "Ag==",
          "dtype": "i1"
         },
         "yaxis": "y"
        },
        {
         "hovertemplate": "Admin 1=Attica<br>Year=%{x}<br>Attack_Count=%{y}<extra></extra>",
         "legendgroup": "Attica",
         "line": {
          "color": "#FECB52",
          "dash": "solid"
         },
         "marker": {
          "symbol": "circle"
         },
         "mode": "lines",
         "name": "Attica",
         "showlegend": true,
         "type": "scattergl",
         "x": {
          "bdata": "5AcAAA==",
          "dtype": "i4"
         },
         "xaxis": "x",
         "y": {
          "bdata": "AQ==",
          "dtype": "i1"
         },
         "yaxis": "y"
        },
        {
         "hovertemplate": "Admin 1=Azcapotzalco<br>Year=%{x}<br>Attack_Count=%{y}<extra></extra>",
         "legendgroup": "Azcapotzalco",
         "line": {
          "color": "#636efa",
          "dash": "solid"
         },
         "marker": {
          "symbol": "circle"
         },
         "mode": "lines",
         "name": "Azcapotzalco",
         "showlegend": true,
         "type": "scattergl",
         "x": {
          "bdata": "5AcAAA==",
          "dtype": "i4"
         },
         "xaxis": "x",
         "y": {
          "bdata": "AQ==",
          "dtype": "i1"
         },
         "yaxis": "y"
        },
        {
         "hovertemplate": "Admin 1=Badghis Province<br>Year=%{x}<br>Attack_Count=%{y}<extra></extra>",
         "legendgroup": "Badghis Province",
         "line": {
          "color": "#EF553B",
          "dash": "solid"
         },
         "marker": {
          "symbol": "circle"
         },
         "mode": "lines",
         "name": "Badghis Province",
         "showlegend": true,
         "type": "scattergl",
         "x": {
          "bdata": "5AcAAA==",
          "dtype": "i4"
         },
         "xaxis": "x",
         "y": {
          "bdata": "AQ==",
          "dtype": "i1"
         },
         "yaxis": "y"
        },
        {
         "hovertemplate": "Admin 1=Baghdad Governorate<br>Year=%{x}<br>Attack_Count=%{y}<extra></extra>",
         "legendgroup": "Baghdad Governorate",
         "line": {
          "color": "#00cc96",
          "dash": "solid"
         },
         "marker": {
          "symbol": "circle"
         },
         "mode": "lines",
         "name": "Baghdad Governorate",
         "showlegend": true,
         "type": "scattergl",
         "x": {
          "bdata": "5AcAAOYHAADnBwAA",
          "dtype": "i4"
         },
         "xaxis": "x",
         "y": {
          "bdata": "AgMB",
          "dtype": "i1"
         },
         "yaxis": "y"
        },
        {
         "hovertemplate": "Admin 1=Baghlan Province<br>Year=%{x}<br>Attack_Count=%{y}<extra></extra>",
         "legendgroup": "Baghlan Province",
         "line": {
          "color": "#ab63fa",
          "dash": "solid"
         },
         "marker": {
          "symbol": "circle"
         },
         "mode": "lines",
         "name": "Baghlan Province",
         "showlegend": true,
         "type": "scattergl",
         "x": {
          "bdata": "5AcAAOUHAADmBwAA5wcAAOgHAAA=",
          "dtype": "i4"
         },
         "xaxis": "x",
         "y": {
          "bdata": "AQEBAQE=",
          "dtype": "i1"
         },
         "yaxis": "y"
        },
        {
         "hovertemplate": "Admin 1=Bagmati Province<br>Year=%{x}<br>Attack_Count=%{y}<extra></extra>",
         "legendgroup": "Bagmati Province",
         "line": {
          "color": "#FFA15A",
          "dash": "solid"
         },
         "marker": {
          "symbol": "circle"
         },
         "mode": "lines",
         "name": "Bagmati Province",
         "showlegend": true,
         "type": "scattergl",
         "x": {
          "bdata": "5AcAAA==",
          "dtype": "i4"
         },
         "xaxis": "x",
         "y": {
          "bdata": "Ag==",
          "dtype": "i1"
         },
         "yaxis": "y"
        },
        {
         "hovertemplate": "Admin 1=Baku<br>Year=%{x}<br>Attack_Count=%{y}<extra></extra>",
         "legendgroup": "Baku",
         "line": {
          "color": "#19d3f3",
          "dash": "solid"
         },
         "marker": {
          "symbol": "circle"
         },
         "mode": "lines",
         "name": "Baku",
         "showlegend": true,
         "type": "scattergl",
         "x": {
          "bdata": "5AcAAOYHAAA=",
          "dtype": "i4"
         },
         "xaxis": "x",
         "y": {
          "bdata": "AQE=",
          "dtype": "i1"
         },
         "yaxis": "y"
        },
        {
         "hovertemplate": "Admin 1=Balochistan<br>Year=%{x}<br>Attack_Count=%{y}<extra></extra>",
         "legendgroup": "Balochistan",
         "line": {
          "color": "#FF6692",
          "dash": "solid"
         },
         "marker": {
          "symbol": "circle"
         },
         "mode": "lines",
         "name": "Balochistan",
         "showlegend": true,
         "type": "scattergl",
         "x": {
          "bdata": "5AcAAOUHAADmBwAA5wcAAOgHAAA=",
          "dtype": "i4"
         },
         "xaxis": "x",
         "y": {
          "bdata": "AQIBAwg=",
          "dtype": "i1"
         },
         "yaxis": "y"
        },
        {
         "hovertemplate": "Admin 1=Bangui<br>Year=%{x}<br>Attack_Count=%{y}<extra></extra>",
         "legendgroup": "Bangui",
         "line": {
          "color": "#B6E880",
          "dash": "solid"
         },
         "marker": {
          "symbol": "circle"
         },
         "mode": "lines",
         "name": "Bangui",
         "showlegend": true,
         "type": "scattergl",
         "x": {
          "bdata": "5AcAAA==",
          "dtype": "i4"
         },
         "xaxis": "x",
         "y": {
          "bdata": "AQ==",
          "dtype": "i1"
         },
         "yaxis": "y"
        },
        {
         "hovertemplate": "Admin 1=Barishal Division<br>Year=%{x}<br>Attack_Count=%{y}<extra></extra>",
         "legendgroup": "Barishal Division",
         "line": {
          "color": "#FF97FF",
          "dash": "solid"
         },
         "marker": {
          "symbol": "circle"
         },
         "mode": "lines",
         "name": "Barishal Division",
         "showlegend": true,
         "type": "scattergl",
         "x": {
          "bdata": "5AcAAA==",
          "dtype": "i4"
         },
         "xaxis": "x",
         "y": {
          "bdata": "AQ==",
          "dtype": "i1"
         },
         "yaxis": "y"
        },
        {
         "hovertemplate": "Admin 1=Bauchi State<br>Year=%{x}<br>Attack_Count=%{y}<extra></extra>",
         "legendgroup": "Bauchi State",
         "line": {
          "color": "#FECB52",
          "dash": "solid"
         },
         "marker": {
          "symbol": "circle"
         },
         "mode": "lines",
         "name": "Bauchi State",
         "showlegend": true,
         "type": "scattergl",
         "x": {
          "bdata": "5AcAAOUHAADmBwAA",
          "dtype": "i4"
         },
         "xaxis": "x",
         "y": {
          "bdata": "AQEB",
          "dtype": "i1"
         },
         "yaxis": "y"
        },
        {
         "hovertemplate": "Admin 1=Benishangul-Gumuz Region<br>Year=%{x}<br>Attack_Count=%{y}<extra></extra>",
         "legendgroup": "Benishangul-Gumuz Region",
         "line": {
          "color": "#636efa",
          "dash": "solid"
         },
         "marker": {
          "symbol": "circle"
         },
         "mode": "lines",
         "name": "Benishangul-Gumuz Region",
         "showlegend": true,
         "type": "scattergl",
         "x": {
          "bdata": "5AcAAA==",
          "dtype": "i4"
         },
         "xaxis": "x",
         "y": {
          "bdata": "AQ==",
          "dtype": "i1"
         },
         "yaxis": "y"
        },
        {
         "hovertemplate": "Admin 1=Benue State<br>Year=%{x}<br>Attack_Count=%{y}<extra></extra>",
         "legendgroup": "Benue State",
         "line": {
          "color": "#EF553B",
          "dash": "solid"
         },
         "marker": {
          "symbol": "circle"
         },
         "mode": "lines",
         "name": "Benue State",
         "showlegend": true,
         "type": "scattergl",
         "x": {
          "bdata": "5AcAAOUHAADoBwAA6QcAAA==",
          "dtype": "i4"
         },
         "xaxis": "x",
         "y": {
          "bdata": "AgQCAg==",
          "dtype": "i1"
         },
         "yaxis": "y"
        },
        {
         "hovertemplate": "Admin 1=Bihar<br>Year=%{x}<br>Attack_Count=%{y}<extra></extra>",
         "legendgroup": "Bihar",
         "line": {
          "color": "#00cc96",
          "dash": "solid"
         },
         "marker": {
          "symbol": "circle"
         },
         "mode": "lines",
         "name": "Bihar",
         "showlegend": true,
         "type": "scattergl",
         "x": {
          "bdata": "5AcAAOUHAADmBwAA",
          "dtype": "i4"
         },
         "xaxis": "x",
         "y": {
          "bdata": "AgEC",
          "dtype": "i1"
         },
         "yaxis": "y"
        },
        {
         "hovertemplate": "Admin 1=Borno State<br>Year=%{x}<br>Attack_Count=%{y}<extra></extra>",
         "legendgroup": "Borno State",
         "line": {
          "color": "#ab63fa",
          "dash": "solid"
         },
         "marker": {
          "symbol": "circle"
         },
         "mode": "lines",
         "name": "Borno State",
         "showlegend": true,
         "type": "scattergl",
         "x": {
          "bdata": "5AcAAOUHAADmBwAA5wcAAOgHAAA=",
          "dtype": "i4"
         },
         "xaxis": "x",
         "y": {
          "bdata": "AQIDAwM=",
          "dtype": "i1"
         },
         "yaxis": "y"
        },
        {
         "hovertemplate": "Admin 1=Boucle du Mouhoun<br>Year=%{x}<br>Attack_Count=%{y}<extra></extra>",
         "legendgroup": "Boucle du Mouhoun",
         "line": {
          "color": "#FFA15A",
          "dash": "solid"
         },
         "marker": {
          "symbol": "circle"
         },
         "mode": "lines",
         "name": "Boucle du Mouhoun",
         "showlegend": true,
         "type": "scattergl",
         "x": {
          "bdata": "5AcAAOUHAADmBwAA5wcAAOgHAAA=",
          "dtype": "i4"
         },
         "xaxis": "x",
         "y": {
          "bdata": "AQkGBQE=",
          "dtype": "i1"
         },
         "yaxis": "y"
        },
        {
         "hovertemplate": "Admin 1=Bujumbura Rural<br>Year=%{x}<br>Attack_Count=%{y}<extra></extra>",
         "legendgroup": "Bujumbura Rural",
         "line": {
          "color": "#19d3f3",
          "dash": "solid"
         },
         "marker": {
          "symbol": "circle"
         },
         "mode": "lines",
         "name": "Bujumbura Rural",
         "showlegend": true,
         "type": "scattergl",
         "x": {
          "bdata": "5AcAAOUHAAA=",
          "dtype": "i4"
         },
         "xaxis": "x",
         "y": {
          "bdata": "AQE=",
          "dtype": "i1"
         },
         "yaxis": "y"
        },
        {
         "hovertemplate": "Admin 1=Bujumbura Rural Province<br>Year=%{x}<br>Attack_Count=%{y}<extra></extra>",
         "legendgroup": "Bujumbura Rural Province",
         "line": {
          "color": "#FF6692",
          "dash": "solid"
         },
         "marker": {
          "symbol": "circle"
         },
         "mode": "lines",
         "name": "Bujumbura Rural Province",
         "showlegend": true,
         "type": "scattergl",
         "x": {
          "bdata": "5AcAAA==",
          "dtype": "i4"
         },
         "xaxis": "x",
         "y": {
          "bdata": "AQ==",
          "dtype": "i1"
         },
         "yaxis": "y"
        },
        {
         "hovertemplate": "Admin 1=Cabo Delgado Province<br>Year=%{x}<br>Attack_Count=%{y}<extra></extra>",
         "legendgroup": "Cabo Delgado Province",
         "line": {
          "color": "#B6E880",
          "dash": "solid"
         },
         "marker": {
          "symbol": "circle"
         },
         "mode": "lines",
         "name": "Cabo Delgado Province",
         "showlegend": true,
         "type": "scattergl",
         "x": {
          "bdata": "5AcAAOcHAADoBwAA",
          "dtype": "i4"
         },
         "xaxis": "x",
         "y": {
          "bdata": "BQEB",
          "dtype": "i1"
         },
         "yaxis": "y"
        },
        {
         "hovertemplate": "Admin 1=Cairo<br>Year=%{x}<br>Attack_Count=%{y}<extra></extra>",
         "legendgroup": "Cairo",
         "line": {
          "color": "#FF97FF",
          "dash": "solid"
         },
         "marker": {
          "symbol": "circle"
         },
         "mode": "lines",
         "name": "Cairo",
         "showlegend": true,
         "type": "scattergl",
         "x": {
          "bdata": "5AcAAOcHAAA=",
          "dtype": "i4"
         },
         "xaxis": "x",
         "y": {
          "bdata": "AQE=",
          "dtype": "i1"
         },
         "yaxis": "y"
        },
        {
         "hovertemplate": "Admin 1=Cankuzo<br>Year=%{x}<br>Attack_Count=%{y}<extra></extra>",
         "legendgroup": "Cankuzo",
         "line": {
          "color": "#FECB52",
          "dash": "solid"
         },
         "marker": {
          "symbol": "circle"
         },
         "mode": "lines",
         "name": "Cankuzo",
         "showlegend": true,
         "type": "scattergl",
         "x": {
          "bdata": "5AcAAA==",
          "dtype": "i4"
         },
         "xaxis": "x",
         "y": {
          "bdata": "AQ==",
          "dtype": "i1"
         },
         "yaxis": "y"
        },
        {
         "hovertemplate": "Admin 1=Center District<br>Year=%{x}<br>Attack_Count=%{y}<extra></extra>",
         "legendgroup": "Center District",
         "line": {
          "color": "#636efa",
          "dash": "solid"
         },
         "marker": {
          "symbol": "circle"
         },
         "mode": "lines",
         "name": "Center District",
         "showlegend": true,
         "type": "scattergl",
         "x": {
          "bdata": "5AcAAOcHAADoBwAA",
          "dtype": "i4"
         },
         "xaxis": "x",
         "y": {
          "bdata": "AQEB",
          "dtype": "i1"
         },
         "yaxis": "y"
        },
        {
         "hovertemplate": "Admin 1=Central Albania<br>Year=%{x}<br>Attack_Count=%{y}<extra></extra>",
         "legendgroup": "Central Albania",
         "line": {
          "color": "#EF553B",
          "dash": "solid"
         },
         "marker": {
          "symbol": "circle"
         },
         "mode": "lines",
         "name": "Central Albania",
         "showlegend": true,
         "type": "scattergl",
         "x": {
          "bdata": "5AcAAA==",
          "dtype": "i4"
         },
         "xaxis": "x",
         "y": {
          "bdata": "AQ==",
          "dtype": "i1"
         },
         "yaxis": "y"
        },
        {
         "hovertemplate": "Admin 1=Central Equatoria<br>Year=%{x}<br>Attack_Count=%{y}<extra></extra>",
         "legendgroup": "Central Equatoria",
         "line": {
          "color": "#00cc96",
          "dash": "solid"
         },
         "marker": {
          "symbol": "circle"
         },
         "mode": "lines",
         "name": "Central Equatoria",
         "showlegend": true,
         "type": "scattergl",
         "x": {
          "bdata": "5AcAAOYHAADnBwAA6AcAAA==",
          "dtype": "i4"
         },
         "xaxis": "x",
         "y": {
          "bdata": "BQEBAg==",
          "dtype": "i1"
         },
         "yaxis": "y"
        },
        {
         "hovertemplate": "Admin 1=Central Slovakia<br>Year=%{x}<br>Attack_Count=%{y}<extra></extra>",
         "legendgroup": "Central Slovakia",
         "line": {
          "color": "#ab63fa",
          "dash": "solid"
         },
         "marker": {
          "symbol": "circle"
         },
         "mode": "lines",
         "name": "Central Slovakia",
         "showlegend": true,
         "type": "scattergl",
         "x": {
          "bdata": "5AcAAA==",
          "dtype": "i4"
         },
         "xaxis": "x",
         "y": {
          "bdata": "AQ==",
          "dtype": "i1"
         },
         "yaxis": "y"
        },
        {
         "hovertemplate": "Admin 1=Central-East<br>Year=%{x}<br>Attack_Count=%{y}<extra></extra>",
         "legendgroup": "Central-East",
         "line": {
          "color": "#FFA15A",
          "dash": "solid"
         },
         "marker": {
          "symbol": "circle"
         },
         "mode": "lines",
         "name": "Central-East",
         "showlegend": true,
         "type": "scattergl",
         "x": {
          "bdata": "5AcAAOYHAADnBwAA6QcAAA==",
          "dtype": "i4"
         },
         "xaxis": "x",
         "y": {
          "bdata": "AQUEAQ==",
          "dtype": "i1"
         },
         "yaxis": "y"
        },
        {
         "hovertemplate": "Admin 1=Central-North<br>Year=%{x}<br>Attack_Count=%{y}<extra></extra>",
         "legendgroup": "Central-North",
         "line": {
          "color": "#19d3f3",
          "dash": "solid"
         },
         "marker": {
          "symbol": "circle"
         },
         "mode": "lines",
         "name": "Central-North",
         "showlegend": true,
         "type": "scattergl",
         "x": {
          "bdata": "5AcAAOUHAADmBwAA5wcAAOgHAAA=",
          "dtype": "i4"
         },
         "xaxis": "x",
         "y": {
          "bdata": "AQMEAgE=",
          "dtype": "i1"
         },
         "yaxis": "y"
        },
        {
         "hovertemplate": "Admin 1=Central-West<br>Year=%{x}<br>Attack_Count=%{y}<extra></extra>",
         "legendgroup": "Central-West",
         "line": {
          "color": "#FF6692",
          "dash": "solid"
         },
         "marker": {
          "symbol": "circle"
         },
         "mode": "lines",
         "name": "Central-West",
         "showlegend": true,
         "type": "scattergl",
         "x": {
          "bdata": "5AcAAOYHAADnBwAA",
          "dtype": "i4"
         },
         "xaxis": "x",
         "y": {
          "bdata": "AQEB",
          "dtype": "i1"
         },
         "yaxis": "y"
        },
        {
         "hovertemplate": "Admin 1=Centre<br>Year=%{x}<br>Attack_Count=%{y}<extra></extra>",
         "legendgroup": "Centre",
         "line": {
          "color": "#B6E880",
          "dash": "solid"
         },
         "marker": {
          "symbol": "circle"
         },
         "mode": "lines",
         "name": "Centre",
         "showlegend": true,
         "type": "scattergl",
         "x": {
          "bdata": "5AcAAOUHAADmBwAA5wcAAA==",
          "dtype": "i4"
         },
         "xaxis": "x",
         "y": {
          "bdata": "BQICAQ==",
          "dtype": "i1"
         },
         "yaxis": "y"
        },
        {
         "hovertemplate": "Admin 1=Chhattisgarh<br>Year=%{x}<br>Attack_Count=%{y}<extra></extra>",
         "legendgroup": "Chhattisgarh",
         "line": {
          "color": "#FF97FF",
          "dash": "solid"
         },
         "marker": {
          "symbol": "circle"
         },
         "mode": "lines",
         "name": "Chhattisgarh",
         "showlegend": true,
         "type": "scattergl",
         "x": {
          "bdata": "5AcAAOgHAAA=",
          "dtype": "i4"
         },
         "xaxis": "x",
         "y": {
          "bdata": "AQE=",
          "dtype": "i1"
         },
         "yaxis": "y"
        },
        {
         "hovertemplate": "Admin 1=Chin<br>Year=%{x}<br>Attack_Count=%{y}<extra></extra>",
         "legendgroup": "Chin",
         "line": {
          "color": "#FECB52",
          "dash": "solid"
         },
         "marker": {
          "symbol": "circle"
         },
         "mode": "lines",
         "name": "Chin",
         "showlegend": true,
         "type": "scattergl",
         "x": {
          "bdata": "5AcAAOUHAADmBwAA5wcAAOgHAADpBwAA",
          "dtype": "i4"
         },
         "xaxis": "x",
         "y": {
          "bdata": "AQYFEBAE",
          "dtype": "i1"
         },
         "yaxis": "y"
        },
        {
         "hovertemplate": "Admin 1=Coahuila<br>Year=%{x}<br>Attack_Count=%{y}<extra></extra>",
         "legendgroup": "Coahuila",
         "line": {
          "color": "#636efa",
          "dash": "solid"
         },
         "marker": {
          "symbol": "circle"
         },
         "mode": "lines",
         "name": "Coahuila",
         "showlegend": true,
         "type": "scattergl",
         "x": {
          "bdata": "5AcAAA==",
          "dtype": "i4"
         },
         "xaxis": "x",
         "y": {
          "bdata": "AQ==",
          "dtype": "i1"
         },
         "yaxis": "y"
        },
        {
         "hovertemplate": "Admin 1=Collines Department<br>Year=%{x}<br>Attack_Count=%{y}<extra></extra>",
         "legendgroup": "Collines Department",
         "line": {
          "color": "#EF553B",
          "dash": "solid"
         },
         "marker": {
          "symbol": "circle"
         },
         "mode": "lines",
         "name": "Collines Department",
         "showlegend": true,
         "type": "scattergl",
         "x": {
          "bdata": "5AcAAA==",
          "dtype": "i4"
         },
         "xaxis": "x",
         "y": {
          "bdata": "AQ==",
          "dtype": "i1"
         },
         "yaxis": "y"
        },
        {
         "hovertemplate": "Admin 1=Conakry<br>Year=%{x}<br>Attack_Count=%{y}<extra></extra>",
         "legendgroup": "Conakry",
         "line": {
          "color": "#00cc96",
          "dash": "solid"
         },
         "marker": {
          "symbol": "circle"
         },
         "mode": "lines",
         "name": "Conakry",
         "showlegend": true,
         "type": "scattergl",
         "x": {
          "bdata": "5AcAAA==",
          "dtype": "i4"
         },
         "xaxis": "x",
         "y": {
          "bdata": "AQ==",
          "dtype": "i1"
         },
         "yaxis": "y"
        },
        {
         "hovertemplate": "Admin 1=Cornwall County<br>Year=%{x}<br>Attack_Count=%{y}<extra></extra>",
         "legendgroup": "Cornwall County",
         "line": {
          "color": "#ab63fa",
          "dash": "solid"
         },
         "marker": {
          "symbol": "circle"
         },
         "mode": "lines",
         "name": "Cornwall County",
         "showlegend": true,
         "type": "scattergl",
         "x": {
          "bdata": "5AcAAA==",
          "dtype": "i4"
         },
         "xaxis": "x",
         "y": {
          "bdata": "AQ==",
          "dtype": "i1"
         },
         "yaxis": "y"
        },
        {
         "hovertemplate": "Admin 1=Daraa Governorate<br>Year=%{x}<br>Attack_Count=%{y}<extra></extra>",
         "legendgroup": "Daraa Governorate",
         "line": {
          "color": "#FFA15A",
          "dash": "solid"
         },
         "marker": {
          "symbol": "circle"
         },
         "mode": "lines",
         "name": "Daraa Governorate",
         "showlegend": true,
         "type": "scattergl",
         "x": {
          "bdata": "5AcAAOUHAADmBwAA5wcAAA==",
          "dtype": "i4"
         },
         "xaxis": "x",
         "y": {
          "bdata": "AgQCAg==",
          "dtype": "i1"
         },
         "yaxis": "y"
        },
        {
         "hovertemplate": "Admin 1=Deir Ezzor Governorate<br>Year=%{x}<br>Attack_Count=%{y}<extra></extra>",
         "legendgroup": "Deir Ezzor Governorate",
         "line": {
          "color": "#19d3f3",
          "dash": "solid"
         },
         "marker": {
          "symbol": "circle"
         },
         "mode": "lines",
         "name": "Deir Ezzor Governorate",
         "showlegend": true,
         "type": "scattergl",
         "x": {
          "bdata": "5AcAAOUHAADmBwAA5wcAAOgHAAA=",
          "dtype": "i4"
         },
         "xaxis": "x",
         "y": {
          "bdata": "AwMCBwQ=",
          "dtype": "i1"
         },
         "yaxis": "y"
        },
        {
         "hovertemplate": "Admin 1=Delhi<br>Year=%{x}<br>Attack_Count=%{y}<extra></extra>",
         "legendgroup": "Delhi",
         "line": {
          "color": "#FF6692",
          "dash": "solid"
         },
         "marker": {
          "symbol": "circle"
         },
         "mode": "lines",
         "name": "Delhi",
         "showlegend": true,
         "type": "scattergl",
         "x": {
          "bdata": "5AcAAOYHAADnBwAA6AcAAA==",
          "dtype": "i4"
         },
         "xaxis": "x",
         "y": {
          "bdata": "AgEDAQ==",
          "dtype": "i1"
         },
         "yaxis": "y"
        },
        {
         "hovertemplate": "Admin 1=Delta State<br>Year=%{x}<br>Attack_Count=%{y}<extra></extra>",
         "legendgroup": "Delta State",
         "line": {
          "color": "#B6E880",
          "dash": "solid"
         },
         "marker": {
          "symbol": "circle"
         },
         "mode": "lines",
         "name": "Delta State",
         "showlegend": true,
         "type": "scattergl",
         "x": {
          "bdata": "5AcAAOUHAAA=",
          "dtype": "i4"
         },
         "xaxis": "x",
         "y": {
          "bdata": "AQM=",
          "dtype": "i1"
         },
         "yaxis": "y"
        },
        {
         "hovertemplate": "Admin 1=Dhaka Division<br>Year=%{x}<br>Attack_Count=%{y}<extra></extra>",
         "legendgroup": "Dhaka Division",
         "line": {
          "color": "#FF97FF",
          "dash": "solid"
         },
         "marker": {
          "symbol": "circle"
         },
         "mode": "lines",
         "name": "Dhaka Division",
         "showlegend": true,
         "type": "scattergl",
         "x": {
          "bdata": "5AcAAOUHAADmBwAA5wcAAOgHAAA=",
          "dtype": "i4"
         },
         "xaxis": "x",
         "y": {
          "bdata": "AwEEAwc=",
          "dtype": "i1"
         },
         "yaxis": "y"
        },
        {
         "hovertemplate": "Admin 1=Dhi Qar Governorate<br>Year=%{x}<br>Attack_Count=%{y}<extra></extra>",
         "legendgroup": "Dhi Qar Governorate",
         "line": {
          "color": "#FECB52",
          "dash": "solid"
         },
         "marker": {
          "symbol": "circle"
         },
         "mode": "lines",
         "name": "Dhi Qar Governorate",
         "showlegend": true,
         "type": "scattergl",
         "x": {
          "bdata": "5AcAAOYHAADnBwAA",
          "dtype": "i4"
         },
         "xaxis": "x",
         "y": {
          "bdata": "AgEE",
          "dtype": "i1"
         },
         "yaxis": "y"
        },
        {
         "hovertemplate": "Admin 1=District of Prishtina<br>Year=%{x}<br>Attack_Count=%{y}<extra></extra>",
         "legendgroup": "District of Prishtina",
         "line": {
          "color": "#636efa",
          "dash": "solid"
         },
         "marker": {
          "symbol": "circle"
         },
         "mode": "lines",
         "name": "District of Prishtina",
         "showlegend": true,
         "type": "scattergl",
         "x": {
          "bdata": "5AcAAA==",
          "dtype": "i4"
         },
         "xaxis": "x",
         "y": {
          "bdata": "AQ==",
          "dtype": "i1"
         },
         "yaxis": "y"
        },
        {
         "hovertemplate": "Admin 1=Diyala Governorate<br>Year=%{x}<br>Attack_Count=%{y}<extra></extra>",
         "legendgroup": "Diyala Governorate",
         "line": {
          "color": "#EF553B",
          "dash": "solid"
         },
         "marker": {
          "symbol": "circle"
         },
         "mode": "lines",
         "name": "Diyala Governorate",
         "showlegend": true,
         "type": "scattergl",
         "x": {
          "bdata": "5AcAAOUHAADmBwAA",
          "dtype": "i4"
         },
         "xaxis": "x",
         "y": {
          "bdata": "AQEC",
          "dtype": "i1"
         },
         "yaxis": "y"
        },
        {
         "hovertemplate": "Admin 1=Donetsk Oblast<br>Year=%{x}<br>Attack_Count=%{y}<extra></extra>",
         "legendgroup": "Donetsk Oblast",
         "line": {
          "color": "#00cc96",
          "dash": "solid"
         },
         "marker": {
          "symbol": "circle"
         },
         "mode": "lines",
         "name": "Donetsk Oblast",
         "showlegend": true,
         "type": "scattergl",
         "x": {
          "bdata": "5AcAAOYHAADnBwAA6AcAAOkHAAA=",
          "dtype": "i4"
         },
         "xaxis": "x",
         "y": {
          "bdata": "BB8gIhE=",
          "dtype": "i1"
         },
         "yaxis": "y"
        },
        {
         "hovertemplate": "Admin 1=Donetsk Oblast <br>Year=%{x}<br>Attack_Count=%{y}<extra></extra>",
         "legendgroup": "Donetsk Oblast ",
         "line": {
          "color": "#ab63fa",
          "dash": "solid"
         },
         "marker": {
          "symbol": "circle"
         },
         "mode": "lines",
         "name": "Donetsk Oblast ",
         "showlegend": true,
         "type": "scattergl",
         "x": {
          "bdata": "5AcAAA==",
          "dtype": "i4"
         },
         "xaxis": "x",
         "y": {
          "bdata": "AQ==",
          "dtype": "i1"
         },
         "yaxis": "y"
        },
        {
         "hovertemplate": "Admin 1=East<br>Year=%{x}<br>Attack_Count=%{y}<extra></extra>",
         "legendgroup": "East",
         "line": {
          "color": "#FFA15A",
          "dash": "solid"
         },
         "marker": {
          "symbol": "circle"
         },
         "mode": "lines",
         "name": "East",
         "showlegend": true,
         "type": "scattergl",
         "x": {
          "bdata": "5AcAAOUHAADmBwAA5wcAAOgHAADpBwAA",
          "dtype": "i4"
         },
         "xaxis": "x",
         "y": {
          "bdata": "FAkPAwEB",
          "dtype": "i1"
         },
         "yaxis": "y"
        },
        {
         "hovertemplate": "Admin 1=East Zangezur<br>Year=%{x}<br>Attack_Count=%{y}<extra></extra>",
         "legendgroup": "East Zangezur",
         "line": {
          "color": "#19d3f3",
          "dash": "solid"
         },
         "marker": {
          "symbol": "circle"
         },
         "mode": "lines",
         "name": "East Zangezur",
         "showlegend": true,
         "type": "scattergl",
         "x": {
          "bdata": "5AcAAA==",
          "dtype": "i4"
         },
         "xaxis": "x",
         "y": {
          "bdata": "AQ==",
          "dtype": "i1"
         },
         "yaxis": "y"
        },
        {
         "hovertemplate": "Admin 1=Eastern Cape<br>Year=%{x}<br>Attack_Count=%{y}<extra></extra>",
         "legendgroup": "Eastern Cape",
         "line": {
          "color": "#FF6692",
          "dash": "solid"
         },
         "marker": {
          "symbol": "circle"
         },
         "mode": "lines",
         "name": "Eastern Cape",
         "showlegend": true,
         "type": "scattergl",
         "x": {
          "bdata": "5AcAAOkHAAA=",
          "dtype": "i4"
         },
         "xaxis": "x",
         "y": {
          "bdata": "BwE=",
          "dtype": "i1"
         },
         "yaxis": "y"
        },
        {
         "hovertemplate": "Admin 1=Far-North<br>Year=%{x}<br>Attack_Count=%{y}<extra></extra>",
         "legendgroup": "Far-North",
         "line": {
          "color": "#B6E880",
          "dash": "solid"
         },
         "marker": {
          "symbol": "circle"
         },
         "mode": "lines",
         "name": "Far-North",
         "showlegend": true,
         "type": "scattergl",
         "x": {
          "bdata": "5AcAAOUHAADmBwAA5wcAAOgHAADpBwAA",
          "dtype": "i4"
         },
         "xaxis": "x",
         "y": {
          "bdata": "AgEBBAgB",
          "dtype": "i1"
         },
         "yaxis": "y"
        },
        {
         "hovertemplate": "Admin 1=Gafsa<br>Year=%{x}<br>Attack_Count=%{y}<extra></extra>",
         "legendgroup": "Gafsa",
         "line": {
          "color": "#FF97FF",
          "dash": "solid"
         },
         "marker": {
          "symbol": "circle"
         },
         "mode": "lines",
         "name": "Gafsa",
         "showlegend": true,
         "type": "scattergl",
         "x": {
          "bdata": "5AcAAA==",
          "dtype": "i4"
         },
         "xaxis": "x",
         "y": {
          "bdata": "AQ==",
          "dtype": "i1"
         },
         "yaxis": "y"
        },
        {
         "hovertemplate": "Admin 1=Ganja-Dashkasan<br>Year=%{x}<br>Attack_Count=%{y}<extra></extra>",
         "legendgroup": "Ganja-Dashkasan",
         "line": {
          "color": "#FECB52",
          "dash": "solid"
         },
         "marker": {
          "symbol": "circle"
         },
         "mode": "lines",
         "name": "Ganja-Dashkasan",
         "showlegend": true,
         "type": "scattergl",
         "x": {
          "bdata": "5AcAAA==",
          "dtype": "i4"
         },
         "xaxis": "x",
         "y": {
          "bdata": "Ag==",
          "dtype": "i1"
         },
         "yaxis": "y"
        },
        {
         "hovertemplate": "Admin 1=Gao<br>Year=%{x}<br>Attack_Count=%{y}<extra></extra>",
         "legendgroup": "Gao",
         "line": {
          "color": "#636efa",
          "dash": "solid"
         },
         "marker": {
          "symbol": "circle"
         },
         "mode": "lines",
         "name": "Gao",
         "showlegend": true,
         "type": "scattergl",
         "x": {
          "bdata": "5AcAAOUHAADnBwAA",
          "dtype": "i4"
         },
         "xaxis": "x",
         "y": {
          "bdata": "AgIE",
          "dtype": "i1"
         },
         "yaxis": "y"
        },
        {
         "hovertemplate": "Admin 1=Garissa County<br>Year=%{x}<br>Attack_Count=%{y}<extra></extra>",
         "legendgroup": "Garissa County",
         "line": {
          "color": "#EF553B",
          "dash": "solid"
         },
         "marker": {
          "symbol": "circle"
         },
         "mode": "lines",
         "name": "Garissa County",
         "showlegend": true,
         "type": "scattergl",
         "x": {
          "bdata": "5AcAAA==",
          "dtype": "i4"
         },
         "xaxis": "x",
         "y": {
          "bdata": "AQ==",
          "dtype": "i1"
         },
         "yaxis": "y"
        },
        {
         "hovertemplate": "Admin 1=Gauteng<br>Year=%{x}<br>Attack_Count=%{y}<extra></extra>",
         "legendgroup": "Gauteng",
         "line": {
          "color": "#00cc96",
          "dash": "solid"
         },
         "marker": {
          "symbol": "circle"
         },
         "mode": "lines",
         "name": "Gauteng",
         "showlegend": true,
         "type": "scattergl",
         "x": {
          "bdata": "5AcAAOUHAADmBwAA",
          "dtype": "i4"
         },
         "xaxis": "x",
         "y": {
          "bdata": "AwEB",
          "dtype": "i1"
         },
         "yaxis": "y"
        },
        {
         "hovertemplate": "Admin 1=Georgia<br>Year=%{x}<br>Attack_Count=%{y}<extra></extra>",
         "legendgroup": "Georgia",
         "line": {
          "color": "#ab63fa",
          "dash": "solid"
         },
         "marker": {
          "symbol": "circle"
         },
         "mode": "lines",
         "name": "Georgia",
         "showlegend": true,
         "type": "scattergl",
         "x": {
          "bdata": "5AcAAA==",
          "dtype": "i4"
         },
         "xaxis": "x",
         "y": {
          "bdata": "AQ==",
          "dtype": "i1"
         },
         "yaxis": "y"
        },
        {
         "hovertemplate": "Admin 1=Gitega<br>Year=%{x}<br>Attack_Count=%{y}<extra></extra>",
         "legendgroup": "Gitega",
         "line": {
          "color": "#FFA15A",
          "dash": "solid"
         },
         "marker": {
          "symbol": "circle"
         },
         "mode": "lines",
         "name": "Gitega",
         "showlegend": true,
         "type": "scattergl",
         "x": {
          "bdata": "5AcAAOgHAAA=",
          "dtype": "i4"
         },
         "xaxis": "x",
         "y": {
          "bdata": "AgE=",
          "dtype": "i1"
         },
         "yaxis": "y"
        },
        {
         "hovertemplate": "Admin 1=Goa<br>Year=%{x}<br>Attack_Count=%{y}<extra></extra>",
         "legendgroup": "Goa",
         "line": {
          "color": "#19d3f3",
          "dash": "solid"
         },
         "marker": {
          "symbol": "circle"
         },
         "mode": "lines",
         "name": "Goa",
         "showlegend": true,
         "type": "scattergl",
         "x": {
          "bdata": "5AcAAA==",
          "dtype": "i4"
         },
         "xaxis": "x",
         "y": {
          "bdata": "AQ==",
          "dtype": "i1"
         },
         "yaxis": "y"
        },
        {
         "hovertemplate": "Admin 1=Greater Pibor Administrative Area<br>Year=%{x}<br>Attack_Count=%{y}<extra></extra>",
         "legendgroup": "Greater Pibor Administrative Area",
         "line": {
          "color": "#FF6692",
          "dash": "solid"
         },
         "marker": {
          "symbol": "circle"
         },
         "mode": "lines",
         "name": "Greater Pibor Administrative Area",
         "showlegend": true,
         "type": "scattergl",
         "x": {
          "bdata": "5AcAAOYHAAA=",
          "dtype": "i4"
         },
         "xaxis": "x",
         "y": {
          "bdata": "AQM=",
          "dtype": "i1"
         },
         "yaxis": "y"
        },
        {
         "hovertemplate": "Admin 1=Guangdong Province<br>Year=%{x}<br>Attack_Count=%{y}<extra></extra>",
         "legendgroup": "Guangdong Province",
         "line": {
          "color": "#B6E880",
          "dash": "solid"
         },
         "marker": {
          "symbol": "circle"
         },
         "mode": "lines",
         "name": "Guangdong Province",
         "showlegend": true,
         "type": "scattergl",
         "x": {
          "bdata": "5AcAAOcHAAA=",
          "dtype": "i4"
         },
         "xaxis": "x",
         "y": {
          "bdata": "AQE=",
          "dtype": "i1"
         },
         "yaxis": "y"
        },
        {
         "hovertemplate": "Admin 1=Guangxi<br>Year=%{x}<br>Attack_Count=%{y}<extra></extra>",
         "legendgroup": "Guangxi",
         "line": {
          "color": "#FF97FF",
          "dash": "solid"
         },
         "marker": {
          "symbol": "circle"
         },
         "mode": "lines",
         "name": "Guangxi",
         "showlegend": true,
         "type": "scattergl",
         "x": {
          "bdata": "5AcAAOUHAAA=",
          "dtype": "i4"
         },
         "xaxis": "x",
         "y": {
          "bdata": "AQE=",
          "dtype": "i1"
         },
         "yaxis": "y"
        },
        {
         "hovertemplate": "Admin 1=Guatemala Department<br>Year=%{x}<br>Attack_Count=%{y}<extra></extra>",
         "legendgroup": "Guatemala Department",
         "line": {
          "color": "#FECB52",
          "dash": "solid"
         },
         "marker": {
          "symbol": "circle"
         },
         "mode": "lines",
         "name": "Guatemala Department",
         "showlegend": true,
         "type": "scattergl",
         "x": {
          "bdata": "5AcAAOcHAAA=",
          "dtype": "i4"
         },
         "xaxis": "x",
         "y": {
          "bdata": "AQE=",
          "dtype": "i1"
         },
         "yaxis": "y"
        },
        {
         "hovertemplate": "Admin 1=Guerrero<br>Year=%{x}<br>Attack_Count=%{y}<extra></extra>",
         "legendgroup": "Guerrero",
         "line": {
          "color": "#636efa",
          "dash": "solid"
         },
         "marker": {
          "symbol": "circle"
         },
         "mode": "lines",
         "name": "Guerrero",
         "showlegend": true,
         "type": "scattergl",
         "x": {
          "bdata": "5AcAAOcHAADoBwAA",
          "dtype": "i4"
         },
         "xaxis": "x",
         "y": {
          "bdata": "AgEB",
          "dtype": "i1"
         },
         "yaxis": "y"
        },
        {
         "hovertemplate": "Admin 1=Hajjah Governorate<br>Year=%{x}<br>Attack_Count=%{y}<extra></extra>",
         "legendgroup": "Hajjah Governorate",
         "line": {
          "color": "#EF553B",
          "dash": "solid"
         },
         "marker": {
          "symbol": "circle"
         },
         "mode": "lines",
         "name": "Hajjah Governorate",
         "showlegend": true,
         "type": "scattergl",
         "x": {
          "bdata": "5AcAAOYHAADoBwAA",
          "dtype": "i4"
         },
         "xaxis": "x",
         "y": {
          "bdata": "AQEC",
          "dtype": "i1"
         },
         "yaxis": "y"
        },
        {
         "hovertemplate": "Admin 1=Ibb Governorate<br>Year=%{x}<br>Attack_Count=%{y}<extra></extra>",
         "legendgroup": "Ibb Governorate",
         "line": {
          "color": "#00cc96",
          "dash": "solid"
         },
         "marker": {
          "symbol": "circle"
         },
         "mode": "lines",
         "name": "Ibb Governorate",
         "showlegend": true,
         "type": "scattergl",
         "x": {
          "bdata": "5AcAAOUHAADmBwAA5wcAAOgHAADpBwAA",
          "dtype": "i4"
         },
         "xaxis": "x",
         "y": {
          "bdata": "AQIDCAsB",
          "dtype": "i1"
         },
         "yaxis": "y"
        },
        {
         "hovertemplate": "Admin 1=Idlib Governorate<br>Year=%{x}<br>Attack_Count=%{y}<extra></extra>",
         "legendgroup": "Idlib Governorate",
         "line": {
          "color": "#ab63fa",
          "dash": "solid"
         },
         "marker": {
          "symbol": "circle"
         },
         "mode": "lines",
         "name": "Idlib Governorate",
         "showlegend": true,
         "type": "scattergl",
         "x": {
          "bdata": "5AcAAOUHAADmBwAA5wcAAOgHAAA=",
          "dtype": "i4"
         },
         "xaxis": "x",
         "y": {
          "bdata": "HAgCCAk=",
          "dtype": "i1"
         },
         "yaxis": "y"
        },
        {
         "hovertemplate": "Admin 1=Irbid<br>Year=%{x}<br>Attack_Count=%{y}<extra></extra>",
         "legendgroup": "Irbid",
         "line": {
          "color": "#FFA15A",
          "dash": "solid"
         },
         "marker": {
          "symbol": "circle"
         },
         "mode": "lines",
         "name": "Irbid",
         "showlegend": true,
         "type": "scattergl",
         "x": {
          "bdata": "5AcAAA==",
          "dtype": "i4"
         },
         "xaxis": "x",
         "y": {
          "bdata": "AQ==",
          "dtype": "i1"
         },
         "yaxis": "y"
        },
        {
         "hovertemplate": "Admin 1=Ituri<br>Year=%{x}<br>Attack_Count=%{y}<extra></extra>",
         "legendgroup": "Ituri",
         "line": {
          "color": "#19d3f3",
          "dash": "solid"
         },
         "marker": {
          "symbol": "circle"
         },
         "mode": "lines",
         "name": "Ituri",
         "showlegend": true,
         "type": "scattergl",
         "x": {
          "bdata": "5AcAAOUHAADmBwAA5wcAAOgHAAA=",
          "dtype": "i4"
         },
         "xaxis": "x",
         "y": {
          "bdata": "AggFBwI=",
          "dtype": "i1"
         },
         "yaxis": "y"
        },
        {
         "hovertemplate": "Admin 1=Jammu and Kashmir<br>Year=%{x}<br>Attack_Count=%{y}<extra></extra>",
         "legendgroup": "Jammu and Kashmir",
         "line": {
          "color": "#FF6692",
          "dash": "solid"
         },
         "marker": {
          "symbol": "circle"
         },
         "mode": "lines",
         "name": "Jammu and Kashmir",
         "showlegend": true,
         "type": "scattergl",
         "x": {
          "bdata": "5AcAAOUHAADmBwAA5wcAAA==",
          "dtype": "i4"
         },
         "xaxis": "x",
         "y": {
          "bdata": "AQIBAQ==",
          "dtype": "i1"
         },
         "yaxis": "y"
        },
        {
         "hovertemplate": "Admin 1=Jerusalem District<br>Year=%{x}<br>Attack_Count=%{y}<extra></extra>",
         "legendgroup": "Jerusalem District",
         "line": {
          "color": "#B6E880",
          "dash": "solid"
         },
         "marker": {
          "symbol": "circle"
         },
         "mode": "lines",
         "name": "Jerusalem District",
         "showlegend": true,
         "type": "scattergl",
         "x": {
          "bdata": "5AcAAOUHAADmBwAA5wcAAOgHAADpBwAA",
          "dtype": "i4"
         },
         "xaxis": "x",
         "y": {
          "bdata": "AQICBgMH",
          "dtype": "i1"
         },
         "yaxis": "y"
        },
        {
         "hovertemplate": "Admin 1=Jonglei<br>Year=%{x}<br>Attack_Count=%{y}<extra></extra>",
         "legendgroup": "Jonglei",
         "line": {
          "color": "#FF97FF",
          "dash": "solid"
         },
         "marker": {
          "symbol": "circle"
         },
         "mode": "lines",
         "name": "Jonglei",
         "showlegend": true,
         "type": "scattergl",
         "x": {
          "bdata": "5AcAAOYHAAA=",
          "dtype": "i4"
         },
         "xaxis": "x",
         "y": {
          "bdata": "AQg=",
          "dtype": "i1"
         },
         "yaxis": "y"
        },
        {
         "hovertemplate": "Admin 1=Kabul Province<br>Year=%{x}<br>Attack_Count=%{y}<extra></extra>",
         "legendgroup": "Kabul Province",
         "line": {
          "color": "#FECB52",
          "dash": "solid"
         },
         "marker": {
          "symbol": "circle"
         },
         "mode": "lines",
         "name": "Kabul Province",
         "showlegend": true,
         "type": "scattergl",
         "x": {
          "bdata": "5AcAAOUHAADmBwAA5wcAAOgHAAA=",
          "dtype": "i4"
         },
         "xaxis": "x",
         "y": {
          "bdata": "AwYEAwQ=",
          "dtype": "i1"
         },
         "yaxis": "y"
        },
        {
         "hovertemplate": "Admin 1=Kaduna State<br>Year=%{x}<br>Attack_Count=%{y}<extra></extra>",
         "legendgroup": "Kaduna State",
         "line": {
          "color": "#636efa",
          "dash": "solid"
         },
         "marker": {
          "symbol": "circle"
         },
         "mode": "lines",
         "name": "Kaduna State",
         "showlegend": true,
         "type": "scattergl",
         "x": {
          "bdata": "5AcAAOUHAADmBwAA5wcAAOgHAADpBwAA",
          "dtype": "i4"
         },
         "xaxis": "x",
         "y": {
          "bdata": "BAkBAgUB",
          "dtype": "i1"
         },
         "yaxis": "y"
        },
        {
         "hovertemplate": "Admin 1=Kairouan<br>Year=%{x}<br>Attack_Count=%{y}<extra></extra>",
         "legendgroup": "Kairouan",
         "line": {
          "color": "#EF553B",
          "dash": "solid"
         },
         "marker": {
          "symbol": "circle"
         },
         "mode": "lines",
         "name": "Kairouan",
         "showlegend": true,
         "type": "scattergl",
         "x": {
          "bdata": "5AcAAA==",
          "dtype": "i4"
         },
         "xaxis": "x",
         "y": {
          "bdata": "AQ==",
          "dtype": "i1"
         },
         "yaxis": "y"
        },
        {
         "hovertemplate": "Admin 1=Kajiado County<br>Year=%{x}<br>Attack_Count=%{y}<extra></extra>",
         "legendgroup": "Kajiado County",
         "line": {
          "color": "#00cc96",
          "dash": "solid"
         },
         "marker": {
          "symbol": "circle"
         },
         "mode": "lines",
         "name": "Kajiado County",
         "showlegend": true,
         "type": "scattergl",
         "x": {
          "bdata": "5AcAAA==",
          "dtype": "i4"
         },
         "xaxis": "x",
         "y": {
          "bdata": "AQ==",
          "dtype": "i1"
         },
         "yaxis": "y"
        },
        {
         "hovertemplate": "Admin 1=Kandahar Province<br>Year=%{x}<br>Attack_Count=%{y}<extra></extra>",
         "legendgroup": "Kandahar Province",
         "line": {
          "color": "#ab63fa",
          "dash": "solid"
         },
         "marker": {
          "symbol": "circle"
         },
         "mode": "lines",
         "name": "Kandahar Province",
         "showlegend": true,
         "type": "scattergl",
         "x": {
          "bdata": "5AcAAOYHAAA=",
          "dtype": "i4"
         },
         "xaxis": "x",
         "y": {
          "bdata": "AQE=",
          "dtype": "i1"
         },
         "yaxis": "y"
        },
        {
         "hovertemplate": "Admin 1=Kano State<br>Year=%{x}<br>Attack_Count=%{y}<extra></extra>",
         "legendgroup": "Kano State",
         "line": {
          "color": "#FFA15A",
          "dash": "solid"
         },
         "marker": {
          "symbol": "circle"
         },
         "mode": "lines",
         "name": "Kano State",
         "showlegend": true,
         "type": "scattergl",
         "x": {
          "bdata": "5AcAAOUHAADmBwAA",
          "dtype": "i4"
         },
         "xaxis": "x",
         "y": {
          "bdata": "AQEB",
          "dtype": "i1"
         },
         "yaxis": "y"
        },
        {
         "hovertemplate": "Admin 1=Karabakh<br>Year=%{x}<br>Attack_Count=%{y}<extra></extra>",
         "legendgroup": "Karabakh",
         "line": {
          "color": "#19d3f3",
          "dash": "solid"
         },
         "marker": {
          "symbol": "circle"
         },
         "mode": "lines",
         "name": "Karabakh",
         "showlegend": true,
         "type": "scattergl",
         "x": {
          "bdata": "5AcAAA==",
          "dtype": "i4"
         },
         "xaxis": "x",
         "y": {
          "bdata": "AQ==",
          "dtype": "i1"
         },
         "yaxis": "y"
        },
        {
         "hovertemplate": "Admin 1=Karnataka<br>Year=%{x}<br>Attack_Count=%{y}<extra></extra>",
         "legendgroup": "Karnataka",
         "line": {
          "color": "#FF6692",
          "dash": "solid"
         },
         "marker": {
          "symbol": "circle"
         },
         "mode": "lines",
         "name": "Karnataka",
         "showlegend": true,
         "type": "scattergl",
         "x": {
          "bdata": "5AcAAOYHAAA=",
          "dtype": "i4"
         },
         "xaxis": "x",
         "y": {
          "bdata": "AQE=",
          "dtype": "i1"
         },
         "yaxis": "y"
        },
        {
         "hovertemplate": "Admin 1=Katsina<br>Year=%{x}<br>Attack_Count=%{y}<extra></extra>",
         "legendgroup": "Katsina",
         "line": {
          "color": "#B6E880",
          "dash": "solid"
         },
         "marker": {
          "symbol": "circle"
         },
         "mode": "lines",
         "name": "Katsina",
         "showlegend": true,
         "type": "scattergl",
         "x": {
          "bdata": "5AcAAA==",
          "dtype": "i4"
         },
         "xaxis": "x",
         "y": {
          "bdata": "AQ==",
          "dtype": "i1"
         },
         "yaxis": "y"
        },
        {
         "hovertemplate": "Admin 1=Khost Province<br>Year=%{x}<br>Attack_Count=%{y}<extra></extra>",
         "legendgroup": "Khost Province",
         "line": {
          "color": "#FF97FF",
          "dash": "solid"
         },
         "marker": {
          "symbol": "circle"
         },
         "mode": "lines",
         "name": "Khost Province",
         "showlegend": true,
         "type": "scattergl",
         "x": {
          "bdata": "5AcAAOUHAADmBwAA",
          "dtype": "i4"
         },
         "xaxis": "x",
         "y": {
          "bdata": "AQIB",
          "dtype": "i1"
         },
         "yaxis": "y"
        },
        {
         "hovertemplate": "Admin 1=Khulna Division<br>Year=%{x}<br>Attack_Count=%{y}<extra></extra>",
         "legendgroup": "Khulna Division",
         "line": {
          "color": "#FECB52",
          "dash": "solid"
         },
         "marker": {
          "symbol": "circle"
         },
         "mode": "lines",
         "name": "Khulna Division",
         "showlegend": true,
         "type": "scattergl",
         "x": {
          "bdata": "5AcAAOcHAADoBwAA",
          "dtype": "i4"
         },
         "xaxis": "x",
         "y": {
          "bdata": "AgUC",
          "dtype": "i1"
         },
         "yaxis": "y"
        },
        {
         "hovertemplate": "Admin 1=Khyber Pakhtunkhwa<br>Year=%{x}<br>Attack_Count=%{y}<extra></extra>",
         "legendgroup": "Khyber Pakhtunkhwa",
         "line": {
          "color": "#636efa",
          "dash": "solid"
         },
         "marker": {
          "symbol": "circle"
         },
         "mode": "lines",
         "name": "Khyber Pakhtunkhwa",
         "showlegend": true,
         "type": "scattergl",
         "x": {
          "bdata": "5AcAAOYHAADnBwAA6AcAAOkHAAA=",
          "dtype": "i4"
         },
         "xaxis": "x",
         "y": {
          "bdata": "AwMKDAE=",
          "dtype": "i1"
         },
         "yaxis": "y"
        },
        {
         "hovertemplate": "Admin 1=Kigali City<br>Year=%{x}<br>Attack_Count=%{y}<extra></extra>",
         "legendgroup": "Kigali City",
         "line": {
          "color": "#EF553B",
          "dash": "solid"
         },
         "marker": {
          "symbol": "circle"
         },
         "mode": "lines",
         "name": "Kigali City",
         "showlegend": true,
         "type": "scattergl",
         "x": {
          "bdata": "5AcAAA==",
          "dtype": "i4"
         },
         "xaxis": "x",
         "y": {
          "bdata": "AQ==",
          "dtype": "i1"
         },
         "yaxis": "y"
        },
        {
         "hovertemplate": "Admin 1=Kinshasa<br>Year=%{x}<br>Attack_Count=%{y}<extra></extra>",
         "legendgroup": "Kinshasa",
         "line": {
          "color": "#00cc96",
          "dash": "solid"
         },
         "marker": {
          "symbol": "circle"
         },
         "mode": "lines",
         "name": "Kinshasa",
         "showlegend": true,
         "type": "scattergl",
         "x": {
          "bdata": "5AcAAA==",
          "dtype": "i4"
         },
         "xaxis": "x",
         "y": {
          "bdata": "AQ==",
          "dtype": "i1"
         },
         "yaxis": "y"
        },
        {
         "hovertemplate": "Admin 1=Kitui County<br>Year=%{x}<br>Attack_Count=%{y}<extra></extra>",
         "legendgroup": "Kitui County",
         "line": {
          "color": "#ab63fa",
          "dash": "solid"
         },
         "marker": {
          "symbol": "circle"
         },
         "mode": "lines",
         "name": "Kitui County",
         "showlegend": true,
         "type": "scattergl",
         "x": {
          "bdata": "5AcAAA==",
          "dtype": "i4"
         },
         "xaxis": "x",
         "y": {
          "bdata": "AQ==",
          "dtype": "i1"
         },
         "yaxis": "y"
        },
        {
         "hovertemplate": "Admin 1=Koshi Province<br>Year=%{x}<br>Attack_Count=%{y}<extra></extra>",
         "legendgroup": "Koshi Province",
         "line": {
          "color": "#FFA15A",
          "dash": "solid"
         },
         "marker": {
          "symbol": "circle"
         },
         "mode": "lines",
         "name": "Koshi Province",
         "showlegend": true,
         "type": "scattergl",
         "x": {
          "bdata": "5AcAAA==",
          "dtype": "i4"
         },
         "xaxis": "x",
         "y": {
          "bdata": "AQ==",
          "dtype": "i1"
         },
         "yaxis": "y"
        },
        {
         "hovertemplate": "Admin 1=Kunduz Province<br>Year=%{x}<br>Attack_Count=%{y}<extra></extra>",
         "legendgroup": "Kunduz Province",
         "line": {
          "color": "#19d3f3",
          "dash": "solid"
         },
         "marker": {
          "symbol": "circle"
         },
         "mode": "lines",
         "name": "Kunduz Province",
         "showlegend": true,
         "type": "scattergl",
         "x": {
          "bdata": "5AcAAOcHAAA=",
          "dtype": "i4"
         },
         "xaxis": "x",
         "y": {
          "bdata": "AgE=",
          "dtype": "i1"
         },
         "yaxis": "y"
        },
        {
         "hovertemplate": "Admin 1=KwaZulu-Natal<br>Year=%{x}<br>Attack_Count=%{y}<extra></extra>",
         "legendgroup": "KwaZulu-Natal",
         "line": {
          "color": "#FF6692",
          "dash": "solid"
         },
         "marker": {
          "symbol": "circle"
         },
         "mode": "lines",
         "name": "KwaZulu-Natal",
         "showlegend": true,
         "type": "scattergl",
         "x": {
          "bdata": "5AcAAOUHAADnBwAA",
          "dtype": "i4"
         },
         "xaxis": "x",
         "y": {
          "bdata": "AQEB",
          "dtype": "i1"
         },
         "yaxis": "y"
        },
        {
         "hovertemplate": "Admin 1=La Union<br>Year=%{x}<br>Attack_Count=%{y}<extra></extra>",
         "legendgroup": "La Union",
         "line": {
          "color": "#B6E880",
          "dash": "solid"
         },
         "marker": {
          "symbol": "circle"
         },
         "mode": "lines",
         "name": "La Union",
         "showlegend": true,
         "type": "scattergl",
         "x": {
          "bdata": "5AcAAA==",
          "dtype": "i4"
         },
         "xaxis": "x",
         "y": {
          "bdata": "AQ==",
          "dtype": "i1"
         },
         "yaxis": "y"
        },
        {
         "hovertemplate": "Admin 1=Laghman Province<br>Year=%{x}<br>Attack_Count=%{y}<extra></extra>",
         "legendgroup": "Laghman Province",
         "line": {
          "color": "#FF97FF",
          "dash": "solid"
         },
         "marker": {
          "symbol": "circle"
         },
         "mode": "lines",
         "name": "Laghman Province",
         "showlegend": true,
         "type": "scattergl",
         "x": {
          "bdata": "5AcAAA==",
          "dtype": "i4"
         },
         "xaxis": "x",
         "y": {
          "bdata": "AQ==",
          "dtype": "i1"
         },
         "yaxis": "y"
        },
        {
         "hovertemplate": "Admin 1=Lahij Governorate<br>Year=%{x}<br>Attack_Count=%{y}<extra></extra>",
         "legendgroup": "Lahij Governorate",
         "line": {
          "color": "#FECB52",
          "dash": "solid"
         },
         "marker": {
          "symbol": "circle"
         },
         "mode": "lines",
         "name": "Lahij Governorate",
         "showlegend": true,
         "type": "scattergl",
         "x": {
          "bdata": "5AcAAOcHAAA=",
          "dtype": "i4"
         },
         "xaxis": "x",
         "y": {
          "bdata": "AQI=",
          "dtype": "i1"
         },
         "yaxis": "y"
        },
        {
         "hovertemplate": "Admin 1=Limpopo<br>Year=%{x}<br>Attack_Count=%{y}<extra></extra>",
         "legendgroup": "Limpopo",
         "line": {
          "color": "#636efa",
          "dash": "solid"
         },
         "marker": {
          "symbol": "circle"
         },
         "mode": "lines",
         "name": "Limpopo",
         "showlegend": true,
         "type": "scattergl",
         "x": {
          "bdata": "5AcAAA==",
          "dtype": "i4"
         },
         "xaxis": "x",
         "y": {
          "bdata": "AQ==",
          "dtype": "i1"
         },
         "yaxis": "y"
        },
        {
         "hovertemplate": "Admin 1=Littoral<br>Year=%{x}<br>Attack_Count=%{y}<extra></extra>",
         "legendgroup": "Littoral",
         "line": {
          "color": "#EF553B",
          "dash": "solid"
         },
         "marker": {
          "symbol": "circle"
         },
         "mode": "lines",
         "name": "Littoral",
         "showlegend": true,
         "type": "scattergl",
         "x": {
          "bdata": "5AcAAOcHAAA=",
          "dtype": "i4"
         },
         "xaxis": "x",
         "y": {
          "bdata": "AQE=",
          "dtype": "i1"
         },
         "yaxis": "y"
        },
        {
         "hovertemplate": "Admin 1=Logar Province<br>Year=%{x}<br>Attack_Count=%{y}<extra></extra>",
         "legendgroup": "Logar Province",
         "line": {
          "color": "#00cc96",
          "dash": "solid"
         },
         "marker": {
          "symbol": "circle"
         },
         "mode": "lines",
         "name": "Logar Province",
         "showlegend": true,
         "type": "scattergl",
         "x": {
          "bdata": "5AcAAA==",
          "dtype": "i4"
         },
         "xaxis": "x",
         "y": {
          "bdata": "AQ==",
          "dtype": "i1"
         },
         "yaxis": "y"
        },
        {
         "hovertemplate": "Admin 1=Luanda<br>Year=%{x}<br>Attack_Count=%{y}<extra></extra>",
         "legendgroup": "Luanda",
         "line": {
          "color": "#ab63fa",
          "dash": "solid"
         },
         "marker": {
          "symbol": "circle"
         },
         "mode": "lines",
         "name": "Luanda",
         "showlegend": true,
         "type": "scattergl",
         "x": {
          "bdata": "5AcAAA==",
          "dtype": "i4"
         },
         "xaxis": "x",
         "y": {
          "bdata": "AQ==",
          "dtype": "i1"
         },
         "yaxis": "y"
        },
        {
         "hovertemplate": "Admin 1=Luhansk Oblast<br>Year=%{x}<br>Attack_Count=%{y}<extra></extra>",
         "legendgroup": "Luhansk Oblast",
         "line": {
          "color": "#FFA15A",
          "dash": "solid"
         },
         "marker": {
          "symbol": "circle"
         },
         "mode": "lines",
         "name": "Luhansk Oblast",
         "showlegend": true,
         "type": "scattergl",
         "x": {
          "bdata": "5AcAAOYHAADnBwAA",
          "dtype": "i4"
         },
         "xaxis": "x",
         "y": {
          "bdata": "AhQF",
          "dtype": "i1"
         },
         "yaxis": "y"
        },
        {
         "hovertemplate": "Admin 1=Lusaka Province<br>Year=%{x}<br>Attack_Count=%{y}<extra></extra>",
         "legendgroup": "Lusaka Province",
         "line": {
          "color": "#19d3f3",
          "dash": "solid"
         },
         "marker": {
          "symbol": "circle"
         },
         "mode": "lines",
         "name": "Lusaka Province",
         "showlegend": true,
         "type": "scattergl",
         "x": {
          "bdata": "5AcAAA==",
          "dtype": "i4"
         },
         "xaxis": "x",
         "y": {
          "bdata": "AQ==",
          "dtype": "i1"
         },
         "yaxis": "y"
        },
        {
         "hovertemplate": "Admin 1=Macedonia and Thrace<br>Year=%{x}<br>Attack_Count=%{y}<extra></extra>",
         "legendgroup": "Macedonia and Thrace",
         "line": {
          "color": "#FF6692",
          "dash": "solid"
         },
         "marker": {
          "symbol": "circle"
         },
         "mode": "lines",
         "name": "Macedonia and Thrace",
         "showlegend": true,
         "type": "scattergl",
         "x": {
          "bdata": "5AcAAA==",
          "dtype": "i4"
         },
         "xaxis": "x",
         "y": {
          "bdata": "AQ==",
          "dtype": "i1"
         },
         "yaxis": "y"
        },
        {
         "hovertemplate": "Admin 1=Maidan Wardak Province<br>Year=%{x}<br>Attack_Count=%{y}<extra></extra>",
         "legendgroup": "Maidan Wardak Province",
         "line": {
          "color": "#B6E880",
          "dash": "solid"
         },
         "marker": {
          "symbol": "circle"
         },
         "mode": "lines",
         "name": "Maidan Wardak Province",
         "showlegend": true,
         "type": "scattergl",
         "x": {
          "bdata": "5AcAAOUHAAA=",
          "dtype": "i4"
         },
         "xaxis": "x",
         "y": {
          "bdata": "AQE=",
          "dtype": "i1"
         },
         "yaxis": "y"
        },
        {
         "hovertemplate": "Admin 1=Maputo Province<br>Year=%{x}<br>Attack_Count=%{y}<extra></extra>",
         "legendgroup": "Maputo Province",
         "line": {
          "color": "#FF97FF",
          "dash": "solid"
         },
         "marker": {
          "symbol": "circle"
         },
         "mode": "lines",
         "name": "Maputo Province",
         "showlegend": true,
         "type": "scattergl",
         "x": {
          "bdata": "5AcAAA==",
          "dtype": "i4"
         },
         "xaxis": "x",
         "y": {
          "bdata": "AQ==",
          "dtype": "i1"
         },
         "yaxis": "y"
        },
        {
         "hovertemplate": "Admin 1=Marib Governorate<br>Year=%{x}<br>Attack_Count=%{y}<extra></extra>",
         "legendgroup": "Marib Governorate",
         "line": {
          "color": "#FECB52",
          "dash": "solid"
         },
         "marker": {
          "symbol": "circle"
         },
         "mode": "lines",
         "name": "Marib Governorate",
         "showlegend": true,
         "type": "scattergl",
         "x": {
          "bdata": "5AcAAOYHAADoBwAA",
          "dtype": "i4"
         },
         "xaxis": "x",
         "y": {
          "bdata": "AwEB",
          "dtype": "i1"
         },
         "yaxis": "y"
        },
        {
         "hovertemplate": "Admin 1=Marsabit County<br>Year=%{x}<br>Attack_Count=%{y}<extra></extra>",
         "legendgroup": "Marsabit County",
         "line": {
          "color": "#636efa",
          "dash": "solid"
         },
         "marker": {
          "symbol": "circle"
         },
         "mode": "lines",
         "name": "Marsabit County",
         "showlegend": true,
         "type": "scattergl",
         "x": {
          "bdata": "5AcAAOYHAADoBwAA",
          "dtype": "i4"
         },
         "xaxis": "x",
         "y": {
          "bdata": "AQEB",
          "dtype": "i1"
         },
         "yaxis": "y"
        },
        {
         "hovertemplate": "Admin 1=Martuni Province<br>Year=%{x}<br>Attack_Count=%{y}<extra></extra>",
         "legendgroup": "Martuni Province",
         "line": {
          "color": "#EF553B",
          "dash": "solid"
         },
         "marker": {
          "symbol": "circle"
         },
         "mode": "lines",
         "name": "Martuni Province",
         "showlegend": true,
         "type": "scattergl",
         "x": {
          "bdata": "5AcAAA==",
          "dtype": "i4"
         },
         "xaxis": "x",
         "y": {
          "bdata": "BA==",
          "dtype": "i1"
         },
         "yaxis": "y"
        },
        {
         "hovertemplate": "Admin 1=Mashonaland East<br>Year=%{x}<br>Attack_Count=%{y}<extra></extra>",
         "legendgroup": "Mashonaland East",
         "line": {
          "color": "#00cc96",
          "dash": "solid"
         },
         "marker": {
          "symbol": "circle"
         },
         "mode": "lines",
         "name": "Mashonaland East",
         "showlegend": true,
         "type": "scattergl",
         "x": {
          "bdata": "5AcAAA==",
          "dtype": "i4"
         },
         "xaxis": "x",
         "y": {
          "bdata": "AQ==",
          "dtype": "i1"
         },
         "yaxis": "y"
        },
        {
         "hovertemplate": "Admin 1=Masvingo<br>Year=%{x}<br>Attack_Count=%{y}<extra></extra>",
         "legendgroup": "Masvingo",
         "line": {
          "color": "#ab63fa",
          "dash": "solid"
         },
         "marker": {
          "symbol": "circle"
         },
         "mode": "lines",
         "name": "Masvingo",
         "showlegend": true,
         "type": "scattergl",
         "x": {
          "bdata": "5AcAAA==",
          "dtype": "i4"
         },
         "xaxis": "x",
         "y": {
          "bdata": "AQ==",
          "dtype": "i1"
         },
         "yaxis": "y"
        },
        {
         "hovertemplate": "Admin 1=Maysan Governorate<br>Year=%{x}<br>Attack_Count=%{y}<extra></extra>",
         "legendgroup": "Maysan Governorate",
         "line": {
          "color": "#FFA15A",
          "dash": "solid"
         },
         "marker": {
          "symbol": "circle"
         },
         "mode": "lines",
         "name": "Maysan Governorate",
         "showlegend": true,
         "type": "scattergl",
         "x": {
          "bdata": "5AcAAOYHAADnBwAA",
          "dtype": "i4"
         },
         "xaxis": "x",
         "y": {
          "bdata": "AQEB",
          "dtype": "i1"
         },
         "yaxis": "y"
        },
        {
         "hovertemplate": "Admin 1=Metropolitan France<br>Year=%{x}<br>Attack_Count=%{y}<extra></extra>",
         "legendgroup": "Metropolitan France",
         "line": {
          "color": "#19d3f3",
          "dash": "solid"
         },
         "marker": {
          "symbol": "circle"
         },
         "mode": "lines",
         "name": "Metropolitan France",
         "showlegend": true,
         "type": "scattergl",
         "x": {
          "bdata": "5AcAAA==",
          "dtype": "i4"
         },
         "xaxis": "x",
         "y": {
          "bdata": "AQ==",
          "dtype": "i1"
         },
         "yaxis": "y"
        },
        {
         "hovertemplate": "Admin 1=Mexico City<br>Year=%{x}<br>Attack_Count=%{y}<extra></extra>",
         "legendgroup": "Mexico City",
         "line": {
          "color": "#FF6692",
          "dash": "solid"
         },
         "marker": {
          "symbol": "circle"
         },
         "mode": "lines",
         "name": "Mexico City",
         "showlegend": true,
         "type": "scattergl",
         "x": {
          "bdata": "5AcAAA==",
          "dtype": "i4"
         },
         "xaxis": "x",
         "y": {
          "bdata": "AQ==",
          "dtype": "i1"
         },
         "yaxis": "y"
        },
        {
         "hovertemplate": "Admin 1=Michoacan<br>Year=%{x}<br>Attack_Count=%{y}<extra></extra>",
         "legendgroup": "Michoacan",
         "line": {
          "color": "#B6E880",
          "dash": "solid"
         },
         "marker": {
          "symbol": "circle"
         },
         "mode": "lines",
         "name": "Michoacan",
         "showlegend": true,
         "type": "scattergl",
         "x": {
          "bdata": "5AcAAA==",
          "dtype": "i4"
         },
         "xaxis": "x",
         "y": {
          "bdata": "AQ==",
          "dtype": "i1"
         },
         "yaxis": "y"
        },
        {
         "hovertemplate": "Admin 1=Middlesex County<br>Year=%{x}<br>Attack_Count=%{y}<extra></extra>",
         "legendgroup": "Middlesex County",
         "line": {
          "color": "#FF97FF",
          "dash": "solid"
         },
         "marker": {
          "symbol": "circle"
         },
         "mode": "lines",
         "name": "Middlesex County",
         "showlegend": true,
         "type": "scattergl",
         "x": {
          "bdata": "5AcAAOcHAAA=",
          "dtype": "i4"
         },
         "xaxis": "x",
         "y": {
          "bdata": "AQE=",
          "dtype": "i1"
         },
         "yaxis": "y"
        },
        {
         "hovertemplate": "Admin 1=Mopti<br>Year=%{x}<br>Attack_Count=%{y}<extra></extra>",
         "legendgroup": "Mopti",
         "line": {
          "color": "#FECB52",
          "dash": "solid"
         },
         "marker": {
          "symbol": "circle"
         },
         "mode": "lines",
         "name": "Mopti",
         "showlegend": true,
         "type": "scattergl",
         "x": {
          "bdata": "5AcAAOUHAADmBwAA5wcAAOgHAAA=",
          "dtype": "i4"
         },
         "xaxis": "x",
         "y": {
          "bdata": "BhADCAE=",
          "dtype": "i1"
         },
         "yaxis": "y"
        },
        {
         "hovertemplate": "Admin 1=Mukono<br>Year=%{x}<br>Attack_Count=%{y}<extra></extra>",
         "legendgroup": "Mukono",
         "line": {
          "color": "#636efa",
          "dash": "solid"
         },
         "marker": {
          "symbol": "circle"
         },
         "mode": "lines",
         "name": "Mukono",
         "showlegend": true,
         "type": "scattergl",
         "x": {
          "bdata": "5AcAAOYHAAA=",
          "dtype": "i4"
         },
         "xaxis": "x",
         "y": {
          "bdata": "AQE=",
          "dtype": "i1"
         },
         "yaxis": "y"
        },
        {
         "hovertemplate": "Admin 1=Murqub<br>Year=%{x}<br>Attack_Count=%{y}<extra></extra>",
         "legendgroup": "Murqub",
         "line": {
          "color": "#EF553B",
          "dash": "solid"
         },
         "marker": {
          "symbol": "circle"
         },
         "mode": "lines",
         "name": "Murqub",
         "showlegend": true,
         "type": "scattergl",
         "x": {
          "bdata": "5AcAAA==",
          "dtype": "i4"
         },
         "xaxis": "x",
         "y": {
          "bdata": "AQ==",
          "dtype": "i1"
         },
         "yaxis": "y"
        },
        {
         "hovertemplate": "Admin 1=Muyinga<br>Year=%{x}<br>Attack_Count=%{y}<extra></extra>",
         "legendgroup": "Muyinga",
         "line": {
          "color": "#00cc96",
          "dash": "solid"
         },
         "marker": {
          "symbol": "circle"
         },
         "mode": "lines",
         "name": "Muyinga",
         "showlegend": true,
         "type": "scattergl",
         "x": {
          "bdata": "5AcAAA==",
          "dtype": "i4"
         },
         "xaxis": "x",
         "y": {
          "bdata": "AQ==",
          "dtype": "i1"
         },
         "yaxis": "y"
        },
        {
         "hovertemplate": "Admin 1=Nairobi<br>Year=%{x}<br>Attack_Count=%{y}<extra></extra>",
         "legendgroup": "Nairobi",
         "line": {
          "color": "#ab63fa",
          "dash": "solid"
         },
         "marker": {
          "symbol": "circle"
         },
         "mode": "lines",
         "name": "Nairobi",
         "showlegend": true,
         "type": "scattergl",
         "x": {
          "bdata": "5AcAAOcHAAA=",
          "dtype": "i4"
         },
         "xaxis": "x",
         "y": {
          "bdata": "AQE=",
          "dtype": "i1"
         },
         "yaxis": "y"
        },
        {
         "hovertemplate": "Admin 1=Nangarhar Province<br>Year=%{x}<br>Attack_Count=%{y}<extra></extra>",
         "legendgroup": "Nangarhar Province",
         "line": {
          "color": "#FFA15A",
          "dash": "solid"
         },
         "marker": {
          "symbol": "circle"
         },
         "mode": "lines",
         "name": "Nangarhar Province",
         "showlegend": true,
         "type": "scattergl",
         "x": {
          "bdata": "5AcAAOUHAADmBwAA6AcAAA==",
          "dtype": "i4"
         },
         "xaxis": "x",
         "y": {
          "bdata": "AgEDAg==",
          "dtype": "i1"
         },
         "yaxis": "y"
        },
        {
         "hovertemplate": "Admin 1=Nariño<br>Year=%{x}<br>Attack_Count=%{y}<extra></extra>",
         "legendgroup": "Nariño",
         "line": {
          "color": "#19d3f3",
          "dash": "solid"
         },
         "marker": {
          "symbol": "circle"
         },
         "mode": "lines",
         "name": "Nariño",
         "showlegend": true,
         "type": "scattergl",
         "x": {
          "bdata": "5AcAAOYHAAA=",
          "dtype": "i4"
         },
         "xaxis": "x",
         "y": {
          "bdata": "AwE=",
          "dtype": "i1"
         },
         "yaxis": "y"
        },
        {
         "hovertemplate": "Admin 1=Nasarawa State<br>Year=%{x}<br>Attack_Count=%{y}<extra></extra>",
         "legendgroup": "Nasarawa State",
         "line": {
          "color": "#FF6692",
          "dash": "solid"
         },
         "marker": {
          "symbol": "circle"
         },
         "mode": "lines",
         "name": "Nasarawa State",
         "showlegend": true,
         "type": "scattergl",
         "x": {
          "bdata": "5AcAAOUHAADmBwAA5wcAAOgHAAA=",
          "dtype": "i4"
         },
         "xaxis": "x",
         "y": {
          "bdata": "AQEEBgE=",
          "dtype": "i1"
         },
         "yaxis": "y"
        },
        {
         "hovertemplate": "Admin 1=New Valley<br>Year=%{x}<br>Attack_Count=%{y}<extra></extra>",
         "legendgroup": "New Valley",
         "line": {
          "color": "#B6E880",
          "dash": "solid"
         },
         "marker": {
          "symbol": "circle"
         },
         "mode": "lines",
         "name": "New Valley",
         "showlegend": true,
         "type": "scattergl",
         "x": {
          "bdata": "5AcAAA==",
          "dtype": "i4"
         },
         "xaxis": "x",
         "y": {
          "bdata": "AQ==",
          "dtype": "i1"
         },
         "yaxis": "y"
        },
        {
         "hovertemplate": "Admin 1=Ngozi<br>Year=%{x}<br>Attack_Count=%{y}<extra></extra>",
         "legendgroup": "Ngozi",
         "line": {
          "color": "#FF97FF",
          "dash": "solid"
         },
         "marker": {
          "symbol": "circle"
         },
         "mode": "lines",
         "name": "Ngozi",
         "showlegend": true,
         "type": "scattergl",
         "x": {
          "bdata": "5AcAAA==",
          "dtype": "i4"
         },
         "xaxis": "x",
         "y": {
          "bdata": "Ag==",
          "dtype": "i1"
         },
         "yaxis": "y"
        },
        {
         "hovertemplate": "Admin 1=No Information<br>Year=%{x}<br>Attack_Count=%{y}<extra></extra>",
         "legendgroup": "No Information",
         "line": {
          "color": "#FECB52",
          "dash": "solid"
         },
         "marker": {
          "symbol": "circle"
         },
         "mode": "lines",
         "name": "No Information",
         "showlegend": true,
         "type": "scattergl",
         "x": {
          "bdata": "5AcAAOUHAADmBwAA5wcAAOkHAAA=",
          "dtype": "i4"
         },
         "xaxis": "x",
         "y": {
          "bdata": "AwsJAwE=",
          "dtype": "i1"
         },
         "yaxis": "y"
        },
        {
         "hovertemplate": "Admin 1=Nord-Kivu<br>Year=%{x}<br>Attack_Count=%{y}<extra></extra>",
         "legendgroup": "Nord-Kivu",
         "line": {
          "color": "#636efa",
          "dash": "solid"
         },
         "marker": {
          "symbol": "circle"
         },
         "mode": "lines",
         "name": "Nord-Kivu",
         "showlegend": true,
         "type": "scattergl",
         "x": {
          "bdata": "5AcAAA==",
          "dtype": "i4"
         },
         "xaxis": "x",
         "y": {
          "bdata": "AQ==",
          "dtype": "i1"
         },
         "yaxis": "y"
        },
        {
         "hovertemplate": "Admin 1=Norte De Santander<br>Year=%{x}<br>Attack_Count=%{y}<extra></extra>",
         "legendgroup": "Norte De Santander",
         "line": {
          "color": "#EF553B",
          "dash": "solid"
         },
         "marker": {
          "symbol": "circle"
         },
         "mode": "lines",
         "name": "Norte De Santander",
         "showlegend": true,
         "type": "scattergl",
         "x": {
          "bdata": "5AcAAA==",
          "dtype": "i4"
         },
         "xaxis": "x",
         "y": {
          "bdata": "AQ==",
          "dtype": "i1"
         },
         "yaxis": "y"
        },
        {
         "hovertemplate": "Admin 1=North<br>Year=%{x}<br>Attack_Count=%{y}<extra></extra>",
         "legendgroup": "North",
         "line": {
          "color": "#00cc96",
          "dash": "solid"
         },
         "marker": {
          "symbol": "circle"
         },
         "mode": "lines",
         "name": "North",
         "showlegend": true,
         "type": "scattergl",
         "x": {
          "bdata": "5AcAAOUHAADmBwAA5wcAAOgHAAA=",
          "dtype": "i4"
         },
         "xaxis": "x",
         "y": {
          "bdata": "AQENAQM=",
          "dtype": "i1"
         },
         "yaxis": "y"
        },
        {
         "hovertemplate": "Admin 1=North Kivu<br>Year=%{x}<br>Attack_Count=%{y}<extra></extra>",
         "legendgroup": "North Kivu",
         "line": {
          "color": "#ab63fa",
          "dash": "solid"
         },
         "marker": {
          "symbol": "circle"
         },
         "mode": "lines",
         "name": "North Kivu",
         "showlegend": true,
         "type": "scattergl",
         "x": {
          "bdata": "5AcAAOUHAADmBwAA5wcAAOgHAADpBwAA",
          "dtype": "i4"
         },
         "xaxis": "x",
         "y": {
          "bdata": "CAcLDQMB",
          "dtype": "i1"
         },
         "yaxis": "y"
        },
        {
         "hovertemplate": "Admin 1=North West<br>Year=%{x}<br>Attack_Count=%{y}<extra></extra>",
         "legendgroup": "North West",
         "line": {
          "color": "#FFA15A",
          "dash": "solid"
         },
         "marker": {
          "symbol": "circle"
         },
         "mode": "lines",
         "name": "North West",
         "showlegend": true,
         "type": "scattergl",
         "x": {
          "bdata": "5AcAAOUHAAA=",
          "dtype": "i4"
         },
         "xaxis": "x",
         "y": {
          "bdata": "AQE=",
          "dtype": "i1"
         },
         "yaxis": "y"
        },
        {
         "hovertemplate": "Admin 1=Northwest<br>Year=%{x}<br>Attack_Count=%{y}<extra></extra>",
         "legendgroup": "Northwest",
         "line": {
          "color": "#19d3f3",
          "dash": "solid"
         },
         "marker": {
          "symbol": "circle"
         },
         "mode": "lines",
         "name": "Northwest",
         "showlegend": true,
         "type": "scattergl",
         "x": {
          "bdata": "5AcAAOUHAADmBwAA5wcAAOgHAAA=",
          "dtype": "i4"
         },
         "xaxis": "x",
         "y": {
          "bdata": "CwkMCQQ=",
          "dtype": "i1"
         },
         "yaxis": "y"
        },
        {
         "hovertemplate": "Admin 1=Nova Scotia<br>Year=%{x}<br>Attack_Count=%{y}<extra></extra>",
         "legendgroup": "Nova Scotia",
         "line": {
          "color": "#FF6692",
          "dash": "solid"
         },
         "marker": {
          "symbol": "circle"
         },
         "mode": "lines",
         "name": "Nova Scotia",
         "showlegend": true,
         "type": "scattergl",
         "x": {
          "bdata": "5AcAAA==",
          "dtype": "i4"
         },
         "xaxis": "x",
         "y": {
          "bdata": "AQ==",
          "dtype": "i1"
         },
         "yaxis": "y"
        },
        {
         "hovertemplate": "Admin 1=Oaxaca<br>Year=%{x}<br>Attack_Count=%{y}<extra></extra>",
         "legendgroup": "Oaxaca",
         "line": {
          "color": "#B6E880",
          "dash": "solid"
         },
         "marker": {
          "symbol": "circle"
         },
         "mode": "lines",
         "name": "Oaxaca",
         "showlegend": true,
         "type": "scattergl",
         "x": {
          "bdata": "5AcAAOUHAAA=",
          "dtype": "i4"
         },
         "xaxis": "x",
         "y": {
          "bdata": "AgE=",
          "dtype": "i1"
         },
         "yaxis": "y"
        },
        {
         "hovertemplate": "Admin 1=Ogun State<br>Year=%{x}<br>Attack_Count=%{y}<extra></extra>",
         "legendgroup": "Ogun State",
         "line": {
          "color": "#FF97FF",
          "dash": "solid"
         },
         "marker": {
          "symbol": "circle"
         },
         "mode": "lines",
         "name": "Ogun State",
         "showlegend": true,
         "type": "scattergl",
         "x": {
          "bdata": "5AcAAOUHAADnBwAA",
          "dtype": "i4"
         },
         "xaxis": "x",
         "y": {
          "bdata": "AgQC",
          "dtype": "i1"
         },
         "yaxis": "y"
        },
        {
         "hovertemplate": "Admin 1=Ondo State<br>Year=%{x}<br>Attack_Count=%{y}<extra></extra>",
         "legendgroup": "Ondo State",
         "line": {
          "color": "#FECB52",
          "dash": "solid"
         },
         "marker": {
          "symbol": "circle"
         },
         "mode": "lines",
         "name": "Ondo State",
         "showlegend": true,
         "type": "scattergl",
         "x": {
          "bdata": "5AcAAOUHAADmBwAA",
          "dtype": "i4"
         },
         "xaxis": "x",
         "y": {
          "bdata": "AQMB",
          "dtype": "i1"
         },
         "yaxis": "y"
        },
        {
         "hovertemplate": "Admin 1=Oromia Region<br>Year=%{x}<br>Attack_Count=%{y}<extra></extra>",
         "legendgroup": "Oromia Region",
         "line": {
          "color": "#636efa",
          "dash": "solid"
         },
         "marker": {
          "symbol": "circle"
         },
         "mode": "lines",
         "name": "Oromia Region",
         "showlegend": true,
         "type": "scattergl",
         "x": {
          "bdata": "5AcAAOUHAADmBwAA5wcAAOgHAADpBwAA",
          "dtype": "i4"
         },
         "xaxis": "x",
         "y": {
          "bdata": "BAIFBAQC",
          "dtype": "i1"
         },
         "yaxis": "y"
        },
        {
         "hovertemplate": "Admin 1=Oromia region<br>Year=%{x}<br>Attack_Count=%{y}<extra></extra>",
         "legendgroup": "Oromia region",
         "line": {
          "color": "#EF553B",
          "dash": "solid"
         },
         "marker": {
          "symbol": "circle"
         },
         "mode": "lines",
         "name": "Oromia region",
         "showlegend": true,
         "type": "scattergl",
         "x": {
          "bdata": "5AcAAA==",
          "dtype": "i4"
         },
         "xaxis": "x",
         "y": {
          "bdata": "AQ==",
          "dtype": "i1"
         },
         "yaxis": "y"
        },
        {
         "hovertemplate": "Admin 1=Ouham<br>Year=%{x}<br>Attack_Count=%{y}<extra></extra>",
         "legendgroup": "Ouham",
         "line": {
          "color": "#00cc96",
          "dash": "solid"
         },
         "marker": {
          "symbol": "circle"
         },
         "mode": "lines",
         "name": "Ouham",
         "showlegend": true,
         "type": "scattergl",
         "x": {
          "bdata": "5AcAAOcHAAA=",
          "dtype": "i4"
         },
         "xaxis": "x",
         "y": {
          "bdata": "AQE=",
          "dtype": "i1"
         },
         "yaxis": "y"
        },
        {
         "hovertemplate": "Admin 1=Petén<br>Year=%{x}<br>Attack_Count=%{y}<extra></extra>",
         "legendgroup": "Petén",
         "line": {
          "color": "#ab63fa",
          "dash": "solid"
         },
         "marker": {
          "symbol": "circle"
         },
         "mode": "lines",
         "name": "Petén",
         "showlegend": true,
         "type": "scattergl",
         "x": {
          "bdata": "5AcAAA==",
          "dtype": "i4"
         },
         "xaxis": "x",
         "y": {
          "bdata": "AQ==",
          "dtype": "i1"
         },
         "yaxis": "y"
        },
        {
         "hovertemplate": "Admin 1=Plateau State<br>Year=%{x}<br>Attack_Count=%{y}<extra></extra>",
         "legendgroup": "Plateau State",
         "line": {
          "color": "#FFA15A",
          "dash": "solid"
         },
         "marker": {
          "symbol": "circle"
         },
         "mode": "lines",
         "name": "Plateau State",
         "showlegend": true,
         "type": "scattergl",
         "x": {
          "bdata": "5AcAAOUHAADmBwAA5wcAAOgHAADpBwAA",
          "dtype": "i4"
         },
         "xaxis": "x",
         "y": {
          "bdata": "AwgEAgEC",
          "dtype": "i1"
         },
         "yaxis": "y"
        },
        {
         "hovertemplate": "Admin 1=Province de Toliara<br>Year=%{x}<br>Attack_Count=%{y}<extra></extra>",
         "legendgroup": "Province de Toliara",
         "line": {
          "color": "#19d3f3",
          "dash": "solid"
         },
         "marker": {
          "symbol": "circle"
         },
         "mode": "lines",
         "name": "Province de Toliara",
         "showlegend": true,
         "type": "scattergl",
         "x": {
          "bdata": "5AcAAA==",
          "dtype": "i4"
         },
         "xaxis": "x",
         "y": {
          "bdata": "AQ==",
          "dtype": "i1"
         },
         "yaxis": "y"
        },
        {
         "hovertemplate": "Admin 1=Puebla<br>Year=%{x}<br>Attack_Count=%{y}<extra></extra>",
         "legendgroup": "Puebla",
         "line": {
          "color": "#FF6692",
          "dash": "solid"
         },
         "marker": {
          "symbol": "circle"
         },
         "mode": "lines",
         "name": "Puebla",
         "showlegend": true,
         "type": "scattergl",
         "x": {
          "bdata": "5AcAAA==",
          "dtype": "i4"
         },
         "xaxis": "x",
         "y": {
          "bdata": "AQ==",
          "dtype": "i1"
         },
         "yaxis": "y"
        },
        {
         "hovertemplate": "Admin 1=Qarchak County<br>Year=%{x}<br>Attack_Count=%{y}<extra></extra>",
         "legendgroup": "Qarchak County",
         "line": {
          "color": "#B6E880",
          "dash": "solid"
         },
         "marker": {
          "symbol": "circle"
         },
         "mode": "lines",
         "name": "Qarchak County",
         "showlegend": true,
         "type": "scattergl",
         "x": {
          "bdata": "5AcAAA==",
          "dtype": "i4"
         },
         "xaxis": "x",
         "y": {
          "bdata": "AQ==",
          "dtype": "i1"
         },
         "yaxis": "y"
        },
        {
         "hovertemplate": "Admin 1=Quindío<br>Year=%{x}<br>Attack_Count=%{y}<extra></extra>",
         "legendgroup": "Quindío",
         "line": {
          "color": "#FF97FF",
          "dash": "solid"
         },
         "marker": {
          "symbol": "circle"
         },
         "mode": "lines",
         "name": "Quindío",
         "showlegend": true,
         "type": "scattergl",
         "x": {
          "bdata": "5AcAAA==",
          "dtype": "i4"
         },
         "xaxis": "x",
         "y": {
          "bdata": "AQ==",
          "dtype": "i1"
         },
         "yaxis": "y"
        },
        {
         "hovertemplate": "Admin 1=RAP Caribe<br>Year=%{x}<br>Attack_Count=%{y}<extra></extra>",
         "legendgroup": "RAP Caribe",
         "line": {
          "color": "#FECB52",
          "dash": "solid"
         },
         "marker": {
          "symbol": "circle"
         },
         "mode": "lines",
         "name": "RAP Caribe",
         "showlegend": true,
         "type": "scattergl",
         "x": {
          "bdata": "5AcAAOcHAADoBwAA",
          "dtype": "i4"
         },
         "xaxis": "x",
         "y": {
          "bdata": "AQEC",
          "dtype": "i1"
         },
         "yaxis": "y"
        },
        {
         "hovertemplate": "Admin 1=RAP Eje Cafetero<br>Year=%{x}<br>Attack_Count=%{y}<extra></extra>",
         "legendgroup": "RAP Eje Cafetero",
         "line": {
          "color": "#636efa",
          "dash": "solid"
         },
         "marker": {
          "symbol": "circle"
         },
         "mode": "lines",
         "name": "RAP Eje Cafetero",
         "showlegend": true,
         "type": "scattergl",
         "x": {
          "bdata": "5AcAAA==",
          "dtype": "i4"
         },
         "xaxis": "x",
         "y": {
          "bdata": "AQ==",
          "dtype": "i1"
         },
         "yaxis": "y"
        },
        {
         "hovertemplate": "Admin 1=RAP Llanos<br>Year=%{x}<br>Attack_Count=%{y}<extra></extra>",
         "legendgroup": "RAP Llanos",
         "line": {
          "color": "#EF553B",
          "dash": "solid"
         },
         "marker": {
          "symbol": "circle"
         },
         "mode": "lines",
         "name": "RAP Llanos",
         "showlegend": true,
         "type": "scattergl",
         "x": {
          "bdata": "5AcAAOYHAAA=",
          "dtype": "i4"
         },
         "xaxis": "x",
         "y": {
          "bdata": "AQI=",
          "dtype": "i1"
         },
         "yaxis": "y"
        },
        {
         "hovertemplate": "Admin 1=RAP del Agua y la Montaña<br>Year=%{x}<br>Attack_Count=%{y}<extra></extra>",
         "legendgroup": "RAP del Agua y la Montaña",
         "line": {
          "color": "#00cc96",
          "dash": "solid"
         },
         "marker": {
          "symbol": "circle"
         },
         "mode": "lines",
         "name": "RAP del Agua y la Montaña",
         "showlegend": true,
         "type": "scattergl",
         "x": {
          "bdata": "5AcAAOYHAADnBwAA",
          "dtype": "i4"
         },
         "xaxis": "x",
         "y": {
          "bdata": "AgED",
          "dtype": "i1"
         },
         "yaxis": "y"
        },
        {
         "hovertemplate": "Admin 1=Rajasthan<br>Year=%{x}<br>Attack_Count=%{y}<extra></extra>",
         "legendgroup": "Rajasthan",
         "line": {
          "color": "#ab63fa",
          "dash": "solid"
         },
         "marker": {
          "symbol": "circle"
         },
         "mode": "lines",
         "name": "Rajasthan",
         "showlegend": true,
         "type": "scattergl",
         "x": {
          "bdata": "5AcAAOcHAAA=",
          "dtype": "i4"
         },
         "xaxis": "x",
         "y": {
          "bdata": "AQI=",
          "dtype": "i1"
         },
         "yaxis": "y"
        },
        {
         "hovertemplate": "Admin 1=Rajshahi Division<br>Year=%{x}<br>Attack_Count=%{y}<extra></extra>",
         "legendgroup": "Rajshahi Division",
         "line": {
          "color": "#FFA15A",
          "dash": "solid"
         },
         "marker": {
          "symbol": "circle"
         },
         "mode": "lines",
         "name": "Rajshahi Division",
         "showlegend": true,
         "type": "scattergl",
         "x": {
          "bdata": "5AcAAOgHAAA=",
          "dtype": "i4"
         },
         "xaxis": "x",
         "y": {
          "bdata": "AQQ=",
          "dtype": "i1"
         },
         "yaxis": "y"
        },
        {
         "hovertemplate": "Admin 1=Rajshahi division<br>Year=%{x}<br>Attack_Count=%{y}<extra></extra>",
         "legendgroup": "Rajshahi division",
         "line": {
          "color": "#19d3f3",
          "dash": "solid"
         },
         "marker": {
          "symbol": "circle"
         },
         "mode": "lines",
         "name": "Rajshahi division",
         "showlegend": true,
         "type": "scattergl",
         "x": {
          "bdata": "5AcAAA==",
          "dtype": "i4"
         },
         "xaxis": "x",
         "y": {
          "bdata": "AQ==",
          "dtype": "i1"
         },
         "yaxis": "y"
        },
        {
         "hovertemplate": "Admin 1=Rakhine<br>Year=%{x}<br>Attack_Count=%{y}<extra></extra>",
         "legendgroup": "Rakhine",
         "line": {
          "color": "#FF6692",
          "dash": "solid"
         },
         "marker": {
          "symbol": "circle"
         },
         "mode": "lines",
         "name": "Rakhine",
         "showlegend": true,
         "type": "scattergl",
         "x": {
          "bdata": "5AcAAOUHAADmBwAA5wcAAOgHAADpBwAA",
          "dtype": "i4"
         },
         "xaxis": "x",
         "y": {
          "bdata": "BQICBCoD",
          "dtype": "i1"
         },
         "yaxis": "y"
        },
        {
         "hovertemplate": "Admin 1=Rangpur Division<br>Year=%{x}<br>Attack_Count=%{y}<extra></extra>",
         "legendgroup": "Rangpur Division",
         "line": {
          "color": "#B6E880",
          "dash": "solid"
         },
         "marker": {
          "symbol": "circle"
         },
         "mode": "lines",
         "name": "Rangpur Division",
         "showlegend": true,
         "type": "scattergl",
         "x": {
          "bdata": "5AcAAOUHAAA=",
          "dtype": "i4"
         },
         "xaxis": "x",
         "y": {
          "bdata": "AQE=",
          "dtype": "i1"
         },
         "yaxis": "y"
        },
        {
         "hovertemplate": "Admin 1=Raymah Governorate<br>Year=%{x}<br>Attack_Count=%{y}<extra></extra>",
         "legendgroup": "Raymah Governorate",
         "line": {
          "color": "#FF97FF",
          "dash": "solid"
         },
         "marker": {
          "symbol": "circle"
         },
         "mode": "lines",
         "name": "Raymah Governorate",
         "showlegend": true,
         "type": "scattergl",
         "x": {
          "bdata": "5AcAAOYHAADoBwAA",
          "dtype": "i4"
         },
         "xaxis": "x",
         "y": {
          "bdata": "AQEB",
          "dtype": "i1"
         },
         "yaxis": "y"
        },
        {
         "hovertemplate": "Admin 1=Rio de Janeiro<br>Year=%{x}<br>Attack_Count=%{y}<extra></extra>",
         "legendgroup": "Rio de Janeiro",
         "line": {
          "color": "#FECB52",
          "dash": "solid"
         },
         "marker": {
          "symbol": "circle"
         },
         "mode": "lines",
         "name": "Rio de Janeiro",
         "showlegend": true,
         "type": "scattergl",
         "x": {
          "bdata": "5AcAAA==",
          "dtype": "i4"
         },
         "xaxis": "x",
         "y": {
          "bdata": "AQ==",
          "dtype": "i1"
         },
         "yaxis": "y"
        },
        {
         "hovertemplate": "Admin 1=Rumonge<br>Year=%{x}<br>Attack_Count=%{y}<extra></extra>",
         "legendgroup": "Rumonge",
         "line": {
          "color": "#636efa",
          "dash": "solid"
         },
         "marker": {
          "symbol": "circle"
         },
         "mode": "lines",
         "name": "Rumonge",
         "showlegend": true,
         "type": "scattergl",
         "x": {
          "bdata": "5AcAAOUHAAA=",
          "dtype": "i4"
         },
         "xaxis": "x",
         "y": {
          "bdata": "AQE=",
          "dtype": "i1"
         },
         "yaxis": "y"
        },
        {
         "hovertemplate": "Admin 1=Sahel<br>Year=%{x}<br>Attack_Count=%{y}<extra></extra>",
         "legendgroup": "Sahel",
         "line": {
          "color": "#EF553B",
          "dash": "solid"
         },
         "marker": {
          "symbol": "circle"
         },
         "mode": "lines",
         "name": "Sahel",
         "showlegend": true,
         "type": "scattergl",
         "x": {
          "bdata": "5AcAAOUHAADmBwAA5wcAAOgHAAA=",
          "dtype": "i4"
         },
         "xaxis": "x",
         "y": {
          "bdata": "AwIFAgI=",
          "dtype": "i1"
         },
         "yaxis": "y"
        },
        {
         "hovertemplate": "Admin 1=Santa Bárbara<br>Year=%{x}<br>Attack_Count=%{y}<extra></extra>",
         "legendgroup": "Santa Bárbara",
         "line": {
          "color": "#00cc96",
          "dash": "solid"
         },
         "marker": {
          "symbol": "circle"
         },
         "mode": "lines",
         "name": "Santa Bárbara",
         "showlegend": true,
         "type": "scattergl",
         "x": {
          "bdata": "5AcAAA==",
          "dtype": "i4"
         },
         "xaxis": "x",
         "y": {
          "bdata": "AQ==",
          "dtype": "i1"
         },
         "yaxis": "y"
        },
        {
         "hovertemplate": "Admin 1=Santiago Metropolitan Region<br>Year=%{x}<br>Attack_Count=%{y}<extra></extra>",
         "legendgroup": "Santiago Metropolitan Region",
         "line": {
          "color": "#ab63fa",
          "dash": "solid"
         },
         "marker": {
          "symbol": "circle"
         },
         "mode": "lines",
         "name": "Santiago Metropolitan Region",
         "showlegend": true,
         "type": "scattergl",
         "x": {
          "bdata": "5AcAAA==",
          "dtype": "i4"
         },
         "xaxis": "x",
         "y": {
          "bdata": "Ag==",
          "dtype": "i1"
         },
         "yaxis": "y"
        },
        {
         "hovertemplate": "Admin 1=Sar-e Pol Province<br>Year=%{x}<br>Attack_Count=%{y}<extra></extra>",
         "legendgroup": "Sar-e Pol Province",
         "line": {
          "color": "#FFA15A",
          "dash": "solid"
         },
         "marker": {
          "symbol": "circle"
         },
         "mode": "lines",
         "name": "Sar-e Pol Province",
         "showlegend": true,
         "type": "scattergl",
         "x": {
          "bdata": "5AcAAOcHAAA=",
          "dtype": "i4"
         },
         "xaxis": "x",
         "y": {
          "bdata": "AQI=",
          "dtype": "i1"
         },
         "yaxis": "y"
        },
        {
         "hovertemplate": "Admin 1=Sidi Bouzid<br>Year=%{x}<br>Attack_Count=%{y}<extra></extra>",
         "legendgroup": "Sidi Bouzid",
         "line": {
          "color": "#19d3f3",
          "dash": "solid"
         },
         "marker": {
          "symbol": "circle"
         },
         "mode": "lines",
         "name": "Sidi Bouzid",
         "showlegend": true,
         "type": "scattergl",
         "x": {
          "bdata": "5AcAAA==",
          "dtype": "i4"
         },
         "xaxis": "x",
         "y": {
          "bdata": "AQ==",
          "dtype": "i1"
         },
         "yaxis": "y"
        },
        {
         "hovertemplate": "Admin 1=Soccsksargen<br>Year=%{x}<br>Attack_Count=%{y}<extra></extra>",
         "legendgroup": "Soccsksargen",
         "line": {
          "color": "#FF6692",
          "dash": "solid"
         },
         "marker": {
          "symbol": "circle"
         },
         "mode": "lines",
         "name": "Soccsksargen",
         "showlegend": true,
         "type": "scattergl",
         "x": {
          "bdata": "5AcAAOYHAADnBwAA",
          "dtype": "i4"
         },
         "xaxis": "x",
         "y": {
          "bdata": "AQMC",
          "dtype": "i1"
         },
         "yaxis": "y"
        },
        {
         "hovertemplate": "Admin 1=Sofala Province<br>Year=%{x}<br>Attack_Count=%{y}<extra></extra>",
         "legendgroup": "Sofala Province",
         "line": {
          "color": "#B6E880",
          "dash": "solid"
         },
         "marker": {
          "symbol": "circle"
         },
         "mode": "lines",
         "name": "Sofala Province",
         "showlegend": true,
         "type": "scattergl",
         "x": {
          "bdata": "5AcAAA==",
          "dtype": "i4"
         },
         "xaxis": "x",
         "y": {
          "bdata": "AQ==",
          "dtype": "i1"
         },
         "yaxis": "y"
        },
        {
         "hovertemplate": "Admin 1=South Cotabato<br>Year=%{x}<br>Attack_Count=%{y}<extra></extra>",
         "legendgroup": "South Cotabato",
         "line": {
          "color": "#FF97FF",
          "dash": "solid"
         },
         "marker": {
          "symbol": "circle"
         },
         "mode": "lines",
         "name": "South Cotabato",
         "showlegend": true,
         "type": "scattergl",
         "x": {
          "bdata": "5AcAAA==",
          "dtype": "i4"
         },
         "xaxis": "x",
         "y": {
          "bdata": "Ag==",
          "dtype": "i1"
         },
         "yaxis": "y"
        },
        {
         "hovertemplate": "Admin 1=South Kivu<br>Year=%{x}<br>Attack_Count=%{y}<extra></extra>",
         "legendgroup": "South Kivu",
         "line": {
          "color": "#FECB52",
          "dash": "solid"
         },
         "marker": {
          "symbol": "circle"
         },
         "mode": "lines",
         "name": "South Kivu",
         "showlegend": true,
         "type": "scattergl",
         "x": {
          "bdata": "5AcAAOUHAADmBwAA5wcAAOgHAADpBwAA",
          "dtype": "i4"
         },
         "xaxis": "x",
         "y": {
          "bdata": "AQUIAgEF",
          "dtype": "i1"
         },
         "yaxis": "y"
        },
        {
         "hovertemplate": "Admin 1=South Kordofan State<br>Year=%{x}<br>Attack_Count=%{y}<extra></extra>",
         "legendgroup": "South Kordofan State",
         "line": {
          "color": "#636efa",
          "dash": "solid"
         },
         "marker": {
          "symbol": "circle"
         },
         "mode": "lines",
         "name": "South Kordofan State",
         "showlegend": true,
         "type": "scattergl",
         "x": {
          "bdata": "5AcAAOcHAAA=",
          "dtype": "i4"
         },
         "xaxis": "x",
         "y": {
          "bdata": "AgE=",
          "dtype": "i1"
         },
         "yaxis": "y"
        },
        {
         "hovertemplate": "Admin 1=Southern Nations<br>Year=%{x}<br>Attack_Count=%{y}<extra></extra>",
         "legendgroup": "Southern Nations",
         "line": {
          "color": "#EF553B",
          "dash": "solid"
         },
         "marker": {
          "symbol": "circle"
         },
         "mode": "lines",
         "name": "Southern Nations",
         "showlegend": true,
         "type": "scattergl",
         "x": {
          "bdata": "5AcAAA==",
          "dtype": "i4"
         },
         "xaxis": "x",
         "y": {
          "bdata": "AQ==",
          "dtype": "i1"
         },
         "yaxis": "y"
        },
        {
         "hovertemplate": "Admin 1=Southern Region, Malawi<br>Year=%{x}<br>Attack_Count=%{y}<extra></extra>",
         "legendgroup": "Southern Region, Malawi",
         "line": {
          "color": "#00cc96",
          "dash": "solid"
         },
         "marker": {
          "symbol": "circle"
         },
         "mode": "lines",
         "name": "Southern Region, Malawi",
         "showlegend": true,
         "type": "scattergl",
         "x": {
          "bdata": "5AcAAOcHAAA=",
          "dtype": "i4"
         },
         "xaxis": "x",
         "y": {
          "bdata": "AQE=",
          "dtype": "i1"
         },
         "yaxis": "y"
        },
        {
         "hovertemplate": "Admin 1=Southwest<br>Year=%{x}<br>Attack_Count=%{y}<extra></extra>",
         "legendgroup": "Southwest",
         "line": {
          "color": "#ab63fa",
          "dash": "solid"
         },
         "marker": {
          "symbol": "circle"
         },
         "mode": "lines",
         "name": "Southwest",
         "showlegend": true,
         "type": "scattergl",
         "x": {
          "bdata": "5AcAAOUHAADmBwAA5wcAAOgHAAA=",
          "dtype": "i4"
         },
         "xaxis": "x",
         "y": {
          "bdata": "BgQIBAE=",
          "dtype": "i1"
         },
         "yaxis": "y"
        },
        {
         "hovertemplate": "Admin 1=Spandau<br>Year=%{x}<br>Attack_Count=%{y}<extra></extra>",
         "legendgroup": "Spandau",
         "line": {
          "color": "#FFA15A",
          "dash": "solid"
         },
         "marker": {
          "symbol": "circle"
         },
         "mode": "lines",
         "name": "Spandau",
         "showlegend": true,
         "type": "scattergl",
         "x": {
          "bdata": "5AcAAA==",
          "dtype": "i4"
         },
         "xaxis": "x",
         "y": {
          "bdata": "AQ==",
          "dtype": "i1"
         },
         "yaxis": "y"
        },
        {
         "hovertemplate": "Admin 1=Sumatra<br>Year=%{x}<br>Attack_Count=%{y}<extra></extra>",
         "legendgroup": "Sumatra",
         "line": {
          "color": "#19d3f3",
          "dash": "solid"
         },
         "marker": {
          "symbol": "circle"
         },
         "mode": "lines",
         "name": "Sumatra",
         "showlegend": true,
         "type": "scattergl",
         "x": {
          "bdata": "5AcAAA==",
          "dtype": "i4"
         },
         "xaxis": "x",
         "y": {
          "bdata": "AQ==",
          "dtype": "i1"
         },
         "yaxis": "y"
        },
        {
         "hovertemplate": "Admin 1=Surrey County<br>Year=%{x}<br>Attack_Count=%{y}<extra></extra>",
         "legendgroup": "Surrey County",
         "line": {
          "color": "#FF6692",
          "dash": "solid"
         },
         "marker": {
          "symbol": "circle"
         },
         "mode": "lines",
         "name": "Surrey County",
         "showlegend": true,
         "type": "scattergl",
         "x": {
          "bdata": "5AcAAA==",
          "dtype": "i4"
         },
         "xaxis": "x",
         "y": {
          "bdata": "AQ==",
          "dtype": "i1"
         },
         "yaxis": "y"
        },
        {
         "hovertemplate": "Admin 1=Ta'izz Governorate<br>Year=%{x}<br>Attack_Count=%{y}<extra></extra>",
         "legendgroup": "Ta'izz Governorate",
         "line": {
          "color": "#B6E880",
          "dash": "solid"
         },
         "marker": {
          "symbol": "circle"
         },
         "mode": "lines",
         "name": "Ta'izz Governorate",
         "showlegend": true,
         "type": "scattergl",
         "x": {
          "bdata": "5AcAAOUHAADmBwAA5wcAAOgHAADpBwAA",
          "dtype": "i4"
         },
         "xaxis": "x",
         "y": {
          "bdata": "CQcFBwMB",
          "dtype": "i1"
         },
         "yaxis": "y"
        },
        {
         "hovertemplate": "Admin 1=Takhar Province<br>Year=%{x}<br>Attack_Count=%{y}<extra></extra>",
         "legendgroup": "Takhar Province",
         "line": {
          "color": "#FF97FF",
          "dash": "solid"
         },
         "marker": {
          "symbol": "circle"
         },
         "mode": "lines",
         "name": "Takhar Province",
         "showlegend": true,
         "type": "scattergl",
         "x": {
          "bdata": "5AcAAOUHAADnBwAA6AcAAA==",
          "dtype": "i4"
         },
         "xaxis": "x",
         "y": {
          "bdata": "AQECAg==",
          "dtype": "i1"
         },
         "yaxis": "y"
        },
        {
         "hovertemplate": "Admin 1=Tamaulipas<br>Year=%{x}<br>Attack_Count=%{y}<extra></extra>",
         "legendgroup": "Tamaulipas",
         "line": {
          "color": "#FECB52",
          "dash": "solid"
         },
         "marker": {
          "symbol": "circle"
         },
         "mode": "lines",
         "name": "Tamaulipas",
         "showlegend": true,
         "type": "scattergl",
         "x": {
          "bdata": "5AcAAA==",
          "dtype": "i4"
         },
         "xaxis": "x",
         "y": {
          "bdata": "AQ==",
          "dtype": "i1"
         },
         "yaxis": "y"
        },
        {
         "hovertemplate": "Admin 1=Tanganyika<br>Year=%{x}<br>Attack_Count=%{y}<extra></extra>",
         "legendgroup": "Tanganyika",
         "line": {
          "color": "#636efa",
          "dash": "solid"
         },
         "marker": {
          "symbol": "circle"
         },
         "mode": "lines",
         "name": "Tanganyika",
         "showlegend": true,
         "type": "scattergl",
         "x": {
          "bdata": "5AcAAOcHAAA=",
          "dtype": "i4"
         },
         "xaxis": "x",
         "y": {
          "bdata": "AgE=",
          "dtype": "i1"
         },
         "yaxis": "y"
        },
        {
         "hovertemplate": "Admin 1=Taraba State<br>Year=%{x}<br>Attack_Count=%{y}<extra></extra>",
         "legendgroup": "Taraba State",
         "line": {
          "color": "#EF553B",
          "dash": "solid"
         },
         "marker": {
          "symbol": "circle"
         },
         "mode": "lines",
         "name": "Taraba State",
         "showlegend": true,
         "type": "scattergl",
         "x": {
          "bdata": "5AcAAOUHAADmBwAA6AcAAA==",
          "dtype": "i4"
         },
         "xaxis": "x",
         "y": {
          "bdata": "AQEBAQ==",
          "dtype": "i1"
         },
         "yaxis": "y"
        },
        {
         "hovertemplate": "Admin 1=Tehran Province<br>Year=%{x}<br>Attack_Count=%{y}<extra></extra>",
         "legendgroup": "Tehran Province",
         "line": {
          "color": "#00cc96",
          "dash": "solid"
         },
         "marker": {
          "symbol": "circle"
         },
         "mode": "lines",
         "name": "Tehran Province",
         "showlegend": true,
         "type": "scattergl",
         "x": {
          "bdata": "5AcAAOUHAADmBwAA5wcAAA==",
          "dtype": "i4"
         },
         "xaxis": "x",
         "y": {
          "bdata": "AQELAQ==",
          "dtype": "i1"
         },
         "yaxis": "y"
        },
        {
         "hovertemplate": "Admin 1=Telangana<br>Year=%{x}<br>Attack_Count=%{y}<extra></extra>",
         "legendgroup": "Telangana",
         "line": {
          "color": "#ab63fa",
          "dash": "solid"
         },
         "marker": {
          "symbol": "circle"
         },
         "mode": "lines",
         "name": "Telangana",
         "showlegend": true,
         "type": "scattergl",
         "x": {
          "bdata": "5AcAAOYHAADnBwAA",
          "dtype": "i4"
         },
         "xaxis": "x",
         "y": {
          "bdata": "AQEB",
          "dtype": "i1"
         },
         "yaxis": "y"
        },
        {
         "hovertemplate": "Admin 1=Tigray<br>Year=%{x}<br>Attack_Count=%{y}<extra></extra>",
         "legendgroup": "Tigray",
         "line": {
          "color": "#FFA15A",
          "dash": "solid"
         },
         "marker": {
          "symbol": "circle"
         },
         "mode": "lines",
         "name": "Tigray",
         "showlegend": true,
         "type": "scattergl",
         "x": {
          "bdata": "5AcAAOUHAADmBwAA5wcAAOkHAAA=",
          "dtype": "i4"
         },
         "xaxis": "x",
         "y": {
          "bdata": "BgIGAQM=",
          "dtype": "i1"
         },
         "yaxis": "y"
        },
        {
         "hovertemplate": "Admin 1=Tillabéri Region<br>Year=%{x}<br>Attack_Count=%{y}<extra></extra>",
         "legendgroup": "Tillabéri Region",
         "line": {
          "color": "#19d3f3",
          "dash": "solid"
         },
         "marker": {
          "symbol": "circle"
         },
         "mode": "lines",
         "name": "Tillabéri Region",
         "showlegend": true,
         "type": "scattergl",
         "x": {
          "bdata": "5AcAAOUHAADmBwAA5wcAAA==",
          "dtype": "i4"
         },
         "xaxis": "x",
         "y": {
          "bdata": "BwQEDg==",
          "dtype": "i1"
         },
         "yaxis": "y"
        },
        {
         "hovertemplate": "Admin 1=Timbuktu<br>Year=%{x}<br>Attack_Count=%{y}<extra></extra>",
         "legendgroup": "Timbuktu",
         "line": {
          "color": "#FF6692",
          "dash": "solid"
         },
         "marker": {
          "symbol": "circle"
         },
         "mode": "lines",
         "name": "Timbuktu",
         "showlegend": true,
         "type": "scattergl",
         "x": {
          "bdata": "5AcAAOUHAADmBwAA5wcAAOgHAAA=",
          "dtype": "i4"
         },
         "xaxis": "x",
         "y": {
          "bdata": "BAEGAgI=",
          "dtype": "i1"
         },
         "yaxis": "y"
        },
        {
         "hovertemplate": "Admin 1=Tripoli<br>Year=%{x}<br>Attack_Count=%{y}<extra></extra>",
         "legendgroup": "Tripoli",
         "line": {
          "color": "#B6E880",
          "dash": "solid"
         },
         "marker": {
          "symbol": "circle"
         },
         "mode": "lines",
         "name": "Tripoli",
         "showlegend": true,
         "type": "scattergl",
         "x": {
          "bdata": "5AcAAOYHAADnBwAA",
          "dtype": "i4"
         },
         "xaxis": "x",
         "y": {
          "bdata": "CQYE",
          "dtype": "i1"
         },
         "yaxis": "y"
        },
        {
         "hovertemplate": "Admin 1=Tripura<br>Year=%{x}<br>Attack_Count=%{y}<extra></extra>",
         "legendgroup": "Tripura",
         "line": {
          "color": "#FF97FF",
          "dash": "solid"
         },
         "marker": {
          "symbol": "circle"
         },
         "mode": "lines",
         "name": "Tripura",
         "showlegend": true,
         "type": "scattergl",
         "x": {
          "bdata": "5AcAAOUHAADmBwAA",
          "dtype": "i4"
         },
         "xaxis": "x",
         "y": {
          "bdata": "AgEB",
          "dtype": "i1"
         },
         "yaxis": "y"
        },
        {
         "hovertemplate": "Admin 1=Valparaiso Region<br>Year=%{x}<br>Attack_Count=%{y}<extra></extra>",
         "legendgroup": "Valparaiso Region",
         "line": {
          "color": "#FECB52",
          "dash": "solid"
         },
         "marker": {
          "symbol": "circle"
         },
         "mode": "lines",
         "name": "Valparaiso Region",
         "showlegend": true,
         "type": "scattergl",
         "x": {
          "bdata": "5AcAAA==",
          "dtype": "i4"
         },
         "xaxis": "x",
         "y": {
          "bdata": "AQ==",
          "dtype": "i1"
         },
         "yaxis": "y"
        },
        {
         "hovertemplate": "Admin 1=Veracruz<br>Year=%{x}<br>Attack_Count=%{y}<extra></extra>",
         "legendgroup": "Veracruz",
         "line": {
          "color": "#636efa",
          "dash": "solid"
         },
         "marker": {
          "symbol": "circle"
         },
         "mode": "lines",
         "name": "Veracruz",
         "showlegend": true,
         "type": "scattergl",
         "x": {
          "bdata": "5AcAAOYHAADoBwAA",
          "dtype": "i4"
         },
         "xaxis": "x",
         "y": {
          "bdata": "AgEB",
          "dtype": "i1"
         },
         "yaxis": "y"
        },
        {
         "hovertemplate": "Admin 1=Wasit Governorate<br>Year=%{x}<br>Attack_Count=%{y}<extra></extra>",
         "legendgroup": "Wasit Governorate",
         "line": {
          "color": "#EF553B",
          "dash": "solid"
         },
         "marker": {
          "symbol": "circle"
         },
         "mode": "lines",
         "name": "Wasit Governorate",
         "showlegend": true,
         "type": "scattergl",
         "x": {
          "bdata": "5AcAAOYHAADoBwAA",
          "dtype": "i4"
         },
         "xaxis": "x",
         "y": {
          "bdata": "AQEB",
          "dtype": "i1"
         },
         "yaxis": "y"
        },
        {
         "hovertemplate": "Admin 1=West<br>Year=%{x}<br>Attack_Count=%{y}<extra></extra>",
         "legendgroup": "West",
         "line": {
          "color": "#00cc96",
          "dash": "solid"
         },
         "marker": {
          "symbol": "circle"
         },
         "mode": "lines",
         "name": "West",
         "showlegend": true,
         "type": "scattergl",
         "x": {
          "bdata": "5AcAAOUHAADmBwAA5wcAAOgHAADpBwAA",
          "dtype": "i4"
         },
         "xaxis": "x",
         "y": {
          "bdata": "BgQEDBcH",
          "dtype": "i1"
         },
         "yaxis": "y"
        },
        {
         "hovertemplate": "Admin 1=West Bank<br>Year=%{x}<br>Attack_Count=%{y}<extra></extra>",
         "legendgroup": "West Bank",
         "line": {
          "color": "#ab63fa",
          "dash": "solid"
         },
         "marker": {
          "symbol": "circle"
         },
         "mode": "lines",
         "name": "West Bank",
         "showlegend": true,
         "type": "scattergl",
         "x": {
          "bdata": "5AcAAOUHAADmBwAA5wcAAOgHAADpBwAA",
          "dtype": "i4"
         },
         "xaxis": "x",
         "y": {
          "bdata": "BAUiFS0R",
          "dtype": "i1"
         },
         "yaxis": "y"
        },
        {
         "hovertemplate": "Admin 1=West Bengal<br>Year=%{x}<br>Attack_Count=%{y}<extra></extra>",
         "legendgroup": "West Bengal",
         "line": {
          "color": "#FFA15A",
          "dash": "solid"
         },
         "marker": {
          "symbol": "circle"
         },
         "mode": "lines",
         "name": "West Bengal",
         "showlegend": true,
         "type": "scattergl",
         "x": {
          "bdata": "5AcAAOcHAADpBwAA",
          "dtype": "i4"
         },
         "xaxis": "x",
         "y": {
          "bdata": "AgEB",
          "dtype": "i1"
         },
         "yaxis": "y"
        },
        {
         "hovertemplate": "Admin 1=Western Antioquia<br>Year=%{x}<br>Attack_Count=%{y}<extra></extra>",
         "legendgroup": "Western Antioquia",
         "line": {
          "color": "#19d3f3",
          "dash": "solid"
         },
         "marker": {
          "symbol": "circle"
         },
         "mode": "lines",
         "name": "Western Antioquia",
         "showlegend": true,
         "type": "scattergl",
         "x": {
          "bdata": "5AcAAA==",
          "dtype": "i4"
         },
         "xaxis": "x",
         "y": {
          "bdata": "AQ==",
          "dtype": "i1"
         },
         "yaxis": "y"
        },
        {
         "hovertemplate": "Admin 1=Western Cape<br>Year=%{x}<br>Attack_Count=%{y}<extra></extra>",
         "legendgroup": "Western Cape",
         "line": {
          "color": "#FF6692",
          "dash": "solid"
         },
         "marker": {
          "symbol": "circle"
         },
         "mode": "lines",
         "name": "Western Cape",
         "showlegend": true,
         "type": "scattergl",
         "x": {
          "bdata": "5AcAAOYHAAA=",
          "dtype": "i4"
         },
         "xaxis": "x",
         "y": {
          "bdata": "AQE=",
          "dtype": "i1"
         },
         "yaxis": "y"
        },
        {
         "hovertemplate": "Admin 1=Western Province<br>Year=%{x}<br>Attack_Count=%{y}<extra></extra>",
         "legendgroup": "Western Province",
         "line": {
          "color": "#B6E880",
          "dash": "solid"
         },
         "marker": {
          "symbol": "circle"
         },
         "mode": "lines",
         "name": "Western Province",
         "showlegend": true,
         "type": "scattergl",
         "x": {
          "bdata": "5AcAAA==",
          "dtype": "i4"
         },
         "xaxis": "x",
         "y": {
          "bdata": "AQ==",
          "dtype": "i1"
         },
         "yaxis": "y"
        },
        {
         "hovertemplate": "Admin 1=Western Region<br>Year=%{x}<br>Attack_Count=%{y}<extra></extra>",
         "legendgroup": "Western Region",
         "line": {
          "color": "#FF97FF",
          "dash": "solid"
         },
         "marker": {
          "symbol": "circle"
         },
         "mode": "lines",
         "name": "Western Region",
         "showlegend": true,
         "type": "scattergl",
         "x": {
          "bdata": "5AcAAA==",
          "dtype": "i4"
         },
         "xaxis": "x",
         "y": {
          "bdata": "AQ==",
          "dtype": "i1"
         },
         "yaxis": "y"
        },
        {
         "hovertemplate": "Admin 1=Woqooyi Galbeed<br>Year=%{x}<br>Attack_Count=%{y}<extra></extra>",
         "legendgroup": "Woqooyi Galbeed",
         "line": {
          "color": "#FECB52",
          "dash": "solid"
         },
         "marker": {
          "symbol": "circle"
         },
         "mode": "lines",
         "name": "Woqooyi Galbeed",
         "showlegend": true,
         "type": "scattergl",
         "x": {
          "bdata": "5AcAAA==",
          "dtype": "i4"
         },
         "xaxis": "x",
         "y": {
          "bdata": "AQ==",
          "dtype": "i1"
         },
         "yaxis": "y"
        },
        {
         "hovertemplate": "Admin 1=Yangon<br>Year=%{x}<br>Attack_Count=%{y}<extra></extra>",
         "legendgroup": "Yangon",
         "line": {
          "color": "#636efa",
          "dash": "solid"
         },
         "marker": {
          "symbol": "circle"
         },
         "mode": "lines",
         "name": "Yangon",
         "showlegend": true,
         "type": "scattergl",
         "x": {
          "bdata": "5AcAAOUHAADmBwAA5wcAAOgHAAA=",
          "dtype": "i4"
         },
         "xaxis": "x",
         "y": {
          "bdata": "ASIDAgE=",
          "dtype": "i1"
         },
         "yaxis": "y"
        },
        {
         "hovertemplate": "Admin 1=Yoro<br>Year=%{x}<br>Attack_Count=%{y}<extra></extra>",
         "legendgroup": "Yoro",
         "line": {
          "color": "#EF553B",
          "dash": "solid"
         },
         "marker": {
          "symbol": "circle"
         },
         "mode": "lines",
         "name": "Yoro",
         "showlegend": true,
         "type": "scattergl",
         "x": {
          "bdata": "5AcAAA==",
          "dtype": "i4"
         },
         "xaxis": "x",
         "y": {
          "bdata": "AQ==",
          "dtype": "i1"
         },
         "yaxis": "y"
        },
        {
         "hovertemplate": "Admin 1=Zona Norte<br>Year=%{x}<br>Attack_Count=%{y}<extra></extra>",
         "legendgroup": "Zona Norte",
         "line": {
          "color": "#00cc96",
          "dash": "solid"
         },
         "marker": {
          "symbol": "circle"
         },
         "mode": "lines",
         "name": "Zona Norte",
         "showlegend": true,
         "type": "scattergl",
         "x": {
          "bdata": "5AcAAOYHAADoBwAA",
          "dtype": "i4"
         },
         "xaxis": "x",
         "y": {
          "bdata": "AgIF",
          "dtype": "i1"
         },
         "yaxis": "y"
        },
        {
         "hovertemplate": "Admin 1='Asir Province<br>Year=%{x}<br>Attack_Count=%{y}<extra></extra>",
         "legendgroup": "'Asir Province",
         "line": {
          "color": "#ab63fa",
          "dash": "solid"
         },
         "marker": {
          "symbol": "circle"
         },
         "mode": "lines",
         "name": "'Asir Province",
         "showlegend": true,
         "type": "scattergl",
         "x": {
          "bdata": "5QcAAA==",
          "dtype": "i4"
         },
         "xaxis": "x",
         "y": {
          "bdata": "AQ==",
          "dtype": "i1"
         },
         "yaxis": "y"
        },
        {
         "hovertemplate": "Admin 1=Abia State<br>Year=%{x}<br>Attack_Count=%{y}<extra></extra>",
         "legendgroup": "Abia State",
         "line": {
          "color": "#FFA15A",
          "dash": "solid"
         },
         "marker": {
          "symbol": "circle"
         },
         "mode": "lines",
         "name": "Abia State",
         "showlegend": true,
         "type": "scattergl",
         "x": {
          "bdata": "5QcAAOgHAAA=",
          "dtype": "i4"
         },
         "xaxis": "x",
         "y": {
          "bdata": "AgE=",
          "dtype": "i1"
         },
         "yaxis": "y"
        },
        {
         "hovertemplate": "Admin 1=Afar Region<br>Year=%{x}<br>Attack_Count=%{y}<extra></extra>",
         "legendgroup": "Afar Region",
         "line": {
          "color": "#19d3f3",
          "dash": "solid"
         },
         "marker": {
          "symbol": "circle"
         },
         "mode": "lines",
         "name": "Afar Region",
         "showlegend": true,
         "type": "scattergl",
         "x": {
          "bdata": "5QcAAOkHAAA=",
          "dtype": "i4"
         },
         "xaxis": "x",
         "y": {
          "bdata": "AQQ=",
          "dtype": "i1"
         },
         "yaxis": "y"
        },
        {
         "hovertemplate": "Admin 1=Al Bayda' Governorate<br>Year=%{x}<br>Attack_Count=%{y}<extra></extra>",
         "legendgroup": "Al Bayda' Governorate",
         "line": {
          "color": "#FF6692",
          "dash": "solid"
         },
         "marker": {
          "symbol": "circle"
         },
         "mode": "lines",
         "name": "Al Bayda' Governorate",
         "showlegend": true,
         "type": "scattergl",
         "x": {
          "bdata": "5QcAAOYHAADoBwAA6QcAAA==",
          "dtype": "i4"
         },
         "xaxis": "x",
         "y": {
          "bdata": "AQEBAw==",
          "dtype": "i1"
         },
         "yaxis": "y"
        },
        {
         "hovertemplate": "Admin 1=Al Hasakeh<br>Year=%{x}<br>Attack_Count=%{y}<extra></extra>",
         "legendgroup": "Al Hasakeh",
         "line": {
          "color": "#B6E880",
          "dash": "solid"
         },
         "marker": {
          "symbol": "circle"
         },
         "mode": "lines",
         "name": "Al Hasakeh",
         "showlegend": true,
         "type": "scattergl",
         "x": {
          "bdata": "5QcAAA==",
          "dtype": "i4"
         },
         "xaxis": "x",
         "y": {
          "bdata": "AQ==",
          "dtype": "i1"
         },
         "yaxis": "y"
        },
        {
         "hovertemplate": "Admin 1=Amhara Region<br>Year=%{x}<br>Attack_Count=%{y}<extra></extra>",
         "legendgroup": "Amhara Region",
         "line": {
          "color": "#FF97FF",
          "dash": "solid"
         },
         "marker": {
          "symbol": "circle"
         },
         "mode": "lines",
         "name": "Amhara Region",
         "showlegend": true,
         "type": "scattergl",
         "x": {
          "bdata": "5QcAAOYHAADnBwAA6AcAAOkHAAA=",
          "dtype": "i4"
         },
         "xaxis": "x",
         "y": {
          "bdata": "AwMLLR8=",
          "dtype": "i1"
         },
         "yaxis": "y"
        },
        {
         "hovertemplate": "Admin 1=Analamanga<br>Year=%{x}<br>Attack_Count=%{y}<extra></extra>",
         "legendgroup": "Analamanga",
         "line": {
          "color": "#FECB52",
          "dash": "solid"
         },
         "marker": {
          "symbol": "circle"
         },
         "mode": "lines",
         "name": "Analamanga",
         "showlegend": true,
         "type": "scattergl",
         "x": {
          "bdata": "5QcAAOYHAAA=",
          "dtype": "i4"
         },
         "xaxis": "x",
         "y": {
          "bdata": "AQE=",
          "dtype": "i1"
         },
         "yaxis": "y"
        },
        {
         "hovertemplate": "Admin 1=Anhui<br>Year=%{x}<br>Attack_Count=%{y}<extra></extra>",
         "legendgroup": "Anhui",
         "line": {
          "color": "#636efa",
          "dash": "solid"
         },
         "marker": {
          "symbol": "circle"
         },
         "mode": "lines",
         "name": "Anhui",
         "showlegend": true,
         "type": "scattergl",
         "x": {
          "bdata": "5QcAAA==",
          "dtype": "i4"
         },
         "xaxis": "x",
         "y": {
          "bdata": "AQ==",
          "dtype": "i1"
         },
         "yaxis": "y"
        },
        {
         "hovertemplate": "Admin 1=Antioquia<br>Year=%{x}<br>Attack_Count=%{y}<extra></extra>",
         "legendgroup": "Antioquia",
         "line": {
          "color": "#EF553B",
          "dash": "solid"
         },
         "marker": {
          "symbol": "circle"
         },
         "mode": "lines",
         "name": "Antioquia",
         "showlegend": true,
         "type": "scattergl",
         "x": {
          "bdata": "5QcAAOYHAAA=",
          "dtype": "i4"
         },
         "xaxis": "x",
         "y": {
          "bdata": "AgE=",
          "dtype": "i1"
         },
         "yaxis": "y"
        },
        {
         "hovertemplate": "Admin 1=Ar-Raqqah Governorate<br>Year=%{x}<br>Attack_Count=%{y}<extra></extra>",
         "legendgroup": "Ar-Raqqah Governorate",
         "line": {
          "color": "#00cc96",
          "dash": "solid"
         },
         "marker": {
          "symbol": "circle"
         },
         "mode": "lines",
         "name": "Ar-Raqqah Governorate",
         "showlegend": true,
         "type": "scattergl",
         "x": {
          "bdata": "5QcAAOYHAADnBwAA",
          "dtype": "i4"
         },
         "xaxis": "x",
         "y": {
          "bdata": "BAQB",
          "dtype": "i1"
         },
         "yaxis": "y"
        },
        {
         "hovertemplate": "Admin 1=Ayeyarwady<br>Year=%{x}<br>Attack_Count=%{y}<extra></extra>",
         "legendgroup": "Ayeyarwady",
         "line": {
          "color": "#ab63fa",
          "dash": "solid"
         },
         "marker": {
          "symbol": "circle"
         },
         "mode": "lines",
         "name": "Ayeyarwady",
         "showlegend": true,
         "type": "scattergl",
         "x": {
          "bdata": "5QcAAOYHAADnBwAA6AcAAOkHAAA=",
          "dtype": "i4"
         },
         "xaxis": "x",
         "y": {
          "bdata": "DgIBBgM=",
          "dtype": "i1"
         },
         "yaxis": "y"
        },
        {
         "hovertemplate": "Admin 1=Badakhshan Province<br>Year=%{x}<br>Attack_Count=%{y}<extra></extra>",
         "legendgroup": "Badakhshan Province",
         "line": {
          "color": "#FFA15A",
          "dash": "solid"
         },
         "marker": {
          "symbol": "circle"
         },
         "mode": "lines",
         "name": "Badakhshan Province",
         "showlegend": true,
         "type": "scattergl",
         "x": {
          "bdata": "5QcAAOYHAADnBwAA6AcAAA==",
          "dtype": "i4"
         },
         "xaxis": "x",
         "y": {
          "bdata": "AQEDAg==",
          "dtype": "i1"
         },
         "yaxis": "y"
        },
        {
         "hovertemplate": "Admin 1=Bago Region<br>Year=%{x}<br>Attack_Count=%{y}<extra></extra>",
         "legendgroup": "Bago Region",
         "line": {
          "color": "#19d3f3",
          "dash": "solid"
         },
         "marker": {
          "symbol": "circle"
         },
         "mode": "lines",
         "name": "Bago Region",
         "showlegend": true,
         "type": "scattergl",
         "x": {
          "bdata": "5QcAAOYHAADnBwAA6AcAAOkHAAA=",
          "dtype": "i4"
         },
         "xaxis": "x",
         "y": {
          "bdata": "DgIJFgE=",
          "dtype": "i1"
         },
         "yaxis": "y"
        },
        {
         "hovertemplate": "Admin 1=Banaadir<br>Year=%{x}<br>Attack_Count=%{y}<extra></extra>",
         "legendgroup": "Banaadir",
         "line": {
          "color": "#FF6692",
          "dash": "solid"
         },
         "marker": {
          "symbol": "circle"
         },
         "mode": "lines",
         "name": "Banaadir",
         "showlegend": true,
         "type": "scattergl",
         "x": {
          "bdata": "5QcAAOYHAADnBwAA6AcAAA==",
          "dtype": "i4"
         },
         "xaxis": "x",
         "y": {
          "bdata": "AQIEAQ==",
          "dtype": "i1"
         },
         "yaxis": "y"
        },
        {
         "hovertemplate": "Admin 1=Batken Region<br>Year=%{x}<br>Attack_Count=%{y}<extra></extra>",
         "legendgroup": "Batken Region",
         "line": {
          "color": "#B6E880",
          "dash": "solid"
         },
         "marker": {
          "symbol": "circle"
         },
         "mode": "lines",
         "name": "Batken Region",
         "showlegend": true,
         "type": "scattergl",
         "x": {
          "bdata": "5QcAAOYHAAA=",
          "dtype": "i4"
         },
         "xaxis": "x",
         "y": {
          "bdata": "AQE=",
          "dtype": "i1"
         },
         "yaxis": "y"
        },
        {
         "hovertemplate": "Admin 1=Bicol Region<br>Year=%{x}<br>Attack_Count=%{y}<extra></extra>",
         "legendgroup": "Bicol Region",
         "line": {
          "color": "#FF97FF",
          "dash": "solid"
         },
         "marker": {
          "symbol": "circle"
         },
         "mode": "lines",
         "name": "Bicol Region",
         "showlegend": true,
         "type": "scattergl",
         "x": {
          "bdata": "5QcAAOcHAAA=",
          "dtype": "i4"
         },
         "xaxis": "x",
         "y": {
          "bdata": "AQU=",
          "dtype": "i1"
         },
         "yaxis": "y"
        },
        {
         "hovertemplate": "Admin 1=Biobío Region<br>Year=%{x}<br>Attack_Count=%{y}<extra></extra>",
         "legendgroup": "Biobío Region",
         "line": {
          "color": "#FECB52",
          "dash": "solid"
         },
         "marker": {
          "symbol": "circle"
         },
         "mode": "lines",
         "name": "Biobío Region",
         "showlegend": true,
         "type": "scattergl",
         "x": {
          "bdata": "5QcAAA==",
          "dtype": "i4"
         },
         "xaxis": "x",
         "y": {
          "bdata": "AQ==",
          "dtype": "i1"
         },
         "yaxis": "y"
        },
        {
         "hovertemplate": "Admin 1=Bishkek<br>Year=%{x}<br>Attack_Count=%{y}<extra></extra>",
         "legendgroup": "Bishkek",
         "line": {
          "color": "#636efa",
          "dash": "solid"
         },
         "marker": {
          "symbol": "circle"
         },
         "mode": "lines",
         "name": "Bishkek",
         "showlegend": true,
         "type": "scattergl",
         "x": {
          "bdata": "5QcAAA==",
          "dtype": "i4"
         },
         "xaxis": "x",
         "y": {
          "bdata": "AQ==",
          "dtype": "i1"
         },
         "yaxis": "y"
        },
        {
         "hovertemplate": "Admin 1=Bordj Badji Mokhtar<br>Year=%{x}<br>Attack_Count=%{y}<extra></extra>",
         "legendgroup": "Bordj Badji Mokhtar",
         "line": {
          "color": "#EF553B",
          "dash": "solid"
         },
         "marker": {
          "symbol": "circle"
         },
         "mode": "lines",
         "name": "Bordj Badji Mokhtar",
         "showlegend": true,
         "type": "scattergl",
         "x": {
          "bdata": "5QcAAA==",
          "dtype": "i4"
         },
         "xaxis": "x",
         "y": {
          "bdata": "AQ==",
          "dtype": "i1"
         },
         "yaxis": "y"
        },
        {
         "hovertemplate": "Admin 1=Bujumbura Mairie<br>Year=%{x}<br>Attack_Count=%{y}<extra></extra>",
         "legendgroup": "Bujumbura Mairie",
         "line": {
          "color": "#00cc96",
          "dash": "solid"
         },
         "marker": {
          "symbol": "circle"
         },
         "mode": "lines",
         "name": "Bujumbura Mairie",
         "showlegend": true,
         "type": "scattergl",
         "x": {
          "bdata": "5QcAAA==",
          "dtype": "i4"
         },
         "xaxis": "x",
         "y": {
          "bdata": "AQ==",
          "dtype": "i1"
         },
         "yaxis": "y"
        },
        {
         "hovertemplate": "Admin 1=California<br>Year=%{x}<br>Attack_Count=%{y}<extra></extra>",
         "legendgroup": "California",
         "line": {
          "color": "#ab63fa",
          "dash": "solid"
         },
         "marker": {
          "symbol": "circle"
         },
         "mode": "lines",
         "name": "California",
         "showlegend": true,
         "type": "scattergl",
         "x": {
          "bdata": "5QcAAA==",
          "dtype": "i4"
         },
         "xaxis": "x",
         "y": {
          "bdata": "AQ==",
          "dtype": "i1"
         },
         "yaxis": "y"
        },
        {
         "hovertemplate": "Admin 1=Casanare<br>Year=%{x}<br>Attack_Count=%{y}<extra></extra>",
         "legendgroup": "Casanare",
         "line": {
          "color": "#FFA15A",
          "dash": "solid"
         },
         "marker": {
          "symbol": "circle"
         },
         "mode": "lines",
         "name": "Casanare",
         "showlegend": true,
         "type": "scattergl",
         "x": {
          "bdata": "5QcAAA==",
          "dtype": "i4"
         },
         "xaxis": "x",
         "y": {
          "bdata": "AQ==",
          "dtype": "i1"
         },
         "yaxis": "y"
        },
        {
         "hovertemplate": "Admin 1=Cauca<br>Year=%{x}<br>Attack_Count=%{y}<extra></extra>",
         "legendgroup": "Cauca",
         "line": {
          "color": "#19d3f3",
          "dash": "solid"
         },
         "marker": {
          "symbol": "circle"
         },
         "mode": "lines",
         "name": "Cauca",
         "showlegend": true,
         "type": "scattergl",
         "x": {
          "bdata": "5QcAAOYHAAA=",
          "dtype": "i4"
         },
         "xaxis": "x",
         "y": {
          "bdata": "AgE=",
          "dtype": "i1"
         },
         "yaxis": "y"
        },
        {
         "hovertemplate": "Admin 1=Central Darfur<br>Year=%{x}<br>Attack_Count=%{y}<extra></extra>",
         "legendgroup": "Central Darfur",
         "line": {
          "color": "#FF6692",
          "dash": "solid"
         },
         "marker": {
          "symbol": "circle"
         },
         "mode": "lines",
         "name": "Central Darfur",
         "showlegend": true,
         "type": "scattergl",
         "x": {
          "bdata": "5QcAAA==",
          "dtype": "i4"
         },
         "xaxis": "x",
         "y": {
          "bdata": "Aw==",
          "dtype": "i1"
         },
         "yaxis": "y"
        },
        {
         "hovertemplate": "Admin 1=Central Papua<br>Year=%{x}<br>Attack_Count=%{y}<extra></extra>",
         "legendgroup": "Central Papua",
         "line": {
          "color": "#B6E880",
          "dash": "solid"
         },
         "marker": {
          "symbol": "circle"
         },
         "mode": "lines",
         "name": "Central Papua",
         "showlegend": true,
         "type": "scattergl",
         "x": {
          "bdata": "5QcAAA==",
          "dtype": "i4"
         },
         "xaxis": "x",
         "y": {
          "bdata": "Aw==",
          "dtype": "i1"
         },
         "yaxis": "y"
        },
        {
         "hovertemplate": "Admin 1=Central Region<br>Year=%{x}<br>Attack_Count=%{y}<extra></extra>",
         "legendgroup": "Central Region",
         "line": {
          "color": "#FF97FF",
          "dash": "solid"
         },
         "marker": {
          "symbol": "circle"
         },
         "mode": "lines",
         "name": "Central Region",
         "showlegend": true,
         "type": "scattergl",
         "x": {
          "bdata": "5QcAAA==",
          "dtype": "i4"
         },
         "xaxis": "x",
         "y": {
          "bdata": "Aw==",
          "dtype": "i1"
         },
         "yaxis": "y"
        },
        {
         "hovertemplate": "Admin 1=Chattogram Division<br>Year=%{x}<br>Attack_Count=%{y}<extra></extra>",
         "legendgroup": "Chattogram Division",
         "line": {
          "color": "#FECB52",
          "dash": "solid"
         },
         "marker": {
          "symbol": "circle"
         },
         "mode": "lines",
         "name": "Chattogram Division",
         "showlegend": true,
         "type": "scattergl",
         "x": {
          "bdata": "5QcAAOYHAADnBwAA6AcAAA==",
          "dtype": "i4"
         },
         "xaxis": "x",
         "y": {
          "bdata": "AgMBAg==",
          "dtype": "i1"
         },
         "yaxis": "y"
        },
        {
         "hovertemplate": "Admin 1=Colorado<br>Year=%{x}<br>Attack_Count=%{y}<extra></extra>",
         "legendgroup": "Colorado",
         "line": {
          "color": "#636efa",
          "dash": "solid"
         },
         "marker": {
          "symbol": "circle"
         },
         "mode": "lines",
         "name": "Colorado",
         "showlegend": true,
         "type": "scattergl",
         "x": {
          "bdata": "5QcAAA==",
          "dtype": "i4"
         },
         "xaxis": "x",
         "y": {
          "bdata": "AQ==",
          "dtype": "i1"
         },
         "yaxis": "y"
        },
        {
         "hovertemplate": "Admin 1=Cross River<br>Year=%{x}<br>Attack_Count=%{y}<extra></extra>",
         "legendgroup": "Cross River",
         "line": {
          "color": "#EF553B",
          "dash": "solid"
         },
         "marker": {
          "symbol": "circle"
         },
         "mode": "lines",
         "name": "Cross River",
         "showlegend": true,
         "type": "scattergl",
         "x": {
          "bdata": "5QcAAA==",
          "dtype": "i4"
         },
         "xaxis": "x",
         "y": {
          "bdata": "AQ==",
          "dtype": "i1"
         },
         "yaxis": "y"
        },
        {
         "hovertemplate": "Admin 1=Dar'a Governorate<br>Year=%{x}<br>Attack_Count=%{y}<extra></extra>",
         "legendgroup": "Dar'a Governorate",
         "line": {
          "color": "#00cc96",
          "dash": "solid"
         },
         "marker": {
          "symbol": "circle"
         },
         "mode": "lines",
         "name": "Dar'a Governorate",
         "showlegend": true,
         "type": "scattergl",
         "x": {
          "bdata": "5QcAAOgHAAA=",
          "dtype": "i4"
         },
         "xaxis": "x",
         "y": {
          "bdata": "AQM=",
          "dtype": "i1"
         },
         "yaxis": "y"
        },
        {
         "hovertemplate": "Admin 1=Diffa Region<br>Year=%{x}<br>Attack_Count=%{y}<extra></extra>",
         "legendgroup": "Diffa Region",
         "line": {
          "color": "#ab63fa",
          "dash": "solid"
         },
         "marker": {
          "symbol": "circle"
         },
         "mode": "lines",
         "name": "Diffa Region",
         "showlegend": true,
         "type": "scattergl",
         "x": {
          "bdata": "5QcAAOcHAAA=",
          "dtype": "i4"
         },
         "xaxis": "x",
         "y": {
          "bdata": "AQU=",
          "dtype": "i1"
         },
         "yaxis": "y"
        },
        {
         "hovertemplate": "Admin 1=East Java<br>Year=%{x}<br>Attack_Count=%{y}<extra></extra>",
         "legendgroup": "East Java",
         "line": {
          "color": "#FFA15A",
          "dash": "solid"
         },
         "marker": {
          "symbol": "circle"
         },
         "mode": "lines",
         "name": "East Java",
         "showlegend": true,
         "type": "scattergl",
         "x": {
          "bdata": "5QcAAA==",
          "dtype": "i4"
         },
         "xaxis": "x",
         "y": {
          "bdata": "AQ==",
          "dtype": "i1"
         },
         "yaxis": "y"
        },
        {
         "hovertemplate": "Admin 1=East Kazakhstan Region<br>Year=%{x}<br>Attack_Count=%{y}<extra></extra>",
         "legendgroup": "East Kazakhstan Region",
         "line": {
          "color": "#19d3f3",
          "dash": "solid"
         },
         "marker": {
          "symbol": "circle"
         },
         "mode": "lines",
         "name": "East Kazakhstan Region",
         "showlegend": true,
         "type": "scattergl",
         "x": {
          "bdata": "5QcAAA==",
          "dtype": "i4"
         },
         "xaxis": "x",
         "y": {
          "bdata": "AQ==",
          "dtype": "i1"
         },
         "yaxis": "y"
        },
        {
         "hovertemplate": "Admin 1=Eastern Equatoria<br>Year=%{x}<br>Attack_Count=%{y}<extra></extra>",
         "legendgroup": "Eastern Equatoria",
         "line": {
          "color": "#FF6692",
          "dash": "solid"
         },
         "marker": {
          "symbol": "circle"
         },
         "mode": "lines",
         "name": "Eastern Equatoria",
         "showlegend": true,
         "type": "scattergl",
         "x": {
          "bdata": "5QcAAOYHAAA=",
          "dtype": "i4"
         },
         "xaxis": "x",
         "y": {
          "bdata": "AQQ=",
          "dtype": "i1"
         },
         "yaxis": "y"
        },
        {
         "hovertemplate": "Admin 1=Eastern Region<br>Year=%{x}<br>Attack_Count=%{y}<extra></extra>",
         "legendgroup": "Eastern Region",
         "line": {
          "color": "#B6E880",
          "dash": "solid"
         },
         "marker": {
          "symbol": "circle"
         },
         "mode": "lines",
         "name": "Eastern Region",
         "showlegend": true,
         "type": "scattergl",
         "x": {
          "bdata": "5QcAAA==",
          "dtype": "i4"
         },
         "xaxis": "x",
         "y": {
          "bdata": "AQ==",
          "dtype": "i1"
         },
         "yaxis": "y"
        },
        {
         "hovertemplate": "Admin 1=Ebonyi State<br>Year=%{x}<br>Attack_Count=%{y}<extra></extra>",
         "legendgroup": "Ebonyi State",
         "line": {
          "color": "#FF97FF",
          "dash": "solid"
         },
         "marker": {
          "symbol": "circle"
         },
         "mode": "lines",
         "name": "Ebonyi State",
         "showlegend": true,
         "type": "scattergl",
         "x": {
          "bdata": "5QcAAOYHAAA=",
          "dtype": "i4"
         },
         "xaxis": "x",
         "y": {
          "bdata": "AgE=",
          "dtype": "i1"
         },
         "yaxis": "y"
        },
        {
         "hovertemplate": "Admin 1=Edo State<br>Year=%{x}<br>Attack_Count=%{y}<extra></extra>",
         "legendgroup": "Edo State",
         "line": {
          "color": "#FECB52",
          "dash": "solid"
         },
         "marker": {
          "symbol": "circle"
         },
         "mode": "lines",
         "name": "Edo State",
         "showlegend": true,
         "type": "scattergl",
         "x": {
          "bdata": "5QcAAA==",
          "dtype": "i4"
         },
         "xaxis": "x",
         "y": {
          "bdata": "Ag==",
          "dtype": "i1"
         },
         "yaxis": "y"
        },
        {
         "hovertemplate": "Admin 1=Ekiti State<br>Year=%{x}<br>Attack_Count=%{y}<extra></extra>",
         "legendgroup": "Ekiti State",
         "line": {
          "color": "#636efa",
          "dash": "solid"
         },
         "marker": {
          "symbol": "circle"
         },
         "mode": "lines",
         "name": "Ekiti State",
         "showlegend": true,
         "type": "scattergl",
         "x": {
          "bdata": "5QcAAOYHAADnBwAA6AcAAA==",
          "dtype": "i4"
         },
         "xaxis": "x",
         "y": {
          "bdata": "AQEBAg==",
          "dtype": "i1"
         },
         "yaxis": "y"
        },
        {
         "hovertemplate": "Admin 1=Embu<br>Year=%{x}<br>Attack_Count=%{y}<extra></extra>",
         "legendgroup": "Embu",
         "line": {
          "color": "#EF553B",
          "dash": "solid"
         },
         "marker": {
          "symbol": "circle"
         },
         "mode": "lines",
         "name": "Embu",
         "showlegend": true,
         "type": "scattergl",
         "x": {
          "bdata": "5QcAAA==",
          "dtype": "i4"
         },
         "xaxis": "x",
         "y": {
          "bdata": "AQ==",
          "dtype": "i1"
         },
         "yaxis": "y"
        },
        {
         "hovertemplate": "Admin 1=Enugu State<br>Year=%{x}<br>Attack_Count=%{y}<extra></extra>",
         "legendgroup": "Enugu State",
         "line": {
          "color": "#00cc96",
          "dash": "solid"
         },
         "marker": {
          "symbol": "circle"
         },
         "mode": "lines",
         "name": "Enugu State",
         "showlegend": true,
         "type": "scattergl",
         "x": {
          "bdata": "5QcAAOYHAADnBwAA6AcAAA==",
          "dtype": "i4"
         },
         "xaxis": "x",
         "y": {
          "bdata": "AQEBAg==",
          "dtype": "i1"
         },
         "yaxis": "y"
        },
        {
         "hovertemplate": "Admin 1=Farah Province<br>Year=%{x}<br>Attack_Count=%{y}<extra></extra>",
         "legendgroup": "Farah Province",
         "line": {
          "color": "#ab63fa",
          "dash": "solid"
         },
         "marker": {
          "symbol": "circle"
         },
         "mode": "lines",
         "name": "Farah Province",
         "showlegend": true,
         "type": "scattergl",
         "x": {
          "bdata": "5QcAAA==",
          "dtype": "i4"
         },
         "xaxis": "x",
         "y": {
          "bdata": "Ag==",
          "dtype": "i1"
         },
         "yaxis": "y"
        },
        {
         "hovertemplate": "Admin 1=Faryab Province<br>Year=%{x}<br>Attack_Count=%{y}<extra></extra>",
         "legendgroup": "Faryab Province",
         "line": {
          "color": "#FFA15A",
          "dash": "solid"
         },
         "marker": {
          "symbol": "circle"
         },
         "mode": "lines",
         "name": "Faryab Province",
         "showlegend": true,
         "type": "scattergl",
         "x": {
          "bdata": "5QcAAOcHAAA=",
          "dtype": "i4"
         },
         "xaxis": "x",
         "y": {
          "bdata": "AQE=",
          "dtype": "i1"
         },
         "yaxis": "y"
        },
        {
         "hovertemplate": "Admin 1=Federal Capital Territory<br>Year=%{x}<br>Attack_Count=%{y}<extra></extra>",
         "legendgroup": "Federal Capital Territory",
         "line": {
          "color": "#19d3f3",
          "dash": "solid"
         },
         "marker": {
          "symbol": "circle"
         },
         "mode": "lines",
         "name": "Federal Capital Territory",
         "showlegend": true,
         "type": "scattergl",
         "x": {
          "bdata": "5QcAAOkHAAA=",
          "dtype": "i4"
         },
         "xaxis": "x",
         "y": {
          "bdata": "BwE=",
          "dtype": "i1"
         },
         "yaxis": "y"
        },
        {
         "hovertemplate": "Admin 1=Francisco Morazán<br>Year=%{x}<br>Attack_Count=%{y}<extra></extra>",
         "legendgroup": "Francisco Morazán",
         "line": {
          "color": "#FF6692",
          "dash": "solid"
         },
         "marker": {
          "symbol": "circle"
         },
         "mode": "lines",
         "name": "Francisco Morazán",
         "showlegend": true,
         "type": "scattergl",
         "x": {
          "bdata": "5QcAAA==",
          "dtype": "i4"
         },
         "xaxis": "x",
         "y": {
          "bdata": "AQ==",
          "dtype": "i1"
         },
         "yaxis": "y"
        },
        {
         "hovertemplate": "Admin 1=Gaza Strip<br>Year=%{x}<br>Attack_Count=%{y}<extra></extra>",
         "legendgroup": "Gaza Strip",
         "line": {
          "color": "#B6E880",
          "dash": "solid"
         },
         "marker": {
          "symbol": "circle"
         },
         "mode": "lines",
         "name": "Gaza Strip",
         "showlegend": true,
         "type": "scattergl",
         "x": {
          "bdata": "5QcAAOYHAADnBwAA6AcAAOkHAAA=",
          "dtype": "i4"
         },
         "xaxis": "x",
         "y": {
          "bdata": "AwACAGYAMgEzAA==",
          "dtype": "i2"
         },
         "yaxis": "y"
        },
        {
         "hovertemplate": "Admin 1=Gaza strip<br>Year=%{x}<br>Attack_Count=%{y}<extra></extra>",
         "legendgroup": "Gaza strip",
         "line": {
          "color": "#FF97FF",
          "dash": "solid"
         },
         "marker": {
          "symbol": "circle"
         },
         "mode": "lines",
         "name": "Gaza strip",
         "showlegend": true,
         "type": "scattergl",
         "x": {
          "bdata": "5QcAAA==",
          "dtype": "i4"
         },
         "xaxis": "x",
         "y": {
          "bdata": "Ag==",
          "dtype": "i1"
         },
         "yaxis": "y"
        },
        {
         "hovertemplate": "Admin 1=Gezira State<br>Year=%{x}<br>Attack_Count=%{y}<extra></extra>",
         "legendgroup": "Gezira State",
         "line": {
          "color": "#FECB52",
          "dash": "solid"
         },
         "marker": {
          "symbol": "circle"
         },
         "mode": "lines",
         "name": "Gezira State",
         "showlegend": true,
         "type": "scattergl",
         "x": {
          "bdata": "5QcAAOcHAADoBwAA6QcAAA==",
          "dtype": "i4"
         },
         "xaxis": "x",
         "y": {
          "bdata": "AQIKAQ==",
          "dtype": "i1"
         },
         "yaxis": "y"
        },
        {
         "hovertemplate": "Admin 1=Giza Governorate<br>Year=%{x}<br>Attack_Count=%{y}<extra></extra>",
         "legendgroup": "Giza Governorate",
         "line": {
          "color": "#636efa",
          "dash": "solid"
         },
         "marker": {
          "symbol": "circle"
         },
         "mode": "lines",
         "name": "Giza Governorate",
         "showlegend": true,
         "type": "scattergl",
         "x": {
          "bdata": "5QcAAA==",
          "dtype": "i4"
         },
         "xaxis": "x",
         "y": {
          "bdata": "AQ==",
          "dtype": "i1"
         },
         "yaxis": "y"
        },
        {
         "hovertemplate": "Admin 1=Great Pibor Administrative Area<br>Year=%{x}<br>Attack_Count=%{y}<extra></extra>",
         "legendgroup": "Great Pibor Administrative Area",
         "line": {
          "color": "#EF553B",
          "dash": "solid"
         },
         "marker": {
          "symbol": "circle"
         },
         "mode": "lines",
         "name": "Great Pibor Administrative Area",
         "showlegend": true,
         "type": "scattergl",
         "x": {
          "bdata": "5QcAAA==",
          "dtype": "i4"
         },
         "xaxis": "x",
         "y": {
          "bdata": "AQ==",
          "dtype": "i1"
         },
         "yaxis": "y"
        },
        {
         "hovertemplate": "Admin 1=Hadramaut Governorate<br>Year=%{x}<br>Attack_Count=%{y}<extra></extra>",
         "legendgroup": "Hadramaut Governorate",
         "line": {
          "color": "#00cc96",
          "dash": "solid"
         },
         "marker": {
          "symbol": "circle"
         },
         "mode": "lines",
         "name": "Hadramaut Governorate",
         "showlegend": true,
         "type": "scattergl",
         "x": {
          "bdata": "5QcAAA==",
          "dtype": "i4"
         },
         "xaxis": "x",
         "y": {
          "bdata": "AQ==",
          "dtype": "i1"
         },
         "yaxis": "y"
        },
        {
         "hovertemplate": "Admin 1=Hama Governorate<br>Year=%{x}<br>Attack_Count=%{y}<extra></extra>",
         "legendgroup": "Hama Governorate",
         "line": {
          "color": "#ab63fa",
          "dash": "solid"
         },
         "marker": {
          "symbol": "circle"
         },
         "mode": "lines",
         "name": "Hama Governorate",
         "showlegend": true,
         "type": "scattergl",
         "x": {
          "bdata": "5QcAAA==",
          "dtype": "i4"
         },
         "xaxis": "x",
         "y": {
          "bdata": "AQ==",
          "dtype": "i1"
         },
         "yaxis": "y"
        },
        {
         "hovertemplate": "Admin 1=Haryana<br>Year=%{x}<br>Attack_Count=%{y}<extra></extra>",
         "legendgroup": "Haryana",
         "line": {
          "color": "#FFA15A",
          "dash": "solid"
         },
         "marker": {
          "symbol": "circle"
         },
         "mode": "lines",
         "name": "Haryana",
         "showlegend": true,
         "type": "scattergl",
         "x": {
          "bdata": "5QcAAOYHAADnBwAA",
          "dtype": "i4"
         },
         "xaxis": "x",
         "y": {
          "bdata": "AgEB",
          "dtype": "i1"
         },
         "yaxis": "y"
        },
        {
         "hovertemplate": "Admin 1=Helmand Province<br>Year=%{x}<br>Attack_Count=%{y}<extra></extra>",
         "legendgroup": "Helmand Province",
         "line": {
          "color": "#19d3f3",
          "dash": "solid"
         },
         "marker": {
          "symbol": "circle"
         },
         "mode": "lines",
         "name": "Helmand Province",
         "showlegend": true,
         "type": "scattergl",
         "x": {
          "bdata": "5QcAAA==",
          "dtype": "i4"
         },
         "xaxis": "x",
         "y": {
          "bdata": "Ag==",
          "dtype": "i1"
         },
         "yaxis": "y"
        },
        {
         "hovertemplate": "Admin 1=Herat Province<br>Year=%{x}<br>Attack_Count=%{y}<extra></extra>",
         "legendgroup": "Herat Province",
         "line": {
          "color": "#FF6692",
          "dash": "solid"
         },
         "marker": {
          "symbol": "circle"
         },
         "mode": "lines",
         "name": "Herat Province",
         "showlegend": true,
         "type": "scattergl",
         "x": {
          "bdata": "5QcAAOYHAADoBwAA",
          "dtype": "i4"
         },
         "xaxis": "x",
         "y": {
          "bdata": "AQEB",
          "dtype": "i1"
         },
         "yaxis": "y"
        },
        {
         "hovertemplate": "Admin 1=Homs Governorate<br>Year=%{x}<br>Attack_Count=%{y}<extra></extra>",
         "legendgroup": "Homs Governorate",
         "line": {
          "color": "#B6E880",
          "dash": "solid"
         },
         "marker": {
          "symbol": "circle"
         },
         "mode": "lines",
         "name": "Homs Governorate",
         "showlegend": true,
         "type": "scattergl",
         "x": {
          "bdata": "5QcAAA==",
          "dtype": "i4"
         },
         "xaxis": "x",
         "y": {
          "bdata": "AQ==",
          "dtype": "i1"
         },
         "yaxis": "y"
        },
        {
         "hovertemplate": "Admin 1=Huancavelica<br>Year=%{x}<br>Attack_Count=%{y}<extra></extra>",
         "legendgroup": "Huancavelica",
         "line": {
          "color": "#FF97FF",
          "dash": "solid"
         },
         "marker": {
          "symbol": "circle"
         },
         "mode": "lines",
         "name": "Huancavelica",
         "showlegend": true,
         "type": "scattergl",
         "x": {
          "bdata": "5QcAAA==",
          "dtype": "i4"
         },
         "xaxis": "x",
         "y": {
          "bdata": "AQ==",
          "dtype": "i1"
         },
         "yaxis": "y"
        },
        {
         "hovertemplate": "Admin 1=Idaho<br>Year=%{x}<br>Attack_Count=%{y}<extra></extra>",
         "legendgroup": "Idaho",
         "line": {
          "color": "#FECB52",
          "dash": "solid"
         },
         "marker": {
          "symbol": "circle"
         },
         "mode": "lines",
         "name": "Idaho",
         "showlegend": true,
         "type": "scattergl",
         "x": {
          "bdata": "5QcAAA==",
          "dtype": "i4"
         },
         "xaxis": "x",
         "y": {
          "bdata": "AQ==",
          "dtype": "i1"
         },
         "yaxis": "y"
        },
        {
         "hovertemplate": "Admin 1=Imo State<br>Year=%{x}<br>Attack_Count=%{y}<extra></extra>",
         "legendgroup": "Imo State",
         "line": {
          "color": "#636efa",
          "dash": "solid"
         },
         "marker": {
          "symbol": "circle"
         },
         "mode": "lines",
         "name": "Imo State",
         "showlegend": true,
         "type": "scattergl",
         "x": {
          "bdata": "5QcAAOYHAADnBwAA",
          "dtype": "i4"
         },
         "xaxis": "x",
         "y": {
          "bdata": "AwIB",
          "dtype": "i1"
         },
         "yaxis": "y"
        },
        {
         "hovertemplate": "Admin 1=Java<br>Year=%{x}<br>Attack_Count=%{y}<extra></extra>",
         "legendgroup": "Java",
         "line": {
          "color": "#EF553B",
          "dash": "solid"
         },
         "marker": {
          "symbol": "circle"
         },
         "mode": "lines",
         "name": "Java",
         "showlegend": true,
         "type": "scattergl",
         "x": {
          "bdata": "5QcAAA==",
          "dtype": "i4"
         },
         "xaxis": "x",
         "y": {
          "bdata": "AQ==",
          "dtype": "i1"
         },
         "yaxis": "y"
        },
        {
         "hovertemplate": "Admin 1=Jazan Province<br>Year=%{x}<br>Attack_Count=%{y}<extra></extra>",
         "legendgroup": "Jazan Province",
         "line": {
          "color": "#00cc96",
          "dash": "solid"
         },
         "marker": {
          "symbol": "circle"
         },
         "mode": "lines",
         "name": "Jazan Province",
         "showlegend": true,
         "type": "scattergl",
         "x": {
          "bdata": "5QcAAA==",
          "dtype": "i4"
         },
         "xaxis": "x",
         "y": {
          "bdata": "AQ==",
          "dtype": "i1"
         },
         "yaxis": "y"
        },
        {
         "hovertemplate": "Admin 1=Kachin State<br>Year=%{x}<br>Attack_Count=%{y}<extra></extra>",
         "legendgroup": "Kachin State",
         "line": {
          "color": "#ab63fa",
          "dash": "solid"
         },
         "marker": {
          "symbol": "circle"
         },
         "mode": "lines",
         "name": "Kachin State",
         "showlegend": true,
         "type": "scattergl",
         "x": {
          "bdata": "5QcAAOYHAADnBwAA6AcAAOkHAAA=",
          "dtype": "i4"
         },
         "xaxis": "x",
         "y": {
          "bdata": "DwIIDgQ=",
          "dtype": "i1"
         },
         "yaxis": "y"
        },
        {
         "hovertemplate": "Admin 1=Kaduna<br>Year=%{x}<br>Attack_Count=%{y}<extra></extra>",
         "legendgroup": "Kaduna",
         "line": {
          "color": "#FFA15A",
          "dash": "solid"
         },
         "marker": {
          "symbol": "circle"
         },
         "mode": "lines",
         "name": "Kaduna",
         "showlegend": true,
         "type": "scattergl",
         "x": {
          "bdata": "5QcAAA==",
          "dtype": "i4"
         },
         "xaxis": "x",
         "y": {
          "bdata": "AQ==",
          "dtype": "i1"
         },
         "yaxis": "y"
        },
        {
         "hovertemplate": "Admin 1=Kaduna state<br>Year=%{x}<br>Attack_Count=%{y}<extra></extra>",
         "legendgroup": "Kaduna state",
         "line": {
          "color": "#19d3f3",
          "dash": "solid"
         },
         "marker": {
          "symbol": "circle"
         },
         "mode": "lines",
         "name": "Kaduna state",
         "showlegend": true,
         "type": "scattergl",
         "x": {
          "bdata": "5QcAAA==",
          "dtype": "i4"
         },
         "xaxis": "x",
         "y": {
          "bdata": "AQ==",
          "dtype": "i1"
         },
         "yaxis": "y"
        },
        {
         "hovertemplate": "Admin 1=Katsina State<br>Year=%{x}<br>Attack_Count=%{y}<extra></extra>",
         "legendgroup": "Katsina State",
         "line": {
          "color": "#FF6692",
          "dash": "solid"
         },
         "marker": {
          "symbol": "circle"
         },
         "mode": "lines",
         "name": "Katsina State",
         "showlegend": true,
         "type": "scattergl",
         "x": {
          "bdata": "5QcAAOYHAADnBwAA6AcAAOkHAAA=",
          "dtype": "i4"
         },
         "xaxis": "x",
         "y": {
          "bdata": "AwECAQE=",
          "dtype": "i1"
         },
         "yaxis": "y"
        },
        {
         "hovertemplate": "Admin 1=Kayah State<br>Year=%{x}<br>Attack_Count=%{y}<extra></extra>",
         "legendgroup": "Kayah State",
         "line": {
          "color": "#B6E880",
          "dash": "solid"
         },
         "marker": {
          "symbol": "circle"
         },
         "mode": "lines",
         "name": "Kayah State",
         "showlegend": true,
         "type": "scattergl",
         "x": {
          "bdata": "5QcAAOYHAADnBwAA6AcAAOkHAAA=",
          "dtype": "i4"
         },
         "xaxis": "x",
         "y": {
          "bdata": "BAEIBAE=",
          "dtype": "i1"
         },
         "yaxis": "y"
        },
        {
         "hovertemplate": "Admin 1=Kayes<br>Year=%{x}<br>Attack_Count=%{y}<extra></extra>",
         "legendgroup": "Kayes",
         "line": {
          "color": "#FF97FF",
          "dash": "solid"
         },
         "marker": {
          "symbol": "circle"
         },
         "mode": "lines",
         "name": "Kayes",
         "showlegend": true,
         "type": "scattergl",
         "x": {
          "bdata": "5QcAAA==",
          "dtype": "i4"
         },
         "xaxis": "x",
         "y": {
          "bdata": "AQ==",
          "dtype": "i1"
         },
         "yaxis": "y"
        },
        {
         "hovertemplate": "Admin 1=Kayin<br>Year=%{x}<br>Attack_Count=%{y}<extra></extra>",
         "legendgroup": "Kayin",
         "line": {
          "color": "#FECB52",
          "dash": "solid"
         },
         "marker": {
          "symbol": "circle"
         },
         "mode": "lines",
         "name": "Kayin",
         "showlegend": true,
         "type": "scattergl",
         "x": {
          "bdata": "5QcAAA==",
          "dtype": "i4"
         },
         "xaxis": "x",
         "y": {
          "bdata": "AQ==",
          "dtype": "i1"
         },
         "yaxis": "y"
        },
        {
         "hovertemplate": "Admin 1=Kayin State<br>Year=%{x}<br>Attack_Count=%{y}<extra></extra>",
         "legendgroup": "Kayin State",
         "line": {
          "color": "#636efa",
          "dash": "solid"
         },
         "marker": {
          "symbol": "circle"
         },
         "mode": "lines",
         "name": "Kayin State",
         "showlegend": true,
         "type": "scattergl",
         "x": {
          "bdata": "5QcAAOYHAADnBwAA6AcAAOkHAAA=",
          "dtype": "i4"
         },
         "xaxis": "x",
         "y": {
          "bdata": "CAUTBgI=",
          "dtype": "i1"
         },
         "yaxis": "y"
        },
        {
         "hovertemplate": "Admin 1=Khartoum State<br>Year=%{x}<br>Attack_Count=%{y}<extra></extra>",
         "legendgroup": "Khartoum State",
         "line": {
          "color": "#EF553B",
          "dash": "solid"
         },
         "marker": {
          "symbol": "circle"
         },
         "mode": "lines",
         "name": "Khartoum State",
         "showlegend": true,
         "type": "scattergl",
         "x": {
          "bdata": "5QcAAOYHAADnBwAA6AcAAA==",
          "dtype": "i4"
         },
         "xaxis": "x",
         "y": {
          "bdata": "AgQZBA==",
          "dtype": "i1"
         },
         "yaxis": "y"
        },
        {
         "hovertemplate": "Admin 1=Kirundo province<br>Year=%{x}<br>Attack_Count=%{y}<extra></extra>",
         "legendgroup": "Kirundo province",
         "line": {
          "color": "#00cc96",
          "dash": "solid"
         },
         "marker": {
          "symbol": "circle"
         },
         "mode": "lines",
         "name": "Kirundo province",
         "showlegend": true,
         "type": "scattergl",
         "x": {
          "bdata": "5QcAAA==",
          "dtype": "i4"
         },
         "xaxis": "x",
         "y": {
          "bdata": "AQ==",
          "dtype": "i1"
         },
         "yaxis": "y"
        },
        {
         "hovertemplate": "Admin 1=Kogi State<br>Year=%{x}<br>Attack_Count=%{y}<extra></extra>",
         "legendgroup": "Kogi State",
         "line": {
          "color": "#ab63fa",
          "dash": "solid"
         },
         "marker": {
          "symbol": "circle"
         },
         "mode": "lines",
         "name": "Kogi State",
         "showlegend": true,
         "type": "scattergl",
         "x": {
          "bdata": "5QcAAOgHAAA=",
          "dtype": "i4"
         },
         "xaxis": "x",
         "y": {
          "bdata": "AgE=",
          "dtype": "i1"
         },
         "yaxis": "y"
        },
        {
         "hovertemplate": "Admin 1=Kunar Province<br>Year=%{x}<br>Attack_Count=%{y}<extra></extra>",
         "legendgroup": "Kunar Province",
         "line": {
          "color": "#FFA15A",
          "dash": "solid"
         },
         "marker": {
          "symbol": "circle"
         },
         "mode": "lines",
         "name": "Kunar Province",
         "showlegend": true,
         "type": "scattergl",
         "x": {
          "bdata": "5QcAAOcHAAA=",
          "dtype": "i4"
         },
         "xaxis": "x",
         "y": {
          "bdata": "AQE=",
          "dtype": "i1"
         },
         "yaxis": "y"
        },
        {
         "hovertemplate": "Admin 1=Lafiya LGA<br>Year=%{x}<br>Attack_Count=%{y}<extra></extra>",
         "legendgroup": "Lafiya LGA",
         "line": {
          "color": "#19d3f3",
          "dash": "solid"
         },
         "marker": {
          "symbol": "circle"
         },
         "mode": "lines",
         "name": "Lafiya LGA",
         "showlegend": true,
         "type": "scattergl",
         "x": {
          "bdata": "5QcAAA==",
          "dtype": "i4"
         },
         "xaxis": "x",
         "y": {
          "bdata": "AQ==",
          "dtype": "i1"
         },
         "yaxis": "y"
        },
        {
         "hovertemplate": "Admin 1=Lankaran-Astara<br>Year=%{x}<br>Attack_Count=%{y}<extra></extra>",
         "legendgroup": "Lankaran-Astara",
         "line": {
          "color": "#FF6692",
          "dash": "solid"
         },
         "marker": {
          "symbol": "circle"
         },
         "mode": "lines",
         "name": "Lankaran-Astara",
         "showlegend": true,
         "type": "scattergl",
         "x": {
          "bdata": "5QcAAA==",
          "dtype": "i4"
         },
         "xaxis": "x",
         "y": {
          "bdata": "AQ==",
          "dtype": "i1"
         },
         "yaxis": "y"
        },
        {
         "hovertemplate": "Admin 1=Magway<br>Year=%{x}<br>Attack_Count=%{y}<extra></extra>",
         "legendgroup": "Magway",
         "line": {
          "color": "#B6E880",
          "dash": "solid"
         },
         "marker": {
          "symbol": "circle"
         },
         "mode": "lines",
         "name": "Magway",
         "showlegend": true,
         "type": "scattergl",
         "x": {
          "bdata": "5QcAAOYHAADnBwAA6AcAAOkHAAA=",
          "dtype": "i4"
         },
         "xaxis": "x",
         "y": {
          "bdata": "HwYaHgg=",
          "dtype": "i1"
         },
         "yaxis": "y"
        },
        {
         "hovertemplate": "Admin 1=Mai-Ndombe<br>Year=%{x}<br>Attack_Count=%{y}<extra></extra>",
         "legendgroup": "Mai-Ndombe",
         "line": {
          "color": "#FF97FF",
          "dash": "solid"
         },
         "marker": {
          "symbol": "circle"
         },
         "mode": "lines",
         "name": "Mai-Ndombe",
         "showlegend": true,
         "type": "scattergl",
         "x": {
          "bdata": "5QcAAOcHAADoBwAA",
          "dtype": "i4"
         },
         "xaxis": "x",
         "y": {
          "bdata": "AQIC",
          "dtype": "i1"
         },
         "yaxis": "y"
        },
        {
         "hovertemplate": "Admin 1=Makamba<br>Year=%{x}<br>Attack_Count=%{y}<extra></extra>",
         "legendgroup": "Makamba",
         "line": {
          "color": "#FECB52",
          "dash": "solid"
         },
         "marker": {
          "symbol": "circle"
         },
         "mode": "lines",
         "name": "Makamba",
         "showlegend": true,
         "type": "scattergl",
         "x": {
          "bdata": "5QcAAOgHAAA=",
          "dtype": "i4"
         },
         "xaxis": "x",
         "y": {
          "bdata": "AQE=",
          "dtype": "i1"
         },
         "yaxis": "y"
        },
        {
         "hovertemplate": "Admin 1=Mandalay<br>Year=%{x}<br>Attack_Count=%{y}<extra></extra>",
         "legendgroup": "Mandalay",
         "line": {
          "color": "#636efa",
          "dash": "solid"
         },
         "marker": {
          "symbol": "circle"
         },
         "mode": "lines",
         "name": "Mandalay",
         "showlegend": true,
         "type": "scattergl",
         "x": {
          "bdata": "5QcAAOYHAADnBwAA6AcAAOkHAAA=",
          "dtype": "i4"
         },
         "xaxis": "x",
         "y": {
          "bdata": "MwUVKQ4=",
          "dtype": "i1"
         },
         "yaxis": "y"
        },
        {
         "hovertemplate": "Admin 1=Manzini<br>Year=%{x}<br>Attack_Count=%{y}<extra></extra>",
         "legendgroup": "Manzini",
         "line": {
          "color": "#EF553B",
          "dash": "solid"
         },
         "marker": {
          "symbol": "circle"
         },
         "mode": "lines",
         "name": "Manzini",
         "showlegend": true,
         "type": "scattergl",
         "x": {
          "bdata": "5QcAAA==",
          "dtype": "i4"
         },
         "xaxis": "x",
         "y": {
          "bdata": "AQ==",
          "dtype": "i1"
         },
         "yaxis": "y"
        },
        {
         "hovertemplate": "Admin 1=Maradi Region<br>Year=%{x}<br>Attack_Count=%{y}<extra></extra>",
         "legendgroup": "Maradi Region",
         "line": {
          "color": "#00cc96",
          "dash": "solid"
         },
         "marker": {
          "symbol": "circle"
         },
         "mode": "lines",
         "name": "Maradi Region",
         "showlegend": true,
         "type": "scattergl",
         "x": {
          "bdata": "5QcAAOcHAAA=",
          "dtype": "i4"
         },
         "xaxis": "x",
         "y": {
          "bdata": "AgE=",
          "dtype": "i1"
         },
         "yaxis": "y"
        },
        {
         "hovertemplate": "Admin 1=Maritime<br>Year=%{x}<br>Attack_Count=%{y}<extra></extra>",
         "legendgroup": "Maritime",
         "line": {
          "color": "#ab63fa",
          "dash": "solid"
         },
         "marker": {
          "symbol": "circle"
         },
         "mode": "lines",
         "name": "Maritime",
         "showlegend": true,
         "type": "scattergl",
         "x": {
          "bdata": "5QcAAA==",
          "dtype": "i4"
         },
         "xaxis": "x",
         "y": {
          "bdata": "AQ==",
          "dtype": "i1"
         },
         "yaxis": "y"
        },
        {
         "hovertemplate": "Admin 1=Martakert Region<br>Year=%{x}<br>Attack_Count=%{y}<extra></extra>",
         "legendgroup": "Martakert Region",
         "line": {
          "color": "#FFA15A",
          "dash": "solid"
         },
         "marker": {
          "symbol": "circle"
         },
         "mode": "lines",
         "name": "Martakert Region",
         "showlegend": true,
         "type": "scattergl",
         "x": {
          "bdata": "5QcAAA==",
          "dtype": "i4"
         },
         "xaxis": "x",
         "y": {
          "bdata": "AQ==",
          "dtype": "i1"
         },
         "yaxis": "y"
        },
        {
         "hovertemplate": "Admin 1=Meta<br>Year=%{x}<br>Attack_Count=%{y}<extra></extra>",
         "legendgroup": "Meta",
         "line": {
          "color": "#19d3f3",
          "dash": "solid"
         },
         "marker": {
          "symbol": "circle"
         },
         "mode": "lines",
         "name": "Meta",
         "showlegend": true,
         "type": "scattergl",
         "x": {
          "bdata": "5QcAAA==",
          "dtype": "i4"
         },
         "xaxis": "x",
         "y": {
          "bdata": "AQ==",
          "dtype": "i1"
         },
         "yaxis": "y"
        },
        {
         "hovertemplate": "Admin 1=Mon State<br>Year=%{x}<br>Attack_Count=%{y}<extra></extra>",
         "legendgroup": "Mon State",
         "line": {
          "color": "#FF6692",
          "dash": "solid"
         },
         "marker": {
          "symbol": "circle"
         },
         "mode": "lines",
         "name": "Mon State",
         "showlegend": true,
         "type": "scattergl",
         "x": {
          "bdata": "5QcAAOYHAADnBwAA6AcAAOkHAAA=",
          "dtype": "i4"
         },
         "xaxis": "x",
         "y": {
          "bdata": "EQEHCAM=",
          "dtype": "i1"
         },
         "yaxis": "y"
        },
        {
         "hovertemplate": "Admin 1=Murang'a County<br>Year=%{x}<br>Attack_Count=%{y}<extra></extra>",
         "legendgroup": "Murang'a County",
         "line": {
          "color": "#B6E880",
          "dash": "solid"
         },
         "marker": {
          "symbol": "circle"
         },
         "mode": "lines",
         "name": "Murang'a County",
         "showlegend": true,
         "type": "scattergl",
         "x": {
          "bdata": "5QcAAA==",
          "dtype": "i4"
         },
         "xaxis": "x",
         "y": {
          "bdata": "Ag==",
          "dtype": "i1"
         },
         "yaxis": "y"
        },
        {
         "hovertemplate": "Admin 1=Nangarhar province<br>Year=%{x}<br>Attack_Count=%{y}<extra></extra>",
         "legendgroup": "Nangarhar province",
         "line": {
          "color": "#FF97FF",
          "dash": "solid"
         },
         "marker": {
          "symbol": "circle"
         },
         "mode": "lines",
         "name": "Nangarhar province",
         "showlegend": true,
         "type": "scattergl",
         "x": {
          "bdata": "5QcAAA==",
          "dtype": "i4"
         },
         "xaxis": "x",
         "y": {
          "bdata": "AQ==",
          "dtype": "i1"
         },
         "yaxis": "y"
        },
        {
         "hovertemplate": "Admin 1=Naypyitaw Union Territory<br>Year=%{x}<br>Attack_Count=%{y}<extra></extra>",
         "legendgroup": "Naypyitaw Union Territory",
         "line": {
          "color": "#FECB52",
          "dash": "solid"
         },
         "marker": {
          "symbol": "circle"
         },
         "mode": "lines",
         "name": "Naypyitaw Union Territory",
         "showlegend": true,
         "type": "scattergl",
         "x": {
          "bdata": "5QcAAA==",
          "dtype": "i4"
         },
         "xaxis": "x",
         "y": {
          "bdata": "BA==",
          "dtype": "i1"
         },
         "yaxis": "y"
        },
        {
         "hovertemplate": "Admin 1=Niger State<br>Year=%{x}<br>Attack_Count=%{y}<extra></extra>",
         "legendgroup": "Niger State",
         "line": {
          "color": "#636efa",
          "dash": "solid"
         },
         "marker": {
          "symbol": "circle"
         },
         "mode": "lines",
         "name": "Niger State",
         "showlegend": true,
         "type": "scattergl",
         "x": {
          "bdata": "5QcAAA==",
          "dtype": "i4"
         },
         "xaxis": "x",
         "y": {
          "bdata": "Aw==",
          "dtype": "i1"
         },
         "yaxis": "y"
        },
        {
         "hovertemplate": "Admin 1=Nineveh Governorate<br>Year=%{x}<br>Attack_Count=%{y}<extra></extra>",
         "legendgroup": "Nineveh Governorate",
         "line": {
          "color": "#EF553B",
          "dash": "solid"
         },
         "marker": {
          "symbol": "circle"
         },
         "mode": "lines",
         "name": "Nineveh Governorate",
         "showlegend": true,
         "type": "scattergl",
         "x": {
          "bdata": "5QcAAOYHAAA=",
          "dtype": "i4"
         },
         "xaxis": "x",
         "y": {
          "bdata": "AQI=",
          "dtype": "i1"
         },
         "yaxis": "y"
        },
        {
         "hovertemplate": "Admin 1=Norte de Santander<br>Year=%{x}<br>Attack_Count=%{y}<extra></extra>",
         "legendgroup": "Norte de Santander",
         "line": {
          "color": "#00cc96",
          "dash": "solid"
         },
         "marker": {
          "symbol": "circle"
         },
         "mode": "lines",
         "name": "Norte de Santander",
         "showlegend": true,
         "type": "scattergl",
         "x": {
          "bdata": "5QcAAOYHAAA=",
          "dtype": "i4"
         },
         "xaxis": "x",
         "y": {
          "bdata": "AQI=",
          "dtype": "i1"
         },
         "yaxis": "y"
        },
        {
         "hovertemplate": "Admin 1=North Darfur State<br>Year=%{x}<br>Attack_Count=%{y}<extra></extra>",
         "legendgroup": "North Darfur State",
         "line": {
          "color": "#ab63fa",
          "dash": "solid"
         },
         "marker": {
          "symbol": "circle"
         },
         "mode": "lines",
         "name": "North Darfur State",
         "showlegend": true,
         "type": "scattergl",
         "x": {
          "bdata": "5QcAAOYHAADnBwAA6AcAAOkHAAA=",
          "dtype": "i4"
         },
         "xaxis": "x",
         "y": {
          "bdata": "AQEFDgE=",
          "dtype": "i1"
         },
         "yaxis": "y"
        },
        {
         "hovertemplate": "Admin 1=North Region<br>Year=%{x}<br>Attack_Count=%{y}<extra></extra>",
         "legendgroup": "North Region",
         "line": {
          "color": "#FFA15A",
          "dash": "solid"
         },
         "marker": {
          "symbol": "circle"
         },
         "mode": "lines",
         "name": "North Region",
         "showlegend": true,
         "type": "scattergl",
         "x": {
          "bdata": "5QcAAA==",
          "dtype": "i4"
         },
         "xaxis": "x",
         "y": {
          "bdata": "Ag==",
          "dtype": "i1"
         },
         "yaxis": "y"
        },
        {
         "hovertemplate": "Admin 1=Nuqat al Khams<br>Year=%{x}<br>Attack_Count=%{y}<extra></extra>",
         "legendgroup": "Nuqat al Khams",
         "line": {
          "color": "#19d3f3",
          "dash": "solid"
         },
         "marker": {
          "symbol": "circle"
         },
         "mode": "lines",
         "name": "Nuqat al Khams",
         "showlegend": true,
         "type": "scattergl",
         "x": {
          "bdata": "5QcAAA==",
          "dtype": "i4"
         },
         "xaxis": "x",
         "y": {
          "bdata": "AQ==",
          "dtype": "i1"
         },
         "yaxis": "y"
        },
        {
         "hovertemplate": "Admin 1=Nyanza<br>Year=%{x}<br>Attack_Count=%{y}<extra></extra>",
         "legendgroup": "Nyanza",
         "line": {
          "color": "#FF6692",
          "dash": "solid"
         },
         "marker": {
          "symbol": "circle"
         },
         "mode": "lines",
         "name": "Nyanza",
         "showlegend": true,
         "type": "scattergl",
         "x": {
          "bdata": "5QcAAOYHAADnBwAA6QcAAA==",
          "dtype": "i4"
         },
         "xaxis": "x",
         "y": {
          "bdata": "AQEDAQ==",
          "dtype": "i1"
         },
         "yaxis": "y"
        },
        {
         "hovertemplate": "Admin 1=Osun State<br>Year=%{x}<br>Attack_Count=%{y}<extra></extra>",
         "legendgroup": "Osun State",
         "line": {
          "color": "#B6E880",
          "dash": "solid"
         },
         "marker": {
          "symbol": "circle"
         },
         "mode": "lines",
         "name": "Osun State",
         "showlegend": true,
         "type": "scattergl",
         "x": {
          "bdata": "5QcAAOgHAAA=",
          "dtype": "i4"
         },
         "xaxis": "x",
         "y": {
          "bdata": "AgE=",
          "dtype": "i1"
         },
         "yaxis": "y"
        },
        {
         "hovertemplate": "Admin 1=Oyo State<br>Year=%{x}<br>Attack_Count=%{y}<extra></extra>",
         "legendgroup": "Oyo State",
         "line": {
          "color": "#FF97FF",
          "dash": "solid"
         },
         "marker": {
          "symbol": "circle"
         },
         "mode": "lines",
         "name": "Oyo State",
         "showlegend": true,
         "type": "scattergl",
         "x": {
          "bdata": "5QcAAOYHAADnBwAA6AcAAA==",
          "dtype": "i4"
         },
         "xaxis": "x",
         "y": {
          "bdata": "AQEBAQ==",
          "dtype": "i1"
         },
         "yaxis": "y"
        },
        {
         "hovertemplate": "Admin 1=Pailin<br>Year=%{x}<br>Attack_Count=%{y}<extra></extra>",
         "legendgroup": "Pailin",
         "line": {
          "color": "#FECB52",
          "dash": "solid"
         },
         "marker": {
          "symbol": "circle"
         },
         "mode": "lines",
         "name": "Pailin",
         "showlegend": true,
         "type": "scattergl",
         "x": {
          "bdata": "5QcAAA==",
          "dtype": "i4"
         },
         "xaxis": "x",
         "y": {
          "bdata": "AQ==",
          "dtype": "i1"
         },
         "yaxis": "y"
        },
        {
         "hovertemplate": "Admin 1=Papua<br>Year=%{x}<br>Attack_Count=%{y}<extra></extra>",
         "legendgroup": "Papua",
         "line": {
          "color": "#636efa",
          "dash": "solid"
         },
         "marker": {
          "symbol": "circle"
         },
         "mode": "lines",
         "name": "Papua",
         "showlegend": true,
         "type": "scattergl",
         "x": {
          "bdata": "5QcAAA==",
          "dtype": "i4"
         },
         "xaxis": "x",
         "y": {
          "bdata": "Ag==",
          "dtype": "i1"
         },
         "yaxis": "y"
        },
        {
         "hovertemplate": "Admin 1=Parwan Province<br>Year=%{x}<br>Attack_Count=%{y}<extra></extra>",
         "legendgroup": "Parwan Province",
         "line": {
          "color": "#EF553B",
          "dash": "solid"
         },
         "marker": {
          "symbol": "circle"
         },
         "mode": "lines",
         "name": "Parwan Province",
         "showlegend": true,
         "type": "scattergl",
         "x": {
          "bdata": "5QcAAOcHAAA=",
          "dtype": "i4"
         },
         "xaxis": "x",
         "y": {
          "bdata": "AgI=",
          "dtype": "i1"
         },
         "yaxis": "y"
        },
        {
         "hovertemplate": "Admin 1=Punjab<br>Year=%{x}<br>Attack_Count=%{y}<extra></extra>",
         "legendgroup": "Punjab",
         "line": {
          "color": "#00cc96",
          "dash": "solid"
         },
         "marker": {
          "symbol": "circle"
         },
         "mode": "lines",
         "name": "Punjab",
         "showlegend": true,
         "type": "scattergl",
         "x": {
          "bdata": "5QcAAOYHAADnBwAA",
          "dtype": "i4"
         },
         "xaxis": "x",
         "y": {
          "bdata": "AQID",
          "dtype": "i1"
         },
         "yaxis": "y"
        },
        {
         "hovertemplate": "Admin 1=Red Sea State<br>Year=%{x}<br>Attack_Count=%{y}<extra></extra>",
         "legendgroup": "Red Sea State",
         "line": {
          "color": "#ab63fa",
          "dash": "solid"
         },
         "marker": {
          "symbol": "circle"
         },
         "mode": "lines",
         "name": "Red Sea State",
         "showlegend": true,
         "type": "scattergl",
         "x": {
          "bdata": "5QcAAOYHAADnBwAA",
          "dtype": "i4"
         },
         "xaxis": "x",
         "y": {
          "bdata": "AQMB",
          "dtype": "i1"
         },
         "yaxis": "y"
        },
        {
         "hovertemplate": "Admin 1=Risaralda<br>Year=%{x}<br>Attack_Count=%{y}<extra></extra>",
         "legendgroup": "Risaralda",
         "line": {
          "color": "#FFA15A",
          "dash": "solid"
         },
         "marker": {
          "symbol": "circle"
         },
         "mode": "lines",
         "name": "Risaralda",
         "showlegend": true,
         "type": "scattergl",
         "x": {
          "bdata": "5QcAAA==",
          "dtype": "i4"
         },
         "xaxis": "x",
         "y": {
          "bdata": "AQ==",
          "dtype": "i1"
         },
         "yaxis": "y"
        },
        {
         "hovertemplate": "Admin 1=Rivers State<br>Year=%{x}<br>Attack_Count=%{y}<extra></extra>",
         "legendgroup": "Rivers State",
         "line": {
          "color": "#19d3f3",
          "dash": "solid"
         },
         "marker": {
          "symbol": "circle"
         },
         "mode": "lines",
         "name": "Rivers State",
         "showlegend": true,
         "type": "scattergl",
         "x": {
          "bdata": "5QcAAOcHAADoBwAA",
          "dtype": "i4"
         },
         "xaxis": "x",
         "y": {
          "bdata": "AgEB",
          "dtype": "i1"
         },
         "yaxis": "y"
        },
        {
         "hovertemplate": "Admin 1=Riyadh Region<br>Year=%{x}<br>Attack_Count=%{y}<extra></extra>",
         "legendgroup": "Riyadh Region",
         "line": {
          "color": "#FF6692",
          "dash": "solid"
         },
         "marker": {
          "symbol": "circle"
         },
         "mode": "lines",
         "name": "Riyadh Region",
         "showlegend": true,
         "type": "scattergl",
         "x": {
          "bdata": "5QcAAOYHAAA=",
          "dtype": "i4"
         },
         "xaxis": "x",
         "y": {
          "bdata": "AQE=",
          "dtype": "i1"
         },
         "yaxis": "y"
        },
        {
         "hovertemplate": "Admin 1=Sagaing Region<br>Year=%{x}<br>Attack_Count=%{y}<extra></extra>",
         "legendgroup": "Sagaing Region",
         "line": {
          "color": "#B6E880",
          "dash": "solid"
         },
         "marker": {
          "symbol": "circle"
         },
         "mode": "lines",
         "name": "Sagaing Region",
         "showlegend": true,
         "type": "scattergl",
         "x": {
          "bdata": "5QcAAOYHAADnBwAA6AcAAOkHAAA=",
          "dtype": "i4"
         },
         "xaxis": "x",
         "y": {
          "bdata": "LxhVShI=",
          "dtype": "i1"
         },
         "yaxis": "y"
        },
        {
         "hovertemplate": "Admin 1=Sana'a Governorate<br>Year=%{x}<br>Attack_Count=%{y}<extra></extra>",
         "legendgroup": "Sana'a Governorate",
         "line": {
          "color": "#FF97FF",
          "dash": "solid"
         },
         "marker": {
          "symbol": "circle"
         },
         "mode": "lines",
         "name": "Sana'a Governorate",
         "showlegend": true,
         "type": "scattergl",
         "x": {
          "bdata": "5QcAAOcHAADoBwAA",
          "dtype": "i4"
         },
         "xaxis": "x",
         "y": {
          "bdata": "AQEC",
          "dtype": "i1"
         },
         "yaxis": "y"
        },
        {
         "hovertemplate": "Admin 1=Santa Catarina state<br>Year=%{x}<br>Attack_Count=%{y}<extra></extra>",
         "legendgroup": "Santa Catarina state",
         "line": {
          "color": "#FECB52",
          "dash": "solid"
         },
         "marker": {
          "symbol": "circle"
         },
         "mode": "lines",
         "name": "Santa Catarina state",
         "showlegend": true,
         "type": "scattergl",
         "x": {
          "bdata": "5QcAAA==",
          "dtype": "i4"
         },
         "xaxis": "x",
         "y": {
          "bdata": "AQ==",
          "dtype": "i1"
         },
         "yaxis": "y"
        },
        {
         "hovertemplate": "Admin 1=Shabwah Governorate<br>Year=%{x}<br>Attack_Count=%{y}<extra></extra>",
         "legendgroup": "Shabwah Governorate",
         "line": {
          "color": "#636efa",
          "dash": "solid"
         },
         "marker": {
          "symbol": "circle"
         },
         "mode": "lines",
         "name": "Shabwah Governorate",
         "showlegend": true,
         "type": "scattergl",
         "x": {
          "bdata": "5QcAAOYHAADnBwAA",
          "dtype": "i4"
         },
         "xaxis": "x",
         "y": {
          "bdata": "AQEB",
          "dtype": "i1"
         },
         "yaxis": "y"
        },
        {
         "hovertemplate": "Admin 1=Shan State<br>Year=%{x}<br>Attack_Count=%{y}<extra></extra>",
         "legendgroup": "Shan State",
         "line": {
          "color": "#EF553B",
          "dash": "solid"
         },
         "marker": {
          "symbol": "circle"
         },
         "mode": "lines",
         "name": "Shan State",
         "showlegend": true,
         "type": "scattergl",
         "x": {
          "bdata": "5QcAAOYHAADnBwAA6AcAAOkHAAA=",
          "dtype": "i4"
         },
         "xaxis": "x",
         "y": {
          "bdata": "HgIPEgE=",
          "dtype": "i1"
         },
         "yaxis": "y"
        },
        {
         "hovertemplate": "Admin 1=Sikasso Region<br>Year=%{x}<br>Attack_Count=%{y}<extra></extra>",
         "legendgroup": "Sikasso Region",
         "line": {
          "color": "#00cc96",
          "dash": "solid"
         },
         "marker": {
          "symbol": "circle"
         },
         "mode": "lines",
         "name": "Sikasso Region",
         "showlegend": true,
         "type": "scattergl",
         "x": {
          "bdata": "5QcAAOYHAADnBwAA6QcAAA==",
          "dtype": "i4"
         },
         "xaxis": "x",
         "y": {
          "bdata": "AwQCBA==",
          "dtype": "i1"
         },
         "yaxis": "y"
        },
        {
         "hovertemplate": "Admin 1=South<br>Year=%{x}<br>Attack_Count=%{y}<extra></extra>",
         "legendgroup": "South",
         "line": {
          "color": "#ab63fa",
          "dash": "solid"
         },
         "marker": {
          "symbol": "circle"
         },
         "mode": "lines",
         "name": "South",
         "showlegend": true,
         "type": "scattergl",
         "x": {
          "bdata": "5QcAAA==",
          "dtype": "i4"
         },
         "xaxis": "x",
         "y": {
          "bdata": "Ag==",
          "dtype": "i1"
         },
         "yaxis": "y"
        },
        {
         "hovertemplate": "Admin 1=South Australia<br>Year=%{x}<br>Attack_Count=%{y}<extra></extra>",
         "legendgroup": "South Australia",
         "line": {
          "color": "#FFA15A",
          "dash": "solid"
         },
         "marker": {
          "symbol": "circle"
         },
         "mode": "lines",
         "name": "South Australia",
         "showlegend": true,
         "type": "scattergl",
         "x": {
          "bdata": "5QcAAA==",
          "dtype": "i4"
         },
         "xaxis": "x",
         "y": {
          "bdata": "Ag==",
          "dtype": "i1"
         },
         "yaxis": "y"
        },
        {
         "hovertemplate": "Admin 1=South Darfur State<br>Year=%{x}<br>Attack_Count=%{y}<extra></extra>",
         "legendgroup": "South Darfur State",
         "line": {
          "color": "#19d3f3",
          "dash": "solid"
         },
         "marker": {
          "symbol": "circle"
         },
         "mode": "lines",
         "name": "South Darfur State",
         "showlegend": true,
         "type": "scattergl",
         "x": {
          "bdata": "5QcAAOYHAADnBwAA6AcAAA==",
          "dtype": "i4"
         },
         "xaxis": "x",
         "y": {
          "bdata": "AwEGBA==",
          "dtype": "i1"
         },
         "yaxis": "y"
        },
        {
         "hovertemplate": "Admin 1=South Governorate<br>Year=%{x}<br>Attack_Count=%{y}<extra></extra>",
         "legendgroup": "South Governorate",
         "line": {
          "color": "#FF6692",
          "dash": "solid"
         },
         "marker": {
          "symbol": "circle"
         },
         "mode": "lines",
         "name": "South Governorate",
         "showlegend": true,
         "type": "scattergl",
         "x": {
          "bdata": "5QcAAOcHAADoBwAA",
          "dtype": "i4"
         },
         "xaxis": "x",
         "y": {
          "bdata": "AQQC",
          "dtype": "i1"
         },
         "yaxis": "y"
        },
        {
         "hovertemplate": "Admin 1=State of Mexico<br>Year=%{x}<br>Attack_Count=%{y}<extra></extra>",
         "legendgroup": "State of Mexico",
         "line": {
          "color": "#B6E880",
          "dash": "solid"
         },
         "marker": {
          "symbol": "circle"
         },
         "mode": "lines",
         "name": "State of Mexico",
         "showlegend": true,
         "type": "scattergl",
         "x": {
          "bdata": "5QcAAA==",
          "dtype": "i4"
         },
         "xaxis": "x",
         "y": {
          "bdata": "AQ==",
          "dtype": "i1"
         },
         "yaxis": "y"
        },
        {
         "hovertemplate": "Admin 1=São Paulo<br>Year=%{x}<br>Attack_Count=%{y}<extra></extra>",
         "legendgroup": "São Paulo",
         "line": {
          "color": "#FF97FF",
          "dash": "solid"
         },
         "marker": {
          "symbol": "circle"
         },
         "mode": "lines",
         "name": "São Paulo",
         "showlegend": true,
         "type": "scattergl",
         "x": {
          "bdata": "5QcAAA==",
          "dtype": "i4"
         },
         "xaxis": "x",
         "y": {
          "bdata": "AQ==",
          "dtype": "i1"
         },
         "yaxis": "y"
        },
        {
         "hovertemplate": "Admin 1=Ségou Region<br>Year=%{x}<br>Attack_Count=%{y}<extra></extra>",
         "legendgroup": "Ségou Region",
         "line": {
          "color": "#FECB52",
          "dash": "solid"
         },
         "marker": {
          "symbol": "circle"
         },
         "mode": "lines",
         "name": "Ségou Region",
         "showlegend": true,
         "type": "scattergl",
         "x": {
          "bdata": "5QcAAOcHAADoBwAA",
          "dtype": "i4"
         },
         "xaxis": "x",
         "y": {
          "bdata": "AQIC",
          "dtype": "i1"
         },
         "yaxis": "y"
        },
        {
         "hovertemplate": "Admin 1=Tabasco<br>Year=%{x}<br>Attack_Count=%{y}<extra></extra>",
         "legendgroup": "Tabasco",
         "line": {
          "color": "#636efa",
          "dash": "solid"
         },
         "marker": {
          "symbol": "circle"
         },
         "mode": "lines",
         "name": "Tabasco",
         "showlegend": true,
         "type": "scattergl",
         "x": {
          "bdata": "5QcAAA==",
          "dtype": "i4"
         },
         "xaxis": "x",
         "y": {
          "bdata": "AQ==",
          "dtype": "i1"
         },
         "yaxis": "y"
        },
        {
         "hovertemplate": "Admin 1=Tanintharyi Region<br>Year=%{x}<br>Attack_Count=%{y}<extra></extra>",
         "legendgroup": "Tanintharyi Region",
         "line": {
          "color": "#EF553B",
          "dash": "solid"
         },
         "marker": {
          "symbol": "circle"
         },
         "mode": "lines",
         "name": "Tanintharyi Region",
         "showlegend": true,
         "type": "scattergl",
         "x": {
          "bdata": "5QcAAOcHAADoBwAA6QcAAA==",
          "dtype": "i4"
         },
         "xaxis": "x",
         "y": {
          "bdata": "ChUTBA==",
          "dtype": "i1"
         },
         "yaxis": "y"
        },
        {
         "hovertemplate": "Admin 1=Ulaanbaatar<br>Year=%{x}<br>Attack_Count=%{y}<extra></extra>",
         "legendgroup": "Ulaanbaatar",
         "line": {
          "color": "#00cc96",
          "dash": "solid"
         },
         "marker": {
          "symbol": "circle"
         },
         "mode": "lines",
         "name": "Ulaanbaatar",
         "showlegend": true,
         "type": "scattergl",
         "x": {
          "bdata": "5QcAAA==",
          "dtype": "i4"
         },
         "xaxis": "x",
         "y": {
          "bdata": "AQ==",
          "dtype": "i1"
         },
         "yaxis": "y"
        },
        {
         "hovertemplate": "Admin 1=Upper Nile<br>Year=%{x}<br>Attack_Count=%{y}<extra></extra>",
         "legendgroup": "Upper Nile",
         "line": {
          "color": "#ab63fa",
          "dash": "solid"
         },
         "marker": {
          "symbol": "circle"
         },
         "mode": "lines",
         "name": "Upper Nile",
         "showlegend": true,
         "type": "scattergl",
         "x": {
          "bdata": "5QcAAA==",
          "dtype": "i4"
         },
         "xaxis": "x",
         "y": {
          "bdata": "AQ==",
          "dtype": "i1"
         },
         "yaxis": "y"
        },
        {
         "hovertemplate": "Admin 1=Uttar Pradesh state<br>Year=%{x}<br>Attack_Count=%{y}<extra></extra>",
         "legendgroup": "Uttar Pradesh state",
         "line": {
          "color": "#FFA15A",
          "dash": "solid"
         },
         "marker": {
          "symbol": "circle"
         },
         "mode": "lines",
         "name": "Uttar Pradesh state",
         "showlegend": true,
         "type": "scattergl",
         "x": {
          "bdata": "5QcAAA==",
          "dtype": "i4"
         },
         "xaxis": "x",
         "y": {
          "bdata": "AQ==",
          "dtype": "i1"
         },
         "yaxis": "y"
        },
        {
         "hovertemplate": "Admin 1=Volga Federal District<br>Year=%{x}<br>Attack_Count=%{y}<extra></extra>",
         "legendgroup": "Volga Federal District",
         "line": {
          "color": "#19d3f3",
          "dash": "solid"
         },
         "marker": {
          "symbol": "circle"
         },
         "mode": "lines",
         "name": "Volga Federal District",
         "showlegend": true,
         "type": "scattergl",
         "x": {
          "bdata": "5QcAAOYHAAA=",
          "dtype": "i4"
         },
         "xaxis": "x",
         "y": {
          "bdata": "AQI=",
          "dtype": "i1"
         },
         "yaxis": "y"
        },
        {
         "hovertemplate": "Admin 1=Wajir County<br>Year=%{x}<br>Attack_Count=%{y}<extra></extra>",
         "legendgroup": "Wajir County",
         "line": {
          "color": "#FF6692",
          "dash": "solid"
         },
         "marker": {
          "symbol": "circle"
         },
         "mode": "lines",
         "name": "Wajir County",
         "showlegend": true,
         "type": "scattergl",
         "x": {
          "bdata": "5QcAAA==",
          "dtype": "i4"
         },
         "xaxis": "x",
         "y": {
          "bdata": "AQ==",
          "dtype": "i1"
         },
         "yaxis": "y"
        },
        {
         "hovertemplate": "Admin 1=Wakiso<br>Year=%{x}<br>Attack_Count=%{y}<extra></extra>",
         "legendgroup": "Wakiso",
         "line": {
          "color": "#B6E880",
          "dash": "solid"
         },
         "marker": {
          "symbol": "circle"
         },
         "mode": "lines",
         "name": "Wakiso",
         "showlegend": true,
         "type": "scattergl",
         "x": {
          "bdata": "5QcAAA==",
          "dtype": "i4"
         },
         "xaxis": "x",
         "y": {
          "bdata": "AQ==",
          "dtype": "i1"
         },
         "yaxis": "y"
        },
        {
         "hovertemplate": "Admin 1=Western<br>Year=%{x}<br>Attack_Count=%{y}<extra></extra>",
         "legendgroup": "Western",
         "line": {
          "color": "#FF97FF",
          "dash": "solid"
         },
         "marker": {
          "symbol": "circle"
         },
         "mode": "lines",
         "name": "Western",
         "showlegend": true,
         "type": "scattergl",
         "x": {
          "bdata": "5QcAAA==",
          "dtype": "i4"
         },
         "xaxis": "x",
         "y": {
          "bdata": "AQ==",
          "dtype": "i1"
         },
         "yaxis": "y"
        },
        {
         "hovertemplate": "Admin 1=Western New Guinea<br>Year=%{x}<br>Attack_Count=%{y}<extra></extra>",
         "legendgroup": "Western New Guinea",
         "line": {
          "color": "#FECB52",
          "dash": "solid"
         },
         "marker": {
          "symbol": "circle"
         },
         "mode": "lines",
         "name": "Western New Guinea",
         "showlegend": true,
         "type": "scattergl",
         "x": {
          "bdata": "5QcAAOcHAADoBwAA6QcAAA==",
          "dtype": "i4"
         },
         "xaxis": "x",
         "y": {
          "bdata": "AgcJAQ==",
          "dtype": "i1"
         },
         "yaxis": "y"
        },
        {
         "hovertemplate": "Admin 1=Xiangxi Tujia and Miao Autonomous Prefecture<br>Year=%{x}<br>Attack_Count=%{y}<extra></extra>",
         "legendgroup": "Xiangxi Tujia and Miao Autonomous Prefecture",
         "line": {
          "color": "#636efa",
          "dash": "solid"
         },
         "marker": {
          "symbol": "circle"
         },
         "mode": "lines",
         "name": "Xiangxi Tujia and Miao Autonomous Prefecture",
         "showlegend": true,
         "type": "scattergl",
         "x": {
          "bdata": "5QcAAA==",
          "dtype": "i4"
         },
         "xaxis": "x",
         "y": {
          "bdata": "AQ==",
          "dtype": "i1"
         },
         "yaxis": "y"
        },
        {
         "hovertemplate": "Admin 1=Xinjiang<br>Year=%{x}<br>Attack_Count=%{y}<extra></extra>",
         "legendgroup": "Xinjiang",
         "line": {
          "color": "#EF553B",
          "dash": "solid"
         },
         "marker": {
          "symbol": "circle"
         },
         "mode": "lines",
         "name": "Xinjiang",
         "showlegend": true,
         "type": "scattergl",
         "x": {
          "bdata": "5QcAAOYHAAA=",
          "dtype": "i4"
         },
         "xaxis": "x",
         "y": {
          "bdata": "AgI=",
          "dtype": "i1"
         },
         "yaxis": "y"
        },
        {
         "hovertemplate": "Admin 1=Yobe<br>Year=%{x}<br>Attack_Count=%{y}<extra></extra>",
         "legendgroup": "Yobe",
         "line": {
          "color": "#00cc96",
          "dash": "solid"
         },
         "marker": {
          "symbol": "circle"
         },
         "mode": "lines",
         "name": "Yobe",
         "showlegend": true,
         "type": "scattergl",
         "x": {
          "bdata": "5QcAAOYHAADnBwAA",
          "dtype": "i4"
         },
         "xaxis": "x",
         "y": {
          "bdata": "BAMB",
          "dtype": "i1"
         },
         "yaxis": "y"
        },
        {
         "hovertemplate": "Admin 1=Yunnan<br>Year=%{x}<br>Attack_Count=%{y}<extra></extra>",
         "legendgroup": "Yunnan",
         "line": {
          "color": "#ab63fa",
          "dash": "solid"
         },
         "marker": {
          "symbol": "circle"
         },
         "mode": "lines",
         "name": "Yunnan",
         "showlegend": true,
         "type": "scattergl",
         "x": {
          "bdata": "5QcAAA==",
          "dtype": "i4"
         },
         "xaxis": "x",
         "y": {
          "bdata": "AQ==",
          "dtype": "i1"
         },
         "yaxis": "y"
        },
        {
         "hovertemplate": "Admin 1=Zamfara State<br>Year=%{x}<br>Attack_Count=%{y}<extra></extra>",
         "legendgroup": "Zamfara State",
         "line": {
          "color": "#FFA15A",
          "dash": "solid"
         },
         "marker": {
          "symbol": "circle"
         },
         "mode": "lines",
         "name": "Zamfara State",
         "showlegend": true,
         "type": "scattergl",
         "x": {
          "bdata": "5QcAAOYHAADnBwAA6AcAAA==",
          "dtype": "i4"
         },
         "xaxis": "x",
         "y": {
          "bdata": "BgIDAg==",
          "dtype": "i1"
         },
         "yaxis": "y"
        },
        {
         "hovertemplate": "Admin 1=Abyei<br>Year=%{x}<br>Attack_Count=%{y}<extra></extra>",
         "legendgroup": "Abyei",
         "line": {
          "color": "#19d3f3",
          "dash": "solid"
         },
         "marker": {
          "symbol": "circle"
         },
         "mode": "lines",
         "name": "Abyei",
         "showlegend": true,
         "type": "scattergl",
         "x": {
          "bdata": "5gcAAA==",
          "dtype": "i4"
         },
         "xaxis": "x",
         "y": {
          "bdata": "Aw==",
          "dtype": "i1"
         },
         "yaxis": "y"
        },
        {
         "hovertemplate": "Admin 1=Adamawa State<br>Year=%{x}<br>Attack_Count=%{y}<extra></extra>",
         "legendgroup": "Adamawa State",
         "line": {
          "color": "#FF6692",
          "dash": "solid"
         },
         "marker": {
          "symbol": "circle"
         },
         "mode": "lines",
         "name": "Adamawa State",
         "showlegend": true,
         "type": "scattergl",
         "x": {
          "bdata": "5gcAAA==",
          "dtype": "i4"
         },
         "xaxis": "x",
         "y": {
          "bdata": "AQ==",
          "dtype": "i1"
         },
         "yaxis": "y"
        },
        {
         "hovertemplate": "Admin 1=Addis Ababa<br>Year=%{x}<br>Attack_Count=%{y}<extra></extra>",
         "legendgroup": "Addis Ababa",
         "line": {
          "color": "#B6E880",
          "dash": "solid"
         },
         "marker": {
          "symbol": "circle"
         },
         "mode": "lines",
         "name": "Addis Ababa",
         "showlegend": true,
         "type": "scattergl",
         "x": {
          "bdata": "5gcAAOcHAAA=",
          "dtype": "i4"
         },
         "xaxis": "x",
         "y": {
          "bdata": "AQI=",
          "dtype": "i1"
         },
         "yaxis": "y"
        },
        {
         "hovertemplate": "Admin 1=Al Ismailiya<br>Year=%{x}<br>Attack_Count=%{y}<extra></extra>",
         "legendgroup": "Al Ismailiya",
         "line": {
          "color": "#FF97FF",
          "dash": "solid"
         },
         "marker": {
          "symbol": "circle"
         },
         "mode": "lines",
         "name": "Al Ismailiya",
         "showlegend": true,
         "type": "scattergl",
         "x": {
          "bdata": "5gcAAA==",
          "dtype": "i4"
         },
         "xaxis": "x",
         "y": {
          "bdata": "AQ==",
          "dtype": "i1"
         },
         "yaxis": "y"
        },
        {
         "hovertemplate": "Admin 1=Al-Basra Governorate<br>Year=%{x}<br>Attack_Count=%{y}<extra></extra>",
         "legendgroup": "Al-Basra Governorate",
         "line": {
          "color": "#FECB52",
          "dash": "solid"
         },
         "marker": {
          "symbol": "circle"
         },
         "mode": "lines",
         "name": "Al-Basra Governorate",
         "showlegend": true,
         "type": "scattergl",
         "x": {
          "bdata": "5gcAAA==",
          "dtype": "i4"
         },
         "xaxis": "x",
         "y": {
          "bdata": "AQ==",
          "dtype": "i1"
         },
         "yaxis": "y"
        },
        {
         "hovertemplate": "Admin 1=Alborz Province<br>Year=%{x}<br>Attack_Count=%{y}<extra></extra>",
         "legendgroup": "Alborz Province",
         "line": {
          "color": "#636efa",
          "dash": "solid"
         },
         "marker": {
          "symbol": "circle"
         },
         "mode": "lines",
         "name": "Alborz Province",
         "showlegend": true,
         "type": "scattergl",
         "x": {
          "bdata": "5gcAAA==",
          "dtype": "i4"
         },
         "xaxis": "x",
         "y": {
          "bdata": "AQ==",
          "dtype": "i1"
         },
         "yaxis": "y"
        },
        {
         "hovertemplate": "Admin 1=Alibori Department<br>Year=%{x}<br>Attack_Count=%{y}<extra></extra>",
         "legendgroup": "Alibori Department",
         "line": {
          "color": "#EF553B",
          "dash": "solid"
         },
         "marker": {
          "symbol": "circle"
         },
         "mode": "lines",
         "name": "Alibori Department",
         "showlegend": true,
         "type": "scattergl",
         "x": {
          "bdata": "5gcAAOcHAAA=",
          "dtype": "i4"
         },
         "xaxis": "x",
         "y": {
          "bdata": "AgE=",
          "dtype": "i1"
         },
         "yaxis": "y"
        },
        {
         "hovertemplate": "Admin 1=Amman<br>Year=%{x}<br>Attack_Count=%{y}<extra></extra>",
         "legendgroup": "Amman",
         "line": {
          "color": "#00cc96",
          "dash": "solid"
         },
         "marker": {
          "symbol": "circle"
         },
         "mode": "lines",
         "name": "Amman",
         "showlegend": true,
         "type": "scattergl",
         "x": {
          "bdata": "5gcAAA==",
          "dtype": "i4"
         },
         "xaxis": "x",
         "y": {
          "bdata": "AQ==",
          "dtype": "i1"
         },
         "yaxis": "y"
        },
        {
         "hovertemplate": "Admin 1=Ar-Raqqa Governorate<br>Year=%{x}<br>Attack_Count=%{y}<extra></extra>",
         "legendgroup": "Ar-Raqqa Governorate",
         "line": {
          "color": "#ab63fa",
          "dash": "solid"
         },
         "marker": {
          "symbol": "circle"
         },
         "mode": "lines",
         "name": "Ar-Raqqa Governorate",
         "showlegend": true,
         "type": "scattergl",
         "x": {
          "bdata": "5gcAAOcHAADoBwAA6QcAAA==",
          "dtype": "i4"
         },
         "xaxis": "x",
         "y": {
          "bdata": "AQEBAQ==",
          "dtype": "i1"
         },
         "yaxis": "y"
        },
        {
         "hovertemplate": "Admin 1=Ard Izwawa Albahriya<br>Year=%{x}<br>Attack_Count=%{y}<extra></extra>",
         "legendgroup": "Ard Izwawa Albahriya",
         "line": {
          "color": "#FFA15A",
          "dash": "solid"
         },
         "marker": {
          "symbol": "circle"
         },
         "mode": "lines",
         "name": "Ard Izwawa Albahriya",
         "showlegend": true,
         "type": "scattergl",
         "x": {
          "bdata": "5gcAAA==",
          "dtype": "i4"
         },
         "xaxis": "x",
         "y": {
          "bdata": "AQ==",
          "dtype": "i1"
         },
         "yaxis": "y"
        },
        {
         "hovertemplate": "Admin 1=Ardabil Province<br>Year=%{x}<br>Attack_Count=%{y}<extra></extra>",
         "legendgroup": "Ardabil Province",
         "line": {
          "color": "#19d3f3",
          "dash": "solid"
         },
         "marker": {
          "symbol": "circle"
         },
         "mode": "lines",
         "name": "Ardabil Province",
         "showlegend": true,
         "type": "scattergl",
         "x": {
          "bdata": "5gcAAA==",
          "dtype": "i4"
         },
         "xaxis": "x",
         "y": {
          "bdata": "AQ==",
          "dtype": "i1"
         },
         "yaxis": "y"
        },
        {
         "hovertemplate": "Admin 1=Balkh Province<br>Year=%{x}<br>Attack_Count=%{y}<extra></extra>",
         "legendgroup": "Balkh Province",
         "line": {
          "color": "#FF6692",
          "dash": "solid"
         },
         "marker": {
          "symbol": "circle"
         },
         "mode": "lines",
         "name": "Balkh Province",
         "showlegend": true,
         "type": "scattergl",
         "x": {
          "bdata": "5gcAAOgHAAA=",
          "dtype": "i4"
         },
         "xaxis": "x",
         "y": {
          "bdata": "AgE=",
          "dtype": "i1"
         },
         "yaxis": "y"
        },
        {
         "hovertemplate": "Admin 1=Bamyan Province<br>Year=%{x}<br>Attack_Count=%{y}<extra></extra>",
         "legendgroup": "Bamyan Province",
         "line": {
          "color": "#B6E880",
          "dash": "solid"
         },
         "marker": {
          "symbol": "circle"
         },
         "mode": "lines",
         "name": "Bamyan Province",
         "showlegend": true,
         "type": "scattergl",
         "x": {
          "bdata": "5gcAAOcHAAA=",
          "dtype": "i4"
         },
         "xaxis": "x",
         "y": {
          "bdata": "AQI=",
          "dtype": "i1"
         },
         "yaxis": "y"
        },
        {
         "hovertemplate": "Admin 1=Bangsamoro<br>Year=%{x}<br>Attack_Count=%{y}<extra></extra>",
         "legendgroup": "Bangsamoro",
         "line": {
          "color": "#FF97FF",
          "dash": "solid"
         },
         "marker": {
          "symbol": "circle"
         },
         "mode": "lines",
         "name": "Bangsamoro",
         "showlegend": true,
         "type": "scattergl",
         "x": {
          "bdata": "5gcAAOcHAAA=",
          "dtype": "i4"
         },
         "xaxis": "x",
         "y": {
          "bdata": "BAQ=",
          "dtype": "i1"
         },
         "yaxis": "y"
        },
        {
         "hovertemplate": "Admin 1=Berca<br>Year=%{x}<br>Attack_Count=%{y}<extra></extra>",
         "legendgroup": "Berca",
         "line": {
          "color": "#FECB52",
          "dash": "solid"
         },
         "marker": {
          "symbol": "circle"
         },
         "mode": "lines",
         "name": "Berca",
         "showlegend": true,
         "type": "scattergl",
         "x": {
          "bdata": "5gcAAA==",
          "dtype": "i4"
         },
         "xaxis": "x",
         "y": {
          "bdata": "AQ==",
          "dtype": "i1"
         },
         "yaxis": "y"
        },
        {
         "hovertemplate": "Admin 1=Casablanca-Settat<br>Year=%{x}<br>Attack_Count=%{y}<extra></extra>",
         "legendgroup": "Casablanca-Settat",
         "line": {
          "color": "#636efa",
          "dash": "solid"
         },
         "marker": {
          "symbol": "circle"
         },
         "mode": "lines",
         "name": "Casablanca-Settat",
         "showlegend": true,
         "type": "scattergl",
         "x": {
          "bdata": "5gcAAA==",
          "dtype": "i4"
         },
         "xaxis": "x",
         "y": {
          "bdata": "AQ==",
          "dtype": "i1"
         },
         "yaxis": "y"
        },
        {
         "hovertemplate": "Admin 1=Central Anatolia Region<br>Year=%{x}<br>Attack_Count=%{y}<extra></extra>",
         "legendgroup": "Central Anatolia Region",
         "line": {
          "color": "#EF553B",
          "dash": "solid"
         },
         "marker": {
          "symbol": "circle"
         },
         "mode": "lines",
         "name": "Central Anatolia Region",
         "showlegend": true,
         "type": "scattergl",
         "x": {
          "bdata": "5gcAAOcHAAA=",
          "dtype": "i4"
         },
         "xaxis": "x",
         "y": {
          "bdata": "AwE=",
          "dtype": "i1"
         },
         "yaxis": "y"
        },
        {
         "hovertemplate": "Admin 1=Central-South<br>Year=%{x}<br>Attack_Count=%{y}<extra></extra>",
         "legendgroup": "Central-South",
         "line": {
          "color": "#00cc96",
          "dash": "solid"
         },
         "marker": {
          "symbol": "circle"
         },
         "mode": "lines",
         "name": "Central-South",
         "showlegend": true,
         "type": "scattergl",
         "x": {
          "bdata": "5gcAAOcHAAA=",
          "dtype": "i4"
         },
         "xaxis": "x",
         "y": {
          "bdata": "AQE=",
          "dtype": "i1"
         },
         "yaxis": "y"
        },
        {
         "hovertemplate": "Admin 1=Cherkasy Oblast<br>Year=%{x}<br>Attack_Count=%{y}<extra></extra>",
         "legendgroup": "Cherkasy Oblast",
         "line": {
          "color": "#ab63fa",
          "dash": "solid"
         },
         "marker": {
          "symbol": "circle"
         },
         "mode": "lines",
         "name": "Cherkasy Oblast",
         "showlegend": true,
         "type": "scattergl",
         "x": {
          "bdata": "5gcAAOgHAAA=",
          "dtype": "i4"
         },
         "xaxis": "x",
         "y": {
          "bdata": "AQE=",
          "dtype": "i1"
         },
         "yaxis": "y"
        },
        {
         "hovertemplate": "Admin 1=Chernihiv Oblast<br>Year=%{x}<br>Attack_Count=%{y}<extra></extra>",
         "legendgroup": "Chernihiv Oblast",
         "line": {
          "color": "#FFA15A",
          "dash": "solid"
         },
         "marker": {
          "symbol": "circle"
         },
         "mode": "lines",
         "name": "Chernihiv Oblast",
         "showlegend": true,
         "type": "scattergl",
         "x": {
          "bdata": "5gcAAOcHAADoBwAA6QcAAA==",
          "dtype": "i4"
         },
         "xaxis": "x",
         "y": {
          "bdata": "BwEDAQ==",
          "dtype": "i1"
         },
         "yaxis": "y"
        },
        {
         "hovertemplate": "Admin 1=Damascus Governorate<br>Year=%{x}<br>Attack_Count=%{y}<extra></extra>",
         "legendgroup": "Damascus Governorate",
         "line": {
          "color": "#19d3f3",
          "dash": "solid"
         },
         "marker": {
          "symbol": "circle"
         },
         "mode": "lines",
         "name": "Damascus Governorate",
         "showlegend": true,
         "type": "scattergl",
         "x": {
          "bdata": "5gcAAA==",
          "dtype": "i4"
         },
         "xaxis": "x",
         "y": {
          "bdata": "AQ==",
          "dtype": "i1"
         },
         "yaxis": "y"
        },
        {
         "hovertemplate": "Admin 1=Davao Region<br>Year=%{x}<br>Attack_Count=%{y}<extra></extra>",
         "legendgroup": "Davao Region",
         "line": {
          "color": "#FF6692",
          "dash": "solid"
         },
         "marker": {
          "symbol": "circle"
         },
         "mode": "lines",
         "name": "Davao Region",
         "showlegend": true,
         "type": "scattergl",
         "x": {
          "bdata": "5gcAAA==",
          "dtype": "i4"
         },
         "xaxis": "x",
         "y": {
          "bdata": "AQ==",
          "dtype": "i1"
         },
         "yaxis": "y"
        },
        {
         "hovertemplate": "Admin 1=Daykundi Province<br>Year=%{x}<br>Attack_Count=%{y}<extra></extra>",
         "legendgroup": "Daykundi Province",
         "line": {
          "color": "#B6E880",
          "dash": "solid"
         },
         "marker": {
          "symbol": "circle"
         },
         "mode": "lines",
         "name": "Daykundi Province",
         "showlegend": true,
         "type": "scattergl",
         "x": {
          "bdata": "5gcAAOcHAADpBwAA",
          "dtype": "i4"
         },
         "xaxis": "x",
         "y": {
          "bdata": "AgEC",
          "dtype": "i1"
         },
         "yaxis": "y"
        },
        {
         "hovertemplate": "Admin 1=Dhamar Governorate<br>Year=%{x}<br>Attack_Count=%{y}<extra></extra>",
         "legendgroup": "Dhamar Governorate",
         "line": {
          "color": "#FF97FF",
          "dash": "solid"
         },
         "marker": {
          "symbol": "circle"
         },
         "mode": "lines",
         "name": "Dhamar Governorate",
         "showlegend": true,
         "type": "scattergl",
         "x": {
          "bdata": "5gcAAOcHAADoBwAA",
          "dtype": "i4"
         },
         "xaxis": "x",
         "y": {
          "bdata": "AQID",
          "dtype": "i1"
         },
         "yaxis": "y"
        },
        {
         "hovertemplate": "Admin 1=Dnipropetrovsk Oblast<br>Year=%{x}<br>Attack_Count=%{y}<extra></extra>",
         "legendgroup": "Dnipropetrovsk Oblast",
         "line": {
          "color": "#FECB52",
          "dash": "solid"
         },
         "marker": {
          "symbol": "circle"
         },
         "mode": "lines",
         "name": "Dnipropetrovsk Oblast",
         "showlegend": true,
         "type": "scattergl",
         "x": {
          "bdata": "5gcAAOcHAADoBwAA6QcAAA==",
          "dtype": "i4"
         },
         "xaxis": "x",
         "y": {
          "bdata": "EBRCCQ==",
          "dtype": "i1"
         },
         "yaxis": "y"
        },
        {
         "hovertemplate": "Admin 1=East Azerbaijan Province<br>Year=%{x}<br>Attack_Count=%{y}<extra></extra>",
         "legendgroup": "East Azerbaijan Province",
         "line": {
          "color": "#636efa",
          "dash": "solid"
         },
         "marker": {
          "symbol": "circle"
         },
         "mode": "lines",
         "name": "East Azerbaijan Province",
         "showlegend": true,
         "type": "scattergl",
         "x": {
          "bdata": "5gcAAA==",
          "dtype": "i4"
         },
         "xaxis": "x",
         "y": {
          "bdata": "AQ==",
          "dtype": "i1"
         },
         "yaxis": "y"
        },
        {
         "hovertemplate": "Admin 1=Eastern Anatolia Region<br>Year=%{x}<br>Attack_Count=%{y}<extra></extra>",
         "legendgroup": "Eastern Anatolia Region",
         "line": {
          "color": "#EF553B",
          "dash": "solid"
         },
         "marker": {
          "symbol": "circle"
         },
         "mode": "lines",
         "name": "Eastern Anatolia Region",
         "showlegend": true,
         "type": "scattergl",
         "x": {
          "bdata": "5gcAAOcHAAA=",
          "dtype": "i4"
         },
         "xaxis": "x",
         "y": {
          "bdata": "AQE=",
          "dtype": "i1"
         },
         "yaxis": "y"
        },
        {
         "hovertemplate": "Admin 1=Elgeyo-Marakwet County<br>Year=%{x}<br>Attack_Count=%{y}<extra></extra>",
         "legendgroup": "Elgeyo-Marakwet County",
         "line": {
          "color": "#00cc96",
          "dash": "solid"
         },
         "marker": {
          "symbol": "circle"
         },
         "mode": "lines",
         "name": "Elgeyo-Marakwet County",
         "showlegend": true,
         "type": "scattergl",
         "x": {
          "bdata": "5gcAAA==",
          "dtype": "i4"
         },
         "xaxis": "x",
         "y": {
          "bdata": "AQ==",
          "dtype": "i1"
         },
         "yaxis": "y"
        },
        {
         "hovertemplate": "Admin 1=Erbil Governorate<br>Year=%{x}<br>Attack_Count=%{y}<extra></extra>",
         "legendgroup": "Erbil Governorate",
         "line": {
          "color": "#ab63fa",
          "dash": "solid"
         },
         "marker": {
          "symbol": "circle"
         },
         "mode": "lines",
         "name": "Erbil Governorate",
         "showlegend": true,
         "type": "scattergl",
         "x": {
          "bdata": "5gcAAA==",
          "dtype": "i4"
         },
         "xaxis": "x",
         "y": {
          "bdata": "AQ==",
          "dtype": "i1"
         },
         "yaxis": "y"
        },
        {
         "hovertemplate": "Admin 1=Fars Province<br>Year=%{x}<br>Attack_Count=%{y}<extra></extra>",
         "legendgroup": "Fars Province",
         "line": {
          "color": "#FFA15A",
          "dash": "solid"
         },
         "marker": {
          "symbol": "circle"
         },
         "mode": "lines",
         "name": "Fars Province",
         "showlegend": true,
         "type": "scattergl",
         "x": {
          "bdata": "5gcAAA==",
          "dtype": "i4"
         },
         "xaxis": "x",
         "y": {
          "bdata": "AQ==",
          "dtype": "i1"
         },
         "yaxis": "y"
        },
        {
         "hovertemplate": "Admin 1=Florida<br>Year=%{x}<br>Attack_Count=%{y}<extra></extra>",
         "legendgroup": "Florida",
         "line": {
          "color": "#19d3f3",
          "dash": "solid"
         },
         "marker": {
          "symbol": "circle"
         },
         "mode": "lines",
         "name": "Florida",
         "showlegend": true,
         "type": "scattergl",
         "x": {
          "bdata": "5gcAAA==",
          "dtype": "i4"
         },
         "xaxis": "x",
         "y": {
          "bdata": "AQ==",
          "dtype": "i1"
         },
         "yaxis": "y"
        },
        {
         "hovertemplate": "Admin 1=Gegharkunik Province<br>Year=%{x}<br>Attack_Count=%{y}<extra></extra>",
         "legendgroup": "Gegharkunik Province",
         "line": {
          "color": "#FF6692",
          "dash": "solid"
         },
         "marker": {
          "symbol": "circle"
         },
         "mode": "lines",
         "name": "Gegharkunik Province",
         "showlegend": true,
         "type": "scattergl",
         "x": {
          "bdata": "5gcAAA==",
          "dtype": "i4"
         },
         "xaxis": "x",
         "y": {
          "bdata": "AQ==",
          "dtype": "i1"
         },
         "yaxis": "y"
        },
        {
         "hovertemplate": "Admin 1=Ghazni Province<br>Year=%{x}<br>Attack_Count=%{y}<extra></extra>",
         "legendgroup": "Ghazni Province",
         "line": {
          "color": "#B6E880",
          "dash": "solid"
         },
         "marker": {
          "symbol": "circle"
         },
         "mode": "lines",
         "name": "Ghazni Province",
         "showlegend": true,
         "type": "scattergl",
         "x": {
          "bdata": "5gcAAOcHAAA=",
          "dtype": "i4"
         },
         "xaxis": "x",
         "y": {
          "bdata": "AQE=",
          "dtype": "i1"
         },
         "yaxis": "y"
        },
        {
         "hovertemplate": "Admin 1=Gilgit-Baltistan<br>Year=%{x}<br>Attack_Count=%{y}<extra></extra>",
         "legendgroup": "Gilgit-Baltistan",
         "line": {
          "color": "#FF97FF",
          "dash": "solid"
         },
         "marker": {
          "symbol": "circle"
         },
         "mode": "lines",
         "name": "Gilgit-Baltistan",
         "showlegend": true,
         "type": "scattergl",
         "x": {
          "bdata": "5gcAAA==",
          "dtype": "i4"
         },
         "xaxis": "x",
         "y": {
          "bdata": "AQ==",
          "dtype": "i1"
         },
         "yaxis": "y"
        },
        {
         "hovertemplate": "Admin 1=Greater London<br>Year=%{x}<br>Attack_Count=%{y}<extra></extra>",
         "legendgroup": "Greater London",
         "line": {
          "color": "#FECB52",
          "dash": "solid"
         },
         "marker": {
          "symbol": "circle"
         },
         "mode": "lines",
         "name": "Greater London",
         "showlegend": true,
         "type": "scattergl",
         "x": {
          "bdata": "5gcAAA==",
          "dtype": "i4"
         },
         "xaxis": "x",
         "y": {
          "bdata": "Ag==",
          "dtype": "i1"
         },
         "yaxis": "y"
        },
        {
         "hovertemplate": "Admin 1=Harare<br>Year=%{x}<br>Attack_Count=%{y}<extra></extra>",
         "legendgroup": "Harare",
         "line": {
          "color": "#636efa",
          "dash": "solid"
         },
         "marker": {
          "symbol": "circle"
         },
         "mode": "lines",
         "name": "Harare",
         "showlegend": true,
         "type": "scattergl",
         "x": {
          "bdata": "5gcAAA==",
          "dtype": "i4"
         },
         "xaxis": "x",
         "y": {
          "bdata": "Ag==",
          "dtype": "i1"
         },
         "yaxis": "y"
        },
        {
         "hovertemplate": "Admin 1=Haute-Kotto<br>Year=%{x}<br>Attack_Count=%{y}<extra></extra>",
         "legendgroup": "Haute-Kotto",
         "line": {
          "color": "#EF553B",
          "dash": "solid"
         },
         "marker": {
          "symbol": "circle"
         },
         "mode": "lines",
         "name": "Haute-Kotto",
         "showlegend": true,
         "type": "scattergl",
         "x": {
          "bdata": "5gcAAOcHAAA=",
          "dtype": "i4"
         },
         "xaxis": "x",
         "y": {
          "bdata": "AgE=",
          "dtype": "i1"
         },
         "yaxis": "y"
        },
        {
         "hovertemplate": "Admin 1=Highlands Region<br>Year=%{x}<br>Attack_Count=%{y}<extra></extra>",
         "legendgroup": "Highlands Region",
         "line": {
          "color": "#00cc96",
          "dash": "solid"
         },
         "marker": {
          "symbol": "circle"
         },
         "mode": "lines",
         "name": "Highlands Region",
         "showlegend": true,
         "type": "scattergl",
         "x": {
          "bdata": "5gcAAOcHAADoBwAA",
          "dtype": "i4"
         },
         "xaxis": "x",
         "y": {
          "bdata": "AQMB",
          "dtype": "i1"
         },
         "yaxis": "y"
        },
        {
         "hovertemplate": "Admin 1=Hoima<br>Year=%{x}<br>Attack_Count=%{y}<extra></extra>",
         "legendgroup": "Hoima",
         "line": {
          "color": "#ab63fa",
          "dash": "solid"
         },
         "marker": {
          "symbol": "circle"
         },
         "mode": "lines",
         "name": "Hoima",
         "showlegend": true,
         "type": "scattergl",
         "x": {
          "bdata": "5gcAAA==",
          "dtype": "i4"
         },
         "xaxis": "x",
         "y": {
          "bdata": "AQ==",
          "dtype": "i1"
         },
         "yaxis": "y"
        },
        {
         "hovertemplate": "Admin 1=Hormozgan Province<br>Year=%{x}<br>Attack_Count=%{y}<extra></extra>",
         "legendgroup": "Hormozgan Province",
         "line": {
          "color": "#FFA15A",
          "dash": "solid"
         },
         "marker": {
          "symbol": "circle"
         },
         "mode": "lines",
         "name": "Hormozgan Province",
         "showlegend": true,
         "type": "scattergl",
         "x": {
          "bdata": "5gcAAA==",
          "dtype": "i4"
         },
         "xaxis": "x",
         "y": {
          "bdata": "AQ==",
          "dtype": "i1"
         },
         "yaxis": "y"
        },
        {
         "hovertemplate": "Admin 1=Idleb Governorate<br>Year=%{x}<br>Attack_Count=%{y}<extra></extra>",
         "legendgroup": "Idleb Governorate",
         "line": {
          "color": "#19d3f3",
          "dash": "solid"
         },
         "marker": {
          "symbol": "circle"
         },
         "mode": "lines",
         "name": "Idleb Governorate",
         "showlegend": true,
         "type": "scattergl",
         "x": {
          "bdata": "5gcAAOcHAADoBwAA",
          "dtype": "i4"
         },
         "xaxis": "x",
         "y": {
          "bdata": "AQQF",
          "dtype": "i1"
         },
         "yaxis": "y"
        },
        {
         "hovertemplate": "Admin 1=Iowa<br>Year=%{x}<br>Attack_Count=%{y}<extra></extra>",
         "legendgroup": "Iowa",
         "line": {
          "color": "#FF6692",
          "dash": "solid"
         },
         "marker": {
          "symbol": "circle"
         },
         "mode": "lines",
         "name": "Iowa",
         "showlegend": true,
         "type": "scattergl",
         "x": {
          "bdata": "5gcAAA==",
          "dtype": "i4"
         },
         "xaxis": "x",
         "y": {
          "bdata": "AQ==",
          "dtype": "i1"
         },
         "yaxis": "y"
        },
        {
         "hovertemplate": "Admin 1=Iraqi Kurdistan Region<br>Year=%{x}<br>Attack_Count=%{y}<extra></extra>",
         "legendgroup": "Iraqi Kurdistan Region",
         "line": {
          "color": "#B6E880",
          "dash": "solid"
         },
         "marker": {
          "symbol": "circle"
         },
         "mode": "lines",
         "name": "Iraqi Kurdistan Region",
         "showlegend": true,
         "type": "scattergl",
         "x": {
          "bdata": "5gcAAOgHAAA=",
          "dtype": "i4"
         },
         "xaxis": "x",
         "y": {
          "bdata": "BQE=",
          "dtype": "i1"
         },
         "yaxis": "y"
        },
        {
         "hovertemplate": "Admin 1=Isfahan Province<br>Year=%{x}<br>Attack_Count=%{y}<extra></extra>",
         "legendgroup": "Isfahan Province",
         "line": {
          "color": "#FF97FF",
          "dash": "solid"
         },
         "marker": {
          "symbol": "circle"
         },
         "mode": "lines",
         "name": "Isfahan Province",
         "showlegend": true,
         "type": "scattergl",
         "x": {
          "bdata": "5gcAAA==",
          "dtype": "i4"
         },
         "xaxis": "x",
         "y": {
          "bdata": "Aw==",
          "dtype": "i1"
         },
         "yaxis": "y"
        },
        {
         "hovertemplate": "Admin 1=Jharkhand<br>Year=%{x}<br>Attack_Count=%{y}<extra></extra>",
         "legendgroup": "Jharkhand",
         "line": {
          "color": "#FECB52",
          "dash": "solid"
         },
         "marker": {
          "symbol": "circle"
         },
         "mode": "lines",
         "name": "Jharkhand",
         "showlegend": true,
         "type": "scattergl",
         "x": {
          "bdata": "5gcAAA==",
          "dtype": "i4"
         },
         "xaxis": "x",
         "y": {
          "bdata": "AQ==",
          "dtype": "i1"
         },
         "yaxis": "y"
        },
        {
         "hovertemplate": "Admin 1=Jiangxi<br>Year=%{x}<br>Attack_Count=%{y}<extra></extra>",
         "legendgroup": "Jiangxi",
         "line": {
          "color": "#636efa",
          "dash": "solid"
         },
         "marker": {
          "symbol": "circle"
         },
         "mode": "lines",
         "name": "Jiangxi",
         "showlegend": true,
         "type": "scattergl",
         "x": {
          "bdata": "5gcAAA==",
          "dtype": "i4"
         },
         "xaxis": "x",
         "y": {
          "bdata": "AQ==",
          "dtype": "i1"
         },
         "yaxis": "y"
        },
        {
         "hovertemplate": "Admin 1=Kapisa Province<br>Year=%{x}<br>Attack_Count=%{y}<extra></extra>",
         "legendgroup": "Kapisa Province",
         "line": {
          "color": "#EF553B",
          "dash": "solid"
         },
         "marker": {
          "symbol": "circle"
         },
         "mode": "lines",
         "name": "Kapisa Province",
         "showlegend": true,
         "type": "scattergl",
         "x": {
          "bdata": "5gcAAA==",
          "dtype": "i4"
         },
         "xaxis": "x",
         "y": {
          "bdata": "AQ==",
          "dtype": "i1"
         },
         "yaxis": "y"
        },
        {
         "hovertemplate": "Admin 1=Kerala<br>Year=%{x}<br>Attack_Count=%{y}<extra></extra>",
         "legendgroup": "Kerala",
         "line": {
          "color": "#00cc96",
          "dash": "solid"
         },
         "marker": {
          "symbol": "circle"
         },
         "mode": "lines",
         "name": "Kerala",
         "showlegend": true,
         "type": "scattergl",
         "x": {
          "bdata": "5gcAAA==",
          "dtype": "i4"
         },
         "xaxis": "x",
         "y": {
          "bdata": "AQ==",
          "dtype": "i1"
         },
         "yaxis": "y"
        },
        {
         "hovertemplate": "Admin 1=Kermanshah Province<br>Year=%{x}<br>Attack_Count=%{y}<extra></extra>",
         "legendgroup": "Kermanshah Province",
         "line": {
          "color": "#ab63fa",
          "dash": "solid"
         },
         "marker": {
          "symbol": "circle"
         },
         "mode": "lines",
         "name": "Kermanshah Province",
         "showlegend": true,
         "type": "scattergl",
         "x": {
          "bdata": "5gcAAA==",
          "dtype": "i4"
         },
         "xaxis": "x",
         "y": {
          "bdata": "AQ==",
          "dtype": "i1"
         },
         "yaxis": "y"
        },
        {
         "hovertemplate": "Admin 1=Kharkiv Oblast<br>Year=%{x}<br>Attack_Count=%{y}<extra></extra>",
         "legendgroup": "Kharkiv Oblast",
         "line": {
          "color": "#FFA15A",
          "dash": "solid"
         },
         "marker": {
          "symbol": "circle"
         },
         "mode": "lines",
         "name": "Kharkiv Oblast",
         "showlegend": true,
         "type": "scattergl",
         "x": {
          "bdata": "5gcAAOcHAADoBwAA6QcAAA==",
          "dtype": "i4"
         },
         "xaxis": "x",
         "y": {
          "bdata": "IREmBw==",
          "dtype": "i1"
         },
         "yaxis": "y"
        },
        {
         "hovertemplate": "Admin 1=Kherson Oblast<br>Year=%{x}<br>Attack_Count=%{y}<extra></extra>",
         "legendgroup": "Kherson Oblast",
         "line": {
          "color": "#19d3f3",
          "dash": "solid"
         },
         "marker": {
          "symbol": "circle"
         },
         "mode": "lines",
         "name": "Kherson Oblast",
         "showlegend": true,
         "type": "scattergl",
         "x": {
          "bdata": "5gcAAOcHAADoBwAA6QcAAA==",
          "dtype": "i4"
         },
         "xaxis": "x",
         "y": {
          "bdata": "Dx0QDA==",
          "dtype": "i1"
         },
         "yaxis": "y"
        },
        {
         "hovertemplate": "Admin 1=Khuzestan Province<br>Year=%{x}<br>Attack_Count=%{y}<extra></extra>",
         "legendgroup": "Khuzestan Province",
         "line": {
          "color": "#FF6692",
          "dash": "solid"
         },
         "marker": {
          "symbol": "circle"
         },
         "mode": "lines",
         "name": "Khuzestan Province",
         "showlegend": true,
         "type": "scattergl",
         "x": {
          "bdata": "5gcAAA==",
          "dtype": "i4"
         },
         "xaxis": "x",
         "y": {
          "bdata": "AQ==",
          "dtype": "i1"
         },
         "yaxis": "y"
        },
        {
         "hovertemplate": "Admin 1=Kirkuk Governorate<br>Year=%{x}<br>Attack_Count=%{y}<extra></extra>",
         "legendgroup": "Kirkuk Governorate",
         "line": {
          "color": "#B6E880",
          "dash": "solid"
         },
         "marker": {
          "symbol": "circle"
         },
         "mode": "lines",
         "name": "Kirkuk Governorate",
         "showlegend": true,
         "type": "scattergl",
         "x": {
          "bdata": "5gcAAA==",
          "dtype": "i4"
         },
         "xaxis": "x",
         "y": {
          "bdata": "AQ==",
          "dtype": "i1"
         },
         "yaxis": "y"
        },
        {
         "hovertemplate": "Admin 1=Kirovohrad Oblast<br>Year=%{x}<br>Attack_Count=%{y}<extra></extra>",
         "legendgroup": "Kirovohrad Oblast",
         "line": {
          "color": "#FF97FF",
          "dash": "solid"
         },
         "marker": {
          "symbol": "circle"
         },
         "mode": "lines",
         "name": "Kirovohrad Oblast",
         "showlegend": true,
         "type": "scattergl",
         "x": {
          "bdata": "5gcAAOkHAAA=",
          "dtype": "i4"
         },
         "xaxis": "x",
         "y": {
          "bdata": "AgE=",
          "dtype": "i1"
         },
         "yaxis": "y"
        },
        {
         "hovertemplate": "Admin 1=Koulikoro<br>Year=%{x}<br>Attack_Count=%{y}<extra></extra>",
         "legendgroup": "Koulikoro",
         "line": {
          "color": "#FECB52",
          "dash": "solid"
         },
         "marker": {
          "symbol": "circle"
         },
         "mode": "lines",
         "name": "Koulikoro",
         "showlegend": true,
         "type": "scattergl",
         "x": {
          "bdata": "5gcAAOcHAADoBwAA",
          "dtype": "i4"
         },
         "xaxis": "x",
         "y": {
          "bdata": "BAMB",
          "dtype": "i1"
         },
         "yaxis": "y"
        },
        {
         "hovertemplate": "Admin 1=Kurdistan Province<br>Year=%{x}<br>Attack_Count=%{y}<extra></extra>",
         "legendgroup": "Kurdistan Province",
         "line": {
          "color": "#636efa",
          "dash": "solid"
         },
         "marker": {
          "symbol": "circle"
         },
         "mode": "lines",
         "name": "Kurdistan Province",
         "showlegend": true,
         "type": "scattergl",
         "x": {
          "bdata": "5gcAAA==",
          "dtype": "i4"
         },
         "xaxis": "x",
         "y": {
          "bdata": "Aw==",
          "dtype": "i1"
         },
         "yaxis": "y"
        },
        {
         "hovertemplate": "Admin 1=Kyiv Oblast<br>Year=%{x}<br>Attack_Count=%{y}<extra></extra>",
         "legendgroup": "Kyiv Oblast",
         "line": {
          "color": "#EF553B",
          "dash": "solid"
         },
         "marker": {
          "symbol": "circle"
         },
         "mode": "lines",
         "name": "Kyiv Oblast",
         "showlegend": true,
         "type": "scattergl",
         "x": {
          "bdata": "5gcAAOcHAADoBwAA6QcAAA==",
          "dtype": "i4"
         },
         "xaxis": "x",
         "y": {
          "bdata": "BwMFBA==",
          "dtype": "i1"
         },
         "yaxis": "y"
        },
        {
         "hovertemplate": "Admin 1=Lagos State<br>Year=%{x}<br>Attack_Count=%{y}<extra></extra>",
         "legendgroup": "Lagos State",
         "line": {
          "color": "#00cc96",
          "dash": "solid"
         },
         "marker": {
          "symbol": "circle"
         },
         "mode": "lines",
         "name": "Lagos State",
         "showlegend": true,
         "type": "scattergl",
         "x": {
          "bdata": "5gcAAOcHAAA=",
          "dtype": "i4"
         },
         "xaxis": "x",
         "y": {
          "bdata": "AQI=",
          "dtype": "i1"
         },
         "yaxis": "y"
        },
        {
         "hovertemplate": "Admin 1=Lakes<br>Year=%{x}<br>Attack_Count=%{y}<extra></extra>",
         "legendgroup": "Lakes",
         "line": {
          "color": "#ab63fa",
          "dash": "solid"
         },
         "marker": {
          "symbol": "circle"
         },
         "mode": "lines",
         "name": "Lakes",
         "showlegend": true,
         "type": "scattergl",
         "x": {
          "bdata": "5gcAAOcHAAA=",
          "dtype": "i4"
         },
         "xaxis": "x",
         "y": {
          "bdata": "AQE=",
          "dtype": "i1"
         },
         "yaxis": "y"
        },
        {
         "hovertemplate": "Admin 1=Lower Shabelle<br>Year=%{x}<br>Attack_Count=%{y}<extra></extra>",
         "legendgroup": "Lower Shabelle",
         "line": {
          "color": "#FFA15A",
          "dash": "solid"
         },
         "marker": {
          "symbol": "circle"
         },
         "mode": "lines",
         "name": "Lower Shabelle",
         "showlegend": true,
         "type": "scattergl",
         "x": {
          "bdata": "5gcAAOkHAAA=",
          "dtype": "i4"
         },
         "xaxis": "x",
         "y": {
          "bdata": "AQE=",
          "dtype": "i1"
         },
         "yaxis": "y"
        },
        {
         "hovertemplate": "Admin 1=Machakos County<br>Year=%{x}<br>Attack_Count=%{y}<extra></extra>",
         "legendgroup": "Machakos County",
         "line": {
          "color": "#19d3f3",
          "dash": "solid"
         },
         "marker": {
          "symbol": "circle"
         },
         "mode": "lines",
         "name": "Machakos County",
         "showlegend": true,
         "type": "scattergl",
         "x": {
          "bdata": "5gcAAA==",
          "dtype": "i4"
         },
         "xaxis": "x",
         "y": {
          "bdata": "AQ==",
          "dtype": "i1"
         },
         "yaxis": "y"
        },
        {
         "hovertemplate": "Admin 1=Makkah Region<br>Year=%{x}<br>Attack_Count=%{y}<extra></extra>",
         "legendgroup": "Makkah Region",
         "line": {
          "color": "#FF6692",
          "dash": "solid"
         },
         "marker": {
          "symbol": "circle"
         },
         "mode": "lines",
         "name": "Makkah Region",
         "showlegend": true,
         "type": "scattergl",
         "x": {
          "bdata": "5gcAAA==",
          "dtype": "i4"
         },
         "xaxis": "x",
         "y": {
          "bdata": "Ag==",
          "dtype": "i1"
         },
         "yaxis": "y"
        },
        {
         "hovertemplate": "Admin 1=Mandera County<br>Year=%{x}<br>Attack_Count=%{y}<extra></extra>",
         "legendgroup": "Mandera County",
         "line": {
          "color": "#B6E880",
          "dash": "solid"
         },
         "marker": {
          "symbol": "circle"
         },
         "mode": "lines",
         "name": "Mandera County",
         "showlegend": true,
         "type": "scattergl",
         "x": {
          "bdata": "5gcAAA==",
          "dtype": "i4"
         },
         "xaxis": "x",
         "y": {
          "bdata": "Ag==",
          "dtype": "i1"
         },
         "yaxis": "y"
        },
        {
         "hovertemplate": "Admin 1=Manipur<br>Year=%{x}<br>Attack_Count=%{y}<extra></extra>",
         "legendgroup": "Manipur",
         "line": {
          "color": "#FF97FF",
          "dash": "solid"
         },
         "marker": {
          "symbol": "circle"
         },
         "mode": "lines",
         "name": "Manipur",
         "showlegend": true,
         "type": "scattergl",
         "x": {
          "bdata": "5gcAAOcHAADoBwAA6QcAAA==",
          "dtype": "i4"
         },
         "xaxis": "x",
         "y": {
          "bdata": "AQMGAQ==",
          "dtype": "i1"
         },
         "yaxis": "y"
        },
        {
         "hovertemplate": "Admin 1=Marmara Region<br>Year=%{x}<br>Attack_Count=%{y}<extra></extra>",
         "legendgroup": "Marmara Region",
         "line": {
          "color": "#FECB52",
          "dash": "solid"
         },
         "marker": {
          "symbol": "circle"
         },
         "mode": "lines",
         "name": "Marmara Region",
         "showlegend": true,
         "type": "scattergl",
         "x": {
          "bdata": "5gcAAOcHAAA=",
          "dtype": "i4"
         },
         "xaxis": "x",
         "y": {
          "bdata": "AgE=",
          "dtype": "i1"
         },
         "yaxis": "y"
        },
        {
         "hovertemplate": "Admin 1=Momase Region<br>Year=%{x}<br>Attack_Count=%{y}<extra></extra>",
         "legendgroup": "Momase Region",
         "line": {
          "color": "#636efa",
          "dash": "solid"
         },
         "marker": {
          "symbol": "circle"
         },
         "mode": "lines",
         "name": "Momase Region",
         "showlegend": true,
         "type": "scattergl",
         "x": {
          "bdata": "5gcAAA==",
          "dtype": "i4"
         },
         "xaxis": "x",
         "y": {
          "bdata": "AQ==",
          "dtype": "i1"
         },
         "yaxis": "y"
        },
        {
         "hovertemplate": "Admin 1=Mykolaiv Oblast<br>Year=%{x}<br>Attack_Count=%{y}<extra></extra>",
         "legendgroup": "Mykolaiv Oblast",
         "line": {
          "color": "#EF553B",
          "dash": "solid"
         },
         "marker": {
          "symbol": "circle"
         },
         "mode": "lines",
         "name": "Mykolaiv Oblast",
         "showlegend": true,
         "type": "scattergl",
         "x": {
          "bdata": "5gcAAOcHAADoBwAA6QcAAA==",
          "dtype": "i4"
         },
         "xaxis": "x",
         "y": {
          "bdata": "JgIJAQ==",
          "dtype": "i1"
         },
         "yaxis": "y"
        },
        {
         "hovertemplate": "Admin 1=Mymensingh Division<br>Year=%{x}<br>Attack_Count=%{y}<extra></extra>",
         "legendgroup": "Mymensingh Division",
         "line": {
          "color": "#00cc96",
          "dash": "solid"
         },
         "marker": {
          "symbol": "circle"
         },
         "mode": "lines",
         "name": "Mymensingh Division",
         "showlegend": true,
         "type": "scattergl",
         "x": {
          "bdata": "5gcAAA==",
          "dtype": "i4"
         },
         "xaxis": "x",
         "y": {
          "bdata": "AQ==",
          "dtype": "i1"
         },
         "yaxis": "y"
        },
        {
         "hovertemplate": "Admin 1=Ménaka<br>Year=%{x}<br>Attack_Count=%{y}<extra></extra>",
         "legendgroup": "Ménaka",
         "line": {
          "color": "#ab63fa",
          "dash": "solid"
         },
         "marker": {
          "symbol": "circle"
         },
         "mode": "lines",
         "name": "Ménaka",
         "showlegend": true,
         "type": "scattergl",
         "x": {
          "bdata": "5gcAAOcHAAA=",
          "dtype": "i4"
         },
         "xaxis": "x",
         "y": {
          "bdata": "AQE=",
          "dtype": "i1"
         },
         "yaxis": "y"
        },
        {
         "hovertemplate": "Admin 1=Nampula Province<br>Year=%{x}<br>Attack_Count=%{y}<extra></extra>",
         "legendgroup": "Nampula Province",
         "line": {
          "color": "#FFA15A",
          "dash": "solid"
         },
         "marker": {
          "symbol": "circle"
         },
         "mode": "lines",
         "name": "Nampula Province",
         "showlegend": true,
         "type": "scattergl",
         "x": {
          "bdata": "5gcAAA==",
          "dtype": "i4"
         },
         "xaxis": "x",
         "y": {
          "bdata": "Aw==",
          "dtype": "i1"
         },
         "yaxis": "y"
        },
        {
         "hovertemplate": "Admin 1=Narathiwat Province<br>Year=%{x}<br>Attack_Count=%{y}<extra></extra>",
         "legendgroup": "Narathiwat Province",
         "line": {
          "color": "#19d3f3",
          "dash": "solid"
         },
         "marker": {
          "symbol": "circle"
         },
         "mode": "lines",
         "name": "Narathiwat Province",
         "showlegend": true,
         "type": "scattergl",
         "x": {
          "bdata": "5gcAAA==",
          "dtype": "i4"
         },
         "xaxis": "x",
         "y": {
          "bdata": "AQ==",
          "dtype": "i1"
         },
         "yaxis": "y"
        },
        {
         "hovertemplate": "Admin 1=Niassa Province<br>Year=%{x}<br>Attack_Count=%{y}<extra></extra>",
         "legendgroup": "Niassa Province",
         "line": {
          "color": "#FF6692",
          "dash": "solid"
         },
         "marker": {
          "symbol": "circle"
         },
         "mode": "lines",
         "name": "Niassa Province",
         "showlegend": true,
         "type": "scattergl",
         "x": {
          "bdata": "5gcAAA==",
          "dtype": "i4"
         },
         "xaxis": "x",
         "y": {
          "bdata": "AQ==",
          "dtype": "i1"
         },
         "yaxis": "y"
        },
        {
         "hovertemplate": "Admin 1=Nong Bua Lam Phu Province<br>Year=%{x}<br>Attack_Count=%{y}<extra></extra>",
         "legendgroup": "Nong Bua Lam Phu Province",
         "line": {
          "color": "#B6E880",
          "dash": "solid"
         },
         "marker": {
          "symbol": "circle"
         },
         "mode": "lines",
         "name": "Nong Bua Lam Phu Province",
         "showlegend": true,
         "type": "scattergl",
         "x": {
          "bdata": "5gcAAA==",
          "dtype": "i4"
         },
         "xaxis": "x",
         "y": {
          "bdata": "AQ==",
          "dtype": "i1"
         },
         "yaxis": "y"
        },
        {
         "hovertemplate": "Admin 1=North Sinai Governorate<br>Year=%{x}<br>Attack_Count=%{y}<extra></extra>",
         "legendgroup": "North Sinai Governorate",
         "line": {
          "color": "#FF97FF",
          "dash": "solid"
         },
         "marker": {
          "symbol": "circle"
         },
         "mode": "lines",
         "name": "North Sinai Governorate",
         "showlegend": true,
         "type": "scattergl",
         "x": {
          "bdata": "5gcAAA==",
          "dtype": "i4"
         },
         "xaxis": "x",
         "y": {
          "bdata": "AQ==",
          "dtype": "i1"
         },
         "yaxis": "y"
        },
        {
         "hovertemplate": "Admin 1=Paktia Province<br>Year=%{x}<br>Attack_Count=%{y}<extra></extra>",
         "legendgroup": "Paktia Province",
         "line": {
          "color": "#FECB52",
          "dash": "solid"
         },
         "marker": {
          "symbol": "circle"
         },
         "mode": "lines",
         "name": "Paktia Province",
         "showlegend": true,
         "type": "scattergl",
         "x": {
          "bdata": "5gcAAA==",
          "dtype": "i4"
         },
         "xaxis": "x",
         "y": {
          "bdata": "BA==",
          "dtype": "i1"
         },
         "yaxis": "y"
        },
        {
         "hovertemplate": "Admin 1=Panjshir Province<br>Year=%{x}<br>Attack_Count=%{y}<extra></extra>",
         "legendgroup": "Panjshir Province",
         "line": {
          "color": "#636efa",
          "dash": "solid"
         },
         "marker": {
          "symbol": "circle"
         },
         "mode": "lines",
         "name": "Panjshir Province",
         "showlegend": true,
         "type": "scattergl",
         "x": {
          "bdata": "5gcAAOcHAADoBwAA6QcAAA==",
          "dtype": "i4"
         },
         "xaxis": "x",
         "y": {
          "bdata": "BAMDAQ==",
          "dtype": "i1"
         },
         "yaxis": "y"
        },
        {
         "hovertemplate": "Admin 1=Pecherskyi district<br>Year=%{x}<br>Attack_Count=%{y}<extra></extra>",
         "legendgroup": "Pecherskyi district",
         "line": {
          "color": "#EF553B",
          "dash": "solid"
         },
         "marker": {
          "symbol": "circle"
         },
         "mode": "lines",
         "name": "Pecherskyi district",
         "showlegend": true,
         "type": "scattergl",
         "x": {
          "bdata": "5gcAAOgHAAA=",
          "dtype": "i4"
         },
         "xaxis": "x",
         "y": {
          "bdata": "AgE=",
          "dtype": "i1"
         },
         "yaxis": "y"
        },
        {
         "hovertemplate": "Admin 1=Qom Province<br>Year=%{x}<br>Attack_Count=%{y}<extra></extra>",
         "legendgroup": "Qom Province",
         "line": {
          "color": "#00cc96",
          "dash": "solid"
         },
         "marker": {
          "symbol": "circle"
         },
         "mode": "lines",
         "name": "Qom Province",
         "showlegend": true,
         "type": "scattergl",
         "x": {
          "bdata": "5gcAAA==",
          "dtype": "i4"
         },
         "xaxis": "x",
         "y": {
          "bdata": "AQ==",
          "dtype": "i1"
         },
         "yaxis": "y"
        },
        {
         "hovertemplate": "Admin 1=RAP (Especial) Central<br>Year=%{x}<br>Attack_Count=%{y}<extra></extra>",
         "legendgroup": "RAP (Especial) Central",
         "line": {
          "color": "#ab63fa",
          "dash": "solid"
         },
         "marker": {
          "symbol": "circle"
         },
         "mode": "lines",
         "name": "RAP (Especial) Central",
         "showlegend": true,
         "type": "scattergl",
         "x": {
          "bdata": "5gcAAOcHAAA=",
          "dtype": "i4"
         },
         "xaxis": "x",
         "y": {
          "bdata": "AQE=",
          "dtype": "i1"
         },
         "yaxis": "y"
        },
        {
         "hovertemplate": "Admin 1=RAP Gran Santander<br>Year=%{x}<br>Attack_Count=%{y}<extra></extra>",
         "legendgroup": "RAP Gran Santander",
         "line": {
          "color": "#FFA15A",
          "dash": "solid"
         },
         "marker": {
          "symbol": "circle"
         },
         "mode": "lines",
         "name": "RAP Gran Santander",
         "showlegend": true,
         "type": "scattergl",
         "x": {
          "bdata": "5gcAAOcHAADoBwAA",
          "dtype": "i4"
         },
         "xaxis": "x",
         "y": {
          "bdata": "AwID",
          "dtype": "i1"
         },
         "yaxis": "y"
        },
        {
         "hovertemplate": "Admin 1=RAP Pacífico<br>Year=%{x}<br>Attack_Count=%{y}<extra></extra>",
         "legendgroup": "RAP Pacífico",
         "line": {
          "color": "#19d3f3",
          "dash": "solid"
         },
         "marker": {
          "symbol": "circle"
         },
         "mode": "lines",
         "name": "RAP Pacífico",
         "showlegend": true,
         "type": "scattergl",
         "x": {
          "bdata": "5gcAAOcHAADoBwAA6QcAAA==",
          "dtype": "i4"
         },
         "xaxis": "x",
         "y": {
          "bdata": "CAgIAQ==",
          "dtype": "i1"
         },
         "yaxis": "y"
        },
        {
         "hovertemplate": "Admin 1=River Nile State<br>Year=%{x}<br>Attack_Count=%{y}<extra></extra>",
         "legendgroup": "River Nile State",
         "line": {
          "color": "#FF6692",
          "dash": "solid"
         },
         "marker": {
          "symbol": "circle"
         },
         "mode": "lines",
         "name": "River Nile State",
         "showlegend": true,
         "type": "scattergl",
         "x": {
          "bdata": "5gcAAA==",
          "dtype": "i4"
         },
         "xaxis": "x",
         "y": {
          "bdata": "Ag==",
          "dtype": "i1"
         },
         "yaxis": "y"
        },
        {
         "hovertemplate": "Admin 1=Rivne Oblast<br>Year=%{x}<br>Attack_Count=%{y}<extra></extra>",
         "legendgroup": "Rivne Oblast",
         "line": {
          "color": "#B6E880",
          "dash": "solid"
         },
         "marker": {
          "symbol": "circle"
         },
         "mode": "lines",
         "name": "Rivne Oblast",
         "showlegend": true,
         "type": "scattergl",
         "x": {
          "bdata": "5gcAAA==",
          "dtype": "i4"
         },
         "xaxis": "x",
         "y": {
          "bdata": "Ag==",
          "dtype": "i1"
         },
         "yaxis": "y"
        },
        {
         "hovertemplate": "Admin 1=Samangan Province<br>Year=%{x}<br>Attack_Count=%{y}<extra></extra>",
         "legendgroup": "Samangan Province",
         "line": {
          "color": "#FF97FF",
          "dash": "solid"
         },
         "marker": {
          "symbol": "circle"
         },
         "mode": "lines",
         "name": "Samangan Province",
         "showlegend": true,
         "type": "scattergl",
         "x": {
          "bdata": "5gcAAOcHAAA=",
          "dtype": "i4"
         },
         "xaxis": "x",
         "y": {
          "bdata": "AQE=",
          "dtype": "i1"
         },
         "yaxis": "y"
        },
        {
         "hovertemplate": "Admin 1=Sindh<br>Year=%{x}<br>Attack_Count=%{y}<extra></extra>",
         "legendgroup": "Sindh",
         "line": {
          "color": "#FECB52",
          "dash": "solid"
         },
         "marker": {
          "symbol": "circle"
         },
         "mode": "lines",
         "name": "Sindh",
         "showlegend": true,
         "type": "scattergl",
         "x": {
          "bdata": "5gcAAOcHAADoBwAA",
          "dtype": "i4"
         },
         "xaxis": "x",
         "y": {
          "bdata": "BgMC",
          "dtype": "i1"
         },
         "yaxis": "y"
        },
        {
         "hovertemplate": "Admin 1=Sirte<br>Year=%{x}<br>Attack_Count=%{y}<extra></extra>",
         "legendgroup": "Sirte",
         "line": {
          "color": "#636efa",
          "dash": "solid"
         },
         "marker": {
          "symbol": "circle"
         },
         "mode": "lines",
         "name": "Sirte",
         "showlegend": true,
         "type": "scattergl",
         "x": {
          "bdata": "5gcAAA==",
          "dtype": "i4"
         },
         "xaxis": "x",
         "y": {
          "bdata": "Ag==",
          "dtype": "i1"
         },
         "yaxis": "y"
        },
        {
         "hovertemplate": "Admin 1=Skåne County<br>Year=%{x}<br>Attack_Count=%{y}<extra></extra>",
         "legendgroup": "Skåne County",
         "line": {
          "color": "#EF553B",
          "dash": "solid"
         },
         "marker": {
          "symbol": "circle"
         },
         "mode": "lines",
         "name": "Skåne County",
         "showlegend": true,
         "type": "scattergl",
         "x": {
          "bdata": "5gcAAA==",
          "dtype": "i4"
         },
         "xaxis": "x",
         "y": {
          "bdata": "AQ==",
          "dtype": "i1"
         },
         "yaxis": "y"
        },
        {
         "hovertemplate": "Admin 1=Southeastern Anatolia Region<br>Year=%{x}<br>Attack_Count=%{y}<extra></extra>",
         "legendgroup": "Southeastern Anatolia Region",
         "line": {
          "color": "#00cc96",
          "dash": "solid"
         },
         "marker": {
          "symbol": "circle"
         },
         "mode": "lines",
         "name": "Southeastern Anatolia Region",
         "showlegend": true,
         "type": "scattergl",
         "x": {
          "bdata": "5gcAAOcHAAA=",
          "dtype": "i4"
         },
         "xaxis": "x",
         "y": {
          "bdata": "AwE=",
          "dtype": "i1"
         },
         "yaxis": "y"
        },
        {
         "hovertemplate": "Admin 1=Southern Nations, Nationalities, and Peoples<br>Year=%{x}<br>Attack_Count=%{y}<extra></extra>",
         "legendgroup": "Southern Nations, Nationalities, and Peoples",
         "line": {
          "color": "#ab63fa",
          "dash": "solid"
         },
         "marker": {
          "symbol": "circle"
         },
         "mode": "lines",
         "name": "Southern Nations, Nationalities, and Peoples",
         "showlegend": true,
         "type": "scattergl",
         "x": {
          "bdata": "5gcAAOcHAAA=",
          "dtype": "i4"
         },
         "xaxis": "x",
         "y": {
          "bdata": "AQI=",
          "dtype": "i1"
         },
         "yaxis": "y"
        },
        {
         "hovertemplate": "Admin 1=Special Region 1<br>Year=%{x}<br>Attack_Count=%{y}<extra></extra>",
         "legendgroup": "Special Region 1",
         "line": {
          "color": "#FFA15A",
          "dash": "solid"
         },
         "marker": {
          "symbol": "circle"
         },
         "mode": "lines",
         "name": "Special Region 1",
         "showlegend": true,
         "type": "scattergl",
         "x": {
          "bdata": "5gcAAOgHAAA=",
          "dtype": "i4"
         },
         "xaxis": "x",
         "y": {
          "bdata": "AQk=",
          "dtype": "i1"
         },
         "yaxis": "y"
        },
        {
         "hovertemplate": "Admin 1=Sughd Region<br>Year=%{x}<br>Attack_Count=%{y}<extra></extra>",
         "legendgroup": "Sughd Region",
         "line": {
          "color": "#19d3f3",
          "dash": "solid"
         },
         "marker": {
          "symbol": "circle"
         },
         "mode": "lines",
         "name": "Sughd Region",
         "showlegend": true,
         "type": "scattergl",
         "x": {
          "bdata": "5gcAAA==",
          "dtype": "i4"
         },
         "xaxis": "x",
         "y": {
          "bdata": "Ag==",
          "dtype": "i1"
         },
         "yaxis": "y"
        },
        {
         "hovertemplate": "Admin 1=Sumy Oblast<br>Year=%{x}<br>Attack_Count=%{y}<extra></extra>",
         "legendgroup": "Sumy Oblast",
         "line": {
          "color": "#FF6692",
          "dash": "solid"
         },
         "marker": {
          "symbol": "circle"
         },
         "mode": "lines",
         "name": "Sumy Oblast",
         "showlegend": true,
         "type": "scattergl",
         "x": {
          "bdata": "5gcAAOcHAADoBwAA6QcAAA==",
          "dtype": "i4"
         },
         "xaxis": "x",
         "y": {
          "bdata": "BQYlDQ==",
          "dtype": "i1"
         },
         "yaxis": "y"
        },
        {
         "hovertemplate": "Admin 1=Tahoua Region<br>Year=%{x}<br>Attack_Count=%{y}<extra></extra>",
         "legendgroup": "Tahoua Region",
         "line": {
          "color": "#B6E880",
          "dash": "solid"
         },
         "marker": {
          "symbol": "circle"
         },
         "mode": "lines",
         "name": "Tahoua Region",
         "showlegend": true,
         "type": "scattergl",
         "x": {
          "bdata": "5gcAAOgHAAA=",
          "dtype": "i4"
         },
         "xaxis": "x",
         "y": {
          "bdata": "AQE=",
          "dtype": "i1"
         },
         "yaxis": "y"
        },
        {
         "hovertemplate": "Admin 1=Takhar<br>Year=%{x}<br>Attack_Count=%{y}<extra></extra>",
         "legendgroup": "Takhar",
         "line": {
          "color": "#FF97FF",
          "dash": "solid"
         },
         "marker": {
          "symbol": "circle"
         },
         "mode": "lines",
         "name": "Takhar",
         "showlegend": true,
         "type": "scattergl",
         "x": {
          "bdata": "5gcAAA==",
          "dtype": "i4"
         },
         "xaxis": "x",
         "y": {
          "bdata": "AQ==",
          "dtype": "i1"
         },
         "yaxis": "y"
        },
        {
         "hovertemplate": "Admin 1=Tel Aviv District<br>Year=%{x}<br>Attack_Count=%{y}<extra></extra>",
         "legendgroup": "Tel Aviv District",
         "line": {
          "color": "#FECB52",
          "dash": "solid"
         },
         "marker": {
          "symbol": "circle"
         },
         "mode": "lines",
         "name": "Tel Aviv District",
         "showlegend": true,
         "type": "scattergl",
         "x": {
          "bdata": "5gcAAOcHAAA=",
          "dtype": "i4"
         },
         "xaxis": "x",
         "y": {
          "bdata": "AQE=",
          "dtype": "i1"
         },
         "yaxis": "y"
        },
        {
         "hovertemplate": "Admin 1=Tlaxcala<br>Year=%{x}<br>Attack_Count=%{y}<extra></extra>",
         "legendgroup": "Tlaxcala",
         "line": {
          "color": "#636efa",
          "dash": "solid"
         },
         "marker": {
          "symbol": "circle"
         },
         "mode": "lines",
         "name": "Tlaxcala",
         "showlegend": true,
         "type": "scattergl",
         "x": {
          "bdata": "5gcAAA==",
          "dtype": "i4"
         },
         "xaxis": "x",
         "y": {
          "bdata": "AQ==",
          "dtype": "i1"
         },
         "yaxis": "y"
        },
        {
         "hovertemplate": "Admin 1=Turkana County<br>Year=%{x}<br>Attack_Count=%{y}<extra></extra>",
         "legendgroup": "Turkana County",
         "line": {
          "color": "#EF553B",
          "dash": "solid"
         },
         "marker": {
          "symbol": "circle"
         },
         "mode": "lines",
         "name": "Turkana County",
         "showlegend": true,
         "type": "scattergl",
         "x": {
          "bdata": "5gcAAA==",
          "dtype": "i4"
         },
         "xaxis": "x",
         "y": {
          "bdata": "AQ==",
          "dtype": "i1"
         },
         "yaxis": "y"
        },
        {
         "hovertemplate": "Admin 1=Upper-Basins<br>Year=%{x}<br>Attack_Count=%{y}<extra></extra>",
         "legendgroup": "Upper-Basins",
         "line": {
          "color": "#00cc96",
          "dash": "solid"
         },
         "marker": {
          "symbol": "circle"
         },
         "mode": "lines",
         "name": "Upper-Basins",
         "showlegend": true,
         "type": "scattergl",
         "x": {
          "bdata": "5gcAAA==",
          "dtype": "i4"
         },
         "xaxis": "x",
         "y": {
          "bdata": "Aw==",
          "dtype": "i1"
         },
         "yaxis": "y"
        },
        {
         "hovertemplate": "Admin 1=Vakaga<br>Year=%{x}<br>Attack_Count=%{y}<extra></extra>",
         "legendgroup": "Vakaga",
         "line": {
          "color": "#ab63fa",
          "dash": "solid"
         },
         "marker": {
          "symbol": "circle"
         },
         "mode": "lines",
         "name": "Vakaga",
         "showlegend": true,
         "type": "scattergl",
         "x": {
          "bdata": "5gcAAA==",
          "dtype": "i4"
         },
         "xaxis": "x",
         "y": {
          "bdata": "Ag==",
          "dtype": "i1"
         },
         "yaxis": "y"
        },
        {
         "hovertemplate": "Admin 1=Valle del Cauca<br>Year=%{x}<br>Attack_Count=%{y}<extra></extra>",
         "legendgroup": "Valle del Cauca",
         "line": {
          "color": "#FFA15A",
          "dash": "solid"
         },
         "marker": {
          "symbol": "circle"
         },
         "mode": "lines",
         "name": "Valle del Cauca",
         "showlegend": true,
         "type": "scattergl",
         "x": {
          "bdata": "5gcAAA==",
          "dtype": "i4"
         },
         "xaxis": "x",
         "y": {
          "bdata": "Ag==",
          "dtype": "i1"
         },
         "yaxis": "y"
        },
        {
         "hovertemplate": "Admin 1=Vinnytsia Oblast<br>Year=%{x}<br>Attack_Count=%{y}<extra></extra>",
         "legendgroup": "Vinnytsia Oblast",
         "line": {
          "color": "#19d3f3",
          "dash": "solid"
         },
         "marker": {
          "symbol": "circle"
         },
         "mode": "lines",
         "name": "Vinnytsia Oblast",
         "showlegend": true,
         "type": "scattergl",
         "x": {
          "bdata": "5gcAAA==",
          "dtype": "i4"
         },
         "xaxis": "x",
         "y": {
          "bdata": "AQ==",
          "dtype": "i1"
         },
         "yaxis": "y"
        },
        {
         "hovertemplate": "Admin 1=Vojvodina<br>Year=%{x}<br>Attack_Count=%{y}<extra></extra>",
         "legendgroup": "Vojvodina",
         "line": {
          "color": "#FF6692",
          "dash": "solid"
         },
         "marker": {
          "symbol": "circle"
         },
         "mode": "lines",
         "name": "Vojvodina",
         "showlegend": true,
         "type": "scattergl",
         "x": {
          "bdata": "5gcAAA==",
          "dtype": "i4"
         },
         "xaxis": "x",
         "y": {
          "bdata": "AQ==",
          "dtype": "i1"
         },
         "yaxis": "y"
        },
        {
         "hovertemplate": "Admin 1=Warrap<br>Year=%{x}<br>Attack_Count=%{y}<extra></extra>",
         "legendgroup": "Warrap",
         "line": {
          "color": "#B6E880",
          "dash": "solid"
         },
         "marker": {
          "symbol": "circle"
         },
         "mode": "lines",
         "name": "Warrap",
         "showlegend": true,
         "type": "scattergl",
         "x": {
          "bdata": "5gcAAOgHAAA=",
          "dtype": "i4"
         },
         "xaxis": "x",
         "y": {
          "bdata": "AQE=",
          "dtype": "i1"
         },
         "yaxis": "y"
        },
        {
         "hovertemplate": "Admin 1=Waterfalls<br>Year=%{x}<br>Attack_Count=%{y}<extra></extra>",
         "legendgroup": "Waterfalls",
         "line": {
          "color": "#FF97FF",
          "dash": "solid"
         },
         "marker": {
          "symbol": "circle"
         },
         "mode": "lines",
         "name": "Waterfalls",
         "showlegend": true,
         "type": "scattergl",
         "x": {
          "bdata": "5gcAAA==",
          "dtype": "i4"
         },
         "xaxis": "x",
         "y": {
          "bdata": "AQ==",
          "dtype": "i1"
         },
         "yaxis": "y"
        },
        {
         "hovertemplate": "Admin 1=West Darfur State<br>Year=%{x}<br>Attack_Count=%{y}<extra></extra>",
         "legendgroup": "West Darfur State",
         "line": {
          "color": "#FECB52",
          "dash": "solid"
         },
         "marker": {
          "symbol": "circle"
         },
         "mode": "lines",
         "name": "West Darfur State",
         "showlegend": true,
         "type": "scattergl",
         "x": {
          "bdata": "5gcAAOcHAAA=",
          "dtype": "i4"
         },
         "xaxis": "x",
         "y": {
          "bdata": "AgM=",
          "dtype": "i1"
         },
         "yaxis": "y"
        },
        {
         "hovertemplate": "Admin 1=Western Bahr el Ghazal<br>Year=%{x}<br>Attack_Count=%{y}<extra></extra>",
         "legendgroup": "Western Bahr el Ghazal",
         "line": {
          "color": "#636efa",
          "dash": "solid"
         },
         "marker": {
          "symbol": "circle"
         },
         "mode": "lines",
         "name": "Western Bahr el Ghazal",
         "showlegend": true,
         "type": "scattergl",
         "x": {
          "bdata": "5gcAAA==",
          "dtype": "i4"
         },
         "xaxis": "x",
         "y": {
          "bdata": "AQ==",
          "dtype": "i1"
         },
         "yaxis": "y"
        },
        {
         "hovertemplate": "Admin 1=Zanjan Province<br>Year=%{x}<br>Attack_Count=%{y}<extra></extra>",
         "legendgroup": "Zanjan Province",
         "line": {
          "color": "#EF553B",
          "dash": "solid"
         },
         "marker": {
          "symbol": "circle"
         },
         "mode": "lines",
         "name": "Zanjan Province",
         "showlegend": true,
         "type": "scattergl",
         "x": {
          "bdata": "5gcAAOcHAAA=",
          "dtype": "i4"
         },
         "xaxis": "x",
         "y": {
          "bdata": "AQE=",
          "dtype": "i1"
         },
         "yaxis": "y"
        },
        {
         "hovertemplate": "Admin 1=Zaporizhia Oblast<br>Year=%{x}<br>Attack_Count=%{y}<extra></extra>",
         "legendgroup": "Zaporizhia Oblast",
         "line": {
          "color": "#00cc96",
          "dash": "solid"
         },
         "marker": {
          "symbol": "circle"
         },
         "mode": "lines",
         "name": "Zaporizhia Oblast",
         "showlegend": true,
         "type": "scattergl",
         "x": {
          "bdata": "5gcAAOcHAADoBwAA6QcAAA==",
          "dtype": "i4"
         },
         "xaxis": "x",
         "y": {
          "bdata": "EwwIAw==",
          "dtype": "i1"
         },
         "yaxis": "y"
        },
        {
         "hovertemplate": "Admin 1=Zhytomyr Oblast<br>Year=%{x}<br>Attack_Count=%{y}<extra></extra>",
         "legendgroup": "Zhytomyr Oblast",
         "line": {
          "color": "#ab63fa",
          "dash": "solid"
         },
         "marker": {
          "symbol": "circle"
         },
         "mode": "lines",
         "name": "Zhytomyr Oblast",
         "showlegend": true,
         "type": "scattergl",
         "x": {
          "bdata": "5gcAAA==",
          "dtype": "i4"
         },
         "xaxis": "x",
         "y": {
          "bdata": "BA==",
          "dtype": "i1"
         },
         "yaxis": "y"
        },
        {
         "hovertemplate": "Admin 1=Zinder Region<br>Year=%{x}<br>Attack_Count=%{y}<extra></extra>",
         "legendgroup": "Zinder Region",
         "line": {
          "color": "#FFA15A",
          "dash": "solid"
         },
         "marker": {
          "symbol": "circle"
         },
         "mode": "lines",
         "name": "Zinder Region",
         "showlegend": true,
         "type": "scattergl",
         "x": {
          "bdata": "5gcAAA==",
          "dtype": "i4"
         },
         "xaxis": "x",
         "y": {
          "bdata": "Ag==",
          "dtype": "i1"
         },
         "yaxis": "y"
        },
        {
         "hovertemplate": "Admin 1=Aegean Region<br>Year=%{x}<br>Attack_Count=%{y}<extra></extra>",
         "legendgroup": "Aegean Region",
         "line": {
          "color": "#19d3f3",
          "dash": "solid"
         },
         "marker": {
          "symbol": "circle"
         },
         "mode": "lines",
         "name": "Aegean Region",
         "showlegend": true,
         "type": "scattergl",
         "x": {
          "bdata": "5wcAAA==",
          "dtype": "i4"
         },
         "xaxis": "x",
         "y": {
          "bdata": "AQ==",
          "dtype": "i1"
         },
         "yaxis": "y"
        },
        {
         "hovertemplate": "Admin 1=Aguascalientes<br>Year=%{x}<br>Attack_Count=%{y}<extra></extra>",
         "legendgroup": "Aguascalientes",
         "line": {
          "color": "#FF6692",
          "dash": "solid"
         },
         "marker": {
          "symbol": "circle"
         },
         "mode": "lines",
         "name": "Aguascalientes",
         "showlegend": true,
         "type": "scattergl",
         "x": {
          "bdata": "5wcAAA==",
          "dtype": "i4"
         },
         "xaxis": "x",
         "y": {
          "bdata": "AQ==",
          "dtype": "i1"
         },
         "yaxis": "y"
        },
        {
         "hovertemplate": "Admin 1=Akkar Governorate<br>Year=%{x}<br>Attack_Count=%{y}<extra></extra>",
         "legendgroup": "Akkar Governorate",
         "line": {
          "color": "#B6E880",
          "dash": "solid"
         },
         "marker": {
          "symbol": "circle"
         },
         "mode": "lines",
         "name": "Akkar Governorate",
         "showlegend": true,
         "type": "scattergl",
         "x": {
          "bdata": "5wcAAA==",
          "dtype": "i4"
         },
         "xaxis": "x",
         "y": {
          "bdata": "AQ==",
          "dtype": "i1"
         },
         "yaxis": "y"
        },
        {
         "hovertemplate": "Admin 1=Akwa Ibom State<br>Year=%{x}<br>Attack_Count=%{y}<extra></extra>",
         "legendgroup": "Akwa Ibom State",
         "line": {
          "color": "#FF97FF",
          "dash": "solid"
         },
         "marker": {
          "symbol": "circle"
         },
         "mode": "lines",
         "name": "Akwa Ibom State",
         "showlegend": true,
         "type": "scattergl",
         "x": {
          "bdata": "5wcAAA==",
          "dtype": "i4"
         },
         "xaxis": "x",
         "y": {
          "bdata": "AQ==",
          "dtype": "i1"
         },
         "yaxis": "y"
        },
        {
         "hovertemplate": "Admin 1=Al Mahwit Governorate<br>Year=%{x}<br>Attack_Count=%{y}<extra></extra>",
         "legendgroup": "Al Mahwit Governorate",
         "line": {
          "color": "#FECB52",
          "dash": "solid"
         },
         "marker": {
          "symbol": "circle"
         },
         "mode": "lines",
         "name": "Al Mahwit Governorate",
         "showlegend": true,
         "type": "scattergl",
         "x": {
          "bdata": "5wcAAA==",
          "dtype": "i4"
         },
         "xaxis": "x",
         "y": {
          "bdata": "Ag==",
          "dtype": "i1"
         },
         "yaxis": "y"
        },
        {
         "hovertemplate": "Admin 1=Al-Najaf Governorate<br>Year=%{x}<br>Attack_Count=%{y}<extra></extra>",
         "legendgroup": "Al-Najaf Governorate",
         "line": {
          "color": "#636efa",
          "dash": "solid"
         },
         "marker": {
          "symbol": "circle"
         },
         "mode": "lines",
         "name": "Al-Najaf Governorate",
         "showlegend": true,
         "type": "scattergl",
         "x": {
          "bdata": "5wcAAA==",
          "dtype": "i4"
         },
         "xaxis": "x",
         "y": {
          "bdata": "Ag==",
          "dtype": "i1"
         },
         "yaxis": "y"
        },
        {
         "hovertemplate": "Admin 1=Al-Qadisiyah Governorate<br>Year=%{x}<br>Attack_Count=%{y}<extra></extra>",
         "legendgroup": "Al-Qadisiyah Governorate",
         "line": {
          "color": "#EF553B",
          "dash": "solid"
         },
         "marker": {
          "symbol": "circle"
         },
         "mode": "lines",
         "name": "Al-Qadisiyah Governorate",
         "showlegend": true,
         "type": "scattergl",
         "x": {
          "bdata": "5wcAAA==",
          "dtype": "i4"
         },
         "xaxis": "x",
         "y": {
          "bdata": "AQ==",
          "dtype": "i1"
         },
         "yaxis": "y"
        },
        {
         "hovertemplate": "Admin 1=As-Sabiri<br>Year=%{x}<br>Attack_Count=%{y}<extra></extra>",
         "legendgroup": "As-Sabiri",
         "line": {
          "color": "#00cc96",
          "dash": "solid"
         },
         "marker": {
          "symbol": "circle"
         },
         "mode": "lines",
         "name": "As-Sabiri",
         "showlegend": true,
         "type": "scattergl",
         "x": {
          "bdata": "5wcAAA==",
          "dtype": "i4"
         },
         "xaxis": "x",
         "y": {
          "bdata": "AQ==",
          "dtype": "i1"
         },
         "yaxis": "y"
        },
        {
         "hovertemplate": "Admin 1=Baalbek-Hermel Governorate<br>Year=%{x}<br>Attack_Count=%{y}<extra></extra>",
         "legendgroup": "Baalbek-Hermel Governorate",
         "line": {
          "color": "#ab63fa",
          "dash": "solid"
         },
         "marker": {
          "symbol": "circle"
         },
         "mode": "lines",
         "name": "Baalbek-Hermel Governorate",
         "showlegend": true,
         "type": "scattergl",
         "x": {
          "bdata": "5wcAAOgHAADpBwAA",
          "dtype": "i4"
         },
         "xaxis": "x",
         "y": {
          "bdata": "AQEB",
          "dtype": "i1"
         },
         "yaxis": "y"
        },
        {
         "hovertemplate": "Admin 1=Bay<br>Year=%{x}<br>Attack_Count=%{y}<extra></extra>",
         "legendgroup": "Bay",
         "line": {
          "color": "#FFA15A",
          "dash": "solid"
         },
         "marker": {
          "symbol": "circle"
         },
         "mode": "lines",
         "name": "Bay",
         "showlegend": true,
         "type": "scattergl",
         "x": {
          "bdata": "5wcAAA==",
          "dtype": "i4"
         },
         "xaxis": "x",
         "y": {
          "bdata": "Ag==",
          "dtype": "i1"
         },
         "yaxis": "y"
        },
        {
         "hovertemplate": "Admin 1=Bolivar State<br>Year=%{x}<br>Attack_Count=%{y}<extra></extra>",
         "legendgroup": "Bolivar State",
         "line": {
          "color": "#19d3f3",
          "dash": "solid"
         },
         "marker": {
          "symbol": "circle"
         },
         "mode": "lines",
         "name": "Bolivar State",
         "showlegend": true,
         "type": "scattergl",
         "x": {
          "bdata": "5wcAAA==",
          "dtype": "i4"
         },
         "xaxis": "x",
         "y": {
          "bdata": "AQ==",
          "dtype": "i1"
         },
         "yaxis": "y"
        },
        {
         "hovertemplate": "Admin 1=Central Darfur State<br>Year=%{x}<br>Attack_Count=%{y}<extra></extra>",
         "legendgroup": "Central Darfur State",
         "line": {
          "color": "#FF6692",
          "dash": "solid"
         },
         "marker": {
          "symbol": "circle"
         },
         "mode": "lines",
         "name": "Central Darfur State",
         "showlegend": true,
         "type": "scattergl",
         "x": {
          "bdata": "5wcAAA==",
          "dtype": "i4"
         },
         "xaxis": "x",
         "y": {
          "bdata": "Ag==",
          "dtype": "i1"
         },
         "yaxis": "y"
        },
        {
         "hovertemplate": "Admin 1=Central Ethiopia Regional State<br>Year=%{x}<br>Attack_Count=%{y}<extra></extra>",
         "legendgroup": "Central Ethiopia Regional State",
         "line": {
          "color": "#B6E880",
          "dash": "solid"
         },
         "marker": {
          "symbol": "circle"
         },
         "mode": "lines",
         "name": "Central Ethiopia Regional State",
         "showlegend": true,
         "type": "scattergl",
         "x": {
          "bdata": "5wcAAA==",
          "dtype": "i4"
         },
         "xaxis": "x",
         "y": {
          "bdata": "AQ==",
          "dtype": "i1"
         },
         "yaxis": "y"
        },
        {
         "hovertemplate": "Admin 1=Central Visayas<br>Year=%{x}<br>Attack_Count=%{y}<extra></extra>",
         "legendgroup": "Central Visayas",
         "line": {
          "color": "#FF97FF",
          "dash": "solid"
         },
         "marker": {
          "symbol": "circle"
         },
         "mode": "lines",
         "name": "Central Visayas",
         "showlegend": true,
         "type": "scattergl",
         "x": {
          "bdata": "5wcAAA==",
          "dtype": "i4"
         },
         "xaxis": "x",
         "y": {
          "bdata": "AQ==",
          "dtype": "i1"
         },
         "yaxis": "y"
        },
        {
         "hovertemplate": "Admin 1=Chiapas<br>Year=%{x}<br>Attack_Count=%{y}<extra></extra>",
         "legendgroup": "Chiapas",
         "line": {
          "color": "#FECB52",
          "dash": "solid"
         },
         "marker": {
          "symbol": "circle"
         },
         "mode": "lines",
         "name": "Chiapas",
         "showlegend": true,
         "type": "scattergl",
         "x": {
          "bdata": "5wcAAOgHAAA=",
          "dtype": "i4"
         },
         "xaxis": "x",
         "y": {
          "bdata": "AgE=",
          "dtype": "i1"
         },
         "yaxis": "y"
        },
        {
         "hovertemplate": "Admin 1=Coast<br>Year=%{x}<br>Attack_Count=%{y}<extra></extra>",
         "legendgroup": "Coast",
         "line": {
          "color": "#636efa",
          "dash": "solid"
         },
         "marker": {
          "symbol": "circle"
         },
         "mode": "lines",
         "name": "Coast",
         "showlegend": true,
         "type": "scattergl",
         "x": {
          "bdata": "5wcAAA==",
          "dtype": "i4"
         },
         "xaxis": "x",
         "y": {
          "bdata": "Ag==",
          "dtype": "i1"
         },
         "yaxis": "y"
        },
        {
         "hovertemplate": "Admin 1=Cross River State<br>Year=%{x}<br>Attack_Count=%{y}<extra></extra>",
         "legendgroup": "Cross River State",
         "line": {
          "color": "#EF553B",
          "dash": "solid"
         },
         "marker": {
          "symbol": "circle"
         },
         "mode": "lines",
         "name": "Cross River State",
         "showlegend": true,
         "type": "scattergl",
         "x": {
          "bdata": "5wcAAA==",
          "dtype": "i4"
         },
         "xaxis": "x",
         "y": {
          "bdata": "AQ==",
          "dtype": "i1"
         },
         "yaxis": "y"
        },
        {
         "hovertemplate": "Admin 1=Cundinamarca<br>Year=%{x}<br>Attack_Count=%{y}<extra></extra>",
         "legendgroup": "Cundinamarca",
         "line": {
          "color": "#00cc96",
          "dash": "solid"
         },
         "marker": {
          "symbol": "circle"
         },
         "mode": "lines",
         "name": "Cundinamarca",
         "showlegend": true,
         "type": "scattergl",
         "x": {
          "bdata": "5wcAAA==",
          "dtype": "i4"
         },
         "xaxis": "x",
         "y": {
          "bdata": "AQ==",
          "dtype": "i1"
         },
         "yaxis": "y"
        },
        {
         "hovertemplate": "Admin 1=Dniprovskyi district<br>Year=%{x}<br>Attack_Count=%{y}<extra></extra>",
         "legendgroup": "Dniprovskyi district",
         "line": {
          "color": "#ab63fa",
          "dash": "solid"
         },
         "marker": {
          "symbol": "circle"
         },
         "mode": "lines",
         "name": "Dniprovskyi district",
         "showlegend": true,
         "type": "scattergl",
         "x": {
          "bdata": "5wcAAOkHAAA=",
          "dtype": "i4"
         },
         "xaxis": "x",
         "y": {
          "bdata": "AgE=",
          "dtype": "i1"
         },
         "yaxis": "y"
        },
        {
         "hovertemplate": "Admin 1=Eastern Visayas<br>Year=%{x}<br>Attack_Count=%{y}<extra></extra>",
         "legendgroup": "Eastern Visayas",
         "line": {
          "color": "#FFA15A",
          "dash": "solid"
         },
         "marker": {
          "symbol": "circle"
         },
         "mode": "lines",
         "name": "Eastern Visayas",
         "showlegend": true,
         "type": "scattergl",
         "x": {
          "bdata": "5wcAAA==",
          "dtype": "i4"
         },
         "xaxis": "x",
         "y": {
          "bdata": "AQ==",
          "dtype": "i1"
         },
         "yaxis": "y"
        },
        {
         "hovertemplate": "Admin 1=Free State<br>Year=%{x}<br>Attack_Count=%{y}<extra></extra>",
         "legendgroup": "Free State",
         "line": {
          "color": "#19d3f3",
          "dash": "solid"
         },
         "marker": {
          "symbol": "circle"
         },
         "mode": "lines",
         "name": "Free State",
         "showlegend": true,
         "type": "scattergl",
         "x": {
          "bdata": "5wcAAA==",
          "dtype": "i4"
         },
         "xaxis": "x",
         "y": {
          "bdata": "AQ==",
          "dtype": "i1"
         },
         "yaxis": "y"
        },
        {
         "hovertemplate": "Admin 1=Haut-Mbomou<br>Year=%{x}<br>Attack_Count=%{y}<extra></extra>",
         "legendgroup": "Haut-Mbomou",
         "line": {
          "color": "#FF6692",
          "dash": "solid"
         },
         "marker": {
          "symbol": "circle"
         },
         "mode": "lines",
         "name": "Haut-Mbomou",
         "showlegend": true,
         "type": "scattergl",
         "x": {
          "bdata": "5wcAAA==",
          "dtype": "i4"
         },
         "xaxis": "x",
         "y": {
          "bdata": "AQ==",
          "dtype": "i1"
         },
         "yaxis": "y"
        },
        {
         "hovertemplate": "Admin 1=Hiiraan<br>Year=%{x}<br>Attack_Count=%{y}<extra></extra>",
         "legendgroup": "Hiiraan",
         "line": {
          "color": "#B6E880",
          "dash": "solid"
         },
         "marker": {
          "symbol": "circle"
         },
         "mode": "lines",
         "name": "Hiiraan",
         "showlegend": true,
         "type": "scattergl",
         "x": {
          "bdata": "5wcAAA==",
          "dtype": "i4"
         },
         "xaxis": "x",
         "y": {
          "bdata": "Ag==",
          "dtype": "i1"
         },
         "yaxis": "y"
        },
        {
         "hovertemplate": "Admin 1=Ipokia<br>Year=%{x}<br>Attack_Count=%{y}<extra></extra>",
         "legendgroup": "Ipokia",
         "line": {
          "color": "#FF97FF",
          "dash": "solid"
         },
         "marker": {
          "symbol": "circle"
         },
         "mode": "lines",
         "name": "Ipokia",
         "showlegend": true,
         "type": "scattergl",
         "x": {
          "bdata": "5wcAAA==",
          "dtype": "i4"
         },
         "xaxis": "x",
         "y": {
          "bdata": "AQ==",
          "dtype": "i1"
         },
         "yaxis": "y"
        },
        {
         "hovertemplate": "Admin 1=Jowzjan Province<br>Year=%{x}<br>Attack_Count=%{y}<extra></extra>",
         "legendgroup": "Jowzjan Province",
         "line": {
          "color": "#FECB52",
          "dash": "solid"
         },
         "marker": {
          "symbol": "circle"
         },
         "mode": "lines",
         "name": "Jowzjan Province",
         "showlegend": true,
         "type": "scattergl",
         "x": {
          "bdata": "5wcAAA==",
          "dtype": "i4"
         },
         "xaxis": "x",
         "y": {
          "bdata": "AQ==",
          "dtype": "i1"
         },
         "yaxis": "y"
        },
        {
         "hovertemplate": "Admin 1=Kalinga<br>Year=%{x}<br>Attack_Count=%{y}<extra></extra>",
         "legendgroup": "Kalinga",
         "line": {
          "color": "#636efa",
          "dash": "solid"
         },
         "marker": {
          "symbol": "circle"
         },
         "mode": "lines",
         "name": "Kalinga",
         "showlegend": true,
         "type": "scattergl",
         "x": {
          "bdata": "5wcAAA==",
          "dtype": "i4"
         },
         "xaxis": "x",
         "y": {
          "bdata": "AQ==",
          "dtype": "i1"
         },
         "yaxis": "y"
        },
        {
         "hovertemplate": "Admin 1=Karenga<br>Year=%{x}<br>Attack_Count=%{y}<extra></extra>",
         "legendgroup": "Karenga",
         "line": {
          "color": "#EF553B",
          "dash": "solid"
         },
         "marker": {
          "symbol": "circle"
         },
         "mode": "lines",
         "name": "Karenga",
         "showlegend": true,
         "type": "scattergl",
         "x": {
          "bdata": "5wcAAA==",
          "dtype": "i4"
         },
         "xaxis": "x",
         "y": {
          "bdata": "AQ==",
          "dtype": "i1"
         },
         "yaxis": "y"
        },
        {
         "hovertemplate": "Admin 1=Kasese<br>Year=%{x}<br>Attack_Count=%{y}<extra></extra>",
         "legendgroup": "Kasese",
         "line": {
          "color": "#00cc96",
          "dash": "solid"
         },
         "marker": {
          "symbol": "circle"
         },
         "mode": "lines",
         "name": "Kasese",
         "showlegend": true,
         "type": "scattergl",
         "x": {
          "bdata": "5wcAAA==",
          "dtype": "i4"
         },
         "xaxis": "x",
         "y": {
          "bdata": "AQ==",
          "dtype": "i1"
         },
         "yaxis": "y"
        },
        {
         "hovertemplate": "Admin 1=Khmelnytskyi Oblast<br>Year=%{x}<br>Attack_Count=%{y}<extra></extra>",
         "legendgroup": "Khmelnytskyi Oblast",
         "line": {
          "color": "#ab63fa",
          "dash": "solid"
         },
         "marker": {
          "symbol": "circle"
         },
         "mode": "lines",
         "name": "Khmelnytskyi Oblast",
         "showlegend": true,
         "type": "scattergl",
         "x": {
          "bdata": "5wcAAA==",
          "dtype": "i4"
         },
         "xaxis": "x",
         "y": {
          "bdata": "Aw==",
          "dtype": "i1"
         },
         "yaxis": "y"
        },
        {
         "hovertemplate": "Admin 1=Kiambu<br>Year=%{x}<br>Attack_Count=%{y}<extra></extra>",
         "legendgroup": "Kiambu",
         "line": {
          "color": "#FFA15A",
          "dash": "solid"
         },
         "marker": {
          "symbol": "circle"
         },
         "mode": "lines",
         "name": "Kiambu",
         "showlegend": true,
         "type": "scattergl",
         "x": {
          "bdata": "5wcAAOgHAAA=",
          "dtype": "i4"
         },
         "xaxis": "x",
         "y": {
          "bdata": "AQE=",
          "dtype": "i1"
         },
         "yaxis": "y"
        },
        {
         "hovertemplate": "Admin 1=Kidal<br>Year=%{x}<br>Attack_Count=%{y}<extra></extra>",
         "legendgroup": "Kidal",
         "line": {
          "color": "#19d3f3",
          "dash": "solid"
         },
         "marker": {
          "symbol": "circle"
         },
         "mode": "lines",
         "name": "Kidal",
         "showlegend": true,
         "type": "scattergl",
         "x": {
          "bdata": "5wcAAOgHAAA=",
          "dtype": "i4"
         },
         "xaxis": "x",
         "y": {
          "bdata": "BQE=",
          "dtype": "i1"
         },
         "yaxis": "y"
        },
        {
         "hovertemplate": "Admin 1=Kratie<br>Year=%{x}<br>Attack_Count=%{y}<extra></extra>",
         "legendgroup": "Kratie",
         "line": {
          "color": "#FF6692",
          "dash": "solid"
         },
         "marker": {
          "symbol": "circle"
         },
         "mode": "lines",
         "name": "Kratie",
         "showlegend": true,
         "type": "scattergl",
         "x": {
          "bdata": "5wcAAA==",
          "dtype": "i4"
         },
         "xaxis": "x",
         "y": {
          "bdata": "AQ==",
          "dtype": "i1"
         },
         "yaxis": "y"
        },
        {
         "hovertemplate": "Admin 1=Kwilu<br>Year=%{x}<br>Attack_Count=%{y}<extra></extra>",
         "legendgroup": "Kwilu",
         "line": {
          "color": "#B6E880",
          "dash": "solid"
         },
         "marker": {
          "symbol": "circle"
         },
         "mode": "lines",
         "name": "Kwilu",
         "showlegend": true,
         "type": "scattergl",
         "x": {
          "bdata": "5wcAAA==",
          "dtype": "i4"
         },
         "xaxis": "x",
         "y": {
          "bdata": "Ag==",
          "dtype": "i1"
         },
         "yaxis": "y"
        },
        {
         "hovertemplate": "Admin 1=Lower Juba<br>Year=%{x}<br>Attack_Count=%{y}<extra></extra>",
         "legendgroup": "Lower Juba",
         "line": {
          "color": "#FF97FF",
          "dash": "solid"
         },
         "marker": {
          "symbol": "circle"
         },
         "mode": "lines",
         "name": "Lower Juba",
         "showlegend": true,
         "type": "scattergl",
         "x": {
          "bdata": "5wcAAA==",
          "dtype": "i4"
         },
         "xaxis": "x",
         "y": {
          "bdata": "AQ==",
          "dtype": "i1"
         },
         "yaxis": "y"
        },
        {
         "hovertemplate": "Admin 1=Lviv Oblast<br>Year=%{x}<br>Attack_Count=%{y}<extra></extra>",
         "legendgroup": "Lviv Oblast",
         "line": {
          "color": "#FECB52",
          "dash": "solid"
         },
         "marker": {
          "symbol": "circle"
         },
         "mode": "lines",
         "name": "Lviv Oblast",
         "showlegend": true,
         "type": "scattergl",
         "x": {
          "bdata": "5wcAAOgHAAA=",
          "dtype": "i4"
         },
         "xaxis": "x",
         "y": {
          "bdata": "BQc=",
          "dtype": "i1"
         },
         "yaxis": "y"
        },
        {
         "hovertemplate": "Admin 1=Mambéré-Kadéï<br>Year=%{x}<br>Attack_Count=%{y}<extra></extra>",
         "legendgroup": "Mambéré-Kadéï",
         "line": {
          "color": "#636efa",
          "dash": "solid"
         },
         "marker": {
          "symbol": "circle"
         },
         "mode": "lines",
         "name": "Mambéré-Kadéï",
         "showlegend": true,
         "type": "scattergl",
         "x": {
          "bdata": "5wcAAA==",
          "dtype": "i4"
         },
         "xaxis": "x",
         "y": {
          "bdata": "AQ==",
          "dtype": "i1"
         },
         "yaxis": "y"
        },
        {
         "hovertemplate": "Admin 1=Nabatieh Governorate<br>Year=%{x}<br>Attack_Count=%{y}<extra></extra>",
         "legendgroup": "Nabatieh Governorate",
         "line": {
          "color": "#EF553B",
          "dash": "solid"
         },
         "marker": {
          "symbol": "circle"
         },
         "mode": "lines",
         "name": "Nabatieh Governorate",
         "showlegend": true,
         "type": "scattergl",
         "x": {
          "bdata": "5wcAAOgHAADpBwAA",
          "dtype": "i4"
         },
         "xaxis": "x",
         "y": {
          "bdata": "AgQC",
          "dtype": "i1"
         },
         "yaxis": "y"
        },
        {
         "hovertemplate": "Admin 1=North Kordofan State<br>Year=%{x}<br>Attack_Count=%{y}<extra></extra>",
         "legendgroup": "North Kordofan State",
         "line": {
          "color": "#00cc96",
          "dash": "solid"
         },
         "marker": {
          "symbol": "circle"
         },
         "mode": "lines",
         "name": "North Kordofan State",
         "showlegend": true,
         "type": "scattergl",
         "x": {
          "bdata": "5wcAAOgHAADpBwAA",
          "dtype": "i4"
         },
         "xaxis": "x",
         "y": {
          "bdata": "AQMD",
          "dtype": "i1"
         },
         "yaxis": "y"
        },
        {
         "hovertemplate": "Admin 1=Nugaal<br>Year=%{x}<br>Attack_Count=%{y}<extra></extra>",
         "legendgroup": "Nugaal",
         "line": {
          "color": "#ab63fa",
          "dash": "solid"
         },
         "marker": {
          "symbol": "circle"
         },
         "mode": "lines",
         "name": "Nugaal",
         "showlegend": true,
         "type": "scattergl",
         "x": {
          "bdata": "5wcAAA==",
          "dtype": "i4"
         },
         "xaxis": "x",
         "y": {
          "bdata": "AQ==",
          "dtype": "i1"
         },
         "yaxis": "y"
        },
        {
         "hovertemplate": "Admin 1=Odesa Oblast<br>Year=%{x}<br>Attack_Count=%{y}<extra></extra>",
         "legendgroup": "Odesa Oblast",
         "line": {
          "color": "#FFA15A",
          "dash": "solid"
         },
         "marker": {
          "symbol": "circle"
         },
         "mode": "lines",
         "name": "Odesa Oblast",
         "showlegend": true,
         "type": "scattergl",
         "x": {
          "bdata": "5wcAAOgHAADpBwAA",
          "dtype": "i4"
         },
         "xaxis": "x",
         "y": {
          "bdata": "BQ0G",
          "dtype": "i1"
         },
         "yaxis": "y"
        },
        {
         "hovertemplate": "Admin 1=Ouham-Pendé<br>Year=%{x}<br>Attack_Count=%{y}<extra></extra>",
         "legendgroup": "Ouham-Pendé",
         "line": {
          "color": "#19d3f3",
          "dash": "solid"
         },
         "marker": {
          "symbol": "circle"
         },
         "mode": "lines",
         "name": "Ouham-Pendé",
         "showlegend": true,
         "type": "scattergl",
         "x": {
          "bdata": "5wcAAA==",
          "dtype": "i4"
         },
         "xaxis": "x",
         "y": {
          "bdata": "AQ==",
          "dtype": "i1"
         },
         "yaxis": "y"
        },
        {
         "hovertemplate": "Admin 1=Pardis County<br>Year=%{x}<br>Attack_Count=%{y}<extra></extra>",
         "legendgroup": "Pardis County",
         "line": {
          "color": "#FF6692",
          "dash": "solid"
         },
         "marker": {
          "symbol": "circle"
         },
         "mode": "lines",
         "name": "Pardis County",
         "showlegend": true,
         "type": "scattergl",
         "x": {
          "bdata": "5wcAAA==",
          "dtype": "i4"
         },
         "xaxis": "x",
         "y": {
          "bdata": "AQ==",
          "dtype": "i1"
         },
         "yaxis": "y"
        },
        {
         "hovertemplate": "Admin 1=Plateau Department<br>Year=%{x}<br>Attack_Count=%{y}<extra></extra>",
         "legendgroup": "Plateau Department",
         "line": {
          "color": "#B6E880",
          "dash": "solid"
         },
         "marker": {
          "symbol": "circle"
         },
         "mode": "lines",
         "name": "Plateau Department",
         "showlegend": true,
         "type": "scattergl",
         "x": {
          "bdata": "5wcAAA==",
          "dtype": "i4"
         },
         "xaxis": "x",
         "y": {
          "bdata": "AQ==",
          "dtype": "i1"
         },
         "yaxis": "y"
        },
        {
         "hovertemplate": "Admin 1=Prague<br>Year=%{x}<br>Attack_Count=%{y}<extra></extra>",
         "legendgroup": "Prague",
         "line": {
          "color": "#FF97FF",
          "dash": "solid"
         },
         "marker": {
          "symbol": "circle"
         },
         "mode": "lines",
         "name": "Prague",
         "showlegend": true,
         "type": "scattergl",
         "x": {
          "bdata": "5wcAAA==",
          "dtype": "i4"
         },
         "xaxis": "x",
         "y": {
          "bdata": "AQ==",
          "dtype": "i1"
         },
         "yaxis": "y"
        },
        {
         "hovertemplate": "Admin 1=Province de Mahajanga<br>Year=%{x}<br>Attack_Count=%{y}<extra></extra>",
         "legendgroup": "Province de Mahajanga",
         "line": {
          "color": "#FECB52",
          "dash": "solid"
         },
         "marker": {
          "symbol": "circle"
         },
         "mode": "lines",
         "name": "Province de Mahajanga",
         "showlegend": true,
         "type": "scattergl",
         "x": {
          "bdata": "5wcAAA==",
          "dtype": "i4"
         },
         "xaxis": "x",
         "y": {
          "bdata": "Ag==",
          "dtype": "i1"
         },
         "yaxis": "y"
        },
        {
         "hovertemplate": "Admin 1=Rift Valley<br>Year=%{x}<br>Attack_Count=%{y}<extra></extra>",
         "legendgroup": "Rift Valley",
         "line": {
          "color": "#636efa",
          "dash": "solid"
         },
         "marker": {
          "symbol": "circle"
         },
         "mode": "lines",
         "name": "Rift Valley",
         "showlegend": true,
         "type": "scattergl",
         "x": {
          "bdata": "5wcAAOgHAADpBwAA",
          "dtype": "i4"
         },
         "xaxis": "x",
         "y": {
          "bdata": "BQIB",
          "dtype": "i1"
         },
         "yaxis": "y"
        },
        {
         "hovertemplate": "Admin 1=Rutana<br>Year=%{x}<br>Attack_Count=%{y}<extra></extra>",
         "legendgroup": "Rutana",
         "line": {
          "color": "#EF553B",
          "dash": "solid"
         },
         "marker": {
          "symbol": "circle"
         },
         "mode": "lines",
         "name": "Rutana",
         "showlegend": true,
         "type": "scattergl",
         "x": {
          "bdata": "5wcAAA==",
          "dtype": "i4"
         },
         "xaxis": "x",
         "y": {
          "bdata": "AQ==",
          "dtype": "i1"
         },
         "yaxis": "y"
        },
        {
         "hovertemplate": "Admin 1=Santo Domingo<br>Year=%{x}<br>Attack_Count=%{y}<extra></extra>",
         "legendgroup": "Santo Domingo",
         "line": {
          "color": "#00cc96",
          "dash": "solid"
         },
         "marker": {
          "symbol": "circle"
         },
         "mode": "lines",
         "name": "Santo Domingo",
         "showlegend": true,
         "type": "scattergl",
         "x": {
          "bdata": "5wcAAA==",
          "dtype": "i4"
         },
         "xaxis": "x",
         "y": {
          "bdata": "AQ==",
          "dtype": "i1"
         },
         "yaxis": "y"
        },
        {
         "hovertemplate": "Admin 1=Sistan and Baluchestan Province<br>Year=%{x}<br>Attack_Count=%{y}<extra></extra>",
         "legendgroup": "Sistan and Baluchestan Province",
         "line": {
          "color": "#ab63fa",
          "dash": "solid"
         },
         "marker": {
          "symbol": "circle"
         },
         "mode": "lines",
         "name": "Sistan and Baluchestan Province",
         "showlegend": true,
         "type": "scattergl",
         "x": {
          "bdata": "5wcAAA==",
          "dtype": "i4"
         },
         "xaxis": "x",
         "y": {
          "bdata": "AQ==",
          "dtype": "i1"
         },
         "yaxis": "y"
        },
        {
         "hovertemplate": "Admin 1=Sool<br>Year=%{x}<br>Attack_Count=%{y}<extra></extra>",
         "legendgroup": "Sool",
         "line": {
          "color": "#FFA15A",
          "dash": "solid"
         },
         "marker": {
          "symbol": "circle"
         },
         "mode": "lines",
         "name": "Sool",
         "showlegend": true,
         "type": "scattergl",
         "x": {
          "bdata": "5wcAAA==",
          "dtype": "i4"
         },
         "xaxis": "x",
         "y": {
          "bdata": "Ag==",
          "dtype": "i1"
         },
         "yaxis": "y"
        },
        {
         "hovertemplate": "Admin 1=Sylhet Division<br>Year=%{x}<br>Attack_Count=%{y}<extra></extra>",
         "legendgroup": "Sylhet Division",
         "line": {
          "color": "#19d3f3",
          "dash": "solid"
         },
         "marker": {
          "symbol": "circle"
         },
         "mode": "lines",
         "name": "Sylhet Division",
         "showlegend": true,
         "type": "scattergl",
         "x": {
          "bdata": "5wcAAA==",
          "dtype": "i4"
         },
         "xaxis": "x",
         "y": {
          "bdata": "AQ==",
          "dtype": "i1"
         },
         "yaxis": "y"
        },
        {
         "hovertemplate": "Admin 1=Tel-Aviv District<br>Year=%{x}<br>Attack_Count=%{y}<extra></extra>",
         "legendgroup": "Tel-Aviv District",
         "line": {
          "color": "#FF6692",
          "dash": "solid"
         },
         "marker": {
          "symbol": "circle"
         },
         "mode": "lines",
         "name": "Tel-Aviv District",
         "showlegend": true,
         "type": "scattergl",
         "x": {
          "bdata": "5wcAAOgHAADpBwAA",
          "dtype": "i4"
         },
         "xaxis": "x",
         "y": {
          "bdata": "AQEB",
          "dtype": "i1"
         },
         "yaxis": "y"
        },
        {
         "hovertemplate": "Admin 1=Volyn Oblast<br>Year=%{x}<br>Attack_Count=%{y}<extra></extra>",
         "legendgroup": "Volyn Oblast",
         "line": {
          "color": "#B6E880",
          "dash": "solid"
         },
         "marker": {
          "symbol": "circle"
         },
         "mode": "lines",
         "name": "Volyn Oblast",
         "showlegend": true,
         "type": "scattergl",
         "x": {
          "bdata": "5wcAAA==",
          "dtype": "i4"
         },
         "xaxis": "x",
         "y": {
          "bdata": "AQ==",
          "dtype": "i1"
         },
         "yaxis": "y"
        },
        {
         "hovertemplate": "Admin 1=West Darfur<br>Year=%{x}<br>Attack_Count=%{y}<extra></extra>",
         "legendgroup": "West Darfur",
         "line": {
          "color": "#FF97FF",
          "dash": "solid"
         },
         "marker": {
          "symbol": "circle"
         },
         "mode": "lines",
         "name": "West Darfur",
         "showlegend": true,
         "type": "scattergl",
         "x": {
          "bdata": "5wcAAOgHAAA=",
          "dtype": "i4"
         },
         "xaxis": "x",
         "y": {
          "bdata": "BAM=",
          "dtype": "i1"
         },
         "yaxis": "y"
        },
        {
         "hovertemplate": "Admin 1=Western Bahr el Ghazal State<br>Year=%{x}<br>Attack_Count=%{y}<extra></extra>",
         "legendgroup": "Western Bahr el Ghazal State",
         "line": {
          "color": "#FECB52",
          "dash": "solid"
         },
         "marker": {
          "symbol": "circle"
         },
         "mode": "lines",
         "name": "Western Bahr el Ghazal State",
         "showlegend": true,
         "type": "scattergl",
         "x": {
          "bdata": "5wcAAA==",
          "dtype": "i4"
         },
         "xaxis": "x",
         "y": {
          "bdata": "Ag==",
          "dtype": "i1"
         },
         "yaxis": "y"
        },
        {
         "hovertemplate": "Admin 1=Western Equatoria<br>Year=%{x}<br>Attack_Count=%{y}<extra></extra>",
         "legendgroup": "Western Equatoria",
         "line": {
          "color": "#636efa",
          "dash": "solid"
         },
         "marker": {
          "symbol": "circle"
         },
         "mode": "lines",
         "name": "Western Equatoria",
         "showlegend": true,
         "type": "scattergl",
         "x": {
          "bdata": "5wcAAOkHAAA=",
          "dtype": "i4"
         },
         "xaxis": "x",
         "y": {
          "bdata": "AQE=",
          "dtype": "i1"
         },
         "yaxis": "y"
        },
        {
         "hovertemplate": "Admin 1=Zabul Province<br>Year=%{x}<br>Attack_Count=%{y}<extra></extra>",
         "legendgroup": "Zabul Province",
         "line": {
          "color": "#EF553B",
          "dash": "solid"
         },
         "marker": {
          "symbol": "circle"
         },
         "mode": "lines",
         "name": "Zabul Province",
         "showlegend": true,
         "type": "scattergl",
         "x": {
          "bdata": "5wcAAA==",
          "dtype": "i4"
         },
         "xaxis": "x",
         "y": {
          "bdata": "AQ==",
          "dtype": "i1"
         },
         "yaxis": "y"
        },
        {
         "hovertemplate": "Admin 1=Đăk Lăk Province<br>Year=%{x}<br>Attack_Count=%{y}<extra></extra>",
         "legendgroup": "Đăk Lăk Province",
         "line": {
          "color": "#00cc96",
          "dash": "solid"
         },
         "marker": {
          "symbol": "circle"
         },
         "mode": "lines",
         "name": "Đăk Lăk Province",
         "showlegend": true,
         "type": "scattergl",
         "x": {
          "bdata": "5wcAAA==",
          "dtype": "i4"
         },
         "xaxis": "x",
         "y": {
          "bdata": "AQ==",
          "dtype": "i1"
         },
         "yaxis": "y"
        },
        {
         "hovertemplate": "Admin 1='Amran Governorate<br>Year=%{x}<br>Attack_Count=%{y}<extra></extra>",
         "legendgroup": "'Amran Governorate",
         "line": {
          "color": "#ab63fa",
          "dash": "solid"
         },
         "marker": {
          "symbol": "circle"
         },
         "mode": "lines",
         "name": "'Amran Governorate",
         "showlegend": true,
         "type": "scattergl",
         "x": {
          "bdata": "6AcAAA==",
          "dtype": "i4"
         },
         "xaxis": "x",
         "y": {
          "bdata": "AQ==",
          "dtype": "i1"
         },
         "yaxis": "y"
        },
        {
         "hovertemplate": "Admin 1=Abidjan<br>Year=%{x}<br>Attack_Count=%{y}<extra></extra>",
         "legendgroup": "Abidjan",
         "line": {
          "color": "#FFA15A",
          "dash": "solid"
         },
         "marker": {
          "symbol": "circle"
         },
         "mode": "lines",
         "name": "Abidjan",
         "showlegend": true,
         "type": "scattergl",
         "x": {
          "bdata": "6AcAAA==",
          "dtype": "i4"
         },
         "xaxis": "x",
         "y": {
          "bdata": "AQ==",
          "dtype": "i1"
         },
         "yaxis": "y"
        },
        {
         "hovertemplate": "Admin 1=Al Qadarif State<br>Year=%{x}<br>Attack_Count=%{y}<extra></extra>",
         "legendgroup": "Al Qadarif State",
         "line": {
          "color": "#19d3f3",
          "dash": "solid"
         },
         "marker": {
          "symbol": "circle"
         },
         "mode": "lines",
         "name": "Al Qadarif State",
         "showlegend": true,
         "type": "scattergl",
         "x": {
          "bdata": "6AcAAA==",
          "dtype": "i4"
         },
         "xaxis": "x",
         "y": {
          "bdata": "AQ==",
          "dtype": "i1"
         },
         "yaxis": "y"
        },
        {
         "hovertemplate": "Admin 1=Az Zawiya District<br>Year=%{x}<br>Attack_Count=%{y}<extra></extra>",
         "legendgroup": "Az Zawiya District",
         "line": {
          "color": "#FF6692",
          "dash": "solid"
         },
         "marker": {
          "symbol": "circle"
         },
         "mode": "lines",
         "name": "Az Zawiya District",
         "showlegend": true,
         "type": "scattergl",
         "x": {
          "bdata": "6AcAAA==",
          "dtype": "i4"
         },
         "xaxis": "x",
         "y": {
          "bdata": "AQ==",
          "dtype": "i1"
         },
         "yaxis": "y"
        },
        {
         "hovertemplate": "Admin 1=Beirut Governorate<br>Year=%{x}<br>Attack_Count=%{y}<extra></extra>",
         "legendgroup": "Beirut Governorate",
         "line": {
          "color": "#B6E880",
          "dash": "solid"
         },
         "marker": {
          "symbol": "circle"
         },
         "mode": "lines",
         "name": "Beirut Governorate",
         "showlegend": true,
         "type": "scattergl",
         "x": {
          "bdata": "6AcAAA==",
          "dtype": "i4"
         },
         "xaxis": "x",
         "y": {
          "bdata": "AQ==",
          "dtype": "i1"
         },
         "yaxis": "y"
        },
        {
         "hovertemplate": "Admin 1=Beryslav Raion<br>Year=%{x}<br>Attack_Count=%{y}<extra></extra>",
         "legendgroup": "Beryslav Raion",
         "line": {
          "color": "#FF97FF",
          "dash": "solid"
         },
         "marker": {
          "symbol": "circle"
         },
         "mode": "lines",
         "name": "Beryslav Raion",
         "showlegend": true,
         "type": "scattergl",
         "x": {
          "bdata": "6AcAAA==",
          "dtype": "i4"
         },
         "xaxis": "x",
         "y": {
          "bdata": "AQ==",
          "dtype": "i1"
         },
         "yaxis": "y"
        },
        {
         "hovertemplate": "Admin 1=Bubanza<br>Year=%{x}<br>Attack_Count=%{y}<extra></extra>",
         "legendgroup": "Bubanza",
         "line": {
          "color": "#FECB52",
          "dash": "solid"
         },
         "marker": {
          "symbol": "circle"
         },
         "mode": "lines",
         "name": "Bubanza",
         "showlegend": true,
         "type": "scattergl",
         "x": {
          "bdata": "6AcAAA==",
          "dtype": "i4"
         },
         "xaxis": "x",
         "y": {
          "bdata": "AQ==",
          "dtype": "i1"
         },
         "yaxis": "y"
        },
        {
         "hovertemplate": "Admin 1=Central Federal District<br>Year=%{x}<br>Attack_Count=%{y}<extra></extra>",
         "legendgroup": "Central Federal District",
         "line": {
          "color": "#636efa",
          "dash": "solid"
         },
         "marker": {
          "symbol": "circle"
         },
         "mode": "lines",
         "name": "Central Federal District",
         "showlegend": true,
         "type": "scattergl",
         "x": {
          "bdata": "6AcAAOkHAAA=",
          "dtype": "i4"
         },
         "xaxis": "x",
         "y": {
          "bdata": "DgQ=",
          "dtype": "i1"
         },
         "yaxis": "y"
        },
        {
         "hovertemplate": "Admin 1=Deir ez-Zor Governorate<br>Year=%{x}<br>Attack_Count=%{y}<extra></extra>",
         "legendgroup": "Deir ez-Zor Governorate",
         "line": {
          "color": "#EF553B",
          "dash": "solid"
         },
         "marker": {
          "symbol": "circle"
         },
         "mode": "lines",
         "name": "Deir ez-Zor Governorate",
         "showlegend": true,
         "type": "scattergl",
         "x": {
          "bdata": "6AcAAA==",
          "dtype": "i4"
         },
         "xaxis": "x",
         "y": {
          "bdata": "BA==",
          "dtype": "i1"
         },
         "yaxis": "y"
        },
        {
         "hovertemplate": "Admin 1=Desnianskyi district<br>Year=%{x}<br>Attack_Count=%{y}<extra></extra>",
         "legendgroup": "Desnianskyi district",
         "line": {
          "color": "#00cc96",
          "dash": "solid"
         },
         "marker": {
          "symbol": "circle"
         },
         "mode": "lines",
         "name": "Desnianskyi district",
         "showlegend": true,
         "type": "scattergl",
         "x": {
          "bdata": "6AcAAA==",
          "dtype": "i4"
         },
         "xaxis": "x",
         "y": {
          "bdata": "AQ==",
          "dtype": "i1"
         },
         "yaxis": "y"
        },
        {
         "hovertemplate": "Admin 1=Département du Nord<br>Year=%{x}<br>Attack_Count=%{y}<extra></extra>",
         "legendgroup": "Département du Nord",
         "line": {
          "color": "#ab63fa",
          "dash": "solid"
         },
         "marker": {
          "symbol": "circle"
         },
         "mode": "lines",
         "name": "Département du Nord",
         "showlegend": true,
         "type": "scattergl",
         "x": {
          "bdata": "6AcAAA==",
          "dtype": "i4"
         },
         "xaxis": "x",
         "y": {
          "bdata": "AQ==",
          "dtype": "i1"
         },
         "yaxis": "y"
        },
        {
         "hovertemplate": "Admin 1=Haifa District<br>Year=%{x}<br>Attack_Count=%{y}<extra></extra>",
         "legendgroup": "Haifa District",
         "line": {
          "color": "#FFA15A",
          "dash": "solid"
         },
         "marker": {
          "symbol": "circle"
         },
         "mode": "lines",
         "name": "Haifa District",
         "showlegend": true,
         "type": "scattergl",
         "x": {
          "bdata": "6AcAAA==",
          "dtype": "i4"
         },
         "xaxis": "x",
         "y": {
          "bdata": "AQ==",
          "dtype": "i1"
         },
         "yaxis": "y"
        },
        {
         "hovertemplate": "Admin 1=Haut-Katanga<br>Year=%{x}<br>Attack_Count=%{y}<extra></extra>",
         "legendgroup": "Haut-Katanga",
         "line": {
          "color": "#19d3f3",
          "dash": "solid"
         },
         "marker": {
          "symbol": "circle"
         },
         "mode": "lines",
         "name": "Haut-Katanga",
         "showlegend": true,
         "type": "scattergl",
         "x": {
          "bdata": "6AcAAA==",
          "dtype": "i4"
         },
         "xaxis": "x",
         "y": {
          "bdata": "BA==",
          "dtype": "i1"
         },
         "yaxis": "y"
        },
        {
         "hovertemplate": "Admin 1=Henan<br>Year=%{x}<br>Attack_Count=%{y}<extra></extra>",
         "legendgroup": "Henan",
         "line": {
          "color": "#FF6692",
          "dash": "solid"
         },
         "marker": {
          "symbol": "circle"
         },
         "mode": "lines",
         "name": "Henan",
         "showlegend": true,
         "type": "scattergl",
         "x": {
          "bdata": "6AcAAA==",
          "dtype": "i4"
         },
         "xaxis": "x",
         "y": {
          "bdata": "AQ==",
          "dtype": "i1"
         },
         "yaxis": "y"
        },
        {
         "hovertemplate": "Admin 1=Kebbi State<br>Year=%{x}<br>Attack_Count=%{y}<extra></extra>",
         "legendgroup": "Kebbi State",
         "line": {
          "color": "#B6E880",
          "dash": "solid"
         },
         "marker": {
          "symbol": "circle"
         },
         "mode": "lines",
         "name": "Kebbi State",
         "showlegend": true,
         "type": "scattergl",
         "x": {
          "bdata": "6AcAAA==",
          "dtype": "i4"
         },
         "xaxis": "x",
         "y": {
          "bdata": "AQ==",
          "dtype": "i1"
         },
         "yaxis": "y"
        },
        {
         "hovertemplate": "Admin 1=Keserwan-Jbeil Governorate<br>Year=%{x}<br>Attack_Count=%{y}<extra></extra>",
         "legendgroup": "Keserwan-Jbeil Governorate",
         "line": {
          "color": "#FF97FF",
          "dash": "solid"
         },
         "marker": {
          "symbol": "circle"
         },
         "mode": "lines",
         "name": "Keserwan-Jbeil Governorate",
         "showlegend": true,
         "type": "scattergl",
         "x": {
          "bdata": "6AcAAA==",
          "dtype": "i4"
         },
         "xaxis": "x",
         "y": {
          "bdata": "AQ==",
          "dtype": "i1"
         },
         "yaxis": "y"
        },
        {
         "hovertemplate": "Admin 1=Kherson Raion<br>Year=%{x}<br>Attack_Count=%{y}<extra></extra>",
         "legendgroup": "Kherson Raion",
         "line": {
          "color": "#FECB52",
          "dash": "solid"
         },
         "marker": {
          "symbol": "circle"
         },
         "mode": "lines",
         "name": "Kherson Raion",
         "showlegend": true,
         "type": "scattergl",
         "x": {
          "bdata": "6AcAAOkHAAA=",
          "dtype": "i4"
         },
         "xaxis": "x",
         "y": {
          "bdata": "AwE=",
          "dtype": "i1"
         },
         "yaxis": "y"
        },
        {
         "hovertemplate": "Admin 1=Lattakia Governorate<br>Year=%{x}<br>Attack_Count=%{y}<extra></extra>",
         "legendgroup": "Lattakia Governorate",
         "line": {
          "color": "#636efa",
          "dash": "solid"
         },
         "marker": {
          "symbol": "circle"
         },
         "mode": "lines",
         "name": "Lattakia Governorate",
         "showlegend": true,
         "type": "scattergl",
         "x": {
          "bdata": "6AcAAA==",
          "dtype": "i4"
         },
         "xaxis": "x",
         "y": {
          "bdata": "AQ==",
          "dtype": "i1"
         },
         "yaxis": "y"
        },
        {
         "hovertemplate": "Admin 1=Meru County<br>Year=%{x}<br>Attack_Count=%{y}<extra></extra>",
         "legendgroup": "Meru County",
         "line": {
          "color": "#EF553B",
          "dash": "solid"
         },
         "marker": {
          "symbol": "circle"
         },
         "mode": "lines",
         "name": "Meru County",
         "showlegend": true,
         "type": "scattergl",
         "x": {
          "bdata": "6AcAAOkHAAA=",
          "dtype": "i4"
         },
         "xaxis": "x",
         "y": {
          "bdata": "AQE=",
          "dtype": "i1"
         },
         "yaxis": "y"
        },
        {
         "hovertemplate": "Admin 1=Michoacán<br>Year=%{x}<br>Attack_Count=%{y}<extra></extra>",
         "legendgroup": "Michoacán",
         "line": {
          "color": "#00cc96",
          "dash": "solid"
         },
         "marker": {
          "symbol": "circle"
         },
         "mode": "lines",
         "name": "Michoacán",
         "showlegend": true,
         "type": "scattergl",
         "x": {
          "bdata": "6AcAAA==",
          "dtype": "i4"
         },
         "xaxis": "x",
         "y": {
          "bdata": "AQ==",
          "dtype": "i1"
         },
         "yaxis": "y"
        },
        {
         "hovertemplate": "Admin 1=Nimruz Province<br>Year=%{x}<br>Attack_Count=%{y}<extra></extra>",
         "legendgroup": "Nimruz Province",
         "line": {
          "color": "#ab63fa",
          "dash": "solid"
         },
         "marker": {
          "symbol": "circle"
         },
         "mode": "lines",
         "name": "Nimruz Province",
         "showlegend": true,
         "type": "scattergl",
         "x": {
          "bdata": "6AcAAA==",
          "dtype": "i4"
         },
         "xaxis": "x",
         "y": {
          "bdata": "AQ==",
          "dtype": "i1"
         },
         "yaxis": "y"
        },
        {
         "hovertemplate": "Admin 1=Nord-Est Department<br>Year=%{x}<br>Attack_Count=%{y}<extra></extra>",
         "legendgroup": "Nord-Est Department",
         "line": {
          "color": "#FFA15A",
          "dash": "solid"
         },
         "marker": {
          "symbol": "circle"
         },
         "mode": "lines",
         "name": "Nord-Est Department",
         "showlegend": true,
         "type": "scattergl",
         "x": {
          "bdata": "6AcAAA==",
          "dtype": "i4"
         },
         "xaxis": "x",
         "y": {
          "bdata": "AQ==",
          "dtype": "i1"
         },
         "yaxis": "y"
        },
        {
         "hovertemplate": "Admin 1=North Caucasian Federal District<br>Year=%{x}<br>Attack_Count=%{y}<extra></extra>",
         "legendgroup": "North Caucasian Federal District",
         "line": {
          "color": "#19d3f3",
          "dash": "solid"
         },
         "marker": {
          "symbol": "circle"
         },
         "mode": "lines",
         "name": "North Caucasian Federal District",
         "showlegend": true,
         "type": "scattergl",
         "x": {
          "bdata": "6AcAAA==",
          "dtype": "i4"
         },
         "xaxis": "x",
         "y": {
          "bdata": "AQ==",
          "dtype": "i1"
         },
         "yaxis": "y"
        },
        {
         "hovertemplate": "Admin 1=North District<br>Year=%{x}<br>Attack_Count=%{y}<extra></extra>",
         "legendgroup": "North District",
         "line": {
          "color": "#FF6692",
          "dash": "solid"
         },
         "marker": {
          "symbol": "circle"
         },
         "mode": "lines",
         "name": "North District",
         "showlegend": true,
         "type": "scattergl",
         "x": {
          "bdata": "6AcAAA==",
          "dtype": "i4"
         },
         "xaxis": "x",
         "y": {
          "bdata": "Bw==",
          "dtype": "i1"
         },
         "yaxis": "y"
        },
        {
         "hovertemplate": "Admin 1=Northern Bahr el Ghazal<br>Year=%{x}<br>Attack_Count=%{y}<extra></extra>",
         "legendgroup": "Northern Bahr el Ghazal",
         "line": {
          "color": "#B6E880",
          "dash": "solid"
         },
         "marker": {
          "symbol": "circle"
         },
         "mode": "lines",
         "name": "Northern Bahr el Ghazal",
         "showlegend": true,
         "type": "scattergl",
         "x": {
          "bdata": "6AcAAA==",
          "dtype": "i4"
         },
         "xaxis": "x",
         "y": {
          "bdata": "AQ==",
          "dtype": "i1"
         },
         "yaxis": "y"
        },
        {
         "hovertemplate": "Admin 1=Northern State<br>Year=%{x}<br>Attack_Count=%{y}<extra></extra>",
         "legendgroup": "Northern State",
         "line": {
          "color": "#FF97FF",
          "dash": "solid"
         },
         "marker": {
          "symbol": "circle"
         },
         "mode": "lines",
         "name": "Northern State",
         "showlegend": true,
         "type": "scattergl",
         "x": {
          "bdata": "6AcAAA==",
          "dtype": "i4"
         },
         "xaxis": "x",
         "y": {
          "bdata": "AQ==",
          "dtype": "i1"
         },
         "yaxis": "y"
        },
        {
         "hovertemplate": "Admin 1=Nuevo León<br>Year=%{x}<br>Attack_Count=%{y}<extra></extra>",
         "legendgroup": "Nuevo León",
         "line": {
          "color": "#FECB52",
          "dash": "solid"
         },
         "marker": {
          "symbol": "circle"
         },
         "mode": "lines",
         "name": "Nuevo León",
         "showlegend": true,
         "type": "scattergl",
         "x": {
          "bdata": "6AcAAA==",
          "dtype": "i4"
         },
         "xaxis": "x",
         "y": {
          "bdata": "AQ==",
          "dtype": "i1"
         },
         "yaxis": "y"
        },
        {
         "hovertemplate": "Admin 1=Poltava Oblast<br>Year=%{x}<br>Attack_Count=%{y}<extra></extra>",
         "legendgroup": "Poltava Oblast",
         "line": {
          "color": "#636efa",
          "dash": "solid"
         },
         "marker": {
          "symbol": "circle"
         },
         "mode": "lines",
         "name": "Poltava Oblast",
         "showlegend": true,
         "type": "scattergl",
         "x": {
          "bdata": "6AcAAA==",
          "dtype": "i4"
         },
         "xaxis": "x",
         "y": {
          "bdata": "Aw==",
          "dtype": "i1"
         },
         "yaxis": "y"
        },
        {
         "hovertemplate": "Admin 1=Rif Dimashq Governorate<br>Year=%{x}<br>Attack_Count=%{y}<extra></extra>",
         "legendgroup": "Rif Dimashq Governorate",
         "line": {
          "color": "#EF553B",
          "dash": "solid"
         },
         "marker": {
          "symbol": "circle"
         },
         "mode": "lines",
         "name": "Rif Dimashq Governorate",
         "showlegend": true,
         "type": "scattergl",
         "x": {
          "bdata": "6AcAAA==",
          "dtype": "i4"
         },
         "xaxis": "x",
         "y": {
          "bdata": "AQ==",
          "dtype": "i1"
         },
         "yaxis": "y"
        },
        {
         "hovertemplate": "Admin 1=Sennar State<br>Year=%{x}<br>Attack_Count=%{y}<extra></extra>",
         "legendgroup": "Sennar State",
         "line": {
          "color": "#00cc96",
          "dash": "solid"
         },
         "marker": {
          "symbol": "circle"
         },
         "mode": "lines",
         "name": "Sennar State",
         "showlegend": true,
         "type": "scattergl",
         "x": {
          "bdata": "6AcAAA==",
          "dtype": "i4"
         },
         "xaxis": "x",
         "y": {
          "bdata": "Aw==",
          "dtype": "i1"
         },
         "yaxis": "y"
        },
        {
         "hovertemplate": "Admin 1=Shevchenkivskyi district<br>Year=%{x}<br>Attack_Count=%{y}<extra></extra>",
         "legendgroup": "Shevchenkivskyi district",
         "line": {
          "color": "#ab63fa",
          "dash": "solid"
         },
         "marker": {
          "symbol": "circle"
         },
         "mode": "lines",
         "name": "Shevchenkivskyi district",
         "showlegend": true,
         "type": "scattergl",
         "x": {
          "bdata": "6AcAAA==",
          "dtype": "i4"
         },
         "xaxis": "x",
         "y": {
          "bdata": "BQ==",
          "dtype": "i1"
         },
         "yaxis": "y"
        },
        {
         "hovertemplate": "Admin 1=Sirajganj District<br>Year=%{x}<br>Attack_Count=%{y}<extra></extra>",
         "legendgroup": "Sirajganj District",
         "line": {
          "color": "#FFA15A",
          "dash": "solid"
         },
         "marker": {
          "symbol": "circle"
         },
         "mode": "lines",
         "name": "Sirajganj District",
         "showlegend": true,
         "type": "scattergl",
         "x": {
          "bdata": "6AcAAA==",
          "dtype": "i4"
         },
         "xaxis": "x",
         "y": {
          "bdata": "AQ==",
          "dtype": "i1"
         },
         "yaxis": "y"
        },
        {
         "hovertemplate": "Admin 1=Sokoto State<br>Year=%{x}<br>Attack_Count=%{y}<extra></extra>",
         "legendgroup": "Sokoto State",
         "line": {
          "color": "#19d3f3",
          "dash": "solid"
         },
         "marker": {
          "symbol": "circle"
         },
         "mode": "lines",
         "name": "Sokoto State",
         "showlegend": true,
         "type": "scattergl",
         "x": {
          "bdata": "6AcAAA==",
          "dtype": "i4"
         },
         "xaxis": "x",
         "y": {
          "bdata": "AQ==",
          "dtype": "i1"
         },
         "yaxis": "y"
        },
        {
         "hovertemplate": "Admin 1=Solomianskyi district<br>Year=%{x}<br>Attack_Count=%{y}<extra></extra>",
         "legendgroup": "Solomianskyi district",
         "line": {
          "color": "#FF6692",
          "dash": "solid"
         },
         "marker": {
          "symbol": "circle"
         },
         "mode": "lines",
         "name": "Solomianskyi district",
         "showlegend": true,
         "type": "scattergl",
         "x": {
          "bdata": "6AcAAA==",
          "dtype": "i4"
         },
         "xaxis": "x",
         "y": {
          "bdata": "AQ==",
          "dtype": "i1"
         },
         "yaxis": "y"
        },
        {
         "hovertemplate": "Admin 1=South Ethiopia Regional State<br>Year=%{x}<br>Attack_Count=%{y}<extra></extra>",
         "legendgroup": "South Ethiopia Regional State",
         "line": {
          "color": "#B6E880",
          "dash": "solid"
         },
         "marker": {
          "symbol": "circle"
         },
         "mode": "lines",
         "name": "South Ethiopia Regional State",
         "showlegend": true,
         "type": "scattergl",
         "x": {
          "bdata": "6AcAAA==",
          "dtype": "i4"
         },
         "xaxis": "x",
         "y": {
          "bdata": "Ag==",
          "dtype": "i1"
         },
         "yaxis": "y"
        },
        {
         "hovertemplate": "Admin 1=South Kordofan<br>Year=%{x}<br>Attack_Count=%{y}<extra></extra>",
         "legendgroup": "South Kordofan",
         "line": {
          "color": "#FF97FF",
          "dash": "solid"
         },
         "marker": {
          "symbol": "circle"
         },
         "mode": "lines",
         "name": "South Kordofan",
         "showlegend": true,
         "type": "scattergl",
         "x": {
          "bdata": "6AcAAA==",
          "dtype": "i4"
         },
         "xaxis": "x",
         "y": {
          "bdata": "AQ==",
          "dtype": "i1"
         },
         "yaxis": "y"
        },
        {
         "hovertemplate": "Admin 1=Southern Federal District<br>Year=%{x}<br>Attack_Count=%{y}<extra></extra>",
         "legendgroup": "Southern Federal District",
         "line": {
          "color": "#FECB52",
          "dash": "solid"
         },
         "marker": {
          "symbol": "circle"
         },
         "mode": "lines",
         "name": "Southern Federal District",
         "showlegend": true,
         "type": "scattergl",
         "x": {
          "bdata": "6AcAAOkHAAA=",
          "dtype": "i4"
         },
         "xaxis": "x",
         "y": {
          "bdata": "AQE=",
          "dtype": "i1"
         },
         "yaxis": "y"
        },
        {
         "hovertemplate": "Admin 1=Sudurpashchim Province<br>Year=%{x}<br>Attack_Count=%{y}<extra></extra>",
         "legendgroup": "Sudurpashchim Province",
         "line": {
          "color": "#636efa",
          "dash": "solid"
         },
         "marker": {
          "symbol": "circle"
         },
         "mode": "lines",
         "name": "Sudurpashchim Province",
         "showlegend": true,
         "type": "scattergl",
         "x": {
          "bdata": "6AcAAA==",
          "dtype": "i4"
         },
         "xaxis": "x",
         "y": {
          "bdata": "AQ==",
          "dtype": "i1"
         },
         "yaxis": "y"
        },
        {
         "hovertemplate": "Admin 1=Sviatoshynskyi district<br>Year=%{x}<br>Attack_Count=%{y}<extra></extra>",
         "legendgroup": "Sviatoshynskyi district",
         "line": {
          "color": "#EF553B",
          "dash": "solid"
         },
         "marker": {
          "symbol": "circle"
         },
         "mode": "lines",
         "name": "Sviatoshynskyi district",
         "showlegend": true,
         "type": "scattergl",
         "x": {
          "bdata": "6AcAAA==",
          "dtype": "i4"
         },
         "xaxis": "x",
         "y": {
          "bdata": "Ag==",
          "dtype": "i1"
         },
         "yaxis": "y"
        },
        {
         "hovertemplate": "Admin 1=Tartus Governorate<br>Year=%{x}<br>Attack_Count=%{y}<extra></extra>",
         "legendgroup": "Tartus Governorate",
         "line": {
          "color": "#00cc96",
          "dash": "solid"
         },
         "marker": {
          "symbol": "circle"
         },
         "mode": "lines",
         "name": "Tartus Governorate",
         "showlegend": true,
         "type": "scattergl",
         "x": {
          "bdata": "6AcAAA==",
          "dtype": "i4"
         },
         "xaxis": "x",
         "y": {
          "bdata": "AQ==",
          "dtype": "i1"
         },
         "yaxis": "y"
        },
        {
         "hovertemplate": "Admin 1=White Nile State<br>Year=%{x}<br>Attack_Count=%{y}<extra></extra>",
         "legendgroup": "White Nile State",
         "line": {
          "color": "#ab63fa",
          "dash": "solid"
         },
         "marker": {
          "symbol": "circle"
         },
         "mode": "lines",
         "name": "White Nile State",
         "showlegend": true,
         "type": "scattergl",
         "x": {
          "bdata": "6AcAAA==",
          "dtype": "i4"
         },
         "xaxis": "x",
         "y": {
          "bdata": "AQ==",
          "dtype": "i1"
         },
         "yaxis": "y"
        },
        {
         "hovertemplate": "Admin 1=Al Jazira<br>Year=%{x}<br>Attack_Count=%{y}<extra></extra>",
         "legendgroup": "Al Jazira",
         "line": {
          "color": "#FFA15A",
          "dash": "solid"
         },
         "marker": {
          "symbol": "circle"
         },
         "mode": "lines",
         "name": "Al Jazira",
         "showlegend": true,
         "type": "scattergl",
         "x": {
          "bdata": "6QcAAA==",
          "dtype": "i4"
         },
         "xaxis": "x",
         "y": {
          "bdata": "AQ==",
          "dtype": "i1"
         },
         "yaxis": "y"
        },
        {
         "hovertemplate": "Admin 1=Al Khartum<br>Year=%{x}<br>Attack_Count=%{y}<extra></extra>",
         "legendgroup": "Al Khartum",
         "line": {
          "color": "#19d3f3",
          "dash": "solid"
         },
         "marker": {
          "symbol": "circle"
         },
         "mode": "lines",
         "name": "Al Khartum",
         "showlegend": true,
         "type": "scattergl",
         "x": {
          "bdata": "6QcAAA==",
          "dtype": "i4"
         },
         "xaxis": "x",
         "y": {
          "bdata": "BA==",
          "dtype": "i1"
         },
         "yaxis": "y"
        },
        {
         "hovertemplate": "Admin 1=Blue Nile<br>Year=%{x}<br>Attack_Count=%{y}<extra></extra>",
         "legendgroup": "Blue Nile",
         "line": {
          "color": "#FF6692",
          "dash": "solid"
         },
         "marker": {
          "symbol": "circle"
         },
         "mode": "lines",
         "name": "Blue Nile",
         "showlegend": true,
         "type": "scattergl",
         "x": {
          "bdata": "6QcAAA==",
          "dtype": "i4"
         },
         "xaxis": "x",
         "y": {
          "bdata": "AQ==",
          "dtype": "i1"
         },
         "yaxis": "y"
        },
        {
         "hovertemplate": "Admin 1=Centre Department<br>Year=%{x}<br>Attack_Count=%{y}<extra></extra>",
         "legendgroup": "Centre Department",
         "line": {
          "color": "#B6E880",
          "dash": "solid"
         },
         "marker": {
          "symbol": "circle"
         },
         "mode": "lines",
         "name": "Centre Department",
         "showlegend": true,
         "type": "scattergl",
         "x": {
          "bdata": "6QcAAA==",
          "dtype": "i4"
         },
         "xaxis": "x",
         "y": {
          "bdata": "AQ==",
          "dtype": "i1"
         },
         "yaxis": "y"
        },
        {
         "hovertemplate": "Admin 1=Kyiv<br>Year=%{x}<br>Attack_Count=%{y}<extra></extra>",
         "legendgroup": "Kyiv",
         "line": {
          "color": "#FF97FF",
          "dash": "solid"
         },
         "marker": {
          "symbol": "circle"
         },
         "mode": "lines",
         "name": "Kyiv",
         "showlegend": true,
         "type": "scattergl",
         "x": {
          "bdata": "6QcAAA==",
          "dtype": "i4"
         },
         "xaxis": "x",
         "y": {
          "bdata": "Ag==",
          "dtype": "i1"
         },
         "yaxis": "y"
        },
        {
         "hovertemplate": "Admin 1=Kyoto Prefecture<br>Year=%{x}<br>Attack_Count=%{y}<extra></extra>",
         "legendgroup": "Kyoto Prefecture",
         "line": {
          "color": "#FECB52",
          "dash": "solid"
         },
         "marker": {
          "symbol": "circle"
         },
         "mode": "lines",
         "name": "Kyoto Prefecture",
         "showlegend": true,
         "type": "scattergl",
         "x": {
          "bdata": "6QcAAA==",
          "dtype": "i4"
         },
         "xaxis": "x",
         "y": {
          "bdata": "AQ==",
          "dtype": "i1"
         },
         "yaxis": "y"
        },
        {
         "hovertemplate": "Admin 1=Managua<br>Year=%{x}<br>Attack_Count=%{y}<extra></extra>",
         "legendgroup": "Managua",
         "line": {
          "color": "#636efa",
          "dash": "solid"
         },
         "marker": {
          "symbol": "circle"
         },
         "mode": "lines",
         "name": "Managua",
         "showlegend": true,
         "type": "scattergl",
         "x": {
          "bdata": "6QcAAA==",
          "dtype": "i4"
         },
         "xaxis": "x",
         "y": {
          "bdata": "AQ==",
          "dtype": "i1"
         },
         "yaxis": "y"
        },
        {
         "hovertemplate": "Admin 1=Maniema<br>Year=%{x}<br>Attack_Count=%{y}<extra></extra>",
         "legendgroup": "Maniema",
         "line": {
          "color": "#EF553B",
          "dash": "solid"
         },
         "marker": {
          "symbol": "circle"
         },
         "mode": "lines",
         "name": "Maniema",
         "showlegend": true,
         "type": "scattergl",
         "x": {
          "bdata": "6QcAAA==",
          "dtype": "i4"
         },
         "xaxis": "x",
         "y": {
          "bdata": "AQ==",
          "dtype": "i1"
         },
         "yaxis": "y"
        },
        {
         "hovertemplate": "Admin 1=Northern Province<br>Year=%{x}<br>Attack_Count=%{y}<extra></extra>",
         "legendgroup": "Northern Province",
         "line": {
          "color": "#00cc96",
          "dash": "solid"
         },
         "marker": {
          "symbol": "circle"
         },
         "mode": "lines",
         "name": "Northern Province",
         "showlegend": true,
         "type": "scattergl",
         "x": {
          "bdata": "6QcAAA==",
          "dtype": "i4"
         },
         "xaxis": "x",
         "y": {
          "bdata": "AQ==",
          "dtype": "i1"
         },
         "yaxis": "y"
        },
        {
         "hovertemplate": "Admin 1=Obolonskyi district<br>Year=%{x}<br>Attack_Count=%{y}<extra></extra>",
         "legendgroup": "Obolonskyi district",
         "line": {
          "color": "#ab63fa",
          "dash": "solid"
         },
         "marker": {
          "symbol": "circle"
         },
         "mode": "lines",
         "name": "Obolonskyi district",
         "showlegend": true,
         "type": "scattergl",
         "x": {
          "bdata": "6QcAAA==",
          "dtype": "i4"
         },
         "xaxis": "x",
         "y": {
          "bdata": "AQ==",
          "dtype": "i1"
         },
         "yaxis": "y"
        },
        {
         "hovertemplate": "Admin 1=Quetzaltenango<br>Year=%{x}<br>Attack_Count=%{y}<extra></extra>",
         "legendgroup": "Quetzaltenango",
         "line": {
          "color": "#FFA15A",
          "dash": "solid"
         },
         "marker": {
          "symbol": "circle"
         },
         "mode": "lines",
         "name": "Quetzaltenango",
         "showlegend": true,
         "type": "scattergl",
         "x": {
          "bdata": "6QcAAA==",
          "dtype": "i4"
         },
         "xaxis": "x",
         "y": {
          "bdata": "AQ==",
          "dtype": "i1"
         },
         "yaxis": "y"
        },
        {
         "hovertemplate": "Admin 1=RAP Amazonía<br>Year=%{x}<br>Attack_Count=%{y}<extra></extra>",
         "legendgroup": "RAP Amazonía",
         "line": {
          "color": "#19d3f3",
          "dash": "solid"
         },
         "marker": {
          "symbol": "circle"
         },
         "mode": "lines",
         "name": "RAP Amazonía",
         "showlegend": true,
         "type": "scattergl",
         "x": {
          "bdata": "6QcAAA==",
          "dtype": "i4"
         },
         "xaxis": "x",
         "y": {
          "bdata": "AQ==",
          "dtype": "i1"
         },
         "yaxis": "y"
        },
        {
         "hovertemplate": "Admin 1=Region of Crete<br>Year=%{x}<br>Attack_Count=%{y}<extra></extra>",
         "legendgroup": "Region of Crete",
         "line": {
          "color": "#FF6692",
          "dash": "solid"
         },
         "marker": {
          "symbol": "circle"
         },
         "mode": "lines",
         "name": "Region of Crete",
         "showlegend": true,
         "type": "scattergl",
         "x": {
          "bdata": "6QcAAA==",
          "dtype": "i4"
         },
         "xaxis": "x",
         "y": {
          "bdata": "AQ==",
          "dtype": "i1"
         },
         "yaxis": "y"
        },
        {
         "hovertemplate": "Admin 1=Western Zone<br>Year=%{x}<br>Attack_Count=%{y}<extra></extra>",
         "legendgroup": "Western Zone",
         "line": {
          "color": "#B6E880",
          "dash": "solid"
         },
         "marker": {
          "symbol": "circle"
         },
         "mode": "lines",
         "name": "Western Zone",
         "showlegend": true,
         "type": "scattergl",
         "x": {
          "bdata": "6QcAAA==",
          "dtype": "i4"
         },
         "xaxis": "x",
         "y": {
          "bdata": "AQ==",
          "dtype": "i1"
         },
         "yaxis": "y"
        },
        {
         "hovertemplate": "Admin 1=Zacatecas<br>Year=%{x}<br>Attack_Count=%{y}<extra></extra>",
         "legendgroup": "Zacatecas",
         "line": {
          "color": "#FF97FF",
          "dash": "solid"
         },
         "marker": {
          "symbol": "circle"
         },
         "mode": "lines",
         "name": "Zacatecas",
         "showlegend": true,
         "type": "scattergl",
         "x": {
          "bdata": "6QcAAA==",
          "dtype": "i4"
         },
         "xaxis": "x",
         "y": {
          "bdata": "AQ==",
          "dtype": "i1"
         },
         "yaxis": "y"
        }
       ],
       "layout": {
        "legend": {
         "title": {
          "text": "Admin 1"
         },
         "tracegroupgap": 0
        },
        "template": {
         "data": {
          "bar": [
           {
            "error_x": {
             "color": "#2a3f5f"
            },
            "error_y": {
             "color": "#2a3f5f"
            },
            "marker": {
             "line": {
              "color": "#E5ECF6",
              "width": 0.5
             },
             "pattern": {
              "fillmode": "overlay",
              "size": 10,
              "solidity": 0.2
             }
            },
            "type": "bar"
           }
          ],
          "barpolar": [
           {
            "marker": {
             "line": {
              "color": "#E5ECF6",
              "width": 0.5
             },
             "pattern": {
              "fillmode": "overlay",
              "size": 10,
              "solidity": 0.2
             }
            },
            "type": "barpolar"
           }
          ],
          "carpet": [
           {
            "aaxis": {
             "endlinecolor": "#2a3f5f",
             "gridcolor": "white",
             "linecolor": "white",
             "minorgridcolor": "white",
             "startlinecolor": "#2a3f5f"
            },
            "baxis": {
             "endlinecolor": "#2a3f5f",
             "gridcolor": "white",
             "linecolor": "white",
             "minorgridcolor": "white",
             "startlinecolor": "#2a3f5f"
            },
            "type": "carpet"
           }
          ],
          "choropleth": [
           {
            "colorbar": {
             "outlinewidth": 0,
             "ticks": ""
            },
            "type": "choropleth"
           }
          ],
          "contour": [
           {
            "colorbar": {
             "outlinewidth": 0,
             "ticks": ""
            },
            "colorscale": [
             [
              0,
              "#0d0887"
             ],
             [
              0.1111111111111111,
              "#46039f"
             ],
             [
              0.2222222222222222,
              "#7201a8"
             ],
             [
              0.3333333333333333,
              "#9c179e"
             ],
             [
              0.4444444444444444,
              "#bd3786"
             ],
             [
              0.5555555555555556,
              "#d8576b"
             ],
             [
              0.6666666666666666,
              "#ed7953"
             ],
             [
              0.7777777777777778,
              "#fb9f3a"
             ],
             [
              0.8888888888888888,
              "#fdca26"
             ],
             [
              1,
              "#f0f921"
             ]
            ],
            "type": "contour"
           }
          ],
          "contourcarpet": [
           {
            "colorbar": {
             "outlinewidth": 0,
             "ticks": ""
            },
            "type": "contourcarpet"
           }
          ],
          "heatmap": [
           {
            "colorbar": {
             "outlinewidth": 0,
             "ticks": ""
            },
            "colorscale": [
             [
              0,
              "#0d0887"
             ],
             [
              0.1111111111111111,
              "#46039f"
             ],
             [
              0.2222222222222222,
              "#7201a8"
             ],
             [
              0.3333333333333333,
              "#9c179e"
             ],
             [
              0.4444444444444444,
              "#bd3786"
             ],
             [
              0.5555555555555556,
              "#d8576b"
             ],
             [
              0.6666666666666666,
              "#ed7953"
             ],
             [
              0.7777777777777778,
              "#fb9f3a"
             ],
             [
              0.8888888888888888,
              "#fdca26"
             ],
             [
              1,
              "#f0f921"
             ]
            ],
            "type": "heatmap"
           }
          ],
          "histogram": [
           {
            "marker": {
             "pattern": {
              "fillmode": "overlay",
              "size": 10,
              "solidity": 0.2
             }
            },
            "type": "histogram"
           }
          ],
          "histogram2d": [
           {
            "colorbar": {
             "outlinewidth": 0,
             "ticks": ""
            },
            "colorscale": [
             [
              0,
              "#0d0887"
             ],
             [
              0.1111111111111111,
              "#46039f"
             ],
             [
              0.2222222222222222,
              "#7201a8"
             ],
             [
              0.3333333333333333,
              "#9c179e"
             ],
             [
              0.4444444444444444,
              "#bd3786"
             ],
             [
              0.5555555555555556,
              "#d8576b"
             ],
             [
              0.6666666666666666,
              "#ed7953"
             ],
             [
              0.7777777777777778,
              "#fb9f3a"
             ],
             [
              0.8888888888888888,
              "#fdca26"
             ],
             [
              1,
              "#f0f921"
             ]
            ],
            "type": "histogram2d"
           }
          ],
          "histogram2dcontour": [
           {
            "colorbar": {
             "outlinewidth": 0,
             "ticks": ""
            },
            "colorscale": [
             [
              0,
              "#0d0887"
             ],
             [
              0.1111111111111111,
              "#46039f"
             ],
             [
              0.2222222222222222,
              "#7201a8"
             ],
             [
              0.3333333333333333,
              "#9c179e"
             ],
             [
              0.4444444444444444,
              "#bd3786"
             ],
             [
              0.5555555555555556,
              "#d8576b"
             ],
             [
              0.6666666666666666,
              "#ed7953"
             ],
             [
              0.7777777777777778,
              "#fb9f3a"
             ],
             [
              0.8888888888888888,
              "#fdca26"
             ],
             [
              1,
              "#f0f921"
             ]
            ],
            "type": "histogram2dcontour"
           }
          ],
          "mesh3d": [
           {
            "colorbar": {
             "outlinewidth": 0,
             "ticks": ""
            },
            "type": "mesh3d"
           }
          ],
          "parcoords": [
           {
            "line": {
             "colorbar": {
              "outlinewidth": 0,
              "ticks": ""
             }
            },
            "type": "parcoords"
           }
          ],
          "pie": [
           {
            "automargin": true,
            "type": "pie"
           }
          ],
          "scatter": [
           {
            "fillpattern": {
             "fillmode": "overlay",
             "size": 10,
             "solidity": 0.2
            },
            "type": "scatter"
           }
          ],
          "scatter3d": [
           {
            "line": {
             "colorbar": {
              "outlinewidth": 0,
              "ticks": ""
             }
            },
            "marker": {
             "colorbar": {
              "outlinewidth": 0,
              "ticks": ""
             }
            },
            "type": "scatter3d"
           }
          ],
          "scattercarpet": [
           {
            "marker": {
             "colorbar": {
              "outlinewidth": 0,
              "ticks": ""
             }
            },
            "type": "scattercarpet"
           }
          ],
          "scattergeo": [
           {
            "marker": {
             "colorbar": {
              "outlinewidth": 0,
              "ticks": ""
             }
            },
            "type": "scattergeo"
           }
          ],
          "scattergl": [
           {
            "marker": {
             "colorbar": {
              "outlinewidth": 0,
              "ticks": ""
             }
            },
            "type": "scattergl"
           }
          ],
          "scattermap": [
           {
            "marker": {
             "colorbar": {
              "outlinewidth": 0,
              "ticks": ""
             }
            },
            "type": "scattermap"
           }
          ],
          "scattermapbox": [
           {
            "marker": {
             "colorbar": {
              "outlinewidth": 0,
              "ticks": ""
             }
            },
            "type": "scattermapbox"
           }
          ],
          "scatterpolar": [
           {
            "marker": {
             "colorbar": {
              "outlinewidth": 0,
              "ticks": ""
             }
            },
            "type": "scatterpolar"
           }
          ],
          "scatterpolargl": [
           {
            "marker": {
             "colorbar": {
              "outlinewidth": 0,
              "ticks": ""
             }
            },
            "type": "scatterpolargl"
           }
          ],
          "scatterternary": [
           {
            "marker": {
             "colorbar": {
              "outlinewidth": 0,
              "ticks": ""
             }
            },
            "type": "scatterternary"
           }
          ],
          "surface": [
           {
            "colorbar": {
             "outlinewidth": 0,
             "ticks": ""
            },
            "colorscale": [
             [
              0,
              "#0d0887"
             ],
             [
              0.1111111111111111,
              "#46039f"
             ],
             [
              0.2222222222222222,
              "#7201a8"
             ],
             [
              0.3333333333333333,
              "#9c179e"
             ],
             [
              0.4444444444444444,
              "#bd3786"
             ],
             [
              0.5555555555555556,
              "#d8576b"
             ],
             [
              0.6666666666666666,
              "#ed7953"
             ],
             [
              0.7777777777777778,
              "#fb9f3a"
             ],
             [
              0.8888888888888888,
              "#fdca26"
             ],
             [
              1,
              "#f0f921"
             ]
            ],
            "type": "surface"
           }
          ],
          "table": [
           {
            "cells": {
             "fill": {
              "color": "#EBF0F8"
             },
             "line": {
              "color": "white"
             }
            },
            "header": {
             "fill": {
              "color": "#C8D4E3"
             },
             "line": {
              "color": "white"
             }
            },
            "type": "table"
           }
          ]
         },
         "layout": {
          "annotationdefaults": {
           "arrowcolor": "#2a3f5f",
           "arrowhead": 0,
           "arrowwidth": 1
          },
          "autotypenumbers": "strict",
          "coloraxis": {
           "colorbar": {
            "outlinewidth": 0,
            "ticks": ""
           }
          },
          "colorscale": {
           "diverging": [
            [
             0,
             "#8e0152"
            ],
            [
             0.1,
             "#c51b7d"
            ],
            [
             0.2,
             "#de77ae"
            ],
            [
             0.3,
             "#f1b6da"
            ],
            [
             0.4,
             "#fde0ef"
            ],
            [
             0.5,
             "#f7f7f7"
            ],
            [
             0.6,
             "#e6f5d0"
            ],
            [
             0.7,
             "#b8e186"
            ],
            [
             0.8,
             "#7fbc41"
            ],
            [
             0.9,
             "#4d9221"
            ],
            [
             1,
             "#276419"
            ]
           ],
           "sequential": [
            [
             0,
             "#0d0887"
            ],
            [
             0.1111111111111111,
             "#46039f"
            ],
            [
             0.2222222222222222,
             "#7201a8"
            ],
            [
             0.3333333333333333,
             "#9c179e"
            ],
            [
             0.4444444444444444,
             "#bd3786"
            ],
            [
             0.5555555555555556,
             "#d8576b"
            ],
            [
             0.6666666666666666,
             "#ed7953"
            ],
            [
             0.7777777777777778,
             "#fb9f3a"
            ],
            [
             0.8888888888888888,
             "#fdca26"
            ],
            [
             1,
             "#f0f921"
            ]
           ],
           "sequentialminus": [
            [
             0,
             "#0d0887"
            ],
            [
             0.1111111111111111,
             "#46039f"
            ],
            [
             0.2222222222222222,
             "#7201a8"
            ],
            [
             0.3333333333333333,
             "#9c179e"
            ],
            [
             0.4444444444444444,
             "#bd3786"
            ],
            [
             0.5555555555555556,
             "#d8576b"
            ],
            [
             0.6666666666666666,
             "#ed7953"
            ],
            [
             0.7777777777777778,
             "#fb9f3a"
            ],
            [
             0.8888888888888888,
             "#fdca26"
            ],
            [
             1,
             "#f0f921"
            ]
           ]
          },
          "colorway": [
           "#636efa",
           "#EF553B",
           "#00cc96",
           "#ab63fa",
           "#FFA15A",
           "#19d3f3",
           "#FF6692",
           "#B6E880",
           "#FF97FF",
           "#FECB52"
          ],
          "font": {
           "color": "#2a3f5f"
          },
          "geo": {
           "bgcolor": "white",
           "lakecolor": "white",
           "landcolor": "#E5ECF6",
           "showlakes": true,
           "showland": true,
           "subunitcolor": "white"
          },
          "hoverlabel": {
           "align": "left"
          },
          "hovermode": "closest",
          "mapbox": {
           "style": "light"
          },
          "paper_bgcolor": "white",
          "plot_bgcolor": "#E5ECF6",
          "polar": {
           "angularaxis": {
            "gridcolor": "white",
            "linecolor": "white",
            "ticks": ""
           },
           "bgcolor": "#E5ECF6",
           "radialaxis": {
            "gridcolor": "white",
            "linecolor": "white",
            "ticks": ""
           }
          },
          "scene": {
           "xaxis": {
            "backgroundcolor": "#E5ECF6",
            "gridcolor": "white",
            "gridwidth": 2,
            "linecolor": "white",
            "showbackground": true,
            "ticks": "",
            "zerolinecolor": "white"
           },
           "yaxis": {
            "backgroundcolor": "#E5ECF6",
            "gridcolor": "white",
            "gridwidth": 2,
            "linecolor": "white",
            "showbackground": true,
            "ticks": "",
            "zerolinecolor": "white"
           },
           "zaxis": {
            "backgroundcolor": "#E5ECF6",
            "gridcolor": "white",
            "gridwidth": 2,
            "linecolor": "white",
            "showbackground": true,
            "ticks": "",
            "zerolinecolor": "white"
           }
          },
          "shapedefaults": {
           "line": {
            "color": "#2a3f5f"
           }
          },
          "ternary": {
           "aaxis": {
            "gridcolor": "white",
            "linecolor": "white",
            "ticks": ""
           },
           "baxis": {
            "gridcolor": "white",
            "linecolor": "white",
            "ticks": ""
           },
           "bgcolor": "#E5ECF6",
           "caxis": {
            "gridcolor": "white",
            "linecolor": "white",
            "ticks": ""
           }
          },
          "title": {
           "x": 0.05
          },
          "xaxis": {
           "automargin": true,
           "gridcolor": "white",
           "linecolor": "white",
           "ticks": "",
           "title": {
            "standoff": 15
           },
           "zerolinecolor": "white",
           "zerolinewidth": 2
          },
          "yaxis": {
           "automargin": true,
           "gridcolor": "white",
           "linecolor": "white",
           "ticks": "",
           "title": {
            "standoff": 15
           },
           "zerolinecolor": "white",
           "zerolinewidth": 2
          }
         }
        },
        "title": {
         "text": "📊 Region-wise Attack Trend (Admin 1)"
        },
        "xaxis": {
         "anchor": "y",
         "domain": [
          0,
          1
         ],
         "title": {
          "text": "Year"
         }
        },
        "yaxis": {
         "anchor": "x",
         "domain": [
          0,
          1
         ],
         "title": {
          "text": "Attack_Count"
         }
        }
       }
      }
     },
     "metadata": {},
     "output_type": "display_data"
    }
   ],
   "source": [
    "# 📌 Step 1: Import Libraries\n",
    "import pandas as pd\n",
    "import plotly.express as px\n",
    "\n",
    "# 📌 Step 2: Load Dataset\n",
    "df = pd.read_excel(\"2020-2025-education-in-danger-incident-data.xlsx\")   # <-- yahin aap apna dataset ka naam rakhiye\n",
    "df[\"Attack_Count\"] = 1  # har row ek attack maana\n",
    "df[\"Year\"] = pd.to_datetime(df[\"Date\"], errors=\"coerce\").dt.year\n",
    "\n",
    "# 📌 Step 3: Year-wise Attack Trend\n",
    "trend = df.groupby(\"Year\")[\"Attack_Count\"].sum().reset_index()\n",
    "fig = px.line(trend, x=\"Year\", y=\"Attack_Count\", markers=True,\n",
    "            title=\"📈 Year-wise Attack Trend\")\n",
    "fig.show()\n",
    "\n",
    "# 📌 Step 4: Top 10 Countries by Attacks\n",
    "top_countries = df.groupby(\"Country\")[\"Attack_Count\"].sum().nlargest(10).reset_index()\n",
    "fig = px.bar(top_countries, x=\"Country\", y=\"Attack_Count\",\n",
    "            title=\"🌍 Top 10 Countries with Most Attacks\",\n",
    "            color=\"Attack_Count\")\n",
    "fig.show()\n",
    "\n",
    "# 📌 Step 5: Perpetrator Distribution\n",
    "fig = px.pie(df, names=\"Reported Perpetrator\",\n",
    "            title=\"👥 Distribution of Reported Perpetrators\")\n",
    "fig.show()\n",
    "\n",
    "# 📌 Step 6: Attack Locations (Top 10)\n",
    "loc_counts = df[\"Location of event\"].value_counts().nlargest(10).reset_index()\n",
    "loc_counts.columns = [\"Location\",\"Count\"]\n",
    "fig = px.bar(loc_counts, x=\"Location\", y=\"Count\",\n",
    "            title=\"🏫 Top 10 Education Attack Locations\",\n",
    "            color=\"Count\")\n",
    "fig.show()\n",
    "\n",
    "# 📌 Step 7: Student Impact (Killed, Injured, Kidnapped, Arrested)\n",
    "impact_cols = [\"Students Killed\",\"Students Injured\",\"Students Kidnapped\",\"Students Arrested\"]\n",
    "impact = df[impact_cols].sum().reset_index()\n",
    "impact.columns = [\"Impact_Type\",\"Count\"]\n",
    "fig = px.bar(impact, x=\"Impact_Type\", y=\"Count\",\n",
    "            title=\"👦 Impact on Students\",\n",
    "            color=\"Count\")\n",
    "fig.show()\n",
    "\n",
    "# 📌 Step 8: Region-wise Attack Trend (Admin 1)\n",
    "region_trend = df.groupby([\"Year\",\"Admin 1\"])[\"Attack_Count\"].sum().reset_index()\n",
    "fig = px.line(region_trend, x=\"Year\", y=\"Attack_Count\", color=\"Admin 1\",\n",
    "            title=\"📊 Region-wise Attack Trend (Admin 1)\")\n",
    "fig.show()\n"
   ]
  },
  {
   "cell_type": "code",
   "execution_count": null,
   "id": "6ade10ce",
   "metadata": {},
   "outputs": [],
   "source": []
  },
  {
   "cell_type": "code",
   "execution_count": null,
   "id": "d6cf864b",
   "metadata": {},
   "outputs": [],
   "source": []
  }
 ],
 "metadata": {
  "kernelspec": {
   "display_name": "base",
   "language": "python",
   "name": "python3"
  },
  "language_info": {
   "codemirror_mode": {
    "name": "ipython",
    "version": 3
   },
   "file_extension": ".py",
   "mimetype": "text/x-python",
   "name": "python",
   "nbconvert_exporter": "python",
   "pygments_lexer": "ipython3",
   "version": "3.12.3"
  }
 },
 "nbformat": 4,
 "nbformat_minor": 5
}
